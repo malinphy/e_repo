{
  "nbformat": 4,
  "nbformat_minor": 0,
  "metadata": {
    "colab": {
      "provenance": [],
      "include_colab_link": true
    },
    "kernelspec": {
      "display_name": "Python 3",
      "name": "python3"
    },
    "gpuClass": "standard",
    "widgets": {
      "application/vnd.jupyter.widget-state+json": {
        "e8454c3d2be64fb596df838905d09f05": {
          "model_module": "@jupyter-widgets/controls",
          "model_name": "HBoxModel",
          "model_module_version": "1.5.0",
          "state": {
            "_dom_classes": [],
            "_model_module": "@jupyter-widgets/controls",
            "_model_module_version": "1.5.0",
            "_model_name": "HBoxModel",
            "_view_count": null,
            "_view_module": "@jupyter-widgets/controls",
            "_view_module_version": "1.5.0",
            "_view_name": "HBoxView",
            "box_style": "",
            "children": [
              "IPY_MODEL_20bd9cbe3f734019b1ac26f38b4ada01",
              "IPY_MODEL_14fe094a862a46f8a82c77f1633b9d0e",
              "IPY_MODEL_1ee4ee34176a46888ca6f40a04f84e6e"
            ],
            "layout": "IPY_MODEL_b01aec789fce4480894f8ebefa194ab8"
          }
        },
        "20bd9cbe3f734019b1ac26f38b4ada01": {
          "model_module": "@jupyter-widgets/controls",
          "model_name": "HTMLModel",
          "model_module_version": "1.5.0",
          "state": {
            "_dom_classes": [],
            "_model_module": "@jupyter-widgets/controls",
            "_model_module_version": "1.5.0",
            "_model_name": "HTMLModel",
            "_view_count": null,
            "_view_module": "@jupyter-widgets/controls",
            "_view_module_version": "1.5.0",
            "_view_name": "HTMLView",
            "description": "",
            "description_tooltip": null,
            "layout": "IPY_MODEL_98121625207e461f966e9b46bfb15efe",
            "placeholder": "​",
            "style": "IPY_MODEL_83d27fefa96b495997aba726f2c0b34f",
            "value": "Downloading (…)lve/main/config.json: 100%"
          }
        },
        "14fe094a862a46f8a82c77f1633b9d0e": {
          "model_module": "@jupyter-widgets/controls",
          "model_name": "FloatProgressModel",
          "model_module_version": "1.5.0",
          "state": {
            "_dom_classes": [],
            "_model_module": "@jupyter-widgets/controls",
            "_model_module_version": "1.5.0",
            "_model_name": "FloatProgressModel",
            "_view_count": null,
            "_view_module": "@jupyter-widgets/controls",
            "_view_module_version": "1.5.0",
            "_view_name": "ProgressView",
            "bar_style": "success",
            "description": "",
            "description_tooltip": null,
            "layout": "IPY_MODEL_33048b48666040c4a6b8e5e5a14e51a7",
            "max": 595,
            "min": 0,
            "orientation": "horizontal",
            "style": "IPY_MODEL_b77f387e42ac45089991d9d48565cfd8",
            "value": 595
          }
        },
        "1ee4ee34176a46888ca6f40a04f84e6e": {
          "model_module": "@jupyter-widgets/controls",
          "model_name": "HTMLModel",
          "model_module_version": "1.5.0",
          "state": {
            "_dom_classes": [],
            "_model_module": "@jupyter-widgets/controls",
            "_model_module_version": "1.5.0",
            "_model_name": "HTMLModel",
            "_view_count": null,
            "_view_module": "@jupyter-widgets/controls",
            "_view_module_version": "1.5.0",
            "_view_name": "HTMLView",
            "description": "",
            "description_tooltip": null,
            "layout": "IPY_MODEL_d07eff57a17f4ddcb2f3d4c9658206c5",
            "placeholder": "​",
            "style": "IPY_MODEL_9c0dc666f4db40649f02c5f43b446b5a",
            "value": " 595/595 [00:00&lt;00:00, 8.05kB/s]"
          }
        },
        "b01aec789fce4480894f8ebefa194ab8": {
          "model_module": "@jupyter-widgets/base",
          "model_name": "LayoutModel",
          "model_module_version": "1.2.0",
          "state": {
            "_model_module": "@jupyter-widgets/base",
            "_model_module_version": "1.2.0",
            "_model_name": "LayoutModel",
            "_view_count": null,
            "_view_module": "@jupyter-widgets/base",
            "_view_module_version": "1.2.0",
            "_view_name": "LayoutView",
            "align_content": null,
            "align_items": null,
            "align_self": null,
            "border": null,
            "bottom": null,
            "display": null,
            "flex": null,
            "flex_flow": null,
            "grid_area": null,
            "grid_auto_columns": null,
            "grid_auto_flow": null,
            "grid_auto_rows": null,
            "grid_column": null,
            "grid_gap": null,
            "grid_row": null,
            "grid_template_areas": null,
            "grid_template_columns": null,
            "grid_template_rows": null,
            "height": null,
            "justify_content": null,
            "justify_items": null,
            "left": null,
            "margin": null,
            "max_height": null,
            "max_width": null,
            "min_height": null,
            "min_width": null,
            "object_fit": null,
            "object_position": null,
            "order": null,
            "overflow": null,
            "overflow_x": null,
            "overflow_y": null,
            "padding": null,
            "right": null,
            "top": null,
            "visibility": null,
            "width": null
          }
        },
        "98121625207e461f966e9b46bfb15efe": {
          "model_module": "@jupyter-widgets/base",
          "model_name": "LayoutModel",
          "model_module_version": "1.2.0",
          "state": {
            "_model_module": "@jupyter-widgets/base",
            "_model_module_version": "1.2.0",
            "_model_name": "LayoutModel",
            "_view_count": null,
            "_view_module": "@jupyter-widgets/base",
            "_view_module_version": "1.2.0",
            "_view_name": "LayoutView",
            "align_content": null,
            "align_items": null,
            "align_self": null,
            "border": null,
            "bottom": null,
            "display": null,
            "flex": null,
            "flex_flow": null,
            "grid_area": null,
            "grid_auto_columns": null,
            "grid_auto_flow": null,
            "grid_auto_rows": null,
            "grid_column": null,
            "grid_gap": null,
            "grid_row": null,
            "grid_template_areas": null,
            "grid_template_columns": null,
            "grid_template_rows": null,
            "height": null,
            "justify_content": null,
            "justify_items": null,
            "left": null,
            "margin": null,
            "max_height": null,
            "max_width": null,
            "min_height": null,
            "min_width": null,
            "object_fit": null,
            "object_position": null,
            "order": null,
            "overflow": null,
            "overflow_x": null,
            "overflow_y": null,
            "padding": null,
            "right": null,
            "top": null,
            "visibility": null,
            "width": null
          }
        },
        "83d27fefa96b495997aba726f2c0b34f": {
          "model_module": "@jupyter-widgets/controls",
          "model_name": "DescriptionStyleModel",
          "model_module_version": "1.5.0",
          "state": {
            "_model_module": "@jupyter-widgets/controls",
            "_model_module_version": "1.5.0",
            "_model_name": "DescriptionStyleModel",
            "_view_count": null,
            "_view_module": "@jupyter-widgets/base",
            "_view_module_version": "1.2.0",
            "_view_name": "StyleView",
            "description_width": ""
          }
        },
        "33048b48666040c4a6b8e5e5a14e51a7": {
          "model_module": "@jupyter-widgets/base",
          "model_name": "LayoutModel",
          "model_module_version": "1.2.0",
          "state": {
            "_model_module": "@jupyter-widgets/base",
            "_model_module_version": "1.2.0",
            "_model_name": "LayoutModel",
            "_view_count": null,
            "_view_module": "@jupyter-widgets/base",
            "_view_module_version": "1.2.0",
            "_view_name": "LayoutView",
            "align_content": null,
            "align_items": null,
            "align_self": null,
            "border": null,
            "bottom": null,
            "display": null,
            "flex": null,
            "flex_flow": null,
            "grid_area": null,
            "grid_auto_columns": null,
            "grid_auto_flow": null,
            "grid_auto_rows": null,
            "grid_column": null,
            "grid_gap": null,
            "grid_row": null,
            "grid_template_areas": null,
            "grid_template_columns": null,
            "grid_template_rows": null,
            "height": null,
            "justify_content": null,
            "justify_items": null,
            "left": null,
            "margin": null,
            "max_height": null,
            "max_width": null,
            "min_height": null,
            "min_width": null,
            "object_fit": null,
            "object_position": null,
            "order": null,
            "overflow": null,
            "overflow_x": null,
            "overflow_y": null,
            "padding": null,
            "right": null,
            "top": null,
            "visibility": null,
            "width": null
          }
        },
        "b77f387e42ac45089991d9d48565cfd8": {
          "model_module": "@jupyter-widgets/controls",
          "model_name": "ProgressStyleModel",
          "model_module_version": "1.5.0",
          "state": {
            "_model_module": "@jupyter-widgets/controls",
            "_model_module_version": "1.5.0",
            "_model_name": "ProgressStyleModel",
            "_view_count": null,
            "_view_module": "@jupyter-widgets/base",
            "_view_module_version": "1.2.0",
            "_view_name": "StyleView",
            "bar_color": null,
            "description_width": ""
          }
        },
        "d07eff57a17f4ddcb2f3d4c9658206c5": {
          "model_module": "@jupyter-widgets/base",
          "model_name": "LayoutModel",
          "model_module_version": "1.2.0",
          "state": {
            "_model_module": "@jupyter-widgets/base",
            "_model_module_version": "1.2.0",
            "_model_name": "LayoutModel",
            "_view_count": null,
            "_view_module": "@jupyter-widgets/base",
            "_view_module_version": "1.2.0",
            "_view_name": "LayoutView",
            "align_content": null,
            "align_items": null,
            "align_self": null,
            "border": null,
            "bottom": null,
            "display": null,
            "flex": null,
            "flex_flow": null,
            "grid_area": null,
            "grid_auto_columns": null,
            "grid_auto_flow": null,
            "grid_auto_rows": null,
            "grid_column": null,
            "grid_gap": null,
            "grid_row": null,
            "grid_template_areas": null,
            "grid_template_columns": null,
            "grid_template_rows": null,
            "height": null,
            "justify_content": null,
            "justify_items": null,
            "left": null,
            "margin": null,
            "max_height": null,
            "max_width": null,
            "min_height": null,
            "min_width": null,
            "object_fit": null,
            "object_position": null,
            "order": null,
            "overflow": null,
            "overflow_x": null,
            "overflow_y": null,
            "padding": null,
            "right": null,
            "top": null,
            "visibility": null,
            "width": null
          }
        },
        "9c0dc666f4db40649f02c5f43b446b5a": {
          "model_module": "@jupyter-widgets/controls",
          "model_name": "DescriptionStyleModel",
          "model_module_version": "1.5.0",
          "state": {
            "_model_module": "@jupyter-widgets/controls",
            "_model_module_version": "1.5.0",
            "_model_name": "DescriptionStyleModel",
            "_view_count": null,
            "_view_module": "@jupyter-widgets/base",
            "_view_module_version": "1.2.0",
            "_view_name": "StyleView",
            "description_width": ""
          }
        },
        "2f98d6bc4137482fb18d6b585e0917aa": {
          "model_module": "@jupyter-widgets/controls",
          "model_name": "HBoxModel",
          "model_module_version": "1.5.0",
          "state": {
            "_dom_classes": [],
            "_model_module": "@jupyter-widgets/controls",
            "_model_module_version": "1.5.0",
            "_model_name": "HBoxModel",
            "_view_count": null,
            "_view_module": "@jupyter-widgets/controls",
            "_view_module_version": "1.5.0",
            "_view_name": "HBoxView",
            "box_style": "",
            "children": [
              "IPY_MODEL_2fa72be3977446228fa20a2dab722a7e",
              "IPY_MODEL_6891fbfd57dd408d87c5e7fd7f8af758",
              "IPY_MODEL_724917c7af194692a58baf16423223dd"
            ],
            "layout": "IPY_MODEL_de1bbe4bc2db425899ec516bd54b3bec"
          }
        },
        "2fa72be3977446228fa20a2dab722a7e": {
          "model_module": "@jupyter-widgets/controls",
          "model_name": "HTMLModel",
          "model_module_version": "1.5.0",
          "state": {
            "_dom_classes": [],
            "_model_module": "@jupyter-widgets/controls",
            "_model_module_version": "1.5.0",
            "_model_name": "HTMLModel",
            "_view_count": null,
            "_view_module": "@jupyter-widgets/controls",
            "_view_module_version": "1.5.0",
            "_view_name": "HTMLView",
            "description": "",
            "description_tooltip": null,
            "layout": "IPY_MODEL_17f2f9acf22943a1a7851dec5440036f",
            "placeholder": "​",
            "style": "IPY_MODEL_6d0e27d5714542b49111450b6d13eda6",
            "value": "Downloading (…)olve/main/vocab.json: 100%"
          }
        },
        "6891fbfd57dd408d87c5e7fd7f8af758": {
          "model_module": "@jupyter-widgets/controls",
          "model_name": "FloatProgressModel",
          "model_module_version": "1.5.0",
          "state": {
            "_dom_classes": [],
            "_model_module": "@jupyter-widgets/controls",
            "_model_module_version": "1.5.0",
            "_model_name": "FloatProgressModel",
            "_view_count": null,
            "_view_module": "@jupyter-widgets/controls",
            "_view_module_version": "1.5.0",
            "_view_name": "ProgressView",
            "bar_style": "success",
            "description": "",
            "description_tooltip": null,
            "layout": "IPY_MODEL_ceb2c82b545541208550d3206e09a85e",
            "max": 927059,
            "min": 0,
            "orientation": "horizontal",
            "style": "IPY_MODEL_6b0a29a5116e462aaf512cb23d62a490",
            "value": 927059
          }
        },
        "724917c7af194692a58baf16423223dd": {
          "model_module": "@jupyter-widgets/controls",
          "model_name": "HTMLModel",
          "model_module_version": "1.5.0",
          "state": {
            "_dom_classes": [],
            "_model_module": "@jupyter-widgets/controls",
            "_model_module_version": "1.5.0",
            "_model_name": "HTMLModel",
            "_view_count": null,
            "_view_module": "@jupyter-widgets/controls",
            "_view_module_version": "1.5.0",
            "_view_name": "HTMLView",
            "description": "",
            "description_tooltip": null,
            "layout": "IPY_MODEL_ebacf30fee1b4ab89eace539c21a57f6",
            "placeholder": "​",
            "style": "IPY_MODEL_f3132f94869f4b678d525159a2fcc776",
            "value": " 927k/927k [00:00&lt;00:00, 3.08MB/s]"
          }
        },
        "de1bbe4bc2db425899ec516bd54b3bec": {
          "model_module": "@jupyter-widgets/base",
          "model_name": "LayoutModel",
          "model_module_version": "1.2.0",
          "state": {
            "_model_module": "@jupyter-widgets/base",
            "_model_module_version": "1.2.0",
            "_model_name": "LayoutModel",
            "_view_count": null,
            "_view_module": "@jupyter-widgets/base",
            "_view_module_version": "1.2.0",
            "_view_name": "LayoutView",
            "align_content": null,
            "align_items": null,
            "align_self": null,
            "border": null,
            "bottom": null,
            "display": null,
            "flex": null,
            "flex_flow": null,
            "grid_area": null,
            "grid_auto_columns": null,
            "grid_auto_flow": null,
            "grid_auto_rows": null,
            "grid_column": null,
            "grid_gap": null,
            "grid_row": null,
            "grid_template_areas": null,
            "grid_template_columns": null,
            "grid_template_rows": null,
            "height": null,
            "justify_content": null,
            "justify_items": null,
            "left": null,
            "margin": null,
            "max_height": null,
            "max_width": null,
            "min_height": null,
            "min_width": null,
            "object_fit": null,
            "object_position": null,
            "order": null,
            "overflow": null,
            "overflow_x": null,
            "overflow_y": null,
            "padding": null,
            "right": null,
            "top": null,
            "visibility": null,
            "width": null
          }
        },
        "17f2f9acf22943a1a7851dec5440036f": {
          "model_module": "@jupyter-widgets/base",
          "model_name": "LayoutModel",
          "model_module_version": "1.2.0",
          "state": {
            "_model_module": "@jupyter-widgets/base",
            "_model_module_version": "1.2.0",
            "_model_name": "LayoutModel",
            "_view_count": null,
            "_view_module": "@jupyter-widgets/base",
            "_view_module_version": "1.2.0",
            "_view_name": "LayoutView",
            "align_content": null,
            "align_items": null,
            "align_self": null,
            "border": null,
            "bottom": null,
            "display": null,
            "flex": null,
            "flex_flow": null,
            "grid_area": null,
            "grid_auto_columns": null,
            "grid_auto_flow": null,
            "grid_auto_rows": null,
            "grid_column": null,
            "grid_gap": null,
            "grid_row": null,
            "grid_template_areas": null,
            "grid_template_columns": null,
            "grid_template_rows": null,
            "height": null,
            "justify_content": null,
            "justify_items": null,
            "left": null,
            "margin": null,
            "max_height": null,
            "max_width": null,
            "min_height": null,
            "min_width": null,
            "object_fit": null,
            "object_position": null,
            "order": null,
            "overflow": null,
            "overflow_x": null,
            "overflow_y": null,
            "padding": null,
            "right": null,
            "top": null,
            "visibility": null,
            "width": null
          }
        },
        "6d0e27d5714542b49111450b6d13eda6": {
          "model_module": "@jupyter-widgets/controls",
          "model_name": "DescriptionStyleModel",
          "model_module_version": "1.5.0",
          "state": {
            "_model_module": "@jupyter-widgets/controls",
            "_model_module_version": "1.5.0",
            "_model_name": "DescriptionStyleModel",
            "_view_count": null,
            "_view_module": "@jupyter-widgets/base",
            "_view_module_version": "1.2.0",
            "_view_name": "StyleView",
            "description_width": ""
          }
        },
        "ceb2c82b545541208550d3206e09a85e": {
          "model_module": "@jupyter-widgets/base",
          "model_name": "LayoutModel",
          "model_module_version": "1.2.0",
          "state": {
            "_model_module": "@jupyter-widgets/base",
            "_model_module_version": "1.2.0",
            "_model_name": "LayoutModel",
            "_view_count": null,
            "_view_module": "@jupyter-widgets/base",
            "_view_module_version": "1.2.0",
            "_view_name": "LayoutView",
            "align_content": null,
            "align_items": null,
            "align_self": null,
            "border": null,
            "bottom": null,
            "display": null,
            "flex": null,
            "flex_flow": null,
            "grid_area": null,
            "grid_auto_columns": null,
            "grid_auto_flow": null,
            "grid_auto_rows": null,
            "grid_column": null,
            "grid_gap": null,
            "grid_row": null,
            "grid_template_areas": null,
            "grid_template_columns": null,
            "grid_template_rows": null,
            "height": null,
            "justify_content": null,
            "justify_items": null,
            "left": null,
            "margin": null,
            "max_height": null,
            "max_width": null,
            "min_height": null,
            "min_width": null,
            "object_fit": null,
            "object_position": null,
            "order": null,
            "overflow": null,
            "overflow_x": null,
            "overflow_y": null,
            "padding": null,
            "right": null,
            "top": null,
            "visibility": null,
            "width": null
          }
        },
        "6b0a29a5116e462aaf512cb23d62a490": {
          "model_module": "@jupyter-widgets/controls",
          "model_name": "ProgressStyleModel",
          "model_module_version": "1.5.0",
          "state": {
            "_model_module": "@jupyter-widgets/controls",
            "_model_module_version": "1.5.0",
            "_model_name": "ProgressStyleModel",
            "_view_count": null,
            "_view_module": "@jupyter-widgets/base",
            "_view_module_version": "1.2.0",
            "_view_name": "StyleView",
            "bar_color": null,
            "description_width": ""
          }
        },
        "ebacf30fee1b4ab89eace539c21a57f6": {
          "model_module": "@jupyter-widgets/base",
          "model_name": "LayoutModel",
          "model_module_version": "1.2.0",
          "state": {
            "_model_module": "@jupyter-widgets/base",
            "_model_module_version": "1.2.0",
            "_model_name": "LayoutModel",
            "_view_count": null,
            "_view_module": "@jupyter-widgets/base",
            "_view_module_version": "1.2.0",
            "_view_name": "LayoutView",
            "align_content": null,
            "align_items": null,
            "align_self": null,
            "border": null,
            "bottom": null,
            "display": null,
            "flex": null,
            "flex_flow": null,
            "grid_area": null,
            "grid_auto_columns": null,
            "grid_auto_flow": null,
            "grid_auto_rows": null,
            "grid_column": null,
            "grid_gap": null,
            "grid_row": null,
            "grid_template_areas": null,
            "grid_template_columns": null,
            "grid_template_rows": null,
            "height": null,
            "justify_content": null,
            "justify_items": null,
            "left": null,
            "margin": null,
            "max_height": null,
            "max_width": null,
            "min_height": null,
            "min_width": null,
            "object_fit": null,
            "object_position": null,
            "order": null,
            "overflow": null,
            "overflow_x": null,
            "overflow_y": null,
            "padding": null,
            "right": null,
            "top": null,
            "visibility": null,
            "width": null
          }
        },
        "f3132f94869f4b678d525159a2fcc776": {
          "model_module": "@jupyter-widgets/controls",
          "model_name": "DescriptionStyleModel",
          "model_module_version": "1.5.0",
          "state": {
            "_model_module": "@jupyter-widgets/controls",
            "_model_module_version": "1.5.0",
            "_model_name": "DescriptionStyleModel",
            "_view_count": null,
            "_view_module": "@jupyter-widgets/base",
            "_view_module_version": "1.2.0",
            "_view_name": "StyleView",
            "description_width": ""
          }
        },
        "f6aa8581b0b743bf8bfbafb0455b8c8f": {
          "model_module": "@jupyter-widgets/controls",
          "model_name": "HBoxModel",
          "model_module_version": "1.5.0",
          "state": {
            "_dom_classes": [],
            "_model_module": "@jupyter-widgets/controls",
            "_model_module_version": "1.5.0",
            "_model_name": "HBoxModel",
            "_view_count": null,
            "_view_module": "@jupyter-widgets/controls",
            "_view_module_version": "1.5.0",
            "_view_name": "HBoxView",
            "box_style": "",
            "children": [
              "IPY_MODEL_3d4d4d4d3a47412aa0e901ac29a5d944",
              "IPY_MODEL_8d896a430e3345af9aca45916786c5c1",
              "IPY_MODEL_1611586064a548e784c8db9f85858871"
            ],
            "layout": "IPY_MODEL_501ca0bbf4a7435b952dbef1d19a870a"
          }
        },
        "3d4d4d4d3a47412aa0e901ac29a5d944": {
          "model_module": "@jupyter-widgets/controls",
          "model_name": "HTMLModel",
          "model_module_version": "1.5.0",
          "state": {
            "_dom_classes": [],
            "_model_module": "@jupyter-widgets/controls",
            "_model_module_version": "1.5.0",
            "_model_name": "HTMLModel",
            "_view_count": null,
            "_view_module": "@jupyter-widgets/controls",
            "_view_module_version": "1.5.0",
            "_view_name": "HTMLView",
            "description": "",
            "description_tooltip": null,
            "layout": "IPY_MODEL_c3961c87e7d24bef8daf8e6e1531f2ec",
            "placeholder": "​",
            "style": "IPY_MODEL_4dc974ef1a6049779aa516ffcb40d626",
            "value": "Downloading (…)olve/main/merges.txt: 100%"
          }
        },
        "8d896a430e3345af9aca45916786c5c1": {
          "model_module": "@jupyter-widgets/controls",
          "model_name": "FloatProgressModel",
          "model_module_version": "1.5.0",
          "state": {
            "_dom_classes": [],
            "_model_module": "@jupyter-widgets/controls",
            "_model_module_version": "1.5.0",
            "_model_name": "FloatProgressModel",
            "_view_count": null,
            "_view_module": "@jupyter-widgets/controls",
            "_view_module_version": "1.5.0",
            "_view_name": "ProgressView",
            "bar_style": "success",
            "description": "",
            "description_tooltip": null,
            "layout": "IPY_MODEL_5f6cc1be4be14c3f914fdfe6373d5f7b",
            "max": 696298,
            "min": 0,
            "orientation": "horizontal",
            "style": "IPY_MODEL_446161f2f0c54c639a23a36c253ce271",
            "value": 696298
          }
        },
        "1611586064a548e784c8db9f85858871": {
          "model_module": "@jupyter-widgets/controls",
          "model_name": "HTMLModel",
          "model_module_version": "1.5.0",
          "state": {
            "_dom_classes": [],
            "_model_module": "@jupyter-widgets/controls",
            "_model_module_version": "1.5.0",
            "_model_name": "HTMLModel",
            "_view_count": null,
            "_view_module": "@jupyter-widgets/controls",
            "_view_module_version": "1.5.0",
            "_view_name": "HTMLView",
            "description": "",
            "description_tooltip": null,
            "layout": "IPY_MODEL_ea11ea307b6c4cdbb99e8c9adf2d3ed4",
            "placeholder": "​",
            "style": "IPY_MODEL_d3bf0346de2648cbb480f7f357ab5018",
            "value": " 696k/696k [00:00&lt;00:00, 2.53MB/s]"
          }
        },
        "501ca0bbf4a7435b952dbef1d19a870a": {
          "model_module": "@jupyter-widgets/base",
          "model_name": "LayoutModel",
          "model_module_version": "1.2.0",
          "state": {
            "_model_module": "@jupyter-widgets/base",
            "_model_module_version": "1.2.0",
            "_model_name": "LayoutModel",
            "_view_count": null,
            "_view_module": "@jupyter-widgets/base",
            "_view_module_version": "1.2.0",
            "_view_name": "LayoutView",
            "align_content": null,
            "align_items": null,
            "align_self": null,
            "border": null,
            "bottom": null,
            "display": null,
            "flex": null,
            "flex_flow": null,
            "grid_area": null,
            "grid_auto_columns": null,
            "grid_auto_flow": null,
            "grid_auto_rows": null,
            "grid_column": null,
            "grid_gap": null,
            "grid_row": null,
            "grid_template_areas": null,
            "grid_template_columns": null,
            "grid_template_rows": null,
            "height": null,
            "justify_content": null,
            "justify_items": null,
            "left": null,
            "margin": null,
            "max_height": null,
            "max_width": null,
            "min_height": null,
            "min_width": null,
            "object_fit": null,
            "object_position": null,
            "order": null,
            "overflow": null,
            "overflow_x": null,
            "overflow_y": null,
            "padding": null,
            "right": null,
            "top": null,
            "visibility": null,
            "width": null
          }
        },
        "c3961c87e7d24bef8daf8e6e1531f2ec": {
          "model_module": "@jupyter-widgets/base",
          "model_name": "LayoutModel",
          "model_module_version": "1.2.0",
          "state": {
            "_model_module": "@jupyter-widgets/base",
            "_model_module_version": "1.2.0",
            "_model_name": "LayoutModel",
            "_view_count": null,
            "_view_module": "@jupyter-widgets/base",
            "_view_module_version": "1.2.0",
            "_view_name": "LayoutView",
            "align_content": null,
            "align_items": null,
            "align_self": null,
            "border": null,
            "bottom": null,
            "display": null,
            "flex": null,
            "flex_flow": null,
            "grid_area": null,
            "grid_auto_columns": null,
            "grid_auto_flow": null,
            "grid_auto_rows": null,
            "grid_column": null,
            "grid_gap": null,
            "grid_row": null,
            "grid_template_areas": null,
            "grid_template_columns": null,
            "grid_template_rows": null,
            "height": null,
            "justify_content": null,
            "justify_items": null,
            "left": null,
            "margin": null,
            "max_height": null,
            "max_width": null,
            "min_height": null,
            "min_width": null,
            "object_fit": null,
            "object_position": null,
            "order": null,
            "overflow": null,
            "overflow_x": null,
            "overflow_y": null,
            "padding": null,
            "right": null,
            "top": null,
            "visibility": null,
            "width": null
          }
        },
        "4dc974ef1a6049779aa516ffcb40d626": {
          "model_module": "@jupyter-widgets/controls",
          "model_name": "DescriptionStyleModel",
          "model_module_version": "1.5.0",
          "state": {
            "_model_module": "@jupyter-widgets/controls",
            "_model_module_version": "1.5.0",
            "_model_name": "DescriptionStyleModel",
            "_view_count": null,
            "_view_module": "@jupyter-widgets/base",
            "_view_module_version": "1.2.0",
            "_view_name": "StyleView",
            "description_width": ""
          }
        },
        "5f6cc1be4be14c3f914fdfe6373d5f7b": {
          "model_module": "@jupyter-widgets/base",
          "model_name": "LayoutModel",
          "model_module_version": "1.2.0",
          "state": {
            "_model_module": "@jupyter-widgets/base",
            "_model_module_version": "1.2.0",
            "_model_name": "LayoutModel",
            "_view_count": null,
            "_view_module": "@jupyter-widgets/base",
            "_view_module_version": "1.2.0",
            "_view_name": "LayoutView",
            "align_content": null,
            "align_items": null,
            "align_self": null,
            "border": null,
            "bottom": null,
            "display": null,
            "flex": null,
            "flex_flow": null,
            "grid_area": null,
            "grid_auto_columns": null,
            "grid_auto_flow": null,
            "grid_auto_rows": null,
            "grid_column": null,
            "grid_gap": null,
            "grid_row": null,
            "grid_template_areas": null,
            "grid_template_columns": null,
            "grid_template_rows": null,
            "height": null,
            "justify_content": null,
            "justify_items": null,
            "left": null,
            "margin": null,
            "max_height": null,
            "max_width": null,
            "min_height": null,
            "min_width": null,
            "object_fit": null,
            "object_position": null,
            "order": null,
            "overflow": null,
            "overflow_x": null,
            "overflow_y": null,
            "padding": null,
            "right": null,
            "top": null,
            "visibility": null,
            "width": null
          }
        },
        "446161f2f0c54c639a23a36c253ce271": {
          "model_module": "@jupyter-widgets/controls",
          "model_name": "ProgressStyleModel",
          "model_module_version": "1.5.0",
          "state": {
            "_model_module": "@jupyter-widgets/controls",
            "_model_module_version": "1.5.0",
            "_model_name": "ProgressStyleModel",
            "_view_count": null,
            "_view_module": "@jupyter-widgets/base",
            "_view_module_version": "1.2.0",
            "_view_name": "StyleView",
            "bar_color": null,
            "description_width": ""
          }
        },
        "ea11ea307b6c4cdbb99e8c9adf2d3ed4": {
          "model_module": "@jupyter-widgets/base",
          "model_name": "LayoutModel",
          "model_module_version": "1.2.0",
          "state": {
            "_model_module": "@jupyter-widgets/base",
            "_model_module_version": "1.2.0",
            "_model_name": "LayoutModel",
            "_view_count": null,
            "_view_module": "@jupyter-widgets/base",
            "_view_module_version": "1.2.0",
            "_view_name": "LayoutView",
            "align_content": null,
            "align_items": null,
            "align_self": null,
            "border": null,
            "bottom": null,
            "display": null,
            "flex": null,
            "flex_flow": null,
            "grid_area": null,
            "grid_auto_columns": null,
            "grid_auto_flow": null,
            "grid_auto_rows": null,
            "grid_column": null,
            "grid_gap": null,
            "grid_row": null,
            "grid_template_areas": null,
            "grid_template_columns": null,
            "grid_template_rows": null,
            "height": null,
            "justify_content": null,
            "justify_items": null,
            "left": null,
            "margin": null,
            "max_height": null,
            "max_width": null,
            "min_height": null,
            "min_width": null,
            "object_fit": null,
            "object_position": null,
            "order": null,
            "overflow": null,
            "overflow_x": null,
            "overflow_y": null,
            "padding": null,
            "right": null,
            "top": null,
            "visibility": null,
            "width": null
          }
        },
        "d3bf0346de2648cbb480f7f357ab5018": {
          "model_module": "@jupyter-widgets/controls",
          "model_name": "DescriptionStyleModel",
          "model_module_version": "1.5.0",
          "state": {
            "_model_module": "@jupyter-widgets/controls",
            "_model_module_version": "1.5.0",
            "_model_name": "DescriptionStyleModel",
            "_view_count": null,
            "_view_module": "@jupyter-widgets/base",
            "_view_module_version": "1.2.0",
            "_view_name": "StyleView",
            "description_width": ""
          }
        },
        "34e8eab83a474b038d41ceb445958552": {
          "model_module": "@jupyter-widgets/controls",
          "model_name": "HBoxModel",
          "model_module_version": "1.5.0",
          "state": {
            "_dom_classes": [],
            "_model_module": "@jupyter-widgets/controls",
            "_model_module_version": "1.5.0",
            "_model_name": "HBoxModel",
            "_view_count": null,
            "_view_module": "@jupyter-widgets/controls",
            "_view_module_version": "1.5.0",
            "_view_name": "HBoxView",
            "box_style": "",
            "children": [
              "IPY_MODEL_cd65c2fc8a104d85a8cec02e880ca1a9",
              "IPY_MODEL_f4643c9043624af9a0bdf3c729c0ea7d",
              "IPY_MODEL_011faa4662164fcda22b1131a1538660"
            ],
            "layout": "IPY_MODEL_5a3152a0705644f78f894ca62979b3f6"
          }
        },
        "cd65c2fc8a104d85a8cec02e880ca1a9": {
          "model_module": "@jupyter-widgets/controls",
          "model_name": "HTMLModel",
          "model_module_version": "1.5.0",
          "state": {
            "_dom_classes": [],
            "_model_module": "@jupyter-widgets/controls",
            "_model_module_version": "1.5.0",
            "_model_name": "HTMLModel",
            "_view_count": null,
            "_view_module": "@jupyter-widgets/controls",
            "_view_module_version": "1.5.0",
            "_view_name": "HTMLView",
            "description": "",
            "description_tooltip": null,
            "layout": "IPY_MODEL_3d51a255f5e44121a56fcc9bf9a4b2c5",
            "placeholder": "​",
            "style": "IPY_MODEL_f4d7767929874885aed27c9cad571744",
            "value": "Downloading pytorch_model.bin: 100%"
          }
        },
        "f4643c9043624af9a0bdf3c729c0ea7d": {
          "model_module": "@jupyter-widgets/controls",
          "model_name": "FloatProgressModel",
          "model_module_version": "1.5.0",
          "state": {
            "_dom_classes": [],
            "_model_module": "@jupyter-widgets/controls",
            "_model_module_version": "1.5.0",
            "_model_name": "FloatProgressModel",
            "_view_count": null,
            "_view_module": "@jupyter-widgets/controls",
            "_view_module_version": "1.5.0",
            "_view_name": "ProgressView",
            "bar_style": "success",
            "description": "",
            "description_tooltip": null,
            "layout": "IPY_MODEL_fbebbaf4a9474d53ae3b53fbe2c5261c",
            "max": 1560781537,
            "min": 0,
            "orientation": "horizontal",
            "style": "IPY_MODEL_46fb6b82d4f24529b1c324d08f5ccd35",
            "value": 1560781537
          }
        },
        "011faa4662164fcda22b1131a1538660": {
          "model_module": "@jupyter-widgets/controls",
          "model_name": "HTMLModel",
          "model_module_version": "1.5.0",
          "state": {
            "_dom_classes": [],
            "_model_module": "@jupyter-widgets/controls",
            "_model_module_version": "1.5.0",
            "_model_name": "HTMLModel",
            "_view_count": null,
            "_view_module": "@jupyter-widgets/controls",
            "_view_module_version": "1.5.0",
            "_view_name": "HTMLView",
            "description": "",
            "description_tooltip": null,
            "layout": "IPY_MODEL_74a30a38036e4144a01c0121a1466068",
            "placeholder": "​",
            "style": "IPY_MODEL_b0e7a691dde14b4cb351a3b1bcbf51e8",
            "value": " 1.56G/1.56G [00:36&lt;00:00, 55.6MB/s]"
          }
        },
        "5a3152a0705644f78f894ca62979b3f6": {
          "model_module": "@jupyter-widgets/base",
          "model_name": "LayoutModel",
          "model_module_version": "1.2.0",
          "state": {
            "_model_module": "@jupyter-widgets/base",
            "_model_module_version": "1.2.0",
            "_model_name": "LayoutModel",
            "_view_count": null,
            "_view_module": "@jupyter-widgets/base",
            "_view_module_version": "1.2.0",
            "_view_name": "LayoutView",
            "align_content": null,
            "align_items": null,
            "align_self": null,
            "border": null,
            "bottom": null,
            "display": null,
            "flex": null,
            "flex_flow": null,
            "grid_area": null,
            "grid_auto_columns": null,
            "grid_auto_flow": null,
            "grid_auto_rows": null,
            "grid_column": null,
            "grid_gap": null,
            "grid_row": null,
            "grid_template_areas": null,
            "grid_template_columns": null,
            "grid_template_rows": null,
            "height": null,
            "justify_content": null,
            "justify_items": null,
            "left": null,
            "margin": null,
            "max_height": null,
            "max_width": null,
            "min_height": null,
            "min_width": null,
            "object_fit": null,
            "object_position": null,
            "order": null,
            "overflow": null,
            "overflow_x": null,
            "overflow_y": null,
            "padding": null,
            "right": null,
            "top": null,
            "visibility": null,
            "width": null
          }
        },
        "3d51a255f5e44121a56fcc9bf9a4b2c5": {
          "model_module": "@jupyter-widgets/base",
          "model_name": "LayoutModel",
          "model_module_version": "1.2.0",
          "state": {
            "_model_module": "@jupyter-widgets/base",
            "_model_module_version": "1.2.0",
            "_model_name": "LayoutModel",
            "_view_count": null,
            "_view_module": "@jupyter-widgets/base",
            "_view_module_version": "1.2.0",
            "_view_name": "LayoutView",
            "align_content": null,
            "align_items": null,
            "align_self": null,
            "border": null,
            "bottom": null,
            "display": null,
            "flex": null,
            "flex_flow": null,
            "grid_area": null,
            "grid_auto_columns": null,
            "grid_auto_flow": null,
            "grid_auto_rows": null,
            "grid_column": null,
            "grid_gap": null,
            "grid_row": null,
            "grid_template_areas": null,
            "grid_template_columns": null,
            "grid_template_rows": null,
            "height": null,
            "justify_content": null,
            "justify_items": null,
            "left": null,
            "margin": null,
            "max_height": null,
            "max_width": null,
            "min_height": null,
            "min_width": null,
            "object_fit": null,
            "object_position": null,
            "order": null,
            "overflow": null,
            "overflow_x": null,
            "overflow_y": null,
            "padding": null,
            "right": null,
            "top": null,
            "visibility": null,
            "width": null
          }
        },
        "f4d7767929874885aed27c9cad571744": {
          "model_module": "@jupyter-widgets/controls",
          "model_name": "DescriptionStyleModel",
          "model_module_version": "1.5.0",
          "state": {
            "_model_module": "@jupyter-widgets/controls",
            "_model_module_version": "1.5.0",
            "_model_name": "DescriptionStyleModel",
            "_view_count": null,
            "_view_module": "@jupyter-widgets/base",
            "_view_module_version": "1.2.0",
            "_view_name": "StyleView",
            "description_width": ""
          }
        },
        "fbebbaf4a9474d53ae3b53fbe2c5261c": {
          "model_module": "@jupyter-widgets/base",
          "model_name": "LayoutModel",
          "model_module_version": "1.2.0",
          "state": {
            "_model_module": "@jupyter-widgets/base",
            "_model_module_version": "1.2.0",
            "_model_name": "LayoutModel",
            "_view_count": null,
            "_view_module": "@jupyter-widgets/base",
            "_view_module_version": "1.2.0",
            "_view_name": "LayoutView",
            "align_content": null,
            "align_items": null,
            "align_self": null,
            "border": null,
            "bottom": null,
            "display": null,
            "flex": null,
            "flex_flow": null,
            "grid_area": null,
            "grid_auto_columns": null,
            "grid_auto_flow": null,
            "grid_auto_rows": null,
            "grid_column": null,
            "grid_gap": null,
            "grid_row": null,
            "grid_template_areas": null,
            "grid_template_columns": null,
            "grid_template_rows": null,
            "height": null,
            "justify_content": null,
            "justify_items": null,
            "left": null,
            "margin": null,
            "max_height": null,
            "max_width": null,
            "min_height": null,
            "min_width": null,
            "object_fit": null,
            "object_position": null,
            "order": null,
            "overflow": null,
            "overflow_x": null,
            "overflow_y": null,
            "padding": null,
            "right": null,
            "top": null,
            "visibility": null,
            "width": null
          }
        },
        "46fb6b82d4f24529b1c324d08f5ccd35": {
          "model_module": "@jupyter-widgets/controls",
          "model_name": "ProgressStyleModel",
          "model_module_version": "1.5.0",
          "state": {
            "_model_module": "@jupyter-widgets/controls",
            "_model_module_version": "1.5.0",
            "_model_name": "ProgressStyleModel",
            "_view_count": null,
            "_view_module": "@jupyter-widgets/base",
            "_view_module_version": "1.2.0",
            "_view_name": "StyleView",
            "bar_color": null,
            "description_width": ""
          }
        },
        "74a30a38036e4144a01c0121a1466068": {
          "model_module": "@jupyter-widgets/base",
          "model_name": "LayoutModel",
          "model_module_version": "1.2.0",
          "state": {
            "_model_module": "@jupyter-widgets/base",
            "_model_module_version": "1.2.0",
            "_model_name": "LayoutModel",
            "_view_count": null,
            "_view_module": "@jupyter-widgets/base",
            "_view_module_version": "1.2.0",
            "_view_name": "LayoutView",
            "align_content": null,
            "align_items": null,
            "align_self": null,
            "border": null,
            "bottom": null,
            "display": null,
            "flex": null,
            "flex_flow": null,
            "grid_area": null,
            "grid_auto_columns": null,
            "grid_auto_flow": null,
            "grid_auto_rows": null,
            "grid_column": null,
            "grid_gap": null,
            "grid_row": null,
            "grid_template_areas": null,
            "grid_template_columns": null,
            "grid_template_rows": null,
            "height": null,
            "justify_content": null,
            "justify_items": null,
            "left": null,
            "margin": null,
            "max_height": null,
            "max_width": null,
            "min_height": null,
            "min_width": null,
            "object_fit": null,
            "object_position": null,
            "order": null,
            "overflow": null,
            "overflow_x": null,
            "overflow_y": null,
            "padding": null,
            "right": null,
            "top": null,
            "visibility": null,
            "width": null
          }
        },
        "b0e7a691dde14b4cb351a3b1bcbf51e8": {
          "model_module": "@jupyter-widgets/controls",
          "model_name": "DescriptionStyleModel",
          "model_module_version": "1.5.0",
          "state": {
            "_model_module": "@jupyter-widgets/controls",
            "_model_module_version": "1.5.0",
            "_model_name": "DescriptionStyleModel",
            "_view_count": null,
            "_view_module": "@jupyter-widgets/base",
            "_view_module_version": "1.2.0",
            "_view_name": "StyleView",
            "description_width": ""
          }
        }
      }
    }
  },
  "cells": [
    {
      "cell_type": "markdown",
      "metadata": {
        "id": "view-in-github",
        "colab_type": "text"
      },
      "source": [
        "<a href=\"https://colab.research.google.com/github/malinphy/q_17/blob/main/biogpt_patent.ipynb\" target=\"_parent\"><img src=\"https://colab.research.google.com/assets/colab-badge.svg\" alt=\"Open In Colab\"/></a>"
      ]
    },
    {
      "cell_type": "code",
      "source": [
        "!pip install transformers -q\n",
        "!pip install sacremoses -q\n",
        "!pip install scann -q\n"
      ],
      "metadata": {
        "id": "HXdo5cRbRFAV"
      },
      "execution_count": 1,
      "outputs": []
    },
    {
      "cell_type": "code",
      "source": [
        "from google.colab import drive\n",
        "drive.mount('/content/drive')"
      ],
      "metadata": {
        "colab": {
          "base_uri": "https://localhost:8080/"
        },
        "id": "4ciuSPHiNzSh",
        "outputId": "48aebbb8-dd34-430c-8944-02dd3eafcc2f"
      },
      "execution_count": 2,
      "outputs": [
        {
          "output_type": "stream",
          "name": "stdout",
          "text": [
            "Drive already mounted at /content/drive; to attempt to forcibly remount, call drive.mount(\"/content/drive\", force_remount=True).\n"
          ]
        }
      ]
    },
    {
      "cell_type": "code",
      "source": [
        "import os \n",
        "import json \n",
        "from transformers import AutoTokenizer, BioGptModel\n",
        "import torch\n",
        "import matplotlib.pyplot as plt \n",
        "plt.style.use('ggplot')\n",
        "import numpy as np\n",
        "from sklearn.decomposition import PCA, TruncatedSVD\n",
        "import joblib\n",
        "import scann"
      ],
      "metadata": {
        "id": "DS_eY5iZNkgE"
      },
      "execution_count": 3,
      "outputs": []
    },
    {
      "cell_type": "code",
      "source": [
        "# os.listdir('drive/MyDrive/transfer/patent')"
      ],
      "metadata": {
        "id": "NSwRHIKZNkco"
      },
      "execution_count": 4,
      "outputs": []
    },
    {
      "cell_type": "code",
      "source": [
        "def apk(actual, predicted, k=10):\n",
        "    if len(predicted)>k:\n",
        "        predicted = predicted[:k]\n",
        "\n",
        "    score = 0.0\n",
        "    num_hits = 0.0\n",
        "    hits = []\n",
        "    for i,p in enumerate(predicted):\n",
        "        if p in actual and p not in predicted[:i]:\n",
        "            num_hits += 1.0\n",
        "            score += num_hits / (i+1.0)\n",
        "        hits.append(num_hits)\n",
        "    # if not actual:\n",
        "    #     return 0.0\n",
        "    # print(((hits)))\n",
        "    return score / min(len(actual), k)\n",
        "\n",
        "def mapk(actual, predicted, k=10):\n",
        "    return np.mean([apk(a,p,k) for a,p in zip(actual, predicted)])\n",
        "\n",
        "def intersect(actual, predicted,k):\n",
        "    return np.intersect1d(actual[:k], predicted[:k])\n",
        "\n",
        "def hit_rate(actual, predicted,k):\n",
        "    total = 0\n",
        "    for i in range(len(actual)):\n",
        "        intersection = intersect(actual[i], predicted[i],k)\n",
        "        total = total + len(intersection)\n",
        "\n",
        "    return total\n",
        "\n",
        "\n",
        "def mean_reciprocal_rank(idx, k):\n",
        "    rank = []\n",
        "    for i in range(len(idx)):\n",
        "        rank.append(np.where(idx[i][:k] == i)[0])\n",
        "\n",
        "    elevated_rank = np.add(rank,1)\n",
        "    elevated_rank = np.concatenate(elevated_rank)\n",
        "    elevated_rank_len = len(elevated_rank)\n",
        "    reciprocal_rank = np.divide(1,elevated_rank)\n",
        "    reciprocal_rank_sum = np.sum(reciprocal_rank)\n",
        "    # print('asfasfasfas',len(idx))\n",
        "    # return reciprocal_rank_sum/elevated_rank_len\n",
        "    return reciprocal_rank_sum/len(idx)    \n",
        "\n",
        "def dcg_calc(similarity_scores, K):\n",
        "    similarity_len = len(similarity_scores)\n",
        "    total_dcg = []\n",
        "    for similarities in similarity_scores:\n",
        "        dcg = 0\n",
        "        for k in range(1,K):\n",
        "            rel_k = similarities[k-1]\n",
        "            dcg += rel_k / log2(1 + k)\n",
        "        total_dcg.append(dcg)\n",
        "    return np.sum(total_dcg)/similarity_len    \n",
        "\n",
        "\n",
        "def metrics_calculator(raw_idx, reduced_idx, k_values):\n",
        "    k = k_values\n",
        "    ap = []\n",
        "    hit = []\n",
        "    mrr = []\n",
        "    for i in k:\n",
        "        ap.append( mapk(raw_idx, reduced_idx,i))\n",
        "        hit.append( hit_rate(raw_idx, reduced_idx,i))\n",
        "        mrr.append(mean_reciprocal_rank(reduced_idx, i))\n",
        "    return ap, hit , mrr"
      ],
      "metadata": {
        "id": "JQu2aPyN2tJE"
      },
      "execution_count": 5,
      "outputs": []
    },
    {
      "cell_type": "code",
      "source": [
        "f = open ('drive/MyDrive/transfer/patent/vec_vectorized_biotech_patents_transformed_ols.json', \"r\")\n",
        "data_biotech = json.loads(f.read())\n",
        "data_biotech[0]['title']\n",
        "data_abst = [data_biotech[i]['abstract'] for i in range(len(data_biotech))]\n",
        "data_title = [data_biotech[i]['title'] for i in range(len(data_biotech))]"
      ],
      "metadata": {
        "id": "p_wsRpGMNkZg"
      },
      "execution_count": 6,
      "outputs": []
    },
    {
      "cell_type": "code",
      "source": [
        "print(len(data_biotech))"
      ],
      "metadata": {
        "colab": {
          "base_uri": "https://localhost:8080/"
        },
        "id": "ShCYD1yFSKJ4",
        "outputId": "a2ff7745-e8a7-469f-9924-b1144e1cd5e1"
      },
      "execution_count": 7,
      "outputs": [
        {
          "output_type": "stream",
          "name": "stdout",
          "text": [
            "484\n"
          ]
        }
      ]
    },
    {
      "cell_type": "code",
      "source": [
        "tokenizer = AutoTokenizer.from_pretrained(\"microsoft/biogpt\");\n",
        "model = BioGptModel.from_pretrained(\"microsoft/biogpt\");"
      ],
      "metadata": {
        "id": "DdtYuuytPQpN",
        "outputId": "9313079f-fe94-4329-e0c0-4d1c6e1396ef",
        "colab": {
          "base_uri": "https://localhost:8080/",
          "height": 219,
          "referenced_widgets": [
            "e8454c3d2be64fb596df838905d09f05",
            "20bd9cbe3f734019b1ac26f38b4ada01",
            "14fe094a862a46f8a82c77f1633b9d0e",
            "1ee4ee34176a46888ca6f40a04f84e6e",
            "b01aec789fce4480894f8ebefa194ab8",
            "98121625207e461f966e9b46bfb15efe",
            "83d27fefa96b495997aba726f2c0b34f",
            "33048b48666040c4a6b8e5e5a14e51a7",
            "b77f387e42ac45089991d9d48565cfd8",
            "d07eff57a17f4ddcb2f3d4c9658206c5",
            "9c0dc666f4db40649f02c5f43b446b5a",
            "2f98d6bc4137482fb18d6b585e0917aa",
            "2fa72be3977446228fa20a2dab722a7e",
            "6891fbfd57dd408d87c5e7fd7f8af758",
            "724917c7af194692a58baf16423223dd",
            "de1bbe4bc2db425899ec516bd54b3bec",
            "17f2f9acf22943a1a7851dec5440036f",
            "6d0e27d5714542b49111450b6d13eda6",
            "ceb2c82b545541208550d3206e09a85e",
            "6b0a29a5116e462aaf512cb23d62a490",
            "ebacf30fee1b4ab89eace539c21a57f6",
            "f3132f94869f4b678d525159a2fcc776",
            "f6aa8581b0b743bf8bfbafb0455b8c8f",
            "3d4d4d4d3a47412aa0e901ac29a5d944",
            "8d896a430e3345af9aca45916786c5c1",
            "1611586064a548e784c8db9f85858871",
            "501ca0bbf4a7435b952dbef1d19a870a",
            "c3961c87e7d24bef8daf8e6e1531f2ec",
            "4dc974ef1a6049779aa516ffcb40d626",
            "5f6cc1be4be14c3f914fdfe6373d5f7b",
            "446161f2f0c54c639a23a36c253ce271",
            "ea11ea307b6c4cdbb99e8c9adf2d3ed4",
            "d3bf0346de2648cbb480f7f357ab5018",
            "34e8eab83a474b038d41ceb445958552",
            "cd65c2fc8a104d85a8cec02e880ca1a9",
            "f4643c9043624af9a0bdf3c729c0ea7d",
            "011faa4662164fcda22b1131a1538660",
            "5a3152a0705644f78f894ca62979b3f6",
            "3d51a255f5e44121a56fcc9bf9a4b2c5",
            "f4d7767929874885aed27c9cad571744",
            "fbebbaf4a9474d53ae3b53fbe2c5261c",
            "46fb6b82d4f24529b1c324d08f5ccd35",
            "74a30a38036e4144a01c0121a1466068",
            "b0e7a691dde14b4cb351a3b1bcbf51e8"
          ]
        }
      },
      "execution_count": 8,
      "outputs": [
        {
          "output_type": "display_data",
          "data": {
            "text/plain": [
              "Downloading (…)lve/main/config.json:   0%|          | 0.00/595 [00:00<?, ?B/s]"
            ],
            "application/vnd.jupyter.widget-view+json": {
              "version_major": 2,
              "version_minor": 0,
              "model_id": "e8454c3d2be64fb596df838905d09f05"
            }
          },
          "metadata": {}
        },
        {
          "output_type": "display_data",
          "data": {
            "text/plain": [
              "Downloading (…)olve/main/vocab.json:   0%|          | 0.00/927k [00:00<?, ?B/s]"
            ],
            "application/vnd.jupyter.widget-view+json": {
              "version_major": 2,
              "version_minor": 0,
              "model_id": "2f98d6bc4137482fb18d6b585e0917aa"
            }
          },
          "metadata": {}
        },
        {
          "output_type": "display_data",
          "data": {
            "text/plain": [
              "Downloading (…)olve/main/merges.txt:   0%|          | 0.00/696k [00:00<?, ?B/s]"
            ],
            "application/vnd.jupyter.widget-view+json": {
              "version_major": 2,
              "version_minor": 0,
              "model_id": "f6aa8581b0b743bf8bfbafb0455b8c8f"
            }
          },
          "metadata": {}
        },
        {
          "output_type": "display_data",
          "data": {
            "text/plain": [
              "Downloading pytorch_model.bin:   0%|          | 0.00/1.56G [00:00<?, ?B/s]"
            ],
            "application/vnd.jupyter.widget-view+json": {
              "version_major": 2,
              "version_minor": 0,
              "model_id": "34e8eab83a474b038d41ceb445958552"
            }
          },
          "metadata": {}
        },
        {
          "output_type": "stream",
          "name": "stderr",
          "text": [
            "Some weights of the model checkpoint at microsoft/biogpt were not used when initializing BioGptModel: ['output_projection.weight']\n",
            "- This IS expected if you are initializing BioGptModel from the checkpoint of a model trained on another task or with another architecture (e.g. initializing a BertForSequenceClassification model from a BertForPreTraining model).\n",
            "- This IS NOT expected if you are initializing BioGptModel from the checkpoint of a model that you expect to be exactly identical (initializing a BertForSequenceClassification model from a BertForSequenceClassification model).\n"
          ]
        }
      ]
    },
    {
      "cell_type": "code",
      "source": [
        "def normalizer(x):     \n",
        "    normalized_vector = x / np.linalg.norm(x)\n",
        "    return normalized_vector\n",
        "\n",
        "# class BioGptModel:\n",
        "    \n",
        "#     def __init__(self, model, tokenizer):\n",
        "#         # self.sentence = sentence\n",
        "#         self.model = model\n",
        "#         self.tokenizer = tokenizer\n",
        "\n",
        "#     def sentence_vectors(self,sentence):\n",
        "#         inputs = self.tokenizer(sentence, return_tensors = 'pt')\n",
        "#         w_vectors = self.model(**inputs)\n",
        "\n",
        "#         # return w_vectors\n",
        "#         token_embeddings = w_vectors[0] #First element of model_output contains all token embeddings\n",
        "#         input_mask_expanded = inputs.attention_mask.unsqueeze(-1).expand(token_embeddings.size()).float()\n",
        "#         return torch.sum(token_embeddings * input_mask_expanded, 1) / torch.clamp(input_mask_expanded.sum(1), min=1e-9)\n",
        "\n",
        "# gpt_class = BioGptModel(model, tokenizer)"
      ],
      "metadata": {
        "id": "o-OWTvoXPckV"
      },
      "execution_count": 9,
      "outputs": []
    },
    {
      "cell_type": "code",
      "source": [
        "def sentence_encoder(data):\n",
        "    vectors = []\n",
        "    normalized_vectors = []\n",
        "    for i in range(len(data)):\n",
        "        sentence_vectors = gpt_class.sentence_vectors(data[i]).detach().numpy()\n",
        "        vectors.append(sentence_vectors)\n",
        "        normalized_vectors.append(normalizer(sentence_vectors))\n",
        "\n",
        "    vectors = np.squeeze(np.array(vectors))\n",
        "    normalized_vectors = np.squeeze(np.array(normalized_vectors))\n",
        "\n",
        "    return vectors, normalized_vectors    "
      ],
      "metadata": {
        "id": "c3rgLunSRpcO"
      },
      "execution_count": 10,
      "outputs": []
    },
    {
      "cell_type": "code",
      "source": [
        "# abst_vectors, abst_vectors_norm = sentence_encoder(data_abst) \n",
        "# title_vectors, title_vectors_norm = sentence_encoder(data_abst) "
      ],
      "metadata": {
        "id": "2WEyuGZ4kwmf"
      },
      "execution_count": 11,
      "outputs": []
    },
    {
      "cell_type": "code",
      "source": [
        "# np.save('drive/MyDrive/transfer/patent/data_biotech_abstarct_biogpt.npy',abst_vectors)\n",
        "# np.save('drive/MyDrive/transfer/patent/data_biotech_abstarct_biogpt_norm.npy',abst_vectors_norm)\n",
        "\n",
        "# np.save('drive/MyDrive/transfer/patent/data_biotech_title_biogpt.npy',title_vectors)\n",
        "# np.save('drive/MyDrive/transfer/patent/data_biotech_title_biogpt_norm.npy',title_vectors_norm)"
      ],
      "metadata": {
        "id": "CRHdYIJYZAdg"
      },
      "execution_count": 12,
      "outputs": []
    },
    {
      "cell_type": "code",
      "source": [
        "abst_vectors = np.load('drive/MyDrive/transfer/patent/data_biotech_abstarct_biogpt.npy')\n",
        "abst_vectors_norm = np.load('drive/MyDrive/transfer/patent/data_biotech_abstarct_biogpt_norm.npy')\n",
        "\n",
        "title_vectors = np.load('drive/MyDrive/transfer/patent/data_biotech_abstarct_biogpt.npy')\n",
        "title_vectors_norm = np.load('drive/MyDrive/transfer/patent/data_biotech_abstarct_biogpt_norm.npy')"
      ],
      "metadata": {
        "id": "M_0Az8AeZg3w"
      },
      "execution_count": 13,
      "outputs": []
    },
    {
      "cell_type": "code",
      "source": [
        "plt.plot(abst_vectors_norm[0])\n",
        "plt.plot(abst_vectors_norm[1])"
      ],
      "metadata": {
        "colab": {
          "base_uri": "https://localhost:8080/",
          "height": 448
        },
        "id": "YJeauj9xWEzR",
        "outputId": "3074bd72-831d-4710-d125-b60cf83146a6"
      },
      "execution_count": 14,
      "outputs": [
        {
          "output_type": "execute_result",
          "data": {
            "text/plain": [
              "[<matplotlib.lines.Line2D at 0x7f63fe2d30a0>]"
            ]
          },
          "metadata": {},
          "execution_count": 14
        },
        {
          "output_type": "display_data",
          "data": {
            "text/plain": [
              "<Figure size 640x480 with 1 Axes>"
            ],
            "image/png": "[encoded data removed]"
          },
          "metadata": {}
        }
      ]
    },
    {
      "cell_type": "code",
      "source": [
        "pca = PCA().fit(abst_vectors_norm)\n",
        "pca_var = np.cumsum(pca.explained_variance_ratio_)\n",
        "\n",
        "svd_content = TruncatedSVD(n_iter= 25, n_components = 1024 ).fit(abst_vectors_norm)\n",
        "svd_var = np.cumsum(svd_content.explained_variance_ratio_)"
      ],
      "metadata": {
        "id": "eEAWTXZ5Wi2y"
      },
      "execution_count": 15,
      "outputs": []
    },
    {
      "cell_type": "code",
      "source": [
        "plt.figure(figsize = (15,6))\n",
        "plt.plot(svd_var, marker = 'o', alpha =0.2)\n",
        "# plt.xlabel('number of components')\n",
        "# plt.ylabel('cumulative explained variance');\n",
        "\n",
        "# plt.figure(figsize = (15,6))\n",
        "plt.plot(pca_var)\n",
        "plt.xlabel('number of components')\n",
        "plt.ylabel('cumulative explained variance');\n",
        "plt.legend(['SVD','PCA'])"
      ],
      "metadata": {
        "colab": {
          "base_uri": "https://localhost:8080/",
          "height": 564
        },
        "id": "BJdw5vkXa7sG",
        "outputId": "b9a813b1-70f9-4b12-fdcc-07b3d714f5ea"
      },
      "execution_count": 16,
      "outputs": [
        {
          "output_type": "execute_result",
          "data": {
            "text/plain": [
              "<matplotlib.legend.Legend at 0x7f63fd143f10>"
            ]
          },
          "metadata": {},
          "execution_count": 16
        },
        {
          "output_type": "display_data",
          "data": {
            "text/plain": [
              "<Figure size 1500x600 with 1 Axes>"
            ],
            "image/png": "[encoded data removed]"
          },
          "metadata": {}
        }
      ]
    },
    {
      "cell_type": "code",
      "source": [
        "print('PCA 100% :',np.where(np.array(pca_var) >= 0.99)[0][0])\n",
        "print('SVD 100% :',np.where(np.array(svd_var) >= 0.99)[0][0])\n",
        "print('PCA 95% :',np.where(np.array(pca_var) >= 0.95)[0][0])\n",
        "print('SVD 95% :',np.where(np.array(svd_var) >= 0.95)[0][0])\n",
        "print('PCA 90% :',np.where(np.array(pca_var) >= 0.90)[0][0])\n",
        "print('SVD 90% :',np.where(np.array(svd_var) >= 0.90)[0][0])\n",
        "print('SVD 82% :',np.where(np.array(svd_var) >= 0.82)[0][0])\n",
        "print('SVD 82% :',np.where(np.array(svd_var) >= 0.82)[0][0])"
      ],
      "metadata": {
        "colab": {
          "base_uri": "https://localhost:8080/"
        },
        "id": "_od7nuXIbC37",
        "outputId": "57d4160c-2910-49aa-ca8a-7af37719a343"
      },
      "execution_count": 17,
      "outputs": [
        {
          "output_type": "stream",
          "name": "stdout",
          "text": [
            "PCA 100% : 152\n",
            "SVD 100% : 153\n",
            "PCA 95% : 89\n",
            "SVD 95% : 89\n",
            "PCA 90% : 57\n",
            "SVD 90% : 58\n",
            "SVD 82% : 34\n",
            "SVD 82% : 34\n"
          ]
        }
      ]
    },
    {
      "cell_type": "code",
      "source": [
        "def pca_reducer(target_dimension, content, title):\n",
        "    pca_name = '_pca_'+str(target_dimension)\n",
        "    pca_ = PCA(n_components=target_dimension, random_state = 42, svd_solver = 'arpack')\n",
        "    pca_.fit(content)\n",
        "    content_vectors_pca = np.apply_along_axis(normalizer,1,pca_.transform(content))\n",
        "    title_vectors_pca = np.apply_along_axis(normalizer,1,pca_.transform(title))\n",
        "\n",
        "    inverse_content = np.apply_along_axis(normalizer,1,pca_.inverse_transform(content_vectors_pca))\n",
        "    inverse_title = np.apply_along_axis(normalizer,1,pca_.inverse_transform(title_vectors_pca))\n",
        "\n",
        "    np.save('./patent_abst_vectors_norm'+pca_name,content_vectors_pca)\n",
        "    np.save('./patent_title_vectors_norm'+pca_name,title_vectors_pca)\n",
        "#     np.save('drive/MyDrive/transfer/reduced_dim/inverse_content_vectors_norm'+pca_name, inverse_content)\n",
        "#     np.save('drive/MyDrive/transfer/reduced_dim/inverse_title_vectors_norm'+pca_name, inverse_title)\n",
        "    joblib.dump(pca_, pca_name)\n",
        "\n",
        "def svd_reducer(target_dimension, content, title):\n",
        "    svd_name = '_svd_'+str(target_dimension)\n",
        "    svd_ = TruncatedSVD(n_iter= 25, n_components = target_dimension, random_state = 42 )\n",
        "    svd_.fit(content)\n",
        "    content_vectors_svd = np.apply_along_axis(normalizer,1,svd_.transform(content))\n",
        "    title_vectors_svd = np.apply_along_axis(normalizer,1,svd_.transform(title))\n",
        "\n",
        "    inverse_content = np.apply_along_axis(normalizer,1,svd_.inverse_transform(content_vectors_svd))\n",
        "    inverse_title = np.apply_along_axis(normalizer,1,svd_.inverse_transform(title_vectors_svd))\n",
        "\n",
        "    np.save('./patent_abst_vectors_norm'+svd_name,content_vectors_svd)\n",
        "    np.save('./patent_title_vectors_norm'+svd_name,title_vectors_svd)\n",
        "#     np.save('drive/MyDrive/transfer/reduced_dim/inverse_content_vectors_norm'+svd_name, inverse_content)\n",
        "#     np.save('drive/MyDrive/transfer/reduced_dim/inverse_title_vectors_norm'+svd_name, inverse_title)\n",
        "    joblib.dump(svd_, svd_name)\n"
      ],
      "metadata": {
        "id": "xsYHwobRbInj"
      },
      "execution_count": 18,
      "outputs": []
    },
    {
      "cell_type": "code",
      "source": [
        "pca_reducer(90, abst_vectors_norm, title_vectors_norm)\n",
        "svd_reducer(90, abst_vectors_norm, title_vectors_norm)\n",
        "\n",
        "pca_reducer(57, abst_vectors_norm, title_vectors_norm)\n",
        "svd_reducer(57, abst_vectors_norm, title_vectors_norm)\n",
        "\n",
        "pca_reducer(107, abst_vectors_norm, title_vectors_norm)\n",
        "svd_reducer(107, abst_vectors_norm, title_vectors_norm)"
      ],
      "metadata": {
        "id": "5PKtF1MLn-94"
      },
      "execution_count": 19,
      "outputs": []
    },
    {
      "cell_type": "code",
      "source": [
        "abstract_pca_57 = np.load('./patent_abst_vectors_norm_pca_57.npy')\n",
        "abstract_pca_90 = np.load('./patent_abst_vectors_norm_pca_90.npy')\n",
        "abstract_pca_107 = np.load('./patent_abst_vectors_norm_pca_107.npy')\n",
        "abstract_svd_57 = np.load('./patent_abst_vectors_norm_svd_57.npy')\n",
        "abstract_svd_90 = np.load('./patent_abst_vectors_norm_svd_90.npy')\n",
        "abstract_svd_107 = np.load('./patent_abst_vectors_norm_svd_107.npy')\n",
        "\n",
        "title_pca_57 = np.load('./patent_title_vectors_norm_pca_57.npy')\n",
        "title_pca_90 = np.load('./patent_title_vectors_norm_pca_90.npy')\n",
        "title_pca_107 = np.load('./patent_title_vectors_norm_pca_107.npy')\n",
        "\n",
        "title_svd_57 = np.load('./patent_title_vectors_norm_svd_57.npy')\n",
        "title_svd_90 = np.load('./patent_title_vectors_norm_svd_90.npy')\n",
        "title_svd_100 = np.load('./patent_title_vectors_norm_svd_107.npy')"
      ],
      "metadata": {
        "id": "37iQnmuMoq4j"
      },
      "execution_count": 23,
      "outputs": []
    },
    {
      "cell_type": "code",
      "source": [
        "x"
      ],
      "metadata": {
        "id": "v-8r40cGVogz"
      },
      "execution_count": null,
      "outputs": []
    },
    {
      "cell_type": "code",
      "source": [
        "print('content_pca_256 shape:',np.array(abstract_pca_57).shape)\n",
        "print('content_svd_256 shape:',np.array(abstract_pca_90).shape)\n",
        "print('title_pca_256 shape:',np.array(abstract_svd_57).shape)\n",
        "print('title_svd_256 shape:',np.array(abstract_svd_90).shape)\n",
        "print('content_pca_256_inverse shape:',np.array(title_pca_57).shape)\n",
        "print('content_svd_256_inverse shape:',np.array(title_pca_90).shape)\n",
        "print('title_pca_256_inverse shape:',np.array(title_svd_57).shape)\n",
        "print('title_svd_256_inverse shape:',np.array(title_svd_90).shape)"
      ],
      "metadata": {
        "id": "k55qKbZNsy-1"
      },
      "execution_count": null,
      "outputs": []
    },
    {
      "cell_type": "code",
      "source": [
        "searcher_raw = scann.scann_ops_pybind.builder(abst_vectors_norm, 50, \"dot_product\").tree(\n",
        "    num_leaves=200, num_leaves_to_search=100, training_sample_size=250000).score_ah(\n",
        "    2, anisotropic_quantization_threshold=0.2).reorder(100).build()\n",
        "\n",
        "searcher_pca_57 = scann.scann_ops_pybind.builder(abstract_pca_57, 50, \"dot_product\").tree(\n",
        "    num_leaves=200, num_leaves_to_search=100, training_sample_size=250000).score_ah(\n",
        "    2, anisotropic_quantization_threshold=0.2).reorder(100).build()\n",
        "\n",
        "searcher_pca_90 = scann.scann_ops_pybind.builder(abstract_pca_90, 50, \"dot_product\").tree(\n",
        "    num_leaves=200, num_leaves_to_search=100, training_sample_size=250000).score_ah(\n",
        "    2, anisotropic_quantization_threshold=0.2).reorder(100).build()\n",
        "\n",
        "searcher_pca_107 = scann.scann_ops_pybind.builder(abstract_pca_107, 50, \"dot_product\").tree(\n",
        "    num_leaves=200, num_leaves_to_search=100, training_sample_size=250000).score_ah(\n",
        "    2, anisotropic_quantization_threshold=0.2).reorder(100).build()    \n",
        "\n",
        "searcher_svd_57 = scann.scann_ops_pybind.builder(abstract_svd_57, 50, \"dot_product\").tree(\n",
        "    num_leaves=200, num_leaves_to_search=100, training_sample_size=250000).score_ah(\n",
        "    2, anisotropic_quantization_threshold=0.2).reorder(100).build()\n",
        "\n",
        "searcher_svd_90 = scann.scann_ops_pybind.builder(title_svd_90, 50, \"dot_product\").tree(\n",
        "    num_leaves=200, num_leaves_to_search=100, training_sample_size=250000).score_ah(\n",
        "    2, anisotropic_quantization_threshold=0.2).reorder(100).build()  \n",
        "\n",
        "searcher_svd_107 = scann.scann_ops_pybind.builder(title_svd_100, 50, \"dot_product\").tree(\n",
        "    num_leaves=200, num_leaves_to_search=100, training_sample_size=250000).score_ah(\n",
        "    2, anisotropic_quantization_threshold=0.2).reorder(100).build()         "
      ],
      "metadata": {
        "id": "ZFf3VL3ctTl1"
      },
      "execution_count": 24,
      "outputs": []
    },
    {
      "cell_type": "code",
      "source": [
        "raw_idx = []\n",
        "reduced_idx_pca_57 = []\n",
        "reduced_idx_svd_57 = []\n",
        "reduced_idx_pca_90 = []\n",
        "reduced_idx_svd_90 = []\n",
        "reduced_idx_pca_107 = []\n",
        "reduced_idx_svd_107 = []\n",
        "for i in range(len(title_vectors_norm)):\n",
        "    raw_idx.append(searcher_raw.search(title_vectors_norm[i])[0])\n",
        "    reduced_idx_pca_57.append(searcher_pca_57.search(title_pca_57[i])[0])\n",
        "    reduced_idx_svd_57.append(searcher_svd_57.search(title_svd_57[i])[0])\n",
        "    reduced_idx_pca_90.append(searcher_pca_90.search(title_pca_90[i])[0])\n",
        "    reduced_idx_svd_90.append(searcher_svd_90.search(title_svd_90[i])[0])\n",
        "    reduced_idx_pca_107.append(searcher_pca_107.search(title_pca_107[i])[0])\n",
        "    reduced_idx_svd_107.append(searcher_svd_107.search(title_svd_107[i])[0])"
      ],
      "metadata": {
        "id": "IwGknAlp1eEI"
      },
      "execution_count": 31,
      "outputs": []
    },
    {
      "cell_type": "code",
      "source": [
        "k = [1,3,5,10,15,20,30]\n",
        "ap_pca_57, hit_pca_57, mrr_pca_57 = metrics_calculator(raw_idx,reduced_idx_pca_57, k )\n",
        "ap_svd_57, hit_svd_57, mrr_svd_57 = metrics_calculator(raw_idx,reduced_idx_svd_57, k )\n",
        "\n",
        "\n",
        "ap_pca_90, hit_pca_90, mrr_pca_90 = metrics_calculator(raw_idx,reduced_idx_pca_90, k )\n",
        "ap_svd_90, hit_svd_90, mrr_svd_90 = metrics_calculator(raw_idx,reduced_idx_svd_90, k )\n",
        "\n",
        "ap_pca_107, hit_pca_107, mrr_pca_107 = metrics_calculator(raw_idx,reduced_idx_pca_107, k )\n",
        "ap_svd_107, hit_svd_107, mrr_svd_107 = metrics_calculator(raw_idx,reduced_idx_svd_107, k )"
      ],
      "metadata": {
        "id": "G4XpZ2GV2kkS",
        "outputId": "d467f24e-942b-4da3-f285-3a9e032ccfb9",
        "colab": {
          "base_uri": "https://localhost:8080/"
        }
      },
      "execution_count": 32,
      "outputs": [
        {
          "output_type": "stream",
          "name": "stderr",
          "text": [
            "<ipython-input-5-4267b1d28ba5>:38: VisibleDeprecationWarning: Creating an ndarray from ragged nested sequences (which is a list-or-tuple of lists-or-tuples-or ndarrays with different lengths or shapes) is deprecated. If you meant to do this, you must specify 'dtype=object' when creating the ndarray.\n",
            "  elevated_rank = np.add(rank,1)\n"
          ]
        }
      ]
    },
    {
      "cell_type": "code",
      "source": [
        "# plt.subplot(1,4,2)\n",
        "plt.figure(figsize =(15,8))\n",
        "plt.plot(k,hit_pca_57, '-o')\n",
        "plt.plot(k,hit_svd_57, '-*')\n",
        "plt.plot(k,hit_pca_90, '-*')\n",
        "plt.plot(k,hit_svd_90, '>-')\n",
        "plt.plot(k,hit_pca_107, 's-')\n",
        "plt.plot(k,hit_svd_107, 'p-')\n",
        "hit_pca_107\n",
        "# plt.scatter(k,hit_svd_90, marker = 's', color= 'green')\n",
        "# plt.plot(k,hit_fa, '->')\n",
        "plt.title('HIT RATE@K')\n",
        "plt.legend(['pca_57','svd_57','pca_90','svd_90','pca_107','svd_107'])\n",
        "plt.xlabel('K');"
      ],
      "metadata": {
        "id": "0SkvERUy3I-D",
        "outputId": "50cf323e-0a2c-4668-b61d-04b25c8b1daa",
        "colab": {
          "base_uri": "https://localhost:8080/",
          "height": 723
        }
      },
      "execution_count": 34,
      "outputs": [
        {
          "output_type": "display_data",
          "data": {
            "text/plain": [
              "<Figure size 1500x800 with 1 Axes>"
            ],
            "image/png": "[encoded data removed]"
          },
          "metadata": {}
        }
      ]
    },
    {
      "cell_type": "code",
      "source": [
        "hit_svd_57"
      ],
      "metadata": {
        "id": "OIEHuVPm3cES",
        "outputId": "3b1ea578-ca8f-4886-89eb-07af00e8414d",
        "colab": {
          "base_uri": "https://localhost:8080/"
        }
      },
      "execution_count": 28,
      "outputs": [
        {
          "output_type": "execute_result",
          "data": {
            "text/plain": [
              "[427, 1295, 2145, 4342, 6408, 8497, 12636]"
            ]
          },
          "metadata": {},
          "execution_count": 28
        }
      ]
    },
    {
      "cell_type": "code",
      "source": [
        "hit_svd_90"
      ],
      "metadata": {
        "id": "RsUnSAkk4JPe",
        "outputId": "ccdbab06-9e2a-46e5-f60a-bd3f126fae3a",
        "colab": {
          "base_uri": "https://localhost:8080/"
        }
      },
      "execution_count": 29,
      "outputs": [
        {
          "output_type": "execute_result",
          "data": {
            "text/plain": [
              "[436, 1315, 2183, 4479, 6667, 8873, 13324]"
            ]
          },
          "metadata": {},
          "execution_count": 29
        }
      ]
    },
    {
      "cell_type": "code",
      "source": [],
      "metadata": {
        "id": "V-RDIxD342uO"
      },
      "execution_count": null,
      "outputs": []
    }
  ]
}