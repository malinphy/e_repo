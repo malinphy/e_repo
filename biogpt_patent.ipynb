{
  "nbformat": 4,
  "nbformat_minor": 0,
  "metadata": {
    "colab": {
      "provenance": [],
      "include_colab_link": true
    },
    "kernelspec": {
      "display_name": "Python 3",
      "name": "python3"
    },
    "gpuClass": "standard",
    "widgets": {
      "application/vnd.jupyter.widget-state+json": {
        "1ad67e9d1656444784db87065bc6ebb4": {
          "model_module": "@jupyter-widgets/controls",
          "model_name": "HBoxModel",
          "model_module_version": "1.5.0",
          "state": {
            "_dom_classes": [],
            "_model_module": "@jupyter-widgets/controls",
            "_model_module_version": "1.5.0",
            "_model_name": "HBoxModel",
            "_view_count": null,
            "_view_module": "@jupyter-widgets/controls",
            "_view_module_version": "1.5.0",
            "_view_name": "HBoxView",
            "box_style": "",
            "children": [
              "IPY_MODEL_2de8f050ab05475094346bf0395cccdf",
              "IPY_MODEL_cbbc17db216f4f0e9c3d50785a85fe90",
              "IPY_MODEL_a46e2dc920c744729f4320047a5d4d1b"
            ],
            "layout": "IPY_MODEL_f325359ecd6a47dcb731709616683bc2"
          }
        },
        "2de8f050ab05475094346bf0395cccdf": {
          "model_module": "@jupyter-widgets/controls",
          "model_name": "HTMLModel",
          "model_module_version": "1.5.0",
          "state": {
            "_dom_classes": [],
            "_model_module": "@jupyter-widgets/controls",
            "_model_module_version": "1.5.0",
            "_model_name": "HTMLModel",
            "_view_count": null,
            "_view_module": "@jupyter-widgets/controls",
            "_view_module_version": "1.5.0",
            "_view_name": "HTMLView",
            "description": "",
            "description_tooltip": null,
            "layout": "IPY_MODEL_8906a5b0e3be4dedb78373088c9c6eec",
            "placeholder": "​",
            "style": "IPY_MODEL_b5bf137151d847dab10921083d6f628e",
            "value": "Downloading (…)lve/main/config.json: 100%"
          }
        },
        "cbbc17db216f4f0e9c3d50785a85fe90": {
          "model_module": "@jupyter-widgets/controls",
          "model_name": "FloatProgressModel",
          "model_module_version": "1.5.0",
          "state": {
            "_dom_classes": [],
            "_model_module": "@jupyter-widgets/controls",
            "_model_module_version": "1.5.0",
            "_model_name": "FloatProgressModel",
            "_view_count": null,
            "_view_module": "@jupyter-widgets/controls",
            "_view_module_version": "1.5.0",
            "_view_name": "ProgressView",
            "bar_style": "success",
            "description": "",
            "description_tooltip": null,
            "layout": "IPY_MODEL_5045caf26daa4eafb3952cc15099b65b",
            "max": 595,
            "min": 0,
            "orientation": "horizontal",
            "style": "IPY_MODEL_4c99d66f096748b19326e0bf102d4cb6",
            "value": 595
          }
        },
        "a46e2dc920c744729f4320047a5d4d1b": {
          "model_module": "@jupyter-widgets/controls",
          "model_name": "HTMLModel",
          "model_module_version": "1.5.0",
          "state": {
            "_dom_classes": [],
            "_model_module": "@jupyter-widgets/controls",
            "_model_module_version": "1.5.0",
            "_model_name": "HTMLModel",
            "_view_count": null,
            "_view_module": "@jupyter-widgets/controls",
            "_view_module_version": "1.5.0",
            "_view_name": "HTMLView",
            "description": "",
            "description_tooltip": null,
            "layout": "IPY_MODEL_d9be57612a6f4f298fb94fa09d778cf4",
            "placeholder": "​",
            "style": "IPY_MODEL_dba6f8d13d174c11842afececfd3b237",
            "value": " 595/595 [00:00&lt;00:00, 10.7kB/s]"
          }
        },
        "f325359ecd6a47dcb731709616683bc2": {
          "model_module": "@jupyter-widgets/base",
          "model_name": "LayoutModel",
          "model_module_version": "1.2.0",
          "state": {
            "_model_module": "@jupyter-widgets/base",
            "_model_module_version": "1.2.0",
            "_model_name": "LayoutModel",
            "_view_count": null,
            "_view_module": "@jupyter-widgets/base",
            "_view_module_version": "1.2.0",
            "_view_name": "LayoutView",
            "align_content": null,
            "align_items": null,
            "align_self": null,
            "border": null,
            "bottom": null,
            "display": null,
            "flex": null,
            "flex_flow": null,
            "grid_area": null,
            "grid_auto_columns": null,
            "grid_auto_flow": null,
            "grid_auto_rows": null,
            "grid_column": null,
            "grid_gap": null,
            "grid_row": null,
            "grid_template_areas": null,
            "grid_template_columns": null,
            "grid_template_rows": null,
            "height": null,
            "justify_content": null,
            "justify_items": null,
            "left": null,
            "margin": null,
            "max_height": null,
            "max_width": null,
            "min_height": null,
            "min_width": null,
            "object_fit": null,
            "object_position": null,
            "order": null,
            "overflow": null,
            "overflow_x": null,
            "overflow_y": null,
            "padding": null,
            "right": null,
            "top": null,
            "visibility": null,
            "width": null
          }
        },
        "8906a5b0e3be4dedb78373088c9c6eec": {
          "model_module": "@jupyter-widgets/base",
          "model_name": "LayoutModel",
          "model_module_version": "1.2.0",
          "state": {
            "_model_module": "@jupyter-widgets/base",
            "_model_module_version": "1.2.0",
            "_model_name": "LayoutModel",
            "_view_count": null,
            "_view_module": "@jupyter-widgets/base",
            "_view_module_version": "1.2.0",
            "_view_name": "LayoutView",
            "align_content": null,
            "align_items": null,
            "align_self": null,
            "border": null,
            "bottom": null,
            "display": null,
            "flex": null,
            "flex_flow": null,
            "grid_area": null,
            "grid_auto_columns": null,
            "grid_auto_flow": null,
            "grid_auto_rows": null,
            "grid_column": null,
            "grid_gap": null,
            "grid_row": null,
            "grid_template_areas": null,
            "grid_template_columns": null,
            "grid_template_rows": null,
            "height": null,
            "justify_content": null,
            "justify_items": null,
            "left": null,
            "margin": null,
            "max_height": null,
            "max_width": null,
            "min_height": null,
            "min_width": null,
            "object_fit": null,
            "object_position": null,
            "order": null,
            "overflow": null,
            "overflow_x": null,
            "overflow_y": null,
            "padding": null,
            "right": null,
            "top": null,
            "visibility": null,
            "width": null
          }
        },
        "b5bf137151d847dab10921083d6f628e": {
          "model_module": "@jupyter-widgets/controls",
          "model_name": "DescriptionStyleModel",
          "model_module_version": "1.5.0",
          "state": {
            "_model_module": "@jupyter-widgets/controls",
            "_model_module_version": "1.5.0",
            "_model_name": "DescriptionStyleModel",
            "_view_count": null,
            "_view_module": "@jupyter-widgets/base",
            "_view_module_version": "1.2.0",
            "_view_name": "StyleView",
            "description_width": ""
          }
        },
        "5045caf26daa4eafb3952cc15099b65b": {
          "model_module": "@jupyter-widgets/base",
          "model_name": "LayoutModel",
          "model_module_version": "1.2.0",
          "state": {
            "_model_module": "@jupyter-widgets/base",
            "_model_module_version": "1.2.0",
            "_model_name": "LayoutModel",
            "_view_count": null,
            "_view_module": "@jupyter-widgets/base",
            "_view_module_version": "1.2.0",
            "_view_name": "LayoutView",
            "align_content": null,
            "align_items": null,
            "align_self": null,
            "border": null,
            "bottom": null,
            "display": null,
            "flex": null,
            "flex_flow": null,
            "grid_area": null,
            "grid_auto_columns": null,
            "grid_auto_flow": null,
            "grid_auto_rows": null,
            "grid_column": null,
            "grid_gap": null,
            "grid_row": null,
            "grid_template_areas": null,
            "grid_template_columns": null,
            "grid_template_rows": null,
            "height": null,
            "justify_content": null,
            "justify_items": null,
            "left": null,
            "margin": null,
            "max_height": null,
            "max_width": null,
            "min_height": null,
            "min_width": null,
            "object_fit": null,
            "object_position": null,
            "order": null,
            "overflow": null,
            "overflow_x": null,
            "overflow_y": null,
            "padding": null,
            "right": null,
            "top": null,
            "visibility": null,
            "width": null
          }
        },
        "4c99d66f096748b19326e0bf102d4cb6": {
          "model_module": "@jupyter-widgets/controls",
          "model_name": "ProgressStyleModel",
          "model_module_version": "1.5.0",
          "state": {
            "_model_module": "@jupyter-widgets/controls",
            "_model_module_version": "1.5.0",
            "_model_name": "ProgressStyleModel",
            "_view_count": null,
            "_view_module": "@jupyter-widgets/base",
            "_view_module_version": "1.2.0",
            "_view_name": "StyleView",
            "bar_color": null,
            "description_width": ""
          }
        },
        "d9be57612a6f4f298fb94fa09d778cf4": {
          "model_module": "@jupyter-widgets/base",
          "model_name": "LayoutModel",
          "model_module_version": "1.2.0",
          "state": {
            "_model_module": "@jupyter-widgets/base",
            "_model_module_version": "1.2.0",
            "_model_name": "LayoutModel",
            "_view_count": null,
            "_view_module": "@jupyter-widgets/base",
            "_view_module_version": "1.2.0",
            "_view_name": "LayoutView",
            "align_content": null,
            "align_items": null,
            "align_self": null,
            "border": null,
            "bottom": null,
            "display": null,
            "flex": null,
            "flex_flow": null,
            "grid_area": null,
            "grid_auto_columns": null,
            "grid_auto_flow": null,
            "grid_auto_rows": null,
            "grid_column": null,
            "grid_gap": null,
            "grid_row": null,
            "grid_template_areas": null,
            "grid_template_columns": null,
            "grid_template_rows": null,
            "height": null,
            "justify_content": null,
            "justify_items": null,
            "left": null,
            "margin": null,
            "max_height": null,
            "max_width": null,
            "min_height": null,
            "min_width": null,
            "object_fit": null,
            "object_position": null,
            "order": null,
            "overflow": null,
            "overflow_x": null,
            "overflow_y": null,
            "padding": null,
            "right": null,
            "top": null,
            "visibility": null,
            "width": null
          }
        },
        "dba6f8d13d174c11842afececfd3b237": {
          "model_module": "@jupyter-widgets/controls",
          "model_name": "DescriptionStyleModel",
          "model_module_version": "1.5.0",
          "state": {
            "_model_module": "@jupyter-widgets/controls",
            "_model_module_version": "1.5.0",
            "_model_name": "DescriptionStyleModel",
            "_view_count": null,
            "_view_module": "@jupyter-widgets/base",
            "_view_module_version": "1.2.0",
            "_view_name": "StyleView",
            "description_width": ""
          }
        },
        "4feab10657cc4e2d86859c22c392a8a3": {
          "model_module": "@jupyter-widgets/controls",
          "model_name": "HBoxModel",
          "model_module_version": "1.5.0",
          "state": {
            "_dom_classes": [],
            "_model_module": "@jupyter-widgets/controls",
            "_model_module_version": "1.5.0",
            "_model_name": "HBoxModel",
            "_view_count": null,
            "_view_module": "@jupyter-widgets/controls",
            "_view_module_version": "1.5.0",
            "_view_name": "HBoxView",
            "box_style": "",
            "children": [
              "IPY_MODEL_53b85f8283444662bbb15f4677323ebd",
              "IPY_MODEL_441e09293b3f46009afbc47589fa4d42",
              "IPY_MODEL_421b5b69588f485cb0623e9243e95fff"
            ],
            "layout": "IPY_MODEL_eecbc094bc6d4414a3682b8962e7589b"
          }
        },
        "53b85f8283444662bbb15f4677323ebd": {
          "model_module": "@jupyter-widgets/controls",
          "model_name": "HTMLModel",
          "model_module_version": "1.5.0",
          "state": {
            "_dom_classes": [],
            "_model_module": "@jupyter-widgets/controls",
            "_model_module_version": "1.5.0",
            "_model_name": "HTMLModel",
            "_view_count": null,
            "_view_module": "@jupyter-widgets/controls",
            "_view_module_version": "1.5.0",
            "_view_name": "HTMLView",
            "description": "",
            "description_tooltip": null,
            "layout": "IPY_MODEL_d3a0f54fcd384545a7bd8e5e72750afe",
            "placeholder": "​",
            "style": "IPY_MODEL_5191259374ca457398921a50a7a48b9f",
            "value": "Downloading (…)olve/main/vocab.json: 100%"
          }
        },
        "441e09293b3f46009afbc47589fa4d42": {
          "model_module": "@jupyter-widgets/controls",
          "model_name": "FloatProgressModel",
          "model_module_version": "1.5.0",
          "state": {
            "_dom_classes": [],
            "_model_module": "@jupyter-widgets/controls",
            "_model_module_version": "1.5.0",
            "_model_name": "FloatProgressModel",
            "_view_count": null,
            "_view_module": "@jupyter-widgets/controls",
            "_view_module_version": "1.5.0",
            "_view_name": "ProgressView",
            "bar_style": "success",
            "description": "",
            "description_tooltip": null,
            "layout": "IPY_MODEL_0cde34c8868f4ee5ad77a27fa067bac1",
            "max": 927059,
            "min": 0,
            "orientation": "horizontal",
            "style": "IPY_MODEL_7550c7b79ad34708b40ea17a927eb922",
            "value": 927059
          }
        },
        "421b5b69588f485cb0623e9243e95fff": {
          "model_module": "@jupyter-widgets/controls",
          "model_name": "HTMLModel",
          "model_module_version": "1.5.0",
          "state": {
            "_dom_classes": [],
            "_model_module": "@jupyter-widgets/controls",
            "_model_module_version": "1.5.0",
            "_model_name": "HTMLModel",
            "_view_count": null,
            "_view_module": "@jupyter-widgets/controls",
            "_view_module_version": "1.5.0",
            "_view_name": "HTMLView",
            "description": "",
            "description_tooltip": null,
            "layout": "IPY_MODEL_e837a6513c5a411cb6a65d7c1e0e507d",
            "placeholder": "​",
            "style": "IPY_MODEL_1741a4b818f340568d23a6cc2152c443",
            "value": " 927k/927k [00:00&lt;00:00, 4.55MB/s]"
          }
        },
        "eecbc094bc6d4414a3682b8962e7589b": {
          "model_module": "@jupyter-widgets/base",
          "model_name": "LayoutModel",
          "model_module_version": "1.2.0",
          "state": {
            "_model_module": "@jupyter-widgets/base",
            "_model_module_version": "1.2.0",
            "_model_name": "LayoutModel",
            "_view_count": null,
            "_view_module": "@jupyter-widgets/base",
            "_view_module_version": "1.2.0",
            "_view_name": "LayoutView",
            "align_content": null,
            "align_items": null,
            "align_self": null,
            "border": null,
            "bottom": null,
            "display": null,
            "flex": null,
            "flex_flow": null,
            "grid_area": null,
            "grid_auto_columns": null,
            "grid_auto_flow": null,
            "grid_auto_rows": null,
            "grid_column": null,
            "grid_gap": null,
            "grid_row": null,
            "grid_template_areas": null,
            "grid_template_columns": null,
            "grid_template_rows": null,
            "height": null,
            "justify_content": null,
            "justify_items": null,
            "left": null,
            "margin": null,
            "max_height": null,
            "max_width": null,
            "min_height": null,
            "min_width": null,
            "object_fit": null,
            "object_position": null,
            "order": null,
            "overflow": null,
            "overflow_x": null,
            "overflow_y": null,
            "padding": null,
            "right": null,
            "top": null,
            "visibility": null,
            "width": null
          }
        },
        "d3a0f54fcd384545a7bd8e5e72750afe": {
          "model_module": "@jupyter-widgets/base",
          "model_name": "LayoutModel",
          "model_module_version": "1.2.0",
          "state": {
            "_model_module": "@jupyter-widgets/base",
            "_model_module_version": "1.2.0",
            "_model_name": "LayoutModel",
            "_view_count": null,
            "_view_module": "@jupyter-widgets/base",
            "_view_module_version": "1.2.0",
            "_view_name": "LayoutView",
            "align_content": null,
            "align_items": null,
            "align_self": null,
            "border": null,
            "bottom": null,
            "display": null,
            "flex": null,
            "flex_flow": null,
            "grid_area": null,
            "grid_auto_columns": null,
            "grid_auto_flow": null,
            "grid_auto_rows": null,
            "grid_column": null,
            "grid_gap": null,
            "grid_row": null,
            "grid_template_areas": null,
            "grid_template_columns": null,
            "grid_template_rows": null,
            "height": null,
            "justify_content": null,
            "justify_items": null,
            "left": null,
            "margin": null,
            "max_height": null,
            "max_width": null,
            "min_height": null,
            "min_width": null,
            "object_fit": null,
            "object_position": null,
            "order": null,
            "overflow": null,
            "overflow_x": null,
            "overflow_y": null,
            "padding": null,
            "right": null,
            "top": null,
            "visibility": null,
            "width": null
          }
        },
        "5191259374ca457398921a50a7a48b9f": {
          "model_module": "@jupyter-widgets/controls",
          "model_name": "DescriptionStyleModel",
          "model_module_version": "1.5.0",
          "state": {
            "_model_module": "@jupyter-widgets/controls",
            "_model_module_version": "1.5.0",
            "_model_name": "DescriptionStyleModel",
            "_view_count": null,
            "_view_module": "@jupyter-widgets/base",
            "_view_module_version": "1.2.0",
            "_view_name": "StyleView",
            "description_width": ""
          }
        },
        "0cde34c8868f4ee5ad77a27fa067bac1": {
          "model_module": "@jupyter-widgets/base",
          "model_name": "LayoutModel",
          "model_module_version": "1.2.0",
          "state": {
            "_model_module": "@jupyter-widgets/base",
            "_model_module_version": "1.2.0",
            "_model_name": "LayoutModel",
            "_view_count": null,
            "_view_module": "@jupyter-widgets/base",
            "_view_module_version": "1.2.0",
            "_view_name": "LayoutView",
            "align_content": null,
            "align_items": null,
            "align_self": null,
            "border": null,
            "bottom": null,
            "display": null,
            "flex": null,
            "flex_flow": null,
            "grid_area": null,
            "grid_auto_columns": null,
            "grid_auto_flow": null,
            "grid_auto_rows": null,
            "grid_column": null,
            "grid_gap": null,
            "grid_row": null,
            "grid_template_areas": null,
            "grid_template_columns": null,
            "grid_template_rows": null,
            "height": null,
            "justify_content": null,
            "justify_items": null,
            "left": null,
            "margin": null,
            "max_height": null,
            "max_width": null,
            "min_height": null,
            "min_width": null,
            "object_fit": null,
            "object_position": null,
            "order": null,
            "overflow": null,
            "overflow_x": null,
            "overflow_y": null,
            "padding": null,
            "right": null,
            "top": null,
            "visibility": null,
            "width": null
          }
        },
        "7550c7b79ad34708b40ea17a927eb922": {
          "model_module": "@jupyter-widgets/controls",
          "model_name": "ProgressStyleModel",
          "model_module_version": "1.5.0",
          "state": {
            "_model_module": "@jupyter-widgets/controls",
            "_model_module_version": "1.5.0",
            "_model_name": "ProgressStyleModel",
            "_view_count": null,
            "_view_module": "@jupyter-widgets/base",
            "_view_module_version": "1.2.0",
            "_view_name": "StyleView",
            "bar_color": null,
            "description_width": ""
          }
        },
        "e837a6513c5a411cb6a65d7c1e0e507d": {
          "model_module": "@jupyter-widgets/base",
          "model_name": "LayoutModel",
          "model_module_version": "1.2.0",
          "state": {
            "_model_module": "@jupyter-widgets/base",
            "_model_module_version": "1.2.0",
            "_model_name": "LayoutModel",
            "_view_count": null,
            "_view_module": "@jupyter-widgets/base",
            "_view_module_version": "1.2.0",
            "_view_name": "LayoutView",
            "align_content": null,
            "align_items": null,
            "align_self": null,
            "border": null,
            "bottom": null,
            "display": null,
            "flex": null,
            "flex_flow": null,
            "grid_area": null,
            "grid_auto_columns": null,
            "grid_auto_flow": null,
            "grid_auto_rows": null,
            "grid_column": null,
            "grid_gap": null,
            "grid_row": null,
            "grid_template_areas": null,
            "grid_template_columns": null,
            "grid_template_rows": null,
            "height": null,
            "justify_content": null,
            "justify_items": null,
            "left": null,
            "margin": null,
            "max_height": null,
            "max_width": null,
            "min_height": null,
            "min_width": null,
            "object_fit": null,
            "object_position": null,
            "order": null,
            "overflow": null,
            "overflow_x": null,
            "overflow_y": null,
            "padding": null,
            "right": null,
            "top": null,
            "visibility": null,
            "width": null
          }
        },
        "1741a4b818f340568d23a6cc2152c443": {
          "model_module": "@jupyter-widgets/controls",
          "model_name": "DescriptionStyleModel",
          "model_module_version": "1.5.0",
          "state": {
            "_model_module": "@jupyter-widgets/controls",
            "_model_module_version": "1.5.0",
            "_model_name": "DescriptionStyleModel",
            "_view_count": null,
            "_view_module": "@jupyter-widgets/base",
            "_view_module_version": "1.2.0",
            "_view_name": "StyleView",
            "description_width": ""
          }
        },
        "a2dce3048b3a4c08ab3cd19111462a17": {
          "model_module": "@jupyter-widgets/controls",
          "model_name": "HBoxModel",
          "model_module_version": "1.5.0",
          "state": {
            "_dom_classes": [],
            "_model_module": "@jupyter-widgets/controls",
            "_model_module_version": "1.5.0",
            "_model_name": "HBoxModel",
            "_view_count": null,
            "_view_module": "@jupyter-widgets/controls",
            "_view_module_version": "1.5.0",
            "_view_name": "HBoxView",
            "box_style": "",
            "children": [
              "IPY_MODEL_1e1164f00a81455a8cad994c1c185b89",
              "IPY_MODEL_04ca2469e69a4fa0836fe187b6f1ed21",
              "IPY_MODEL_8a349cf60e254f11ac749c448bbb726e"
            ],
            "layout": "IPY_MODEL_ff31e7bc8b114fe6bbe71df7f1a753a8"
          }
        },
        "1e1164f00a81455a8cad994c1c185b89": {
          "model_module": "@jupyter-widgets/controls",
          "model_name": "HTMLModel",
          "model_module_version": "1.5.0",
          "state": {
            "_dom_classes": [],
            "_model_module": "@jupyter-widgets/controls",
            "_model_module_version": "1.5.0",
            "_model_name": "HTMLModel",
            "_view_count": null,
            "_view_module": "@jupyter-widgets/controls",
            "_view_module_version": "1.5.0",
            "_view_name": "HTMLView",
            "description": "",
            "description_tooltip": null,
            "layout": "IPY_MODEL_ed7dff294bf64918a56495afe6d9e868",
            "placeholder": "​",
            "style": "IPY_MODEL_506759774be04c8daeae7cefa973bb0b",
            "value": "Downloading (…)olve/main/merges.txt: 100%"
          }
        },
        "04ca2469e69a4fa0836fe187b6f1ed21": {
          "model_module": "@jupyter-widgets/controls",
          "model_name": "FloatProgressModel",
          "model_module_version": "1.5.0",
          "state": {
            "_dom_classes": [],
            "_model_module": "@jupyter-widgets/controls",
            "_model_module_version": "1.5.0",
            "_model_name": "FloatProgressModel",
            "_view_count": null,
            "_view_module": "@jupyter-widgets/controls",
            "_view_module_version": "1.5.0",
            "_view_name": "ProgressView",
            "bar_style": "success",
            "description": "",
            "description_tooltip": null,
            "layout": "IPY_MODEL_7d0d754a6b4748059cb90674ad2cd2a8",
            "max": 696298,
            "min": 0,
            "orientation": "horizontal",
            "style": "IPY_MODEL_78b056e64dd64759b8be481a0f1784c2",
            "value": 696298
          }
        },
        "8a349cf60e254f11ac749c448bbb726e": {
          "model_module": "@jupyter-widgets/controls",
          "model_name": "HTMLModel",
          "model_module_version": "1.5.0",
          "state": {
            "_dom_classes": [],
            "_model_module": "@jupyter-widgets/controls",
            "_model_module_version": "1.5.0",
            "_model_name": "HTMLModel",
            "_view_count": null,
            "_view_module": "@jupyter-widgets/controls",
            "_view_module_version": "1.5.0",
            "_view_name": "HTMLView",
            "description": "",
            "description_tooltip": null,
            "layout": "IPY_MODEL_4f38815943a64fa6b8657e8ed34d8bc7",
            "placeholder": "​",
            "style": "IPY_MODEL_965292df47174ee99675a0787491fbfa",
            "value": " 696k/696k [00:00&lt;00:00, 3.98MB/s]"
          }
        },
        "ff31e7bc8b114fe6bbe71df7f1a753a8": {
          "model_module": "@jupyter-widgets/base",
          "model_name": "LayoutModel",
          "model_module_version": "1.2.0",
          "state": {
            "_model_module": "@jupyter-widgets/base",
            "_model_module_version": "1.2.0",
            "_model_name": "LayoutModel",
            "_view_count": null,
            "_view_module": "@jupyter-widgets/base",
            "_view_module_version": "1.2.0",
            "_view_name": "LayoutView",
            "align_content": null,
            "align_items": null,
            "align_self": null,
            "border": null,
            "bottom": null,
            "display": null,
            "flex": null,
            "flex_flow": null,
            "grid_area": null,
            "grid_auto_columns": null,
            "grid_auto_flow": null,
            "grid_auto_rows": null,
            "grid_column": null,
            "grid_gap": null,
            "grid_row": null,
            "grid_template_areas": null,
            "grid_template_columns": null,
            "grid_template_rows": null,
            "height": null,
            "justify_content": null,
            "justify_items": null,
            "left": null,
            "margin": null,
            "max_height": null,
            "max_width": null,
            "min_height": null,
            "min_width": null,
            "object_fit": null,
            "object_position": null,
            "order": null,
            "overflow": null,
            "overflow_x": null,
            "overflow_y": null,
            "padding": null,
            "right": null,
            "top": null,
            "visibility": null,
            "width": null
          }
        },
        "ed7dff294bf64918a56495afe6d9e868": {
          "model_module": "@jupyter-widgets/base",
          "model_name": "LayoutModel",
          "model_module_version": "1.2.0",
          "state": {
            "_model_module": "@jupyter-widgets/base",
            "_model_module_version": "1.2.0",
            "_model_name": "LayoutModel",
            "_view_count": null,
            "_view_module": "@jupyter-widgets/base",
            "_view_module_version": "1.2.0",
            "_view_name": "LayoutView",
            "align_content": null,
            "align_items": null,
            "align_self": null,
            "border": null,
            "bottom": null,
            "display": null,
            "flex": null,
            "flex_flow": null,
            "grid_area": null,
            "grid_auto_columns": null,
            "grid_auto_flow": null,
            "grid_auto_rows": null,
            "grid_column": null,
            "grid_gap": null,
            "grid_row": null,
            "grid_template_areas": null,
            "grid_template_columns": null,
            "grid_template_rows": null,
            "height": null,
            "justify_content": null,
            "justify_items": null,
            "left": null,
            "margin": null,
            "max_height": null,
            "max_width": null,
            "min_height": null,
            "min_width": null,
            "object_fit": null,
            "object_position": null,
            "order": null,
            "overflow": null,
            "overflow_x": null,
            "overflow_y": null,
            "padding": null,
            "right": null,
            "top": null,
            "visibility": null,
            "width": null
          }
        },
        "506759774be04c8daeae7cefa973bb0b": {
          "model_module": "@jupyter-widgets/controls",
          "model_name": "DescriptionStyleModel",
          "model_module_version": "1.5.0",
          "state": {
            "_model_module": "@jupyter-widgets/controls",
            "_model_module_version": "1.5.0",
            "_model_name": "DescriptionStyleModel",
            "_view_count": null,
            "_view_module": "@jupyter-widgets/base",
            "_view_module_version": "1.2.0",
            "_view_name": "StyleView",
            "description_width": ""
          }
        },
        "7d0d754a6b4748059cb90674ad2cd2a8": {
          "model_module": "@jupyter-widgets/base",
          "model_name": "LayoutModel",
          "model_module_version": "1.2.0",
          "state": {
            "_model_module": "@jupyter-widgets/base",
            "_model_module_version": "1.2.0",
            "_model_name": "LayoutModel",
            "_view_count": null,
            "_view_module": "@jupyter-widgets/base",
            "_view_module_version": "1.2.0",
            "_view_name": "LayoutView",
            "align_content": null,
            "align_items": null,
            "align_self": null,
            "border": null,
            "bottom": null,
            "display": null,
            "flex": null,
            "flex_flow": null,
            "grid_area": null,
            "grid_auto_columns": null,
            "grid_auto_flow": null,
            "grid_auto_rows": null,
            "grid_column": null,
            "grid_gap": null,
            "grid_row": null,
            "grid_template_areas": null,
            "grid_template_columns": null,
            "grid_template_rows": null,
            "height": null,
            "justify_content": null,
            "justify_items": null,
            "left": null,
            "margin": null,
            "max_height": null,
            "max_width": null,
            "min_height": null,
            "min_width": null,
            "object_fit": null,
            "object_position": null,
            "order": null,
            "overflow": null,
            "overflow_x": null,
            "overflow_y": null,
            "padding": null,
            "right": null,
            "top": null,
            "visibility": null,
            "width": null
          }
        },
        "78b056e64dd64759b8be481a0f1784c2": {
          "model_module": "@jupyter-widgets/controls",
          "model_name": "ProgressStyleModel",
          "model_module_version": "1.5.0",
          "state": {
            "_model_module": "@jupyter-widgets/controls",
            "_model_module_version": "1.5.0",
            "_model_name": "ProgressStyleModel",
            "_view_count": null,
            "_view_module": "@jupyter-widgets/base",
            "_view_module_version": "1.2.0",
            "_view_name": "StyleView",
            "bar_color": null,
            "description_width": ""
          }
        },
        "4f38815943a64fa6b8657e8ed34d8bc7": {
          "model_module": "@jupyter-widgets/base",
          "model_name": "LayoutModel",
          "model_module_version": "1.2.0",
          "state": {
            "_model_module": "@jupyter-widgets/base",
            "_model_module_version": "1.2.0",
            "_model_name": "LayoutModel",
            "_view_count": null,
            "_view_module": "@jupyter-widgets/base",
            "_view_module_version": "1.2.0",
            "_view_name": "LayoutView",
            "align_content": null,
            "align_items": null,
            "align_self": null,
            "border": null,
            "bottom": null,
            "display": null,
            "flex": null,
            "flex_flow": null,
            "grid_area": null,
            "grid_auto_columns": null,
            "grid_auto_flow": null,
            "grid_auto_rows": null,
            "grid_column": null,
            "grid_gap": null,
            "grid_row": null,
            "grid_template_areas": null,
            "grid_template_columns": null,
            "grid_template_rows": null,
            "height": null,
            "justify_content": null,
            "justify_items": null,
            "left": null,
            "margin": null,
            "max_height": null,
            "max_width": null,
            "min_height": null,
            "min_width": null,
            "object_fit": null,
            "object_position": null,
            "order": null,
            "overflow": null,
            "overflow_x": null,
            "overflow_y": null,
            "padding": null,
            "right": null,
            "top": null,
            "visibility": null,
            "width": null
          }
        },
        "965292df47174ee99675a0787491fbfa": {
          "model_module": "@jupyter-widgets/controls",
          "model_name": "DescriptionStyleModel",
          "model_module_version": "1.5.0",
          "state": {
            "_model_module": "@jupyter-widgets/controls",
            "_model_module_version": "1.5.0",
            "_model_name": "DescriptionStyleModel",
            "_view_count": null,
            "_view_module": "@jupyter-widgets/base",
            "_view_module_version": "1.2.0",
            "_view_name": "StyleView",
            "description_width": ""
          }
        },
        "06ad013d718b4060b200c64b6287ddfb": {
          "model_module": "@jupyter-widgets/controls",
          "model_name": "HBoxModel",
          "model_module_version": "1.5.0",
          "state": {
            "_dom_classes": [],
            "_model_module": "@jupyter-widgets/controls",
            "_model_module_version": "1.5.0",
            "_model_name": "HBoxModel",
            "_view_count": null,
            "_view_module": "@jupyter-widgets/controls",
            "_view_module_version": "1.5.0",
            "_view_name": "HBoxView",
            "box_style": "",
            "children": [
              "IPY_MODEL_f3198cca626046d7a8ff304319ff4f58",
              "IPY_MODEL_4d3d6eed3bf74763989f3fddfe209228",
              "IPY_MODEL_f336e22531a4463bbe49a9d806d778ef"
            ],
            "layout": "IPY_MODEL_f29f8c6696ca4cd48bf8091c2da2471f"
          }
        },
        "f3198cca626046d7a8ff304319ff4f58": {
          "model_module": "@jupyter-widgets/controls",
          "model_name": "HTMLModel",
          "model_module_version": "1.5.0",
          "state": {
            "_dom_classes": [],
            "_model_module": "@jupyter-widgets/controls",
            "_model_module_version": "1.5.0",
            "_model_name": "HTMLModel",
            "_view_count": null,
            "_view_module": "@jupyter-widgets/controls",
            "_view_module_version": "1.5.0",
            "_view_name": "HTMLView",
            "description": "",
            "description_tooltip": null,
            "layout": "IPY_MODEL_2137bde8071b4332b784678a5a674ebf",
            "placeholder": "​",
            "style": "IPY_MODEL_727a010af3c44d6d894297687cc2aeef",
            "value": "Downloading pytorch_model.bin: 100%"
          }
        },
        "4d3d6eed3bf74763989f3fddfe209228": {
          "model_module": "@jupyter-widgets/controls",
          "model_name": "FloatProgressModel",
          "model_module_version": "1.5.0",
          "state": {
            "_dom_classes": [],
            "_model_module": "@jupyter-widgets/controls",
            "_model_module_version": "1.5.0",
            "_model_name": "FloatProgressModel",
            "_view_count": null,
            "_view_module": "@jupyter-widgets/controls",
            "_view_module_version": "1.5.0",
            "_view_name": "ProgressView",
            "bar_style": "success",
            "description": "",
            "description_tooltip": null,
            "layout": "IPY_MODEL_67e166898d4844a7a2fe7df11df38cb0",
            "max": 1560781537,
            "min": 0,
            "orientation": "horizontal",
            "style": "IPY_MODEL_3dedc2787dfc4af8a9418551acd7b6f7",
            "value": 1560781537
          }
        },
        "f336e22531a4463bbe49a9d806d778ef": {
          "model_module": "@jupyter-widgets/controls",
          "model_name": "HTMLModel",
          "model_module_version": "1.5.0",
          "state": {
            "_dom_classes": [],
            "_model_module": "@jupyter-widgets/controls",
            "_model_module_version": "1.5.0",
            "_model_name": "HTMLModel",
            "_view_count": null,
            "_view_module": "@jupyter-widgets/controls",
            "_view_module_version": "1.5.0",
            "_view_name": "HTMLView",
            "description": "",
            "description_tooltip": null,
            "layout": "IPY_MODEL_5c4191d95bbd4c3287ac6464602fa382",
            "placeholder": "​",
            "style": "IPY_MODEL_8ac927a6edc0420da42a0cad64c783bb",
            "value": " 1.56G/1.56G [00:35&lt;00:00, 42.8MB/s]"
          }
        },
        "f29f8c6696ca4cd48bf8091c2da2471f": {
          "model_module": "@jupyter-widgets/base",
          "model_name": "LayoutModel",
          "model_module_version": "1.2.0",
          "state": {
            "_model_module": "@jupyter-widgets/base",
            "_model_module_version": "1.2.0",
            "_model_name": "LayoutModel",
            "_view_count": null,
            "_view_module": "@jupyter-widgets/base",
            "_view_module_version": "1.2.0",
            "_view_name": "LayoutView",
            "align_content": null,
            "align_items": null,
            "align_self": null,
            "border": null,
            "bottom": null,
            "display": null,
            "flex": null,
            "flex_flow": null,
            "grid_area": null,
            "grid_auto_columns": null,
            "grid_auto_flow": null,
            "grid_auto_rows": null,
            "grid_column": null,
            "grid_gap": null,
            "grid_row": null,
            "grid_template_areas": null,
            "grid_template_columns": null,
            "grid_template_rows": null,
            "height": null,
            "justify_content": null,
            "justify_items": null,
            "left": null,
            "margin": null,
            "max_height": null,
            "max_width": null,
            "min_height": null,
            "min_width": null,
            "object_fit": null,
            "object_position": null,
            "order": null,
            "overflow": null,
            "overflow_x": null,
            "overflow_y": null,
            "padding": null,
            "right": null,
            "top": null,
            "visibility": null,
            "width": null
          }
        },
        "2137bde8071b4332b784678a5a674ebf": {
          "model_module": "@jupyter-widgets/base",
          "model_name": "LayoutModel",
          "model_module_version": "1.2.0",
          "state": {
            "_model_module": "@jupyter-widgets/base",
            "_model_module_version": "1.2.0",
            "_model_name": "LayoutModel",
            "_view_count": null,
            "_view_module": "@jupyter-widgets/base",
            "_view_module_version": "1.2.0",
            "_view_name": "LayoutView",
            "align_content": null,
            "align_items": null,
            "align_self": null,
            "border": null,
            "bottom": null,
            "display": null,
            "flex": null,
            "flex_flow": null,
            "grid_area": null,
            "grid_auto_columns": null,
            "grid_auto_flow": null,
            "grid_auto_rows": null,
            "grid_column": null,
            "grid_gap": null,
            "grid_row": null,
            "grid_template_areas": null,
            "grid_template_columns": null,
            "grid_template_rows": null,
            "height": null,
            "justify_content": null,
            "justify_items": null,
            "left": null,
            "margin": null,
            "max_height": null,
            "max_width": null,
            "min_height": null,
            "min_width": null,
            "object_fit": null,
            "object_position": null,
            "order": null,
            "overflow": null,
            "overflow_x": null,
            "overflow_y": null,
            "padding": null,
            "right": null,
            "top": null,
            "visibility": null,
            "width": null
          }
        },
        "727a010af3c44d6d894297687cc2aeef": {
          "model_module": "@jupyter-widgets/controls",
          "model_name": "DescriptionStyleModel",
          "model_module_version": "1.5.0",
          "state": {
            "_model_module": "@jupyter-widgets/controls",
            "_model_module_version": "1.5.0",
            "_model_name": "DescriptionStyleModel",
            "_view_count": null,
            "_view_module": "@jupyter-widgets/base",
            "_view_module_version": "1.2.0",
            "_view_name": "StyleView",
            "description_width": ""
          }
        },
        "67e166898d4844a7a2fe7df11df38cb0": {
          "model_module": "@jupyter-widgets/base",
          "model_name": "LayoutModel",
          "model_module_version": "1.2.0",
          "state": {
            "_model_module": "@jupyter-widgets/base",
            "_model_module_version": "1.2.0",
            "_model_name": "LayoutModel",
            "_view_count": null,
            "_view_module": "@jupyter-widgets/base",
            "_view_module_version": "1.2.0",
            "_view_name": "LayoutView",
            "align_content": null,
            "align_items": null,
            "align_self": null,
            "border": null,
            "bottom": null,
            "display": null,
            "flex": null,
            "flex_flow": null,
            "grid_area": null,
            "grid_auto_columns": null,
            "grid_auto_flow": null,
            "grid_auto_rows": null,
            "grid_column": null,
            "grid_gap": null,
            "grid_row": null,
            "grid_template_areas": null,
            "grid_template_columns": null,
            "grid_template_rows": null,
            "height": null,
            "justify_content": null,
            "justify_items": null,
            "left": null,
            "margin": null,
            "max_height": null,
            "max_width": null,
            "min_height": null,
            "min_width": null,
            "object_fit": null,
            "object_position": null,
            "order": null,
            "overflow": null,
            "overflow_x": null,
            "overflow_y": null,
            "padding": null,
            "right": null,
            "top": null,
            "visibility": null,
            "width": null
          }
        },
        "3dedc2787dfc4af8a9418551acd7b6f7": {
          "model_module": "@jupyter-widgets/controls",
          "model_name": "ProgressStyleModel",
          "model_module_version": "1.5.0",
          "state": {
            "_model_module": "@jupyter-widgets/controls",
            "_model_module_version": "1.5.0",
            "_model_name": "ProgressStyleModel",
            "_view_count": null,
            "_view_module": "@jupyter-widgets/base",
            "_view_module_version": "1.2.0",
            "_view_name": "StyleView",
            "bar_color": null,
            "description_width": ""
          }
        },
        "5c4191d95bbd4c3287ac6464602fa382": {
          "model_module": "@jupyter-widgets/base",
          "model_name": "LayoutModel",
          "model_module_version": "1.2.0",
          "state": {
            "_model_module": "@jupyter-widgets/base",
            "_model_module_version": "1.2.0",
            "_model_name": "LayoutModel",
            "_view_count": null,
            "_view_module": "@jupyter-widgets/base",
            "_view_module_version": "1.2.0",
            "_view_name": "LayoutView",
            "align_content": null,
            "align_items": null,
            "align_self": null,
            "border": null,
            "bottom": null,
            "display": null,
            "flex": null,
            "flex_flow": null,
            "grid_area": null,
            "grid_auto_columns": null,
            "grid_auto_flow": null,
            "grid_auto_rows": null,
            "grid_column": null,
            "grid_gap": null,
            "grid_row": null,
            "grid_template_areas": null,
            "grid_template_columns": null,
            "grid_template_rows": null,
            "height": null,
            "justify_content": null,
            "justify_items": null,
            "left": null,
            "margin": null,
            "max_height": null,
            "max_width": null,
            "min_height": null,
            "min_width": null,
            "object_fit": null,
            "object_position": null,
            "order": null,
            "overflow": null,
            "overflow_x": null,
            "overflow_y": null,
            "padding": null,
            "right": null,
            "top": null,
            "visibility": null,
            "width": null
          }
        },
        "8ac927a6edc0420da42a0cad64c783bb": {
          "model_module": "@jupyter-widgets/controls",
          "model_name": "DescriptionStyleModel",
          "model_module_version": "1.5.0",
          "state": {
            "_model_module": "@jupyter-widgets/controls",
            "_model_module_version": "1.5.0",
            "_model_name": "DescriptionStyleModel",
            "_view_count": null,
            "_view_module": "@jupyter-widgets/base",
            "_view_module_version": "1.2.0",
            "_view_name": "StyleView",
            "description_width": ""
          }
        }
      }
    }
  },
  "cells": [
    {
      "cell_type": "markdown",
      "metadata": {
        "id": "view-in-github",
        "colab_type": "text"
      },
      "source": [
        "<a href=\"https://colab.research.google.com/github/malinphy/q_17/blob/main/biogpt_patent.ipynb\" target=\"_parent\"><img src=\"https://colab.research.google.com/assets/colab-badge.svg\" alt=\"Open In Colab\"/></a>"
      ]
    },
    {
      "cell_type": "code",
      "source": [
        "!pip install transformers -q\n",
        "!pip install sacremoses -q\n",
        "!pip install scann -q"
      ],
      "metadata": {
        "id": "HXdo5cRbRFAV",
        "outputId": "da88c91a-ca37-43f6-bdc0-cbd6251777a1",
        "colab": {
          "base_uri": "https://localhost:8080/"
        }
      },
      "execution_count": 1,
      "outputs": [
        {
          "output_type": "stream",
          "name": "stdout",
          "text": [
            "\u001b[2K     \u001b[90m━━━━━━━━━━━━━━━━━━━━━━━━━━━━━━━━━━━━━━━━\u001b[0m \u001b[32m6.8/6.8 MB\u001b[0m \u001b[31m34.6 MB/s\u001b[0m eta \u001b[36m0:00:00\u001b[0m\n",
            "\u001b[2K     \u001b[90m━━━━━━━━━━━━━━━━━━━━━━━━━━━━━━━━━━━━━━\u001b[0m \u001b[32m199.8/199.8 KB\u001b[0m \u001b[31m12.2 MB/s\u001b[0m eta \u001b[36m0:00:00\u001b[0m\n",
            "\u001b[2K     \u001b[90m━━━━━━━━━━━━━━━━━━━━━━━━━━━━━━━━━━━━━━━━\u001b[0m \u001b[32m7.6/7.6 MB\u001b[0m \u001b[31m31.4 MB/s\u001b[0m eta \u001b[36m0:00:00\u001b[0m\n",
            "\u001b[2K     \u001b[90m━━━━━━━━━━━━━━━━━━━━━━━━━━━━━━━━━━━━━━\u001b[0m \u001b[32m880.6/880.6 KB\u001b[0m \u001b[31m11.0 MB/s\u001b[0m eta \u001b[36m0:00:00\u001b[0m\n",
            "\u001b[?25h  Preparing metadata (setup.py) ... \u001b[?25l\u001b[?25hdone\n",
            "  Building wheel for sacremoses (setup.py) ... \u001b[?25l\u001b[?25hdone\n",
            "\u001b[2K     \u001b[90m━━━━━━━━━━━━━━━━━━━━━━━━━━━━━━━━━━━━━━━━\u001b[0m \u001b[32m10.5/10.5 MB\u001b[0m \u001b[31m50.7 MB/s\u001b[0m eta \u001b[36m0:00:00\u001b[0m\n",
            "\u001b[2K     \u001b[90m━━━━━━━━━━━━━━━━━━━━━━━━━━━━━━━━━━━━━━━\u001b[0m \u001b[32m588.3/588.3 MB\u001b[0m \u001b[31m2.7 MB/s\u001b[0m eta \u001b[36m0:00:00\u001b[0m\n",
            "\u001b[2K     \u001b[90m━━━━━━━━━━━━━━━━━━━━━━━━━━━━━━━━━━━━━━━━\u001b[0m \u001b[32m1.1/1.1 MB\u001b[0m \u001b[31m46.0 MB/s\u001b[0m eta \u001b[36m0:00:00\u001b[0m\n",
            "\u001b[2K     \u001b[90m━━━━━━━━━━━━━━━━━━━━━━━━━━━━━━━━━━━━━━━━\u001b[0m \u001b[32m6.0/6.0 MB\u001b[0m \u001b[31m59.9 MB/s\u001b[0m eta \u001b[36m0:00:00\u001b[0m\n",
            "\u001b[2K     \u001b[90m━━━━━━━━━━━━━━━━━━━━━━━━━━━━━━━━━━━━━━\u001b[0m \u001b[32m439.2/439.2 KB\u001b[0m \u001b[31m31.1 MB/s\u001b[0m eta \u001b[36m0:00:00\u001b[0m\n",
            "\u001b[2K     \u001b[90m━━━━━━━━━━━━━━━━━━━━━━━━━━━━━━━━━━━━━━━━\u001b[0m \u001b[32m1.7/1.7 MB\u001b[0m \u001b[31m56.9 MB/s\u001b[0m eta \u001b[36m0:00:00\u001b[0m\n",
            "\u001b[2K     \u001b[90m━━━━━━━━━━━━━━━━━━━━━━━━━━━━━━━━━━━━━━━━\u001b[0m \u001b[32m4.9/4.9 MB\u001b[0m \u001b[31m65.7 MB/s\u001b[0m eta \u001b[36m0:00:00\u001b[0m\n",
            "\u001b[?25h"
          ]
        }
      ]
    },
    {
      "cell_type": "code",
      "source": [
        "from google.colab import drive\n",
        "drive.mount('/content/drive')"
      ],
      "metadata": {
        "colab": {
          "base_uri": "https://localhost:8080/"
        },
        "id": "4ciuSPHiNzSh",
        "outputId": "82dab435-d003-41da-cc38-6313f42a9e25"
      },
      "execution_count": 2,
      "outputs": [
        {
          "output_type": "stream",
          "name": "stdout",
          "text": [
            "Mounted at /content/drive\n"
          ]
        }
      ]
    },
    {
      "cell_type": "code",
      "source": [
        "import os \n",
        "import json \n",
        "from transformers import AutoTokenizer, BioGptModel\n",
        "import torch\n",
        "import matplotlib.pyplot as plt \n",
        "plt.style.use('ggplot')\n",
        "import numpy as np\n",
        "from sklearn.decomposition import PCA, TruncatedSVD\n",
        "import joblib\n",
        "import scann"
      ],
      "metadata": {
        "id": "DS_eY5iZNkgE"
      },
      "execution_count": 3,
      "outputs": []
    },
    {
      "cell_type": "code",
      "source": [
        "# os.listdir('drive/MyDrive/transfer/patent')"
      ],
      "metadata": {
        "id": "NSwRHIKZNkco"
      },
      "execution_count": 4,
      "outputs": []
    },
    {
      "cell_type": "code",
      "source": [
        "def apk(actual, predicted, k=10):\n",
        "    if len(predicted)>k:\n",
        "        predicted = predicted[:k]\n",
        "\n",
        "    score = 0.0\n",
        "    num_hits = 0.0\n",
        "    hits = []\n",
        "    for i,p in enumerate(predicted):\n",
        "        if p in actual and p not in predicted[:i]:\n",
        "            num_hits += 1.0\n",
        "            score += num_hits / (i+1.0)\n",
        "        hits.append(num_hits)\n",
        "    # if not actual:\n",
        "    #     return 0.0\n",
        "    # print(((hits)))\n",
        "    return score / min(len(actual), k)\n",
        "\n",
        "def mapk(actual, predicted, k=10):\n",
        "    return np.mean([apk(a,p,k) for a,p in zip(actual, predicted)])\n",
        "\n",
        "def intersect(actual, predicted,k):\n",
        "    return np.intersect1d(actual[:k], predicted[:k])\n",
        "\n",
        "def hit_rate(actual, predicted,k):\n",
        "    total = 0\n",
        "    for i in range(len(actual)):\n",
        "        intersection = intersect(actual[i], predicted[i],k)\n",
        "        total = total + len(intersection)\n",
        "\n",
        "    return total\n",
        "\n",
        "\n",
        "def mean_reciprocal_rank(idx, k):\n",
        "    rank = []\n",
        "    for i in range(len(idx)):\n",
        "        rank.append(np.where(idx[i][:k] == i)[0])\n",
        "\n",
        "    elevated_rank = np.add(rank,1)\n",
        "    elevated_rank = np.concatenate(elevated_rank)\n",
        "    elevated_rank_len = len(elevated_rank)\n",
        "    reciprocal_rank = np.divide(1,elevated_rank)\n",
        "    reciprocal_rank_sum = np.sum(reciprocal_rank)\n",
        "    # print('asfasfasfas',len(idx))\n",
        "    # return reciprocal_rank_sum/elevated_rank_len\n",
        "    return reciprocal_rank_sum/len(idx)    \n",
        "\n",
        "def dcg_calc(similarity_scores, K):\n",
        "    similarity_len = len(similarity_scores)\n",
        "    total_dcg = []\n",
        "    for similarities in similarity_scores:\n",
        "        dcg = 0\n",
        "        for k in range(1,K):\n",
        "            rel_k = similarities[k-1]\n",
        "            dcg += rel_k / log2(1 + k)\n",
        "        total_dcg.append(dcg)\n",
        "    return np.sum(total_dcg)/similarity_len    \n",
        "\n",
        "\n",
        "def metrics_calculator(raw_idx, reduced_idx, k_values):\n",
        "    k = k_values\n",
        "    ap = []\n",
        "    hit = []\n",
        "    mrr = []\n",
        "    for i in k:\n",
        "        ap.append( mapk(raw_idx, reduced_idx,i))\n",
        "        hit.append( hit_rate(raw_idx, reduced_idx,i))\n",
        "        mrr.append(mean_reciprocal_rank(reduced_idx, i))\n",
        "    return ap, hit , mrr"
      ],
      "metadata": {
        "id": "JQu2aPyN2tJE"
      },
      "execution_count": 5,
      "outputs": []
    },
    {
      "cell_type": "code",
      "source": [
        "f = open ('drive/MyDrive/transfer/patent/vec_vectorized_biotech_patents_transformed_ols.json', \"r\")\n",
        "data_biotech = json.loads(f.read())\n",
        "data_biotech[0]['title']\n",
        "data_abst = [data_biotech[i]['abstract'] for i in range(len(data_biotech))]\n",
        "data_title = [data_biotech[i]['title'] for i in range(len(data_biotech))]"
      ],
      "metadata": {
        "id": "p_wsRpGMNkZg"
      },
      "execution_count": 6,
      "outputs": []
    },
    {
      "cell_type": "code",
      "source": [
        "print(len(data_biotech))"
      ],
      "metadata": {
        "colab": {
          "base_uri": "https://localhost:8080/"
        },
        "id": "ShCYD1yFSKJ4",
        "outputId": "815e43a8-7b92-4b42-c52a-2e9799fd6381"
      },
      "execution_count": 7,
      "outputs": [
        {
          "output_type": "stream",
          "name": "stdout",
          "text": [
            "484\n"
          ]
        }
      ]
    },
    {
      "cell_type": "code",
      "source": [
        "tokenizer = AutoTokenizer.from_pretrained(\"microsoft/biogpt\");\n",
        "model = BioGptModel.from_pretrained(\"microsoft/biogpt\");"
      ],
      "metadata": {
        "id": "DdtYuuytPQpN",
        "outputId": "30f2361c-b137-4731-c077-1ff1b336eb65",
        "colab": {
          "base_uri": "https://localhost:8080/",
          "height": 219,
          "referenced_widgets": [
            "1ad67e9d1656444784db87065bc6ebb4",
            "2de8f050ab05475094346bf0395cccdf",
            "cbbc17db216f4f0e9c3d50785a85fe90",
            "a46e2dc920c744729f4320047a5d4d1b",
            "f325359ecd6a47dcb731709616683bc2",
            "8906a5b0e3be4dedb78373088c9c6eec",
            "b5bf137151d847dab10921083d6f628e",
            "5045caf26daa4eafb3952cc15099b65b",
            "4c99d66f096748b19326e0bf102d4cb6",
            "d9be57612a6f4f298fb94fa09d778cf4",
            "dba6f8d13d174c11842afececfd3b237",
            "4feab10657cc4e2d86859c22c392a8a3",
            "53b85f8283444662bbb15f4677323ebd",
            "441e09293b3f46009afbc47589fa4d42",
            "421b5b69588f485cb0623e9243e95fff",
            "eecbc094bc6d4414a3682b8962e7589b",
            "d3a0f54fcd384545a7bd8e5e72750afe",
            "5191259374ca457398921a50a7a48b9f",
            "0cde34c8868f4ee5ad77a27fa067bac1",
            "7550c7b79ad34708b40ea17a927eb922",
            "e837a6513c5a411cb6a65d7c1e0e507d",
            "1741a4b818f340568d23a6cc2152c443",
            "a2dce3048b3a4c08ab3cd19111462a17",
            "1e1164f00a81455a8cad994c1c185b89",
            "04ca2469e69a4fa0836fe187b6f1ed21",
            "8a349cf60e254f11ac749c448bbb726e",
            "ff31e7bc8b114fe6bbe71df7f1a753a8",
            "ed7dff294bf64918a56495afe6d9e868",
            "506759774be04c8daeae7cefa973bb0b",
            "7d0d754a6b4748059cb90674ad2cd2a8",
            "78b056e64dd64759b8be481a0f1784c2",
            "4f38815943a64fa6b8657e8ed34d8bc7",
            "965292df47174ee99675a0787491fbfa",
            "06ad013d718b4060b200c64b6287ddfb",
            "f3198cca626046d7a8ff304319ff4f58",
            "4d3d6eed3bf74763989f3fddfe209228",
            "f336e22531a4463bbe49a9d806d778ef",
            "f29f8c6696ca4cd48bf8091c2da2471f",
            "2137bde8071b4332b784678a5a674ebf",
            "727a010af3c44d6d894297687cc2aeef",
            "67e166898d4844a7a2fe7df11df38cb0",
            "3dedc2787dfc4af8a9418551acd7b6f7",
            "5c4191d95bbd4c3287ac6464602fa382",
            "8ac927a6edc0420da42a0cad64c783bb"
          ]
        }
      },
      "execution_count": 8,
      "outputs": [
        {
          "output_type": "display_data",
          "data": {
            "text/plain": [
              "Downloading (…)lve/main/config.json:   0%|          | 0.00/595 [00:00<?, ?B/s]"
            ],
            "application/vnd.jupyter.widget-view+json": {
              "version_major": 2,
              "version_minor": 0,
              "model_id": "1ad67e9d1656444784db87065bc6ebb4"
            }
          },
          "metadata": {}
        },
        {
          "output_type": "display_data",
          "data": {
            "text/plain": [
              "Downloading (…)olve/main/vocab.json:   0%|          | 0.00/927k [00:00<?, ?B/s]"
            ],
            "application/vnd.jupyter.widget-view+json": {
              "version_major": 2,
              "version_minor": 0,
              "model_id": "4feab10657cc4e2d86859c22c392a8a3"
            }
          },
          "metadata": {}
        },
        {
          "output_type": "display_data",
          "data": {
            "text/plain": [
              "Downloading (…)olve/main/merges.txt:   0%|          | 0.00/696k [00:00<?, ?B/s]"
            ],
            "application/vnd.jupyter.widget-view+json": {
              "version_major": 2,
              "version_minor": 0,
              "model_id": "a2dce3048b3a4c08ab3cd19111462a17"
            }
          },
          "metadata": {}
        },
        {
          "output_type": "display_data",
          "data": {
            "text/plain": [
              "Downloading pytorch_model.bin:   0%|          | 0.00/1.56G [00:00<?, ?B/s]"
            ],
            "application/vnd.jupyter.widget-view+json": {
              "version_major": 2,
              "version_minor": 0,
              "model_id": "06ad013d718b4060b200c64b6287ddfb"
            }
          },
          "metadata": {}
        },
        {
          "output_type": "stream",
          "name": "stderr",
          "text": [
            "Some weights of the model checkpoint at microsoft/biogpt were not used when initializing BioGptModel: ['output_projection.weight']\n",
            "- This IS expected if you are initializing BioGptModel from the checkpoint of a model trained on another task or with another architecture (e.g. initializing a BertForSequenceClassification model from a BertForPreTraining model).\n",
            "- This IS NOT expected if you are initializing BioGptModel from the checkpoint of a model that you expect to be exactly identical (initializing a BertForSequenceClassification model from a BertForSequenceClassification model).\n"
          ]
        }
      ]
    },
    {
      "cell_type": "code",
      "source": [
        "def normalizer(x):     \n",
        "    normalized_vector = x / np.linalg.norm(x)\n",
        "    return normalized_vector\n",
        "\n",
        "class BioGptModel:\n",
        "    \n",
        "    def __init__(self, model, tokenizer):\n",
        "        # self.sentence = sentence\n",
        "        self.model = model\n",
        "        self.tokenizer = tokenizer\n",
        "\n",
        "    def sentence_vectors(self,sentence):\n",
        "        inputs = self.tokenizer(sentence, return_tensors = 'pt')\n",
        "        w_vectors = self.model(**inputs)\n",
        "\n",
        "        # return w_vectors\n",
        "        token_embeddings = w_vectors[0] #First element of model_output contains all token embeddings\n",
        "        input_mask_expanded = inputs.attention_mask.unsqueeze(-1).expand(token_embeddings.size()).float()\n",
        "        return torch.sum(token_embeddings * input_mask_expanded, 1) / torch.clamp(input_mask_expanded.sum(1), min=1e-9)\n",
        "\n",
        "gpt_class = BioGptModel(model, tokenizer)"
      ],
      "metadata": {
        "id": "o-OWTvoXPckV"
      },
      "execution_count": 9,
      "outputs": []
    },
    {
      "cell_type": "code",
      "source": [
        "def sentence_encoder(data):\n",
        "    vectors = []\n",
        "    normalized_vectors = []\n",
        "    for i in range(len(data)):\n",
        "        sentence_vectors = gpt_class.sentence_vectors(data[i]).detach().numpy()\n",
        "        vectors.append(sentence_vectors)\n",
        "        normalized_vectors.append(normalizer(sentence_vectors))\n",
        "\n",
        "    vectors = np.squeeze(np.array(vectors))\n",
        "    normalized_vectors = np.squeeze(np.array(normalized_vectors))\n",
        "\n",
        "    return vectors, normalized_vectors    "
      ],
      "metadata": {
        "id": "c3rgLunSRpcO"
      },
      "execution_count": 10,
      "outputs": []
    },
    {
      "cell_type": "code",
      "source": [
        "abst_vectors, abst_vectors_norm = sentence_encoder(data_abst) \n",
        "title_vectors, title_vectors_norm = sentence_encoder(data_title) "
      ],
      "metadata": {
        "id": "2WEyuGZ4kwmf"
      },
      "execution_count": 11,
      "outputs": []
    },
    {
      "cell_type": "code",
      "source": [
        "# np.save('drive/MyDrive/transfer/patent/data_biotech_abstarct_biogpt.npy',abst_vectors)\n",
        "# np.save('drive/MyDrive/transfer/patent/data_biotech_abstarct_biogpt_norm.npy',abst_vectors_norm)\n",
        "\n",
        "# np.save('drive/MyDrive/transfer/patent/data_biotech_title_biogpt.npy',title_vectors)\n",
        "# np.save('drive/MyDrive/transfer/patent/data_biotech_title_biogpt_norm.npy',title_vectors_norm)"
      ],
      "metadata": {
        "id": "CRHdYIJYZAdg"
      },
      "execution_count": 12,
      "outputs": []
    },
    {
      "cell_type": "code",
      "source": [
        "# abst_vectors = np.load('drive/MyDrive/transfer/patent/data_biotech_abstarct_biogpt.npy')\n",
        "# abst_vectors_norm = np.load('drive/MyDrive/transfer/patent/data_biotech_abstarct_biogpt_norm.npy')\n",
        "\n",
        "# title_vectors = np.load('drive/MyDrive/transfer/patent/data_biotech_title_biogpt.npy')\n",
        "# title_vectors_norm = np.load('drive/MyDrive/transfer/patent/data_biotech_title_biogpt_norm.npy')"
      ],
      "metadata": {
        "id": "M_0Az8AeZg3w"
      },
      "execution_count": 13,
      "outputs": []
    },
    {
      "cell_type": "code",
      "source": [
        "plt.plot(abst_vectors_norm[0])\n",
        "plt.plot(abst_vectors_norm[1])"
      ],
      "metadata": {
        "colab": {
          "base_uri": "https://localhost:8080/",
          "height": 448
        },
        "id": "YJeauj9xWEzR",
        "outputId": "8e631889-c0c7-462a-830c-834ba6e60e83"
      },
      "execution_count": 14,
      "outputs": [
        {
          "output_type": "execute_result",
          "data": {
            "text/plain": [
              "[<matplotlib.lines.Line2D at 0x7fb6cdf703d0>]"
            ]
          },
          "metadata": {},
          "execution_count": 14
        },
        {
          "output_type": "display_data",
          "data": {
            "text/plain": [
              "<Figure size 640x480 with 1 Axes>"
            ],
            "image/png": "[encoded data removed]"
          },
          "metadata": {}
        }
      ]
    },
    {
      "cell_type": "code",
      "source": [
        "pca = PCA().fit(abst_vectors_norm)\n",
        "pca_var = np.cumsum(pca.explained_variance_ratio_)\n",
        "\n",
        "svd_content = TruncatedSVD(n_iter= 25, n_components = 1024 ).fit(abst_vectors_norm)\n",
        "svd_var = np.cumsum(svd_content.explained_variance_ratio_)"
      ],
      "metadata": {
        "id": "eEAWTXZ5Wi2y"
      },
      "execution_count": 15,
      "outputs": []
    },
    {
      "cell_type": "code",
      "source": [
        "plt.figure(figsize = (15,6))\n",
        "plt.plot(svd_var, marker = 'o', alpha =0.2)\n",
        "# plt.xlabel('number of components')\n",
        "# plt.ylabel('cumulative explained variance');\n",
        "\n",
        "# plt.figure(figsize = (15,6))\n",
        "plt.plot(pca_var)\n",
        "plt.xlabel('number of components')\n",
        "plt.ylabel('cumulative explained variance');\n",
        "plt.legend(['SVD','PCA'])"
      ],
      "metadata": {
        "colab": {
          "base_uri": "https://localhost:8080/",
          "height": 564
        },
        "id": "BJdw5vkXa7sG",
        "outputId": "3d9d2559-d265-46ed-d27a-3e6f383917f3"
      },
      "execution_count": 16,
      "outputs": [
        {
          "output_type": "execute_result",
          "data": {
            "text/plain": [
              "<matplotlib.legend.Legend at 0x7fb6c85d3d30>"
            ]
          },
          "metadata": {},
          "execution_count": 16
        },
        {
          "output_type": "display_data",
          "data": {
            "text/plain": [
              "<Figure size 1500x600 with 1 Axes>"
            ],
            "image/png": "[encoded data removed]"
          },
          "metadata": {}
        }
      ]
    },
    {
      "cell_type": "code",
      "source": [
        "print('PCA 100% :',np.where(np.array(pca_var) >= 0.99)[0][0])\n",
        "print('SVD 100% :',np.where(np.array(svd_var) >= 0.99)[0][0])\n",
        "print('PCA 95% :',np.where(np.array(pca_var) >= 0.95)[0][0])\n",
        "print('SVD 95% :',np.where(np.array(svd_var) >= 0.95)[0][0])\n",
        "print('PCA 90% :',np.where(np.array(pca_var) >= 0.90)[0][0])\n",
        "print('SVD 90% :',np.where(np.array(svd_var) >= 0.90)[0][0])\n",
        "print('SVD 82% :',np.where(np.array(svd_var) >= 0.82)[0][0])\n",
        "print('SVD 82% :',np.where(np.array(svd_var) >= 0.82)[0][0])"
      ],
      "metadata": {
        "colab": {
          "base_uri": "https://localhost:8080/"
        },
        "id": "_od7nuXIbC37",
        "outputId": "fd79327c-e486-43d3-fc47-8350de74d42a"
      },
      "execution_count": 17,
      "outputs": [
        {
          "output_type": "stream",
          "name": "stdout",
          "text": [
            "PCA 100% : 152\n",
            "SVD 100% : 153\n",
            "PCA 95% : 89\n",
            "SVD 95% : 89\n",
            "PCA 90% : 57\n",
            "SVD 90% : 58\n",
            "SVD 82% : 34\n",
            "SVD 82% : 34\n"
          ]
        }
      ]
    },
    {
      "cell_type": "code",
      "source": [
        "def pca_reducer(target_dimension, content, title):\n",
        "    pca_name = '_pca_'+str(target_dimension)\n",
        "    pca_ = PCA(n_components=target_dimension, random_state = 42, svd_solver = 'arpack')\n",
        "    pca_.fit(content)\n",
        "    content_vectors_pca = np.apply_along_axis(normalizer,1,pca_.transform(content))\n",
        "    title_vectors_pca = np.apply_along_axis(normalizer,1,pca_.transform(title))\n",
        "\n",
        "    inverse_content = np.apply_along_axis(normalizer,1,pca_.inverse_transform(content_vectors_pca))\n",
        "    inverse_title = np.apply_along_axis(normalizer,1,pca_.inverse_transform(title_vectors_pca))\n",
        "\n",
        "    np.save('./patent_abst_vectors_norm'+pca_name,content_vectors_pca)\n",
        "    np.save('./patent_title_vectors_norm'+pca_name,title_vectors_pca)\n",
        "#     np.save('drive/MyDrive/transfer/reduced_dim/inverse_content_vectors_norm'+pca_name, inverse_content)\n",
        "#     np.save('drive/MyDrive/transfer/reduced_dim/inverse_title_vectors_norm'+pca_name, inverse_title)\n",
        "    joblib.dump(pca_, pca_name)\n",
        "\n",
        "def svd_reducer(target_dimension, content, title):\n",
        "    svd_name = '_svd_'+str(target_dimension)\n",
        "    svd_ = TruncatedSVD(n_iter= 25, n_components = target_dimension, random_state = 42 )\n",
        "    svd_.fit(content)\n",
        "    content_vectors_svd = np.apply_along_axis(normalizer,1,svd_.transform(content))\n",
        "    title_vectors_svd = np.apply_along_axis(normalizer,1,svd_.transform(title))\n",
        "\n",
        "    inverse_content = np.apply_along_axis(normalizer,1,svd_.inverse_transform(content_vectors_svd))\n",
        "    inverse_title = np.apply_along_axis(normalizer,1,svd_.inverse_transform(title_vectors_svd))\n",
        "\n",
        "    np.save('./patent_abst_vectors_norm'+svd_name,content_vectors_svd)\n",
        "    np.save('./patent_title_vectors_norm'+svd_name,title_vectors_svd)\n",
        "#     np.save('drive/MyDrive/transfer/reduced_dim/inverse_content_vectors_norm'+svd_name, inverse_content)\n",
        "#     np.save('drive/MyDrive/transfer/reduced_dim/inverse_title_vectors_norm'+svd_name, inverse_title)\n",
        "    joblib.dump(svd_, svd_name)\n"
      ],
      "metadata": {
        "id": "xsYHwobRbInj"
      },
      "execution_count": 18,
      "outputs": []
    },
    {
      "cell_type": "code",
      "source": [
        "pca_reducer(90, abst_vectors_norm, title_vectors_norm)\n",
        "svd_reducer(90, abst_vectors_norm, title_vectors_norm)\n",
        "\n",
        "pca_reducer(57, abst_vectors_norm, title_vectors_norm)\n",
        "svd_reducer(57, abst_vectors_norm, title_vectors_norm)\n",
        "\n",
        "pca_reducer(107, abst_vectors_norm, title_vectors_norm)\n",
        "svd_reducer(107, abst_vectors_norm, title_vectors_norm)"
      ],
      "metadata": {
        "id": "5PKtF1MLn-94"
      },
      "execution_count": 19,
      "outputs": []
    },
    {
      "cell_type": "code",
      "source": [
        "abstract_pca_57 = np.load('./patent_abst_vectors_norm_pca_57.npy')\n",
        "abstract_pca_90 = np.load('./patent_abst_vectors_norm_pca_90.npy')\n",
        "abstract_pca_107 = np.load('./patent_abst_vectors_norm_pca_107.npy')\n",
        "abstract_svd_57 = np.load('./patent_abst_vectors_norm_svd_57.npy')\n",
        "abstract_svd_90 = np.load('./patent_abst_vectors_norm_svd_90.npy')\n",
        "abstract_svd_107 = np.load('./patent_abst_vectors_norm_svd_107.npy')\n",
        "\n",
        "title_pca_57 = np.load('./patent_title_vectors_norm_pca_57.npy')\n",
        "title_pca_90 = np.load('./patent_title_vectors_norm_pca_90.npy')\n",
        "title_pca_107 = np.load('./patent_title_vectors_norm_pca_107.npy')\n",
        "\n",
        "title_svd_57 = np.load('./patent_title_vectors_norm_svd_57.npy')\n",
        "title_svd_90 = np.load('./patent_title_vectors_norm_svd_90.npy')\n",
        "title_svd_107 = np.load('./patent_title_vectors_norm_svd_107.npy')"
      ],
      "metadata": {
        "id": "37iQnmuMoq4j"
      },
      "execution_count": 20,
      "outputs": []
    },
    {
      "cell_type": "code",
      "source": [
        "print('content_pca_256 shape:',np.array(abstract_pca_57).shape)\n",
        "print('content_svd_256 shape:',np.array(abstract_pca_90).shape)\n",
        "print('title_pca_256 shape:',np.array(abstract_svd_57).shape)\n",
        "print('title_svd_256 shape:',np.array(abstract_svd_90).shape)\n",
        "print('content_pca_256_inverse shape:',np.array(title_pca_57).shape)\n",
        "print('content_svd_256_inverse shape:',np.array(title_pca_90).shape)\n",
        "print('title_pca_256_inverse shape:',np.array(title_svd_57).shape)\n",
        "print('title_svd_256_inverse shape:',np.array(title_svd_90).shape)"
      ],
      "metadata": {
        "id": "k55qKbZNsy-1",
        "outputId": "fc422567-776e-4209-d2e5-ab256f247fd9",
        "colab": {
          "base_uri": "https://localhost:8080/"
        }
      },
      "execution_count": 21,
      "outputs": [
        {
          "output_type": "stream",
          "name": "stdout",
          "text": [
            "content_pca_256 shape: (484, 57)\n",
            "content_svd_256 shape: (484, 90)\n",
            "title_pca_256 shape: (484, 57)\n",
            "title_svd_256 shape: (484, 90)\n",
            "content_pca_256_inverse shape: (484, 57)\n",
            "content_svd_256_inverse shape: (484, 90)\n",
            "title_pca_256_inverse shape: (484, 57)\n",
            "title_svd_256_inverse shape: (484, 90)\n"
          ]
        }
      ]
    },
    {
      "cell_type": "code",
      "source": [
        "searcher_raw = scann.scann_ops_pybind.builder(abst_vectors_norm, 50, \"dot_product\").tree(\n",
        "    num_leaves=200, num_leaves_to_search=100, training_sample_size=250000).score_ah(\n",
        "    2, anisotropic_quantization_threshold=0.2).reorder(100).build()\n",
        "\n",
        "searcher_pca_57 = scann.scann_ops_pybind.builder(abstract_pca_57, 50, \"dot_product\").tree(\n",
        "    num_leaves=200, num_leaves_to_search=100, training_sample_size=250000).score_ah(\n",
        "    2, anisotropic_quantization_threshold=0.2).reorder(100).build()\n",
        "\n",
        "searcher_pca_90 = scann.scann_ops_pybind.builder(abstract_pca_90, 50, \"dot_product\").tree(\n",
        "    num_leaves=200, num_leaves_to_search=100, training_sample_size=250000).score_ah(\n",
        "    2, anisotropic_quantization_threshold=0.2).reorder(100).build()\n",
        "\n",
        "searcher_pca_107 = scann.scann_ops_pybind.builder(abstract_pca_107, 50, \"dot_product\").tree(\n",
        "    num_leaves=200, num_leaves_to_search=100, training_sample_size=250000).score_ah(\n",
        "    2, anisotropic_quantization_threshold=0.2).reorder(100).build()    \n",
        "\n",
        "searcher_svd_57 = scann.scann_ops_pybind.builder(abstract_svd_57, 50, \"dot_product\").tree(\n",
        "    num_leaves=200, num_leaves_to_search=100, training_sample_size=250000).score_ah(\n",
        "    2, anisotropic_quantization_threshold=0.2).reorder(100).build()\n",
        "\n",
        "searcher_svd_90 = scann.scann_ops_pybind.builder(abstract_svd_90, 50, \"dot_product\").tree(\n",
        "    num_leaves=200, num_leaves_to_search=100, training_sample_size=250000).score_ah(\n",
        "    2, anisotropic_quantization_threshold=0.2).reorder(100).build()  \n",
        "\n",
        "searcher_svd_107 = scann.scann_ops_pybind.builder(abstract_svd_107, 50, \"dot_product\").tree(\n",
        "    num_leaves=200, num_leaves_to_search=100, training_sample_size=250000).score_ah(\n",
        "    2, anisotropic_quantization_threshold=0.2).reorder(100).build()         "
      ],
      "metadata": {
        "id": "ZFf3VL3ctTl1"
      },
      "execution_count": 22,
      "outputs": []
    },
    {
      "cell_type": "code",
      "source": [
        "raw_idx = []\n",
        "reduced_idx_pca_57 = []\n",
        "reduced_idx_svd_57 = []\n",
        "reduced_idx_pca_90 = []\n",
        "reduced_idx_svd_90 = []\n",
        "reduced_idx_pca_107 = []\n",
        "reduced_idx_svd_107 = []\n",
        "# for i in range(len(title_vectors_norm)):\n",
        "for i in range(100):\n",
        "    raw_idx.append(searcher_raw.search(title_vectors_norm[i])[0])\n",
        "    reduced_idx_pca_57.append(searcher_pca_57.search(title_pca_57[i])[0])\n",
        "    reduced_idx_svd_57.append(searcher_svd_57.search(title_svd_57[i])[0])\n",
        "    reduced_idx_pca_90.append(searcher_pca_90.search(title_pca_90[i])[0])\n",
        "    reduced_idx_svd_90.append(searcher_svd_90.search(title_svd_90[i])[0])\n",
        "    reduced_idx_pca_107.append(searcher_pca_107.search(title_pca_107[i])[0])\n",
        "    reduced_idx_svd_107.append(searcher_svd_107.search(title_svd_107[i])[0])"
      ],
      "metadata": {
        "id": "IwGknAlp1eEI"
      },
      "execution_count": 23,
      "outputs": []
    },
    {
      "cell_type": "code",
      "source": [
        "k = [1,3,5,10,15,20,30]\n",
        "ap_pca_57, hit_pca_57, mrr_pca_57 = metrics_calculator(raw_idx,reduced_idx_pca_57, k )\n",
        "ap_svd_57, hit_svd_57, mrr_svd_57 = metrics_calculator(raw_idx,reduced_idx_svd_57, k )\n",
        "\n",
        "\n",
        "ap_pca_90, hit_pca_90, mrr_pca_90 = metrics_calculator(raw_idx,reduced_idx_pca_90, k )\n",
        "ap_svd_90, hit_svd_90, mrr_svd_90 = metrics_calculator(raw_idx,reduced_idx_svd_90, k )\n",
        "\n",
        "ap_pca_107, hit_pca_107, mrr_pca_107 = metrics_calculator(raw_idx,reduced_idx_pca_107, k )\n",
        "ap_svd_107, hit_svd_107, mrr_svd_107 = metrics_calculator(raw_idx,reduced_idx_svd_107, k )"
      ],
      "metadata": {
        "id": "G4XpZ2GV2kkS",
        "outputId": "99bc2377-ff8b-40a0-c0ae-20103e7d94e5",
        "colab": {
          "base_uri": "https://localhost:8080/"
        }
      },
      "execution_count": 24,
      "outputs": [
        {
          "output_type": "stream",
          "name": "stderr",
          "text": [
            "<ipython-input-5-4267b1d28ba5>:38: VisibleDeprecationWarning: Creating an ndarray from ragged nested sequences (which is a list-or-tuple of lists-or-tuples-or ndarrays with different lengths or shapes) is deprecated. If you meant to do this, you must specify 'dtype=object' when creating the ndarray.\n",
            "  elevated_rank = np.add(rank,1)\n"
          ]
        }
      ]
    },
    {
      "cell_type": "code",
      "source": [
        "# plt.subplot(1,4,2)\n",
        "plt.figure(figsize =(15,8))\n",
        "plt.plot(k,hit_pca_57, '-o')\n",
        "plt.plot(k,hit_svd_57, '-*')\n",
        "plt.plot(k,hit_pca_90, '-d')\n",
        "plt.plot(k,hit_svd_90, '+-')\n",
        "plt.plot(k,hit_pca_107, 's-')\n",
        "plt.plot(k,hit_svd_107, 'p-')\n",
        "hit_pca_107\n",
        "# plt.scatter(k,hit_svd_90, marker = 's', color= 'green')\n",
        "# plt.plot(k,hit_fa, '->')\n",
        "plt.title('HIT RATE@K')\n",
        "plt.legend(['pca_57','svd_57','pca_90','svd_90','pca_107','svd_107'])\n",
        "plt.xlabel('K');"
      ],
      "metadata": {
        "id": "0SkvERUy3I-D",
        "outputId": "8fab1e48-cbbe-4a24-b0c0-964b544c10b3",
        "colab": {
          "base_uri": "https://localhost:8080/",
          "height": 723
        }
      },
      "execution_count": 25,
      "outputs": [
        {
          "output_type": "display_data",
          "data": {
            "text/plain": [
              "<Figure size 1500x800 with 1 Axes>"
            ],
            "image/png": "[encoded data removed]"
          },
          "metadata": {}
        }
      ]
    },
    {
      "cell_type": "code",
      "source": [
        "hit_svd_57"
      ],
      "metadata": {
        "id": "OIEHuVPm3cES",
        "outputId": "f4c3478d-a1c8-46f5-dc4f-ec3aa37f9d8b",
        "colab": {
          "base_uri": "https://localhost:8080/"
        }
      },
      "execution_count": 26,
      "outputs": [
        {
          "output_type": "execute_result",
          "data": {
            "text/plain": [
              "[60, 189, 357, 772, 1191, 1655, 2438]"
            ]
          },
          "metadata": {},
          "execution_count": 26
        }
      ]
    },
    {
      "cell_type": "code",
      "source": [
        "hit_svd_90"
      ],
      "metadata": {
        "id": "RsUnSAkk4JPe",
        "outputId": "7179c6ec-30ee-49e2-a018-fa879cc3f5bc",
        "colab": {
          "base_uri": "https://localhost:8080/"
        }
      },
      "execution_count": 27,
      "outputs": [
        {
          "output_type": "execute_result",
          "data": {
            "text/plain": [
              "[72, 241, 406, 852, 1283, 1737, 2686]"
            ]
          },
          "metadata": {},
          "execution_count": 27
        }
      ]
    },
    {
      "cell_type": "code",
      "source": [
        "hit_svd_107"
      ],
      "metadata": {
        "id": "V-RDIxD342uO",
        "colab": {
          "base_uri": "https://localhost:8080/"
        },
        "outputId": "33157242-88ec-4b28-d453-ac276d6fb7ed"
      },
      "execution_count": 28,
      "outputs": [
        {
          "output_type": "execute_result",
          "data": {
            "text/plain": [
              "[75, 253, 440, 880, 1313, 1799, 2762]"
            ]
          },
          "metadata": {},
          "execution_count": 28
        }
      ]
    },
    {
      "cell_type": "code",
      "source": [],
      "metadata": {
        "id": "GjyNgq-HX0u7"
      },
      "execution_count": 28,
      "outputs": []
    }
  ]
}