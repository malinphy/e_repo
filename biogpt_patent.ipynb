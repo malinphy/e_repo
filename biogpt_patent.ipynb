{
  "nbformat": 4,
  "nbformat_minor": 0,
  "metadata": {
    "colab": {
      "provenance": [],
      "include_colab_link": true
    },
    "kernelspec": {
      "display_name": "Python 3",
      "name": "python3"
    },
    "gpuClass": "standard",
    "widgets": {
      "application/vnd.jupyter.widget-state+json": {
        "ad7ba9a462b64b19b1c0f840bf589dbd": {
          "model_module": "@jupyter-widgets/controls",
          "model_name": "HBoxModel",
          "model_module_version": "1.5.0",
          "state": {
            "_dom_classes": [],
            "_model_module": "@jupyter-widgets/controls",
            "_model_module_version": "1.5.0",
            "_model_name": "HBoxModel",
            "_view_count": null,
            "_view_module": "@jupyter-widgets/controls",
            "_view_module_version": "1.5.0",
            "_view_name": "HBoxView",
            "box_style": "",
            "children": [
              "IPY_MODEL_46dad602042c4baa8c3ced262050494c",
              "IPY_MODEL_3a557574512a43ceaec2f6a4f1b04b3a",
              "IPY_MODEL_72d0ee91a5434520bc0949d9b7827f7c"
            ],
            "layout": "IPY_MODEL_12546bc426c64746ad1481d0ff615530"
          }
        },
        "46dad602042c4baa8c3ced262050494c": {
          "model_module": "@jupyter-widgets/controls",
          "model_name": "HTMLModel",
          "model_module_version": "1.5.0",
          "state": {
            "_dom_classes": [],
            "_model_module": "@jupyter-widgets/controls",
            "_model_module_version": "1.5.0",
            "_model_name": "HTMLModel",
            "_view_count": null,
            "_view_module": "@jupyter-widgets/controls",
            "_view_module_version": "1.5.0",
            "_view_name": "HTMLView",
            "description": "",
            "description_tooltip": null,
            "layout": "IPY_MODEL_f7240e3c98f545dca00bf513710653a4",
            "placeholder": "​",
            "style": "IPY_MODEL_3ade83e4ecef4a6dbd42f2bb9dd3f6c6",
            "value": "Downloading (…)lve/main/config.json: 100%"
          }
        },
        "3a557574512a43ceaec2f6a4f1b04b3a": {
          "model_module": "@jupyter-widgets/controls",
          "model_name": "FloatProgressModel",
          "model_module_version": "1.5.0",
          "state": {
            "_dom_classes": [],
            "_model_module": "@jupyter-widgets/controls",
            "_model_module_version": "1.5.0",
            "_model_name": "FloatProgressModel",
            "_view_count": null,
            "_view_module": "@jupyter-widgets/controls",
            "_view_module_version": "1.5.0",
            "_view_name": "ProgressView",
            "bar_style": "success",
            "description": "",
            "description_tooltip": null,
            "layout": "IPY_MODEL_9541d7a051694679beeb8d0b7daaa8d6",
            "max": 595,
            "min": 0,
            "orientation": "horizontal",
            "style": "IPY_MODEL_d01d9fc908ed441e8901bebef5be70f8",
            "value": 595
          }
        },
        "72d0ee91a5434520bc0949d9b7827f7c": {
          "model_module": "@jupyter-widgets/controls",
          "model_name": "HTMLModel",
          "model_module_version": "1.5.0",
          "state": {
            "_dom_classes": [],
            "_model_module": "@jupyter-widgets/controls",
            "_model_module_version": "1.5.0",
            "_model_name": "HTMLModel",
            "_view_count": null,
            "_view_module": "@jupyter-widgets/controls",
            "_view_module_version": "1.5.0",
            "_view_name": "HTMLView",
            "description": "",
            "description_tooltip": null,
            "layout": "IPY_MODEL_3000917937804ff299b6162d49ab1077",
            "placeholder": "​",
            "style": "IPY_MODEL_11fcab2e9a644a6098ded9332a008a11",
            "value": " 595/595 [00:00&lt;00:00, 4.84kB/s]"
          }
        },
        "12546bc426c64746ad1481d0ff615530": {
          "model_module": "@jupyter-widgets/base",
          "model_name": "LayoutModel",
          "model_module_version": "1.2.0",
          "state": {
            "_model_module": "@jupyter-widgets/base",
            "_model_module_version": "1.2.0",
            "_model_name": "LayoutModel",
            "_view_count": null,
            "_view_module": "@jupyter-widgets/base",
            "_view_module_version": "1.2.0",
            "_view_name": "LayoutView",
            "align_content": null,
            "align_items": null,
            "align_self": null,
            "border": null,
            "bottom": null,
            "display": null,
            "flex": null,
            "flex_flow": null,
            "grid_area": null,
            "grid_auto_columns": null,
            "grid_auto_flow": null,
            "grid_auto_rows": null,
            "grid_column": null,
            "grid_gap": null,
            "grid_row": null,
            "grid_template_areas": null,
            "grid_template_columns": null,
            "grid_template_rows": null,
            "height": null,
            "justify_content": null,
            "justify_items": null,
            "left": null,
            "margin": null,
            "max_height": null,
            "max_width": null,
            "min_height": null,
            "min_width": null,
            "object_fit": null,
            "object_position": null,
            "order": null,
            "overflow": null,
            "overflow_x": null,
            "overflow_y": null,
            "padding": null,
            "right": null,
            "top": null,
            "visibility": null,
            "width": null
          }
        },
        "f7240e3c98f545dca00bf513710653a4": {
          "model_module": "@jupyter-widgets/base",
          "model_name": "LayoutModel",
          "model_module_version": "1.2.0",
          "state": {
            "_model_module": "@jupyter-widgets/base",
            "_model_module_version": "1.2.0",
            "_model_name": "LayoutModel",
            "_view_count": null,
            "_view_module": "@jupyter-widgets/base",
            "_view_module_version": "1.2.0",
            "_view_name": "LayoutView",
            "align_content": null,
            "align_items": null,
            "align_self": null,
            "border": null,
            "bottom": null,
            "display": null,
            "flex": null,
            "flex_flow": null,
            "grid_area": null,
            "grid_auto_columns": null,
            "grid_auto_flow": null,
            "grid_auto_rows": null,
            "grid_column": null,
            "grid_gap": null,
            "grid_row": null,
            "grid_template_areas": null,
            "grid_template_columns": null,
            "grid_template_rows": null,
            "height": null,
            "justify_content": null,
            "justify_items": null,
            "left": null,
            "margin": null,
            "max_height": null,
            "max_width": null,
            "min_height": null,
            "min_width": null,
            "object_fit": null,
            "object_position": null,
            "order": null,
            "overflow": null,
            "overflow_x": null,
            "overflow_y": null,
            "padding": null,
            "right": null,
            "top": null,
            "visibility": null,
            "width": null
          }
        },
        "3ade83e4ecef4a6dbd42f2bb9dd3f6c6": {
          "model_module": "@jupyter-widgets/controls",
          "model_name": "DescriptionStyleModel",
          "model_module_version": "1.5.0",
          "state": {
            "_model_module": "@jupyter-widgets/controls",
            "_model_module_version": "1.5.0",
            "_model_name": "DescriptionStyleModel",
            "_view_count": null,
            "_view_module": "@jupyter-widgets/base",
            "_view_module_version": "1.2.0",
            "_view_name": "StyleView",
            "description_width": ""
          }
        },
        "9541d7a051694679beeb8d0b7daaa8d6": {
          "model_module": "@jupyter-widgets/base",
          "model_name": "LayoutModel",
          "model_module_version": "1.2.0",
          "state": {
            "_model_module": "@jupyter-widgets/base",
            "_model_module_version": "1.2.0",
            "_model_name": "LayoutModel",
            "_view_count": null,
            "_view_module": "@jupyter-widgets/base",
            "_view_module_version": "1.2.0",
            "_view_name": "LayoutView",
            "align_content": null,
            "align_items": null,
            "align_self": null,
            "border": null,
            "bottom": null,
            "display": null,
            "flex": null,
            "flex_flow": null,
            "grid_area": null,
            "grid_auto_columns": null,
            "grid_auto_flow": null,
            "grid_auto_rows": null,
            "grid_column": null,
            "grid_gap": null,
            "grid_row": null,
            "grid_template_areas": null,
            "grid_template_columns": null,
            "grid_template_rows": null,
            "height": null,
            "justify_content": null,
            "justify_items": null,
            "left": null,
            "margin": null,
            "max_height": null,
            "max_width": null,
            "min_height": null,
            "min_width": null,
            "object_fit": null,
            "object_position": null,
            "order": null,
            "overflow": null,
            "overflow_x": null,
            "overflow_y": null,
            "padding": null,
            "right": null,
            "top": null,
            "visibility": null,
            "width": null
          }
        },
        "d01d9fc908ed441e8901bebef5be70f8": {
          "model_module": "@jupyter-widgets/controls",
          "model_name": "ProgressStyleModel",
          "model_module_version": "1.5.0",
          "state": {
            "_model_module": "@jupyter-widgets/controls",
            "_model_module_version": "1.5.0",
            "_model_name": "ProgressStyleModel",
            "_view_count": null,
            "_view_module": "@jupyter-widgets/base",
            "_view_module_version": "1.2.0",
            "_view_name": "StyleView",
            "bar_color": null,
            "description_width": ""
          }
        },
        "3000917937804ff299b6162d49ab1077": {
          "model_module": "@jupyter-widgets/base",
          "model_name": "LayoutModel",
          "model_module_version": "1.2.0",
          "state": {
            "_model_module": "@jupyter-widgets/base",
            "_model_module_version": "1.2.0",
            "_model_name": "LayoutModel",
            "_view_count": null,
            "_view_module": "@jupyter-widgets/base",
            "_view_module_version": "1.2.0",
            "_view_name": "LayoutView",
            "align_content": null,
            "align_items": null,
            "align_self": null,
            "border": null,
            "bottom": null,
            "display": null,
            "flex": null,
            "flex_flow": null,
            "grid_area": null,
            "grid_auto_columns": null,
            "grid_auto_flow": null,
            "grid_auto_rows": null,
            "grid_column": null,
            "grid_gap": null,
            "grid_row": null,
            "grid_template_areas": null,
            "grid_template_columns": null,
            "grid_template_rows": null,
            "height": null,
            "justify_content": null,
            "justify_items": null,
            "left": null,
            "margin": null,
            "max_height": null,
            "max_width": null,
            "min_height": null,
            "min_width": null,
            "object_fit": null,
            "object_position": null,
            "order": null,
            "overflow": null,
            "overflow_x": null,
            "overflow_y": null,
            "padding": null,
            "right": null,
            "top": null,
            "visibility": null,
            "width": null
          }
        },
        "11fcab2e9a644a6098ded9332a008a11": {
          "model_module": "@jupyter-widgets/controls",
          "model_name": "DescriptionStyleModel",
          "model_module_version": "1.5.0",
          "state": {
            "_model_module": "@jupyter-widgets/controls",
            "_model_module_version": "1.5.0",
            "_model_name": "DescriptionStyleModel",
            "_view_count": null,
            "_view_module": "@jupyter-widgets/base",
            "_view_module_version": "1.2.0",
            "_view_name": "StyleView",
            "description_width": ""
          }
        },
        "6f5c42f98d3942b1b28088fb8f23979e": {
          "model_module": "@jupyter-widgets/controls",
          "model_name": "HBoxModel",
          "model_module_version": "1.5.0",
          "state": {
            "_dom_classes": [],
            "_model_module": "@jupyter-widgets/controls",
            "_model_module_version": "1.5.0",
            "_model_name": "HBoxModel",
            "_view_count": null,
            "_view_module": "@jupyter-widgets/controls",
            "_view_module_version": "1.5.0",
            "_view_name": "HBoxView",
            "box_style": "",
            "children": [
              "IPY_MODEL_7fe1ebada69d4815b8067f1b7f123488",
              "IPY_MODEL_a883521aaf364c7ebf60202ee1d1ceb1",
              "IPY_MODEL_3cc3a6c68dff4cbfa3e00257e2377224"
            ],
            "layout": "IPY_MODEL_b3df8d80558d4dd4b11342dbf1366526"
          }
        },
        "7fe1ebada69d4815b8067f1b7f123488": {
          "model_module": "@jupyter-widgets/controls",
          "model_name": "HTMLModel",
          "model_module_version": "1.5.0",
          "state": {
            "_dom_classes": [],
            "_model_module": "@jupyter-widgets/controls",
            "_model_module_version": "1.5.0",
            "_model_name": "HTMLModel",
            "_view_count": null,
            "_view_module": "@jupyter-widgets/controls",
            "_view_module_version": "1.5.0",
            "_view_name": "HTMLView",
            "description": "",
            "description_tooltip": null,
            "layout": "IPY_MODEL_0759f250650f45d289a879d301e14b66",
            "placeholder": "​",
            "style": "IPY_MODEL_cd8749224a4e4097b2a42d6d04fe4fd9",
            "value": "Downloading (…)olve/main/vocab.json: 100%"
          }
        },
        "a883521aaf364c7ebf60202ee1d1ceb1": {
          "model_module": "@jupyter-widgets/controls",
          "model_name": "FloatProgressModel",
          "model_module_version": "1.5.0",
          "state": {
            "_dom_classes": [],
            "_model_module": "@jupyter-widgets/controls",
            "_model_module_version": "1.5.0",
            "_model_name": "FloatProgressModel",
            "_view_count": null,
            "_view_module": "@jupyter-widgets/controls",
            "_view_module_version": "1.5.0",
            "_view_name": "ProgressView",
            "bar_style": "success",
            "description": "",
            "description_tooltip": null,
            "layout": "IPY_MODEL_a35deee9ad6c4c5e9f42bd04eb3f0b9a",
            "max": 927059,
            "min": 0,
            "orientation": "horizontal",
            "style": "IPY_MODEL_9b947972f7744efbac0d4fe1942aea9a",
            "value": 927059
          }
        },
        "3cc3a6c68dff4cbfa3e00257e2377224": {
          "model_module": "@jupyter-widgets/controls",
          "model_name": "HTMLModel",
          "model_module_version": "1.5.0",
          "state": {
            "_dom_classes": [],
            "_model_module": "@jupyter-widgets/controls",
            "_model_module_version": "1.5.0",
            "_model_name": "HTMLModel",
            "_view_count": null,
            "_view_module": "@jupyter-widgets/controls",
            "_view_module_version": "1.5.0",
            "_view_name": "HTMLView",
            "description": "",
            "description_tooltip": null,
            "layout": "IPY_MODEL_e72c458922a749b88e453ca5559ab3c4",
            "placeholder": "​",
            "style": "IPY_MODEL_f0dede4bbc73453099455314b974f24c",
            "value": " 927k/927k [00:00&lt;00:00, 5.48MB/s]"
          }
        },
        "b3df8d80558d4dd4b11342dbf1366526": {
          "model_module": "@jupyter-widgets/base",
          "model_name": "LayoutModel",
          "model_module_version": "1.2.0",
          "state": {
            "_model_module": "@jupyter-widgets/base",
            "_model_module_version": "1.2.0",
            "_model_name": "LayoutModel",
            "_view_count": null,
            "_view_module": "@jupyter-widgets/base",
            "_view_module_version": "1.2.0",
            "_view_name": "LayoutView",
            "align_content": null,
            "align_items": null,
            "align_self": null,
            "border": null,
            "bottom": null,
            "display": null,
            "flex": null,
            "flex_flow": null,
            "grid_area": null,
            "grid_auto_columns": null,
            "grid_auto_flow": null,
            "grid_auto_rows": null,
            "grid_column": null,
            "grid_gap": null,
            "grid_row": null,
            "grid_template_areas": null,
            "grid_template_columns": null,
            "grid_template_rows": null,
            "height": null,
            "justify_content": null,
            "justify_items": null,
            "left": null,
            "margin": null,
            "max_height": null,
            "max_width": null,
            "min_height": null,
            "min_width": null,
            "object_fit": null,
            "object_position": null,
            "order": null,
            "overflow": null,
            "overflow_x": null,
            "overflow_y": null,
            "padding": null,
            "right": null,
            "top": null,
            "visibility": null,
            "width": null
          }
        },
        "0759f250650f45d289a879d301e14b66": {
          "model_module": "@jupyter-widgets/base",
          "model_name": "LayoutModel",
          "model_module_version": "1.2.0",
          "state": {
            "_model_module": "@jupyter-widgets/base",
            "_model_module_version": "1.2.0",
            "_model_name": "LayoutModel",
            "_view_count": null,
            "_view_module": "@jupyter-widgets/base",
            "_view_module_version": "1.2.0",
            "_view_name": "LayoutView",
            "align_content": null,
            "align_items": null,
            "align_self": null,
            "border": null,
            "bottom": null,
            "display": null,
            "flex": null,
            "flex_flow": null,
            "grid_area": null,
            "grid_auto_columns": null,
            "grid_auto_flow": null,
            "grid_auto_rows": null,
            "grid_column": null,
            "grid_gap": null,
            "grid_row": null,
            "grid_template_areas": null,
            "grid_template_columns": null,
            "grid_template_rows": null,
            "height": null,
            "justify_content": null,
            "justify_items": null,
            "left": null,
            "margin": null,
            "max_height": null,
            "max_width": null,
            "min_height": null,
            "min_width": null,
            "object_fit": null,
            "object_position": null,
            "order": null,
            "overflow": null,
            "overflow_x": null,
            "overflow_y": null,
            "padding": null,
            "right": null,
            "top": null,
            "visibility": null,
            "width": null
          }
        },
        "cd8749224a4e4097b2a42d6d04fe4fd9": {
          "model_module": "@jupyter-widgets/controls",
          "model_name": "DescriptionStyleModel",
          "model_module_version": "1.5.0",
          "state": {
            "_model_module": "@jupyter-widgets/controls",
            "_model_module_version": "1.5.0",
            "_model_name": "DescriptionStyleModel",
            "_view_count": null,
            "_view_module": "@jupyter-widgets/base",
            "_view_module_version": "1.2.0",
            "_view_name": "StyleView",
            "description_width": ""
          }
        },
        "a35deee9ad6c4c5e9f42bd04eb3f0b9a": {
          "model_module": "@jupyter-widgets/base",
          "model_name": "LayoutModel",
          "model_module_version": "1.2.0",
          "state": {
            "_model_module": "@jupyter-widgets/base",
            "_model_module_version": "1.2.0",
            "_model_name": "LayoutModel",
            "_view_count": null,
            "_view_module": "@jupyter-widgets/base",
            "_view_module_version": "1.2.0",
            "_view_name": "LayoutView",
            "align_content": null,
            "align_items": null,
            "align_self": null,
            "border": null,
            "bottom": null,
            "display": null,
            "flex": null,
            "flex_flow": null,
            "grid_area": null,
            "grid_auto_columns": null,
            "grid_auto_flow": null,
            "grid_auto_rows": null,
            "grid_column": null,
            "grid_gap": null,
            "grid_row": null,
            "grid_template_areas": null,
            "grid_template_columns": null,
            "grid_template_rows": null,
            "height": null,
            "justify_content": null,
            "justify_items": null,
            "left": null,
            "margin": null,
            "max_height": null,
            "max_width": null,
            "min_height": null,
            "min_width": null,
            "object_fit": null,
            "object_position": null,
            "order": null,
            "overflow": null,
            "overflow_x": null,
            "overflow_y": null,
            "padding": null,
            "right": null,
            "top": null,
            "visibility": null,
            "width": null
          }
        },
        "9b947972f7744efbac0d4fe1942aea9a": {
          "model_module": "@jupyter-widgets/controls",
          "model_name": "ProgressStyleModel",
          "model_module_version": "1.5.0",
          "state": {
            "_model_module": "@jupyter-widgets/controls",
            "_model_module_version": "1.5.0",
            "_model_name": "ProgressStyleModel",
            "_view_count": null,
            "_view_module": "@jupyter-widgets/base",
            "_view_module_version": "1.2.0",
            "_view_name": "StyleView",
            "bar_color": null,
            "description_width": ""
          }
        },
        "e72c458922a749b88e453ca5559ab3c4": {
          "model_module": "@jupyter-widgets/base",
          "model_name": "LayoutModel",
          "model_module_version": "1.2.0",
          "state": {
            "_model_module": "@jupyter-widgets/base",
            "_model_module_version": "1.2.0",
            "_model_name": "LayoutModel",
            "_view_count": null,
            "_view_module": "@jupyter-widgets/base",
            "_view_module_version": "1.2.0",
            "_view_name": "LayoutView",
            "align_content": null,
            "align_items": null,
            "align_self": null,
            "border": null,
            "bottom": null,
            "display": null,
            "flex": null,
            "flex_flow": null,
            "grid_area": null,
            "grid_auto_columns": null,
            "grid_auto_flow": null,
            "grid_auto_rows": null,
            "grid_column": null,
            "grid_gap": null,
            "grid_row": null,
            "grid_template_areas": null,
            "grid_template_columns": null,
            "grid_template_rows": null,
            "height": null,
            "justify_content": null,
            "justify_items": null,
            "left": null,
            "margin": null,
            "max_height": null,
            "max_width": null,
            "min_height": null,
            "min_width": null,
            "object_fit": null,
            "object_position": null,
            "order": null,
            "overflow": null,
            "overflow_x": null,
            "overflow_y": null,
            "padding": null,
            "right": null,
            "top": null,
            "visibility": null,
            "width": null
          }
        },
        "f0dede4bbc73453099455314b974f24c": {
          "model_module": "@jupyter-widgets/controls",
          "model_name": "DescriptionStyleModel",
          "model_module_version": "1.5.0",
          "state": {
            "_model_module": "@jupyter-widgets/controls",
            "_model_module_version": "1.5.0",
            "_model_name": "DescriptionStyleModel",
            "_view_count": null,
            "_view_module": "@jupyter-widgets/base",
            "_view_module_version": "1.2.0",
            "_view_name": "StyleView",
            "description_width": ""
          }
        },
        "b14cea0d26014b0c84e1d20abebb48ac": {
          "model_module": "@jupyter-widgets/controls",
          "model_name": "HBoxModel",
          "model_module_version": "1.5.0",
          "state": {
            "_dom_classes": [],
            "_model_module": "@jupyter-widgets/controls",
            "_model_module_version": "1.5.0",
            "_model_name": "HBoxModel",
            "_view_count": null,
            "_view_module": "@jupyter-widgets/controls",
            "_view_module_version": "1.5.0",
            "_view_name": "HBoxView",
            "box_style": "",
            "children": [
              "IPY_MODEL_2b6206d1edf4473cb8312ab723116b33",
              "IPY_MODEL_764496f4c04149efaedc4a0777caf22b",
              "IPY_MODEL_cc5e91425d4544d99c4dcb911299597c"
            ],
            "layout": "IPY_MODEL_c3dc2d6d66f7472698804ae7797d701c"
          }
        },
        "2b6206d1edf4473cb8312ab723116b33": {
          "model_module": "@jupyter-widgets/controls",
          "model_name": "HTMLModel",
          "model_module_version": "1.5.0",
          "state": {
            "_dom_classes": [],
            "_model_module": "@jupyter-widgets/controls",
            "_model_module_version": "1.5.0",
            "_model_name": "HTMLModel",
            "_view_count": null,
            "_view_module": "@jupyter-widgets/controls",
            "_view_module_version": "1.5.0",
            "_view_name": "HTMLView",
            "description": "",
            "description_tooltip": null,
            "layout": "IPY_MODEL_e7d32493e1f047f9bb37c5e3adcc49e5",
            "placeholder": "​",
            "style": "IPY_MODEL_f76db1d97b6e4631b41fd13a8da439bd",
            "value": "Downloading (…)olve/main/merges.txt: 100%"
          }
        },
        "764496f4c04149efaedc4a0777caf22b": {
          "model_module": "@jupyter-widgets/controls",
          "model_name": "FloatProgressModel",
          "model_module_version": "1.5.0",
          "state": {
            "_dom_classes": [],
            "_model_module": "@jupyter-widgets/controls",
            "_model_module_version": "1.5.0",
            "_model_name": "FloatProgressModel",
            "_view_count": null,
            "_view_module": "@jupyter-widgets/controls",
            "_view_module_version": "1.5.0",
            "_view_name": "ProgressView",
            "bar_style": "success",
            "description": "",
            "description_tooltip": null,
            "layout": "IPY_MODEL_a5db165cde634832a31b873f7d02f05b",
            "max": 696298,
            "min": 0,
            "orientation": "horizontal",
            "style": "IPY_MODEL_2239c8479130493381449e2618190e2c",
            "value": 696298
          }
        },
        "cc5e91425d4544d99c4dcb911299597c": {
          "model_module": "@jupyter-widgets/controls",
          "model_name": "HTMLModel",
          "model_module_version": "1.5.0",
          "state": {
            "_dom_classes": [],
            "_model_module": "@jupyter-widgets/controls",
            "_model_module_version": "1.5.0",
            "_model_name": "HTMLModel",
            "_view_count": null,
            "_view_module": "@jupyter-widgets/controls",
            "_view_module_version": "1.5.0",
            "_view_name": "HTMLView",
            "description": "",
            "description_tooltip": null,
            "layout": "IPY_MODEL_d41ac0a623414d2498d30ed1e43a82d7",
            "placeholder": "​",
            "style": "IPY_MODEL_866104875b02406ebdb614c40d1791b2",
            "value": " 696k/696k [00:00&lt;00:00, 4.54MB/s]"
          }
        },
        "c3dc2d6d66f7472698804ae7797d701c": {
          "model_module": "@jupyter-widgets/base",
          "model_name": "LayoutModel",
          "model_module_version": "1.2.0",
          "state": {
            "_model_module": "@jupyter-widgets/base",
            "_model_module_version": "1.2.0",
            "_model_name": "LayoutModel",
            "_view_count": null,
            "_view_module": "@jupyter-widgets/base",
            "_view_module_version": "1.2.0",
            "_view_name": "LayoutView",
            "align_content": null,
            "align_items": null,
            "align_self": null,
            "border": null,
            "bottom": null,
            "display": null,
            "flex": null,
            "flex_flow": null,
            "grid_area": null,
            "grid_auto_columns": null,
            "grid_auto_flow": null,
            "grid_auto_rows": null,
            "grid_column": null,
            "grid_gap": null,
            "grid_row": null,
            "grid_template_areas": null,
            "grid_template_columns": null,
            "grid_template_rows": null,
            "height": null,
            "justify_content": null,
            "justify_items": null,
            "left": null,
            "margin": null,
            "max_height": null,
            "max_width": null,
            "min_height": null,
            "min_width": null,
            "object_fit": null,
            "object_position": null,
            "order": null,
            "overflow": null,
            "overflow_x": null,
            "overflow_y": null,
            "padding": null,
            "right": null,
            "top": null,
            "visibility": null,
            "width": null
          }
        },
        "e7d32493e1f047f9bb37c5e3adcc49e5": {
          "model_module": "@jupyter-widgets/base",
          "model_name": "LayoutModel",
          "model_module_version": "1.2.0",
          "state": {
            "_model_module": "@jupyter-widgets/base",
            "_model_module_version": "1.2.0",
            "_model_name": "LayoutModel",
            "_view_count": null,
            "_view_module": "@jupyter-widgets/base",
            "_view_module_version": "1.2.0",
            "_view_name": "LayoutView",
            "align_content": null,
            "align_items": null,
            "align_self": null,
            "border": null,
            "bottom": null,
            "display": null,
            "flex": null,
            "flex_flow": null,
            "grid_area": null,
            "grid_auto_columns": null,
            "grid_auto_flow": null,
            "grid_auto_rows": null,
            "grid_column": null,
            "grid_gap": null,
            "grid_row": null,
            "grid_template_areas": null,
            "grid_template_columns": null,
            "grid_template_rows": null,
            "height": null,
            "justify_content": null,
            "justify_items": null,
            "left": null,
            "margin": null,
            "max_height": null,
            "max_width": null,
            "min_height": null,
            "min_width": null,
            "object_fit": null,
            "object_position": null,
            "order": null,
            "overflow": null,
            "overflow_x": null,
            "overflow_y": null,
            "padding": null,
            "right": null,
            "top": null,
            "visibility": null,
            "width": null
          }
        },
        "f76db1d97b6e4631b41fd13a8da439bd": {
          "model_module": "@jupyter-widgets/controls",
          "model_name": "DescriptionStyleModel",
          "model_module_version": "1.5.0",
          "state": {
            "_model_module": "@jupyter-widgets/controls",
            "_model_module_version": "1.5.0",
            "_model_name": "DescriptionStyleModel",
            "_view_count": null,
            "_view_module": "@jupyter-widgets/base",
            "_view_module_version": "1.2.0",
            "_view_name": "StyleView",
            "description_width": ""
          }
        },
        "a5db165cde634832a31b873f7d02f05b": {
          "model_module": "@jupyter-widgets/base",
          "model_name": "LayoutModel",
          "model_module_version": "1.2.0",
          "state": {
            "_model_module": "@jupyter-widgets/base",
            "_model_module_version": "1.2.0",
            "_model_name": "LayoutModel",
            "_view_count": null,
            "_view_module": "@jupyter-widgets/base",
            "_view_module_version": "1.2.0",
            "_view_name": "LayoutView",
            "align_content": null,
            "align_items": null,
            "align_self": null,
            "border": null,
            "bottom": null,
            "display": null,
            "flex": null,
            "flex_flow": null,
            "grid_area": null,
            "grid_auto_columns": null,
            "grid_auto_flow": null,
            "grid_auto_rows": null,
            "grid_column": null,
            "grid_gap": null,
            "grid_row": null,
            "grid_template_areas": null,
            "grid_template_columns": null,
            "grid_template_rows": null,
            "height": null,
            "justify_content": null,
            "justify_items": null,
            "left": null,
            "margin": null,
            "max_height": null,
            "max_width": null,
            "min_height": null,
            "min_width": null,
            "object_fit": null,
            "object_position": null,
            "order": null,
            "overflow": null,
            "overflow_x": null,
            "overflow_y": null,
            "padding": null,
            "right": null,
            "top": null,
            "visibility": null,
            "width": null
          }
        },
        "2239c8479130493381449e2618190e2c": {
          "model_module": "@jupyter-widgets/controls",
          "model_name": "ProgressStyleModel",
          "model_module_version": "1.5.0",
          "state": {
            "_model_module": "@jupyter-widgets/controls",
            "_model_module_version": "1.5.0",
            "_model_name": "ProgressStyleModel",
            "_view_count": null,
            "_view_module": "@jupyter-widgets/base",
            "_view_module_version": "1.2.0",
            "_view_name": "StyleView",
            "bar_color": null,
            "description_width": ""
          }
        },
        "d41ac0a623414d2498d30ed1e43a82d7": {
          "model_module": "@jupyter-widgets/base",
          "model_name": "LayoutModel",
          "model_module_version": "1.2.0",
          "state": {
            "_model_module": "@jupyter-widgets/base",
            "_model_module_version": "1.2.0",
            "_model_name": "LayoutModel",
            "_view_count": null,
            "_view_module": "@jupyter-widgets/base",
            "_view_module_version": "1.2.0",
            "_view_name": "LayoutView",
            "align_content": null,
            "align_items": null,
            "align_self": null,
            "border": null,
            "bottom": null,
            "display": null,
            "flex": null,
            "flex_flow": null,
            "grid_area": null,
            "grid_auto_columns": null,
            "grid_auto_flow": null,
            "grid_auto_rows": null,
            "grid_column": null,
            "grid_gap": null,
            "grid_row": null,
            "grid_template_areas": null,
            "grid_template_columns": null,
            "grid_template_rows": null,
            "height": null,
            "justify_content": null,
            "justify_items": null,
            "left": null,
            "margin": null,
            "max_height": null,
            "max_width": null,
            "min_height": null,
            "min_width": null,
            "object_fit": null,
            "object_position": null,
            "order": null,
            "overflow": null,
            "overflow_x": null,
            "overflow_y": null,
            "padding": null,
            "right": null,
            "top": null,
            "visibility": null,
            "width": null
          }
        },
        "866104875b02406ebdb614c40d1791b2": {
          "model_module": "@jupyter-widgets/controls",
          "model_name": "DescriptionStyleModel",
          "model_module_version": "1.5.0",
          "state": {
            "_model_module": "@jupyter-widgets/controls",
            "_model_module_version": "1.5.0",
            "_model_name": "DescriptionStyleModel",
            "_view_count": null,
            "_view_module": "@jupyter-widgets/base",
            "_view_module_version": "1.2.0",
            "_view_name": "StyleView",
            "description_width": ""
          }
        },
        "64517f34d6c74c57ac7ddcf96a4149d5": {
          "model_module": "@jupyter-widgets/controls",
          "model_name": "HBoxModel",
          "model_module_version": "1.5.0",
          "state": {
            "_dom_classes": [],
            "_model_module": "@jupyter-widgets/controls",
            "_model_module_version": "1.5.0",
            "_model_name": "HBoxModel",
            "_view_count": null,
            "_view_module": "@jupyter-widgets/controls",
            "_view_module_version": "1.5.0",
            "_view_name": "HBoxView",
            "box_style": "",
            "children": [
              "IPY_MODEL_056267ef62ad42ac9d7a70d0c6b85de4",
              "IPY_MODEL_9707cfa6a66a4a8281e52b95861893d6",
              "IPY_MODEL_96dc31a96a104f9cacbaa349b38dd9e5"
            ],
            "layout": "IPY_MODEL_d6ed397b920a466ea394b8ee9617e451"
          }
        },
        "056267ef62ad42ac9d7a70d0c6b85de4": {
          "model_module": "@jupyter-widgets/controls",
          "model_name": "HTMLModel",
          "model_module_version": "1.5.0",
          "state": {
            "_dom_classes": [],
            "_model_module": "@jupyter-widgets/controls",
            "_model_module_version": "1.5.0",
            "_model_name": "HTMLModel",
            "_view_count": null,
            "_view_module": "@jupyter-widgets/controls",
            "_view_module_version": "1.5.0",
            "_view_name": "HTMLView",
            "description": "",
            "description_tooltip": null,
            "layout": "IPY_MODEL_936bb6a1a2aa4b3297ec52b376ad2a18",
            "placeholder": "​",
            "style": "IPY_MODEL_adb3b3f3154f420b87d46c449ad50777",
            "value": "Downloading pytorch_model.bin: 100%"
          }
        },
        "9707cfa6a66a4a8281e52b95861893d6": {
          "model_module": "@jupyter-widgets/controls",
          "model_name": "FloatProgressModel",
          "model_module_version": "1.5.0",
          "state": {
            "_dom_classes": [],
            "_model_module": "@jupyter-widgets/controls",
            "_model_module_version": "1.5.0",
            "_model_name": "FloatProgressModel",
            "_view_count": null,
            "_view_module": "@jupyter-widgets/controls",
            "_view_module_version": "1.5.0",
            "_view_name": "ProgressView",
            "bar_style": "success",
            "description": "",
            "description_tooltip": null,
            "layout": "IPY_MODEL_c4357cfb16774c4583e6037c96b80bc5",
            "max": 1560781537,
            "min": 0,
            "orientation": "horizontal",
            "style": "IPY_MODEL_b8b3e806b0854506bf643d73e3702034",
            "value": 1560781537
          }
        },
        "96dc31a96a104f9cacbaa349b38dd9e5": {
          "model_module": "@jupyter-widgets/controls",
          "model_name": "HTMLModel",
          "model_module_version": "1.5.0",
          "state": {
            "_dom_classes": [],
            "_model_module": "@jupyter-widgets/controls",
            "_model_module_version": "1.5.0",
            "_model_name": "HTMLModel",
            "_view_count": null,
            "_view_module": "@jupyter-widgets/controls",
            "_view_module_version": "1.5.0",
            "_view_name": "HTMLView",
            "description": "",
            "description_tooltip": null,
            "layout": "IPY_MODEL_69ae42d9713c4e4dafd29280038bff48",
            "placeholder": "​",
            "style": "IPY_MODEL_3aa24564b4ed407c8530d0a55a614d76",
            "value": " 1.56G/1.56G [00:17&lt;00:00, 82.0MB/s]"
          }
        },
        "d6ed397b920a466ea394b8ee9617e451": {
          "model_module": "@jupyter-widgets/base",
          "model_name": "LayoutModel",
          "model_module_version": "1.2.0",
          "state": {
            "_model_module": "@jupyter-widgets/base",
            "_model_module_version": "1.2.0",
            "_model_name": "LayoutModel",
            "_view_count": null,
            "_view_module": "@jupyter-widgets/base",
            "_view_module_version": "1.2.0",
            "_view_name": "LayoutView",
            "align_content": null,
            "align_items": null,
            "align_self": null,
            "border": null,
            "bottom": null,
            "display": null,
            "flex": null,
            "flex_flow": null,
            "grid_area": null,
            "grid_auto_columns": null,
            "grid_auto_flow": null,
            "grid_auto_rows": null,
            "grid_column": null,
            "grid_gap": null,
            "grid_row": null,
            "grid_template_areas": null,
            "grid_template_columns": null,
            "grid_template_rows": null,
            "height": null,
            "justify_content": null,
            "justify_items": null,
            "left": null,
            "margin": null,
            "max_height": null,
            "max_width": null,
            "min_height": null,
            "min_width": null,
            "object_fit": null,
            "object_position": null,
            "order": null,
            "overflow": null,
            "overflow_x": null,
            "overflow_y": null,
            "padding": null,
            "right": null,
            "top": null,
            "visibility": null,
            "width": null
          }
        },
        "936bb6a1a2aa4b3297ec52b376ad2a18": {
          "model_module": "@jupyter-widgets/base",
          "model_name": "LayoutModel",
          "model_module_version": "1.2.0",
          "state": {
            "_model_module": "@jupyter-widgets/base",
            "_model_module_version": "1.2.0",
            "_model_name": "LayoutModel",
            "_view_count": null,
            "_view_module": "@jupyter-widgets/base",
            "_view_module_version": "1.2.0",
            "_view_name": "LayoutView",
            "align_content": null,
            "align_items": null,
            "align_self": null,
            "border": null,
            "bottom": null,
            "display": null,
            "flex": null,
            "flex_flow": null,
            "grid_area": null,
            "grid_auto_columns": null,
            "grid_auto_flow": null,
            "grid_auto_rows": null,
            "grid_column": null,
            "grid_gap": null,
            "grid_row": null,
            "grid_template_areas": null,
            "grid_template_columns": null,
            "grid_template_rows": null,
            "height": null,
            "justify_content": null,
            "justify_items": null,
            "left": null,
            "margin": null,
            "max_height": null,
            "max_width": null,
            "min_height": null,
            "min_width": null,
            "object_fit": null,
            "object_position": null,
            "order": null,
            "overflow": null,
            "overflow_x": null,
            "overflow_y": null,
            "padding": null,
            "right": null,
            "top": null,
            "visibility": null,
            "width": null
          }
        },
        "adb3b3f3154f420b87d46c449ad50777": {
          "model_module": "@jupyter-widgets/controls",
          "model_name": "DescriptionStyleModel",
          "model_module_version": "1.5.0",
          "state": {
            "_model_module": "@jupyter-widgets/controls",
            "_model_module_version": "1.5.0",
            "_model_name": "DescriptionStyleModel",
            "_view_count": null,
            "_view_module": "@jupyter-widgets/base",
            "_view_module_version": "1.2.0",
            "_view_name": "StyleView",
            "description_width": ""
          }
        },
        "c4357cfb16774c4583e6037c96b80bc5": {
          "model_module": "@jupyter-widgets/base",
          "model_name": "LayoutModel",
          "model_module_version": "1.2.0",
          "state": {
            "_model_module": "@jupyter-widgets/base",
            "_model_module_version": "1.2.0",
            "_model_name": "LayoutModel",
            "_view_count": null,
            "_view_module": "@jupyter-widgets/base",
            "_view_module_version": "1.2.0",
            "_view_name": "LayoutView",
            "align_content": null,
            "align_items": null,
            "align_self": null,
            "border": null,
            "bottom": null,
            "display": null,
            "flex": null,
            "flex_flow": null,
            "grid_area": null,
            "grid_auto_columns": null,
            "grid_auto_flow": null,
            "grid_auto_rows": null,
            "grid_column": null,
            "grid_gap": null,
            "grid_row": null,
            "grid_template_areas": null,
            "grid_template_columns": null,
            "grid_template_rows": null,
            "height": null,
            "justify_content": null,
            "justify_items": null,
            "left": null,
            "margin": null,
            "max_height": null,
            "max_width": null,
            "min_height": null,
            "min_width": null,
            "object_fit": null,
            "object_position": null,
            "order": null,
            "overflow": null,
            "overflow_x": null,
            "overflow_y": null,
            "padding": null,
            "right": null,
            "top": null,
            "visibility": null,
            "width": null
          }
        },
        "b8b3e806b0854506bf643d73e3702034": {
          "model_module": "@jupyter-widgets/controls",
          "model_name": "ProgressStyleModel",
          "model_module_version": "1.5.0",
          "state": {
            "_model_module": "@jupyter-widgets/controls",
            "_model_module_version": "1.5.0",
            "_model_name": "ProgressStyleModel",
            "_view_count": null,
            "_view_module": "@jupyter-widgets/base",
            "_view_module_version": "1.2.0",
            "_view_name": "StyleView",
            "bar_color": null,
            "description_width": ""
          }
        },
        "69ae42d9713c4e4dafd29280038bff48": {
          "model_module": "@jupyter-widgets/base",
          "model_name": "LayoutModel",
          "model_module_version": "1.2.0",
          "state": {
            "_model_module": "@jupyter-widgets/base",
            "_model_module_version": "1.2.0",
            "_model_name": "LayoutModel",
            "_view_count": null,
            "_view_module": "@jupyter-widgets/base",
            "_view_module_version": "1.2.0",
            "_view_name": "LayoutView",
            "align_content": null,
            "align_items": null,
            "align_self": null,
            "border": null,
            "bottom": null,
            "display": null,
            "flex": null,
            "flex_flow": null,
            "grid_area": null,
            "grid_auto_columns": null,
            "grid_auto_flow": null,
            "grid_auto_rows": null,
            "grid_column": null,
            "grid_gap": null,
            "grid_row": null,
            "grid_template_areas": null,
            "grid_template_columns": null,
            "grid_template_rows": null,
            "height": null,
            "justify_content": null,
            "justify_items": null,
            "left": null,
            "margin": null,
            "max_height": null,
            "max_width": null,
            "min_height": null,
            "min_width": null,
            "object_fit": null,
            "object_position": null,
            "order": null,
            "overflow": null,
            "overflow_x": null,
            "overflow_y": null,
            "padding": null,
            "right": null,
            "top": null,
            "visibility": null,
            "width": null
          }
        },
        "3aa24564b4ed407c8530d0a55a614d76": {
          "model_module": "@jupyter-widgets/controls",
          "model_name": "DescriptionStyleModel",
          "model_module_version": "1.5.0",
          "state": {
            "_model_module": "@jupyter-widgets/controls",
            "_model_module_version": "1.5.0",
            "_model_name": "DescriptionStyleModel",
            "_view_count": null,
            "_view_module": "@jupyter-widgets/base",
            "_view_module_version": "1.2.0",
            "_view_name": "StyleView",
            "description_width": ""
          }
        }
      }
    }
  },
  "cells": [
    {
      "cell_type": "markdown",
      "metadata": {
        "id": "view-in-github",
        "colab_type": "text"
      },
      "source": [
        "<a href=\"https://colab.research.google.com/github/malinphy/q_17/blob/main/biogpt_patent.ipynb\" target=\"_parent\"><img src=\"https://colab.research.google.com/assets/colab-badge.svg\" alt=\"Open In Colab\"/></a>"
      ]
    },
    {
      "cell_type": "code",
      "source": [
        "!pip install transformers -q\n",
        "!pip install sacremoses -q\n",
        "!pip install scann -q\n"
      ],
      "metadata": {
        "id": "HXdo5cRbRFAV",
        "colab": {
          "base_uri": "https://localhost:8080/"
        },
        "outputId": "d7c1729e-f96d-4497-c593-767159df1c39"
      },
      "execution_count": 1,
      "outputs": [
        {
          "output_type": "stream",
          "name": "stdout",
          "text": [
            "\u001b[2K     \u001b[90m━━━━━━━━━━━━━━━━━━━━━━━━━━━━━━━━━━━━━━━━\u001b[0m \u001b[32m6.8/6.8 MB\u001b[0m \u001b[31m35.2 MB/s\u001b[0m eta \u001b[36m0:00:00\u001b[0m\n",
            "\u001b[2K     \u001b[90m━━━━━━━━━━━━━━━━━━━━━━━━━━━━━━━━━━━━━━━━\u001b[0m \u001b[32m7.6/7.6 MB\u001b[0m \u001b[31m50.8 MB/s\u001b[0m eta \u001b[36m0:00:00\u001b[0m\n",
            "\u001b[2K     \u001b[90m━━━━━━━━━━━━━━━━━━━━━━━━━━━━━━━━━━━━━━\u001b[0m \u001b[32m199.8/199.8 KB\u001b[0m \u001b[31m12.1 MB/s\u001b[0m eta \u001b[36m0:00:00\u001b[0m\n",
            "\u001b[2K     \u001b[90m━━━━━━━━━━━━━━━━━━━━━━━━━━━━━━━━━━━━━━━\u001b[0m \u001b[32m880.6/880.6 KB\u001b[0m \u001b[31m9.9 MB/s\u001b[0m eta \u001b[36m0:00:00\u001b[0m\n",
            "\u001b[?25h  Preparing metadata (setup.py) ... \u001b[?25l\u001b[?25hdone\n",
            "  Building wheel for sacremoses (setup.py) ... \u001b[?25l\u001b[?25hdone\n",
            "\u001b[2K     \u001b[90m━━━━━━━━━━━━━━━━━━━━━━━━━━━━━━━━━━━━━━━━\u001b[0m \u001b[32m10.5/10.5 MB\u001b[0m \u001b[31m66.1 MB/s\u001b[0m eta \u001b[36m0:00:00\u001b[0m\n",
            "\u001b[?25h"
          ]
        }
      ]
    },
    {
      "cell_type": "code",
      "source": [
        "from google.colab import drive\n",
        "drive.mount('/content/drive')"
      ],
      "metadata": {
        "colab": {
          "base_uri": "https://localhost:8080/"
        },
        "id": "4ciuSPHiNzSh",
        "outputId": "3e20c7a0-0e99-4bc0-8733-30169668c6c7"
      },
      "execution_count": 2,
      "outputs": [
        {
          "output_type": "stream",
          "name": "stdout",
          "text": [
            "Mounted at /content/drive\n"
          ]
        }
      ]
    },
    {
      "cell_type": "code",
      "source": [
        "import os \n",
        "import json \n",
        "from transformers import AutoTokenizer, BioGptModel\n",
        "import torch\n",
        "import matplotlib.pyplot as plt \n",
        "plt.style.use('ggplot')\n",
        "import numpy as np\n",
        "from sklearn.decomposition import PCA, TruncatedSVD\n",
        "import joblib\n",
        "import scann"
      ],
      "metadata": {
        "id": "DS_eY5iZNkgE"
      },
      "execution_count": 3,
      "outputs": []
    },
    {
      "cell_type": "code",
      "source": [
        "# os.listdir('drive/MyDrive/transfer/patent')"
      ],
      "metadata": {
        "id": "NSwRHIKZNkco"
      },
      "execution_count": 4,
      "outputs": []
    },
    {
      "cell_type": "code",
      "source": [
        "def apk(actual, predicted, k=10):\n",
        "    if len(predicted)>k:\n",
        "        predicted = predicted[:k]\n",
        "\n",
        "    score = 0.0\n",
        "    num_hits = 0.0\n",
        "    hits = []\n",
        "    for i,p in enumerate(predicted):\n",
        "        if p in actual and p not in predicted[:i]:\n",
        "            num_hits += 1.0\n",
        "            score += num_hits / (i+1.0)\n",
        "        hits.append(num_hits)\n",
        "    # if not actual:\n",
        "    #     return 0.0\n",
        "    # print(((hits)))\n",
        "    return score / min(len(actual), k)\n",
        "\n",
        "def mapk(actual, predicted, k=10):\n",
        "    return np.mean([apk(a,p,k) for a,p in zip(actual, predicted)])\n",
        "\n",
        "def intersect(actual, predicted,k):\n",
        "    return np.intersect1d(actual[:k], predicted[:k])\n",
        "\n",
        "def hit_rate(actual, predicted,k):\n",
        "    total = 0\n",
        "    for i in range(len(actual)):\n",
        "        intersection = intersect(actual[i], predicted[i],k)\n",
        "        total = total + len(intersection)\n",
        "\n",
        "    return total\n",
        "\n",
        "\n",
        "def mean_reciprocal_rank(idx, k):\n",
        "    rank = []\n",
        "    for i in range(len(idx)):\n",
        "        rank.append(np.where(idx[i][:k] == i)[0])\n",
        "\n",
        "    elevated_rank = np.add(rank,1)\n",
        "    elevated_rank = np.concatenate(elevated_rank)\n",
        "    elevated_rank_len = len(elevated_rank)\n",
        "    reciprocal_rank = np.divide(1,elevated_rank)\n",
        "    reciprocal_rank_sum = np.sum(reciprocal_rank)\n",
        "    # print('asfasfasfas',len(idx))\n",
        "    # return reciprocal_rank_sum/elevated_rank_len\n",
        "    return reciprocal_rank_sum/len(idx)    \n",
        "\n",
        "def dcg_calc(similarity_scores, K):\n",
        "    similarity_len = len(similarity_scores)\n",
        "    total_dcg = []\n",
        "    for similarities in similarity_scores:\n",
        "        dcg = 0\n",
        "        for k in range(1,K):\n",
        "            rel_k = similarities[k-1]\n",
        "            dcg += rel_k / log2(1 + k)\n",
        "        total_dcg.append(dcg)\n",
        "    return np.sum(total_dcg)/similarity_len    \n",
        "\n",
        "\n",
        "def metrics_calculator(raw_idx, reduced_idx, k_values):\n",
        "    k = k_values\n",
        "    ap = []\n",
        "    hit = []\n",
        "    mrr = []\n",
        "    for i in k:\n",
        "        ap.append( mapk(raw_idx, reduced_idx,i))\n",
        "        hit.append( hit_rate(raw_idx, reduced_idx,i))\n",
        "        mrr.append(mean_reciprocal_rank(reduced_idx, i))\n",
        "    return ap, hit , mrr"
      ],
      "metadata": {
        "id": "JQu2aPyN2tJE"
      },
      "execution_count": 5,
      "outputs": []
    },
    {
      "cell_type": "code",
      "source": [
        "f = open ('drive/MyDrive/transfer/patent/vec_vectorized_biotech_patents_transformed_ols.json', \"r\")\n",
        "data_biotech = json.loads(f.read())\n",
        "data_biotech[0]['title']\n",
        "data_abst = [data_biotech[i]['abstract'] for i in range(len(data_biotech))]\n",
        "data_title = [data_biotech[i]['title'] for i in range(len(data_biotech))]"
      ],
      "metadata": {
        "id": "p_wsRpGMNkZg"
      },
      "execution_count": 6,
      "outputs": []
    },
    {
      "cell_type": "code",
      "source": [
        "print(len(data_biotech))"
      ],
      "metadata": {
        "colab": {
          "base_uri": "https://localhost:8080/"
        },
        "id": "ShCYD1yFSKJ4",
        "outputId": "1a63b871-8f5c-4b84-a6b5-afe4d321fd23"
      },
      "execution_count": 7,
      "outputs": [
        {
          "output_type": "stream",
          "name": "stdout",
          "text": [
            "484\n"
          ]
        }
      ]
    },
    {
      "cell_type": "code",
      "source": [
        "tokenizer = AutoTokenizer.from_pretrained(\"microsoft/biogpt\");\n",
        "model = BioGptModel.from_pretrained(\"microsoft/biogpt\");"
      ],
      "metadata": {
        "id": "DdtYuuytPQpN",
        "outputId": "30f8dfd5-87d0-43f5-fea3-38a1886f1b17",
        "colab": {
          "base_uri": "https://localhost:8080/",
          "height": 219,
          "referenced_widgets": [
            "ad7ba9a462b64b19b1c0f840bf589dbd",
            "46dad602042c4baa8c3ced262050494c",
            "3a557574512a43ceaec2f6a4f1b04b3a",
            "72d0ee91a5434520bc0949d9b7827f7c",
            "12546bc426c64746ad1481d0ff615530",
            "f7240e3c98f545dca00bf513710653a4",
            "3ade83e4ecef4a6dbd42f2bb9dd3f6c6",
            "9541d7a051694679beeb8d0b7daaa8d6",
            "d01d9fc908ed441e8901bebef5be70f8",
            "3000917937804ff299b6162d49ab1077",
            "11fcab2e9a644a6098ded9332a008a11",
            "6f5c42f98d3942b1b28088fb8f23979e",
            "7fe1ebada69d4815b8067f1b7f123488",
            "a883521aaf364c7ebf60202ee1d1ceb1",
            "3cc3a6c68dff4cbfa3e00257e2377224",
            "b3df8d80558d4dd4b11342dbf1366526",
            "0759f250650f45d289a879d301e14b66",
            "cd8749224a4e4097b2a42d6d04fe4fd9",
            "a35deee9ad6c4c5e9f42bd04eb3f0b9a",
            "9b947972f7744efbac0d4fe1942aea9a",
            "e72c458922a749b88e453ca5559ab3c4",
            "f0dede4bbc73453099455314b974f24c",
            "b14cea0d26014b0c84e1d20abebb48ac",
            "2b6206d1edf4473cb8312ab723116b33",
            "764496f4c04149efaedc4a0777caf22b",
            "cc5e91425d4544d99c4dcb911299597c",
            "c3dc2d6d66f7472698804ae7797d701c",
            "e7d32493e1f047f9bb37c5e3adcc49e5",
            "f76db1d97b6e4631b41fd13a8da439bd",
            "a5db165cde634832a31b873f7d02f05b",
            "2239c8479130493381449e2618190e2c",
            "d41ac0a623414d2498d30ed1e43a82d7",
            "866104875b02406ebdb614c40d1791b2",
            "64517f34d6c74c57ac7ddcf96a4149d5",
            "056267ef62ad42ac9d7a70d0c6b85de4",
            "9707cfa6a66a4a8281e52b95861893d6",
            "96dc31a96a104f9cacbaa349b38dd9e5",
            "d6ed397b920a466ea394b8ee9617e451",
            "936bb6a1a2aa4b3297ec52b376ad2a18",
            "adb3b3f3154f420b87d46c449ad50777",
            "c4357cfb16774c4583e6037c96b80bc5",
            "b8b3e806b0854506bf643d73e3702034",
            "69ae42d9713c4e4dafd29280038bff48",
            "3aa24564b4ed407c8530d0a55a614d76"
          ]
        }
      },
      "execution_count": 8,
      "outputs": [
        {
          "output_type": "display_data",
          "data": {
            "text/plain": [
              "Downloading (…)lve/main/config.json:   0%|          | 0.00/595 [00:00<?, ?B/s]"
            ],
            "application/vnd.jupyter.widget-view+json": {
              "version_major": 2,
              "version_minor": 0,
              "model_id": "ad7ba9a462b64b19b1c0f840bf589dbd"
            }
          },
          "metadata": {}
        },
        {
          "output_type": "display_data",
          "data": {
            "text/plain": [
              "Downloading (…)olve/main/vocab.json:   0%|          | 0.00/927k [00:00<?, ?B/s]"
            ],
            "application/vnd.jupyter.widget-view+json": {
              "version_major": 2,
              "version_minor": 0,
              "model_id": "6f5c42f98d3942b1b28088fb8f23979e"
            }
          },
          "metadata": {}
        },
        {
          "output_type": "display_data",
          "data": {
            "text/plain": [
              "Downloading (…)olve/main/merges.txt:   0%|          | 0.00/696k [00:00<?, ?B/s]"
            ],
            "application/vnd.jupyter.widget-view+json": {
              "version_major": 2,
              "version_minor": 0,
              "model_id": "b14cea0d26014b0c84e1d20abebb48ac"
            }
          },
          "metadata": {}
        },
        {
          "output_type": "display_data",
          "data": {
            "text/plain": [
              "Downloading pytorch_model.bin:   0%|          | 0.00/1.56G [00:00<?, ?B/s]"
            ],
            "application/vnd.jupyter.widget-view+json": {
              "version_major": 2,
              "version_minor": 0,
              "model_id": "64517f34d6c74c57ac7ddcf96a4149d5"
            }
          },
          "metadata": {}
        },
        {
          "output_type": "stream",
          "name": "stderr",
          "text": [
            "Some weights of the model checkpoint at microsoft/biogpt were not used when initializing BioGptModel: ['output_projection.weight']\n",
            "- This IS expected if you are initializing BioGptModel from the checkpoint of a model trained on another task or with another architecture (e.g. initializing a BertForSequenceClassification model from a BertForPreTraining model).\n",
            "- This IS NOT expected if you are initializing BioGptModel from the checkpoint of a model that you expect to be exactly identical (initializing a BertForSequenceClassification model from a BertForSequenceClassification model).\n"
          ]
        }
      ]
    },
    {
      "cell_type": "code",
      "source": [
        "def normalizer(x):     \n",
        "    normalized_vector = x / np.linalg.norm(x)\n",
        "    return normalized_vector\n",
        "\n",
        "# class BioGptModel:\n",
        "    \n",
        "#     def __init__(self, model, tokenizer):\n",
        "#         # self.sentence = sentence\n",
        "#         self.model = model\n",
        "#         self.tokenizer = tokenizer\n",
        "\n",
        "#     def sentence_vectors(self,sentence):\n",
        "#         inputs = self.tokenizer(sentence, return_tensors = 'pt')\n",
        "#         w_vectors = self.model(**inputs)\n",
        "\n",
        "#         # return w_vectors\n",
        "#         token_embeddings = w_vectors[0] #First element of model_output contains all token embeddings\n",
        "#         input_mask_expanded = inputs.attention_mask.unsqueeze(-1).expand(token_embeddings.size()).float()\n",
        "#         return torch.sum(token_embeddings * input_mask_expanded, 1) / torch.clamp(input_mask_expanded.sum(1), min=1e-9)\n",
        "\n",
        "# gpt_class = BioGptModel(model, tokenizer)"
      ],
      "metadata": {
        "id": "o-OWTvoXPckV"
      },
      "execution_count": 9,
      "outputs": []
    },
    {
      "cell_type": "code",
      "source": [
        "def sentence_encoder(data):\n",
        "    vectors = []\n",
        "    normalized_vectors = []\n",
        "    for i in range(len(data)):\n",
        "        sentence_vectors = gpt_class.sentence_vectors(data[i]).detach().numpy()\n",
        "        vectors.append(sentence_vectors)\n",
        "        normalized_vectors.append(normalizer(sentence_vectors))\n",
        "\n",
        "    vectors = np.squeeze(np.array(vectors))\n",
        "    normalized_vectors = np.squeeze(np.array(normalized_vectors))\n",
        "\n",
        "    return vectors, normalized_vectors    "
      ],
      "metadata": {
        "id": "c3rgLunSRpcO"
      },
      "execution_count": 10,
      "outputs": []
    },
    {
      "cell_type": "code",
      "source": [
        "# abst_vectors, abst_vectors_norm = sentence_encoder(data_abst) \n",
        "# title_vectors, title_vectors_norm = sentence_encoder(data_abst) "
      ],
      "metadata": {
        "id": "2WEyuGZ4kwmf"
      },
      "execution_count": 11,
      "outputs": []
    },
    {
      "cell_type": "code",
      "source": [
        "# np.save('drive/MyDrive/transfer/patent/data_biotech_abstarct_biogpt.npy',abst_vectors)\n",
        "# np.save('drive/MyDrive/transfer/patent/data_biotech_abstarct_biogpt_norm.npy',abst_vectors_norm)\n",
        "\n",
        "# np.save('drive/MyDrive/transfer/patent/data_biotech_title_biogpt.npy',title_vectors)\n",
        "# np.save('drive/MyDrive/transfer/patent/data_biotech_title_biogpt_norm.npy',title_vectors_norm)"
      ],
      "metadata": {
        "id": "CRHdYIJYZAdg"
      },
      "execution_count": 12,
      "outputs": []
    },
    {
      "cell_type": "code",
      "source": [
        "abst_vectors = np.load('drive/MyDrive/transfer/patent/data_biotech_abstarct_biogpt.npy')\n",
        "abst_vectors_norm = np.load('drive/MyDrive/transfer/patent/data_biotech_abstarct_biogpt_norm.npy')\n",
        "\n",
        "title_vectors = np.load('drive/MyDrive/transfer/patent/data_biotech_abstarct_biogpt.npy')\n",
        "title_vectors_norm = np.load('drive/MyDrive/transfer/patent/data_biotech_abstarct_biogpt_norm.npy')"
      ],
      "metadata": {
        "id": "M_0Az8AeZg3w"
      },
      "execution_count": 13,
      "outputs": []
    },
    {
      "cell_type": "code",
      "source": [
        "plt.plot(abst_vectors_norm[0])\n",
        "plt.plot(abst_vectors_norm[1])"
      ],
      "metadata": {
        "colab": {
          "base_uri": "https://localhost:8080/",
          "height": 448
        },
        "id": "YJeauj9xWEzR",
        "outputId": "3a171f2c-be01-476d-a19d-de65f64e3db5"
      },
      "execution_count": 14,
      "outputs": [
        {
          "output_type": "execute_result",
          "data": {
            "text/plain": [
              "[<matplotlib.lines.Line2D at 0x7f1879d670d0>]"
            ]
          },
          "metadata": {},
          "execution_count": 14
        },
        {
          "output_type": "display_data",
          "data": {
            "text/plain": [
              "<Figure size 640x480 with 1 Axes>"
            ],
            "image/png": "[encoded data removed]"
          },
          "metadata": {}
        }
      ]
    },
    {
      "cell_type": "code",
      "source": [
        "pca = PCA().fit(abst_vectors_norm)\n",
        "pca_var = np.cumsum(pca.explained_variance_ratio_)\n",
        "\n",
        "svd_content = TruncatedSVD(n_iter= 25, n_components = 1024 ).fit(abst_vectors_norm)\n",
        "svd_var = np.cumsum(svd_content.explained_variance_ratio_)"
      ],
      "metadata": {
        "id": "eEAWTXZ5Wi2y"
      },
      "execution_count": 15,
      "outputs": []
    },
    {
      "cell_type": "code",
      "source": [
        "plt.figure(figsize = (15,6))\n",
        "plt.plot(svd_var, marker = 'o', alpha =0.2)\n",
        "# plt.xlabel('number of components')\n",
        "# plt.ylabel('cumulative explained variance');\n",
        "\n",
        "# plt.figure(figsize = (15,6))\n",
        "plt.plot(pca_var)\n",
        "plt.xlabel('number of components')\n",
        "plt.ylabel('cumulative explained variance');\n",
        "plt.legend(['SVD','PCA'])"
      ],
      "metadata": {
        "colab": {
          "base_uri": "https://localhost:8080/",
          "height": 564
        },
        "id": "BJdw5vkXa7sG",
        "outputId": "7e69fc54-6591-459a-abf0-981b6e2c248e"
      },
      "execution_count": 16,
      "outputs": [
        {
          "output_type": "execute_result",
          "data": {
            "text/plain": [
              "<matplotlib.legend.Legend at 0x7f1878be90a0>"
            ]
          },
          "metadata": {},
          "execution_count": 16
        },
        {
          "output_type": "display_data",
          "data": {
            "text/plain": [
              "<Figure size 1500x600 with 1 Axes>"
            ],
            "image/png": "[encoded data removed]"
          },
          "metadata": {}
        }
      ]
    },
    {
      "cell_type": "code",
      "source": [
        "print('PCA 100% :',np.where(np.array(pca_var) >= 0.99)[0][0])\n",
        "print('SVD 100% :',np.where(np.array(svd_var) >= 0.99)[0][0])\n",
        "print('PCA 95% :',np.where(np.array(pca_var) >= 0.95)[0][0])\n",
        "print('SVD 95% :',np.where(np.array(svd_var) >= 0.95)[0][0])\n",
        "print('PCA 90% :',np.where(np.array(pca_var) >= 0.90)[0][0])\n",
        "print('SVD 90% :',np.where(np.array(svd_var) >= 0.90)[0][0])\n",
        "print('SVD 82% :',np.where(np.array(svd_var) >= 0.82)[0][0])\n",
        "print('SVD 82% :',np.where(np.array(svd_var) >= 0.82)[0][0])"
      ],
      "metadata": {
        "colab": {
          "base_uri": "https://localhost:8080/"
        },
        "id": "_od7nuXIbC37",
        "outputId": "0255f372-a4fd-4938-c45a-54fc0bd4dfff"
      },
      "execution_count": 17,
      "outputs": [
        {
          "output_type": "stream",
          "name": "stdout",
          "text": [
            "PCA 100% : 152\n",
            "SVD 100% : 153\n",
            "PCA 95% : 89\n",
            "SVD 95% : 89\n",
            "PCA 90% : 57\n",
            "SVD 90% : 58\n",
            "SVD 82% : 34\n",
            "SVD 82% : 34\n"
          ]
        }
      ]
    },
    {
      "cell_type": "code",
      "source": [
        "def pca_reducer(target_dimension, content, title):\n",
        "    pca_name = '_pca_'+str(target_dimension)\n",
        "    pca_ = PCA(n_components=target_dimension, random_state = 42, svd_solver = 'arpack')\n",
        "    pca_.fit(content)\n",
        "    content_vectors_pca = np.apply_along_axis(normalizer,1,pca_.transform(content))\n",
        "    title_vectors_pca = np.apply_along_axis(normalizer,1,pca_.transform(title))\n",
        "\n",
        "    inverse_content = np.apply_along_axis(normalizer,1,pca_.inverse_transform(content_vectors_pca))\n",
        "    inverse_title = np.apply_along_axis(normalizer,1,pca_.inverse_transform(title_vectors_pca))\n",
        "\n",
        "    np.save('./patent_abst_vectors_norm'+pca_name,content_vectors_pca)\n",
        "    np.save('./patent_title_vectors_norm'+pca_name,title_vectors_pca)\n",
        "#     np.save('drive/MyDrive/transfer/reduced_dim/inverse_content_vectors_norm'+pca_name, inverse_content)\n",
        "#     np.save('drive/MyDrive/transfer/reduced_dim/inverse_title_vectors_norm'+pca_name, inverse_title)\n",
        "    joblib.dump(pca_, pca_name)\n",
        "\n",
        "def svd_reducer(target_dimension, content, title):\n",
        "    svd_name = '_svd_'+str(target_dimension)\n",
        "    svd_ = TruncatedSVD(n_iter= 25, n_components = target_dimension, random_state = 42 )\n",
        "    svd_.fit(content)\n",
        "    content_vectors_svd = np.apply_along_axis(normalizer,1,svd_.transform(content))\n",
        "    title_vectors_svd = np.apply_along_axis(normalizer,1,svd_.transform(title))\n",
        "\n",
        "    inverse_content = np.apply_along_axis(normalizer,1,svd_.inverse_transform(content_vectors_svd))\n",
        "    inverse_title = np.apply_along_axis(normalizer,1,svd_.inverse_transform(title_vectors_svd))\n",
        "\n",
        "    np.save('./patent_abst_vectors_norm'+svd_name,content_vectors_svd)\n",
        "    np.save('./patent_title_vectors_norm'+svd_name,title_vectors_svd)\n",
        "#     np.save('drive/MyDrive/transfer/reduced_dim/inverse_content_vectors_norm'+svd_name, inverse_content)\n",
        "#     np.save('drive/MyDrive/transfer/reduced_dim/inverse_title_vectors_norm'+svd_name, inverse_title)\n",
        "    joblib.dump(svd_, svd_name)\n"
      ],
      "metadata": {
        "id": "xsYHwobRbInj"
      },
      "execution_count": 18,
      "outputs": []
    },
    {
      "cell_type": "code",
      "source": [
        "pca_reducer(90, abst_vectors_norm, title_vectors_norm)\n",
        "svd_reducer(90, abst_vectors_norm, title_vectors_norm)\n",
        "\n",
        "pca_reducer(57, abst_vectors_norm, title_vectors_norm)\n",
        "svd_reducer(57, abst_vectors_norm, title_vectors_norm)\n",
        "\n",
        "pca_reducer(107, abst_vectors_norm, title_vectors_norm)\n",
        "svd_reducer(107, abst_vectors_norm, title_vectors_norm)"
      ],
      "metadata": {
        "id": "5PKtF1MLn-94"
      },
      "execution_count": 19,
      "outputs": []
    },
    {
      "cell_type": "code",
      "source": [
        "abstract_pca_57 = np.load('./patent_abst_vectors_norm_pca_57.npy')\n",
        "abstract_pca_90 = np.load('./patent_abst_vectors_norm_pca_90.npy')\n",
        "abstract_pca_107 = np.load('./patent_abst_vectors_norm_pca_107.npy')\n",
        "abstract_svd_57 = np.load('./patent_abst_vectors_norm_svd_57.npy')\n",
        "abstract_svd_90 = np.load('./patent_abst_vectors_norm_svd_90.npy')\n",
        "abstract_svd_107 = np.load('./patent_abst_vectors_norm_svd_107.npy')\n",
        "\n",
        "title_pca_57 = np.load('./patent_title_vectors_norm_pca_57.npy')\n",
        "title_pca_90 = np.load('./patent_title_vectors_norm_pca_90.npy')\n",
        "title_pca_107 = np.load('./patent_title_vectors_norm_pca_107.npy')\n",
        "\n",
        "title_svd_57 = np.load('./patent_title_vectors_norm_svd_57.npy')\n",
        "title_svd_90 = np.load('./patent_title_vectors_norm_svd_90.npy')\n",
        "title_svd_107 = np.load('./patent_title_vectors_norm_svd_107.npy')"
      ],
      "metadata": {
        "id": "37iQnmuMoq4j"
      },
      "execution_count": 20,
      "outputs": []
    },
    {
      "cell_type": "code",
      "source": [
        "print('content_pca_256 shape:',np.array(abstract_pca_57).shape)\n",
        "print('content_svd_256 shape:',np.array(abstract_pca_90).shape)\n",
        "print('title_pca_256 shape:',np.array(abstract_svd_57).shape)\n",
        "print('title_svd_256 shape:',np.array(abstract_svd_90).shape)\n",
        "print('content_pca_256_inverse shape:',np.array(title_pca_57).shape)\n",
        "print('content_svd_256_inverse shape:',np.array(title_pca_90).shape)\n",
        "print('title_pca_256_inverse shape:',np.array(title_svd_57).shape)\n",
        "print('title_svd_256_inverse shape:',np.array(title_svd_90).shape)"
      ],
      "metadata": {
        "id": "k55qKbZNsy-1",
        "outputId": "2dec6cce-25c6-4147-9c99-0e98b65b378d",
        "colab": {
          "base_uri": "https://localhost:8080/"
        }
      },
      "execution_count": 21,
      "outputs": [
        {
          "output_type": "stream",
          "name": "stdout",
          "text": [
            "content_pca_256 shape: (484, 57)\n",
            "content_svd_256 shape: (484, 90)\n",
            "title_pca_256 shape: (484, 57)\n",
            "title_svd_256 shape: (484, 90)\n",
            "content_pca_256_inverse shape: (484, 57)\n",
            "content_svd_256_inverse shape: (484, 90)\n",
            "title_pca_256_inverse shape: (484, 57)\n",
            "title_svd_256_inverse shape: (484, 90)\n"
          ]
        }
      ]
    },
    {
      "cell_type": "code",
      "source": [
        "searcher_raw = scann.scann_ops_pybind.builder(abst_vectors_norm, 50, \"dot_product\").tree(\n",
        "    num_leaves=200, num_leaves_to_search=100, training_sample_size=250000).score_ah(\n",
        "    2, anisotropic_quantization_threshold=0.2).reorder(100).build()\n",
        "\n",
        "searcher_pca_57 = scann.scann_ops_pybind.builder(abstract_pca_57, 50, \"dot_product\").tree(\n",
        "    num_leaves=200, num_leaves_to_search=100, training_sample_size=250000).score_ah(\n",
        "    2, anisotropic_quantization_threshold=0.2).reorder(100).build()\n",
        "\n",
        "searcher_pca_90 = scann.scann_ops_pybind.builder(abstract_pca_90, 50, \"dot_product\").tree(\n",
        "    num_leaves=200, num_leaves_to_search=100, training_sample_size=250000).score_ah(\n",
        "    2, anisotropic_quantization_threshold=0.2).reorder(100).build()\n",
        "\n",
        "searcher_pca_107 = scann.scann_ops_pybind.builder(abstract_pca_107, 50, \"dot_product\").tree(\n",
        "    num_leaves=200, num_leaves_to_search=100, training_sample_size=250000).score_ah(\n",
        "    2, anisotropic_quantization_threshold=0.2).reorder(100).build()    \n",
        "\n",
        "searcher_svd_57 = scann.scann_ops_pybind.builder(abstract_svd_57, 50, \"dot_product\").tree(\n",
        "    num_leaves=200, num_leaves_to_search=100, training_sample_size=250000).score_ah(\n",
        "    2, anisotropic_quantization_threshold=0.2).reorder(100).build()\n",
        "\n",
        "searcher_svd_90 = scann.scann_ops_pybind.builder(title_svd_90, 50, \"dot_product\").tree(\n",
        "    num_leaves=200, num_leaves_to_search=100, training_sample_size=250000).score_ah(\n",
        "    2, anisotropic_quantization_threshold=0.2).reorder(100).build()  \n",
        "\n",
        "searcher_svd_107 = scann.scann_ops_pybind.builder(title_svd_107, 50, \"dot_product\").tree(\n",
        "    num_leaves=200, num_leaves_to_search=100, training_sample_size=250000).score_ah(\n",
        "    2, anisotropic_quantization_threshold=0.2).reorder(100).build()         "
      ],
      "metadata": {
        "id": "ZFf3VL3ctTl1"
      },
      "execution_count": 23,
      "outputs": []
    },
    {
      "cell_type": "code",
      "source": [
        "raw_idx = []\n",
        "reduced_idx_pca_57 = []\n",
        "reduced_idx_svd_57 = []\n",
        "reduced_idx_pca_90 = []\n",
        "reduced_idx_svd_90 = []\n",
        "reduced_idx_pca_107 = []\n",
        "reduced_idx_svd_107 = []\n",
        "# for i in range(len(title_vectors_norm)):\n",
        "for i in range(100):\n",
        "    raw_idx.append(searcher_raw.search(title_vectors_norm[i])[0])\n",
        "    reduced_idx_pca_57.append(searcher_pca_57.search(title_pca_57[i])[0])\n",
        "    reduced_idx_svd_57.append(searcher_svd_57.search(title_svd_57[i])[0])\n",
        "    reduced_idx_pca_90.append(searcher_pca_90.search(title_pca_90[i])[0])\n",
        "    reduced_idx_svd_90.append(searcher_svd_90.search(title_svd_90[i])[0])\n",
        "    reduced_idx_pca_107.append(searcher_pca_107.search(title_pca_107[i])[0])\n",
        "    reduced_idx_svd_107.append(searcher_svd_107.search(title_svd_107[i])[0])"
      ],
      "metadata": {
        "id": "IwGknAlp1eEI"
      },
      "execution_count": 24,
      "outputs": []
    },
    {
      "cell_type": "code",
      "source": [
        "k = [1,3,5,10,15,20,30]\n",
        "ap_pca_57, hit_pca_57, mrr_pca_57 = metrics_calculator(raw_idx,reduced_idx_pca_57, k )\n",
        "ap_svd_57, hit_svd_57, mrr_svd_57 = metrics_calculator(raw_idx,reduced_idx_svd_57, k )\n",
        "\n",
        "\n",
        "ap_pca_90, hit_pca_90, mrr_pca_90 = metrics_calculator(raw_idx,reduced_idx_pca_90, k )\n",
        "ap_svd_90, hit_svd_90, mrr_svd_90 = metrics_calculator(raw_idx,reduced_idx_svd_90, k )\n",
        "\n",
        "ap_pca_107, hit_pca_107, mrr_pca_107 = metrics_calculator(raw_idx,reduced_idx_pca_107, k )\n",
        "ap_svd_107, hit_svd_107, mrr_svd_107 = metrics_calculator(raw_idx,reduced_idx_svd_107, k )"
      ],
      "metadata": {
        "id": "G4XpZ2GV2kkS",
        "outputId": "976a5369-3da9-4049-d8c4-4917fe12e071",
        "colab": {
          "base_uri": "https://localhost:8080/"
        }
      },
      "execution_count": 25,
      "outputs": [
        {
          "output_type": "stream",
          "name": "stderr",
          "text": [
            "<ipython-input-5-4267b1d28ba5>:38: VisibleDeprecationWarning: Creating an ndarray from ragged nested sequences (which is a list-or-tuple of lists-or-tuples-or ndarrays with different lengths or shapes) is deprecated. If you meant to do this, you must specify 'dtype=object' when creating the ndarray.\n",
            "  elevated_rank = np.add(rank,1)\n"
          ]
        }
      ]
    },
    {
      "cell_type": "code",
      "source": [
        "# plt.subplot(1,4,2)\n",
        "plt.figure(figsize =(15,8))\n",
        "plt.plot(k,hit_pca_57, '-o')\n",
        "plt.plot(k,hit_svd_57, '-*')\n",
        "plt.plot(k,hit_pca_90, '-d')\n",
        "plt.plot(k,hit_svd_90, '+-')\n",
        "plt.plot(k,hit_pca_107, 's-')\n",
        "plt.plot(k,hit_svd_107, 'p-')\n",
        "hit_pca_107\n",
        "# plt.scatter(k,hit_svd_90, marker = 's', color= 'green')\n",
        "# plt.plot(k,hit_fa, '->')\n",
        "plt.title('HIT RATE@K')\n",
        "plt.legend(['pca_57','svd_57','pca_90','svd_90','pca_107','svd_107'])\n",
        "plt.xlabel('K');"
      ],
      "metadata": {
        "id": "0SkvERUy3I-D",
        "outputId": "5b7bb0c4-55e4-42b9-8f16-f5d9ea44e20c",
        "colab": {
          "base_uri": "https://localhost:8080/",
          "height": 723
        }
      },
      "execution_count": 32,
      "outputs": [
        {
          "output_type": "display_data",
          "data": {
            "text/plain": [
              "<Figure size 1500x800 with 1 Axes>"
            ],
            "image/png": "[encoded data removed]"
          },
          "metadata": {}
        }
      ]
    },
    {
      "cell_type": "code",
      "source": [
        "hit_svd_57"
      ],
      "metadata": {
        "id": "OIEHuVPm3cES",
        "outputId": "f93a2bec-a602-4e18-be7c-44ba5ef9b564",
        "colab": {
          "base_uri": "https://localhost:8080/"
        }
      },
      "execution_count": 27,
      "outputs": [
        {
          "output_type": "execute_result",
          "data": {
            "text/plain": [
              "[83, 262, 427, 884, 1318, 1741, 2613]"
            ]
          },
          "metadata": {},
          "execution_count": 27
        }
      ]
    },
    {
      "cell_type": "code",
      "source": [
        "hit_svd_90"
      ],
      "metadata": {
        "id": "RsUnSAkk4JPe",
        "outputId": "ab4bf93d-e63a-4eee-e83c-3dc5f0aea63f",
        "colab": {
          "base_uri": "https://localhost:8080/"
        }
      },
      "execution_count": 28,
      "outputs": [
        {
          "output_type": "execute_result",
          "data": {
            "text/plain": [
              "[93, 275, 438, 914, 1360, 1822, 2742]"
            ]
          },
          "metadata": {},
          "execution_count": 28
        }
      ]
    },
    {
      "cell_type": "code",
      "source": [
        "hit_svd_107"
      ],
      "metadata": {
        "id": "V-RDIxD342uO",
        "colab": {
          "base_uri": "https://localhost:8080/"
        },
        "outputId": "3592678c-b9a4-418f-c7e0-cc8d4f1e89dc"
      },
      "execution_count": 29,
      "outputs": [
        {
          "output_type": "execute_result",
          "data": {
            "text/plain": [
              "[84, 276, 447, 924, 1401, 1844, 2783]"
            ]
          },
          "metadata": {},
          "execution_count": 29
        }
      ]
    },
    {
      "cell_type": "code",
      "source": [],
      "metadata": {
        "id": "GjyNgq-HX0u7"
      },
      "execution_count": null,
      "outputs": []
    }
  ]
}