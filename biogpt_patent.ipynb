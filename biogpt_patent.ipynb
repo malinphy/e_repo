{
  "nbformat": 4,
  "nbformat_minor": 0,
  "metadata": {
    "colab": {
      "provenance": [],
      "include_colab_link": true
    },
    "kernelspec": {
      "display_name": "Python 3",
      "name": "python3"
    },
    "gpuClass": "standard"
  },
  "cells": [
    {
      "cell_type": "markdown",
      "metadata": {
        "id": "view-in-github",
        "colab_type": "text"
      },
      "source": [
        "<a href=\"https://colab.research.google.com/github/malinphy/q_17/blob/main/biogpt_patent.ipynb\" target=\"_parent\"><img src=\"https://colab.research.google.com/assets/colab-badge.svg\" alt=\"Open In Colab\"/></a>"
      ]
    },
    {
      "cell_type": "code",
      "source": [
        "!pip install transformers -q\n",
        "!pip install sacremoses -q"
      ],
      "metadata": {
        "id": "HXdo5cRbRFAV"
      },
      "execution_count": 1,
      "outputs": []
    },
    {
      "cell_type": "code",
      "source": [
        "from google.colab import drive\n",
        "drive.mount('/content/drive')"
      ],
      "metadata": {
        "colab": {
          "base_uri": "https://localhost:8080/"
        },
        "id": "4ciuSPHiNzSh",
        "outputId": "f217a3c9-0f23-4117-8bc8-fe9de2f57138"
      },
      "execution_count": 2,
      "outputs": [
        {
          "output_type": "stream",
          "name": "stdout",
          "text": [
            "Drive already mounted at /content/drive; to attempt to forcibly remount, call drive.mount(\"/content/drive\", force_remount=True).\n"
          ]
        }
      ]
    },
    {
      "cell_type": "code",
      "source": [
        "import os \n",
        "import json \n",
        "from transformers import AutoTokenizer, BioGptModel\n",
        "import torch\n",
        "import matplotlib.pyplot as plt \n",
        "plt.style.use('ggplot')\n",
        "import numpy as np\n",
        "from sklearn.decomposition import PCA, TruncatedSVD"
      ],
      "metadata": {
        "id": "DS_eY5iZNkgE"
      },
      "execution_count": 3,
      "outputs": []
    },
    {
      "cell_type": "code",
      "source": [
        "# os.listdir('drive/MyDrive/transfer/patent')"
      ],
      "metadata": {
        "id": "NSwRHIKZNkco"
      },
      "execution_count": 4,
      "outputs": []
    },
    {
      "cell_type": "code",
      "source": [
        "f = open ('drive/MyDrive/transfer/patent/vec_vectorized_biotech_patents_transformed_ols.json', \"r\")\n",
        "data_biotech = json.loads(f.read())\n",
        "data_biotech[0]['title']\n",
        "data_abst = [data_biotech[i]['abstract'] for i in range(len(data_biotech))]\n",
        "data_title = [data_biotech[i]['title'] for i in range(len(data_biotech))]"
      ],
      "metadata": {
        "id": "p_wsRpGMNkZg"
      },
      "execution_count": 5,
      "outputs": []
    },
    {
      "cell_type": "code",
      "source": [
        "print(len(data_biotech))"
      ],
      "metadata": {
        "colab": {
          "base_uri": "https://localhost:8080/"
        },
        "id": "ShCYD1yFSKJ4",
        "outputId": "200e642b-4198-4523-be46-e370c9dcc7f7"
      },
      "execution_count": 6,
      "outputs": [
        {
          "output_type": "stream",
          "name": "stdout",
          "text": [
            "484\n"
          ]
        }
      ]
    },
    {
      "cell_type": "code",
      "source": [
        "tokenizer = AutoTokenizer.from_pretrained(\"microsoft/biogpt\");\n",
        "model = BioGptModel.from_pretrained(\"microsoft/biogpt\");"
      ],
      "metadata": {
        "id": "DdtYuuytPQpN",
        "outputId": "56178037-b5c1-4c54-c87d-ac3c93ab9041",
        "colab": {
          "base_uri": "https://localhost:8080/"
        }
      },
      "execution_count": 7,
      "outputs": [
        {
          "output_type": "stream",
          "name": "stderr",
          "text": [
            "Some weights of the model checkpoint at microsoft/biogpt were not used when initializing BioGptModel: ['output_projection.weight']\n",
            "- This IS expected if you are initializing BioGptModel from the checkpoint of a model trained on another task or with another architecture (e.g. initializing a BertForSequenceClassification model from a BertForPreTraining model).\n",
            "- This IS NOT expected if you are initializing BioGptModel from the checkpoint of a model that you expect to be exactly identical (initializing a BertForSequenceClassification model from a BertForSequenceClassification model).\n"
          ]
        }
      ]
    },
    {
      "cell_type": "code",
      "source": [
        "def normalizer(x):\n",
        "    return x/np.linalg.norm(x)\n",
        "\n",
        "class BioGptModel:\n",
        "    \n",
        "    def __init__(self, model, tokenizer):\n",
        "        # self.sentence = sentence\n",
        "        self.model = model\n",
        "        self.tokenizer = tokenizer\n",
        "\n",
        "    def sentence_vectors(self,sentence):\n",
        "        inputs = self.tokenizer(sentence, return_tensors = 'pt')\n",
        "        w_vectors = self.model(**inputs)\n",
        "\n",
        "        # return w_vectors\n",
        "        token_embeddings = w_vectors[0] #First element of model_output contains all token embeddings\n",
        "        input_mask_expanded = inputs.attention_mask.unsqueeze(-1).expand(token_embeddings.size()).float()\n",
        "        return torch.sum(token_embeddings * input_mask_expanded, 1) / torch.clamp(input_mask_expanded.sum(1), min=1e-9)\n",
        "\n",
        "gpt_class = BioGptModel(model, tokenizer)"
      ],
      "metadata": {
        "id": "o-OWTvoXPckV"
      },
      "execution_count": 8,
      "outputs": []
    },
    {
      "cell_type": "code",
      "source": [
        "def sentence_encoder(data):\n",
        "    vectors = []\n",
        "    normalized_vectors = []\n",
        "    for i in range(len(data)):\n",
        "        sentence_vectors = gpt_class.sentence_vectors(data[i]).detach().numpy()\n",
        "        vectors.append(sentence_vectors)\n",
        "        normalized_vectors.append(normalizer(sentence_vectors))\n",
        "\n",
        "    vectors = np.squeeze(np.array(vectors))\n",
        "    normalized_vectors = np.squeeze(np.array(normalized_vectors))\n",
        "\n",
        "    return vectors, normalized_vectors    "
      ],
      "metadata": {
        "id": "c3rgLunSRpcO"
      },
      "execution_count": 9,
      "outputs": []
    },
    {
      "cell_type": "code",
      "source": [
        "# abst_vectors, abst_vectors_norm = sentence_encoder(data_abst) \n",
        "# title_vectors, title_vectors_norm = sentence_encoder(data_abst) "
      ],
      "metadata": {
        "id": "2WEyuGZ4kwmf"
      },
      "execution_count": 10,
      "outputs": []
    },
    {
      "cell_type": "code",
      "source": [
        "# np.save('drive/MyDrive/transfer/patent/data_biotech_abstarct_biogpt.npy',abst_vectors)\n",
        "# np.save('drive/MyDrive/transfer/patent/data_biotech_abstarct_biogpt_norm.npy',abst_vectors_norm)\n",
        "\n",
        "# np.save('drive/MyDrive/transfer/patent/data_biotech_title_biogpt.npy',title_vectors)\n",
        "# np.save('drive/MyDrive/transfer/patent/data_biotech_title_biogpt_norm.npy',title_vectors_norm)"
      ],
      "metadata": {
        "id": "CRHdYIJYZAdg"
      },
      "execution_count": 11,
      "outputs": []
    },
    {
      "cell_type": "code",
      "source": [
        "abst_vectors = np.load('drive/MyDrive/transfer/patent/data_biotech_abstarct_biogpt.npy')\n",
        "abst_vectors_norm = np.load('drive/MyDrive/transfer/patent/data_biotech_abstarct_biogpt_norm.npy')\n",
        "\n",
        "title_vectors = np.load('drive/MyDrive/transfer/patent/data_biotech_abstarct_biogpt.npy')\n",
        "title_vectors_norm = np.load('drive/MyDrive/transfer/patent/data_biotech_abstarct_biogpt_norm.npy')"
      ],
      "metadata": {
        "id": "M_0Az8AeZg3w"
      },
      "execution_count": 13,
      "outputs": []
    },
    {
      "cell_type": "code",
      "source": [
        "plt.plot(normalized_abstract_vectors[0])\n",
        "plt.plot(normalized_abstract_vectors[1])"
      ],
      "metadata": {
        "colab": {
          "base_uri": "https://localhost:8080/",
          "height": 283
        },
        "id": "YJeauj9xWEzR",
        "outputId": "abab4588-e4ee-45cd-81de-92d7a69df3bb"
      },
      "execution_count": 14,
      "outputs": [
        {
          "output_type": "execute_result",
          "data": {
            "text/plain": [
              "[<matplotlib.lines.Line2D at 0x7fca602cf3d0>]"
            ]
          },
          "metadata": {},
          "execution_count": 14
        },
        {
          "output_type": "display_data",
          "data": {
            "text/plain": [
              "<Figure size 432x288 with 1 Axes>"
            ],
            "image/png": "[encoded data removed]"
          },
          "metadata": {}
        }
      ]
    },
    {
      "cell_type": "code",
      "source": [
        "pca = PCA().fit(normalized_abstract_vectors)\n",
        "pca_var = np.cumsum(pca.explained_variance_ratio_)\n",
        "\n",
        "svd_content = TruncatedSVD(n_iter= 25, n_components = 1024 ).fit(normalized_abstract_vectors)\n",
        "svd_var = np.cumsum(svd_content.explained_variance_ratio_)"
      ],
      "metadata": {
        "id": "eEAWTXZ5Wi2y"
      },
      "execution_count": 15,
      "outputs": []
    },
    {
      "cell_type": "code",
      "source": [
        "plt.figure(figsize = (15,6))\n",
        "plt.plot(svd_var, marker = 'o', alpha =0.2)\n",
        "# plt.xlabel('number of components')\n",
        "# plt.ylabel('cumulative explained variance');\n",
        "\n",
        "# plt.figure(figsize = (15,6))\n",
        "plt.plot(pca_var)\n",
        "plt.xlabel('number of components')\n",
        "plt.ylabel('cumulative explained variance');\n",
        "plt.legend(['SVD','PCA'])"
      ],
      "metadata": {
        "colab": {
          "base_uri": "https://localhost:8080/",
          "height": 409
        },
        "id": "BJdw5vkXa7sG",
        "outputId": "f7e2d348-68db-43d8-9632-fb704b4ace8e"
      },
      "execution_count": 16,
      "outputs": [
        {
          "output_type": "execute_result",
          "data": {
            "text/plain": [
              "<matplotlib.legend.Legend at 0x7fca5e158fd0>"
            ]
          },
          "metadata": {},
          "execution_count": 16
        },
        {
          "output_type": "display_data",
          "data": {
            "text/plain": [
              "<Figure size 1080x432 with 1 Axes>"
            ],
            "image/png": "[encoded data removed]"
          },
          "metadata": {}
        }
      ]
    },
    {
      "cell_type": "code",
      "source": [
        "print('PCA 100% :',np.where(np.array(pca_var) >= 0.99)[0][0])\n",
        "print('SVD 100% :',np.where(np.array(svd_var) >= 0.99)[0][0])\n",
        "print('PCA 95% :',np.where(np.array(pca_var) >= 0.95)[0][0])\n",
        "print('SVD 95% :',np.where(np.array(svd_var) >= 0.95)[0][0])\n",
        "print('PCA 90% :',np.where(np.array(pca_var) >= 0.90)[0][0])\n",
        "print('SVD 90% :',np.where(np.array(svd_var) >= 0.90)[0][0])\n",
        "print('SVD 82% :',np.where(np.array(svd_var) >= 0.82)[0][0])\n",
        "print('SVD 82% :',np.where(np.array(svd_var) >= 0.82)[0][0])"
      ],
      "metadata": {
        "colab": {
          "base_uri": "https://localhost:8080/"
        },
        "id": "_od7nuXIbC37",
        "outputId": "e258b3c4-a5fb-4781-e41b-5400e4fefff3"
      },
      "execution_count": 17,
      "outputs": [
        {
          "output_type": "stream",
          "name": "stdout",
          "text": [
            "PCA 100% : 152\n",
            "SVD 100% : 153\n",
            "PCA 95% : 89\n",
            "SVD 95% : 89\n",
            "PCA 90% : 57\n",
            "SVD 90% : 58\n",
            "SVD 82% : 34\n",
            "SVD 82% : 34\n"
          ]
        }
      ]
    },
    {
      "cell_type": "code",
      "source": [],
      "metadata": {
        "id": "xsYHwobRbInj"
      },
      "execution_count": 17,
      "outputs": []
    }
  ]
}