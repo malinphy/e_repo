{
  "nbformat": 4,
  "nbformat_minor": 0,
  "metadata": {
    "colab": {
      "provenance": [],
      "include_colab_link": true
    },
    "kernelspec": {
      "display_name": "Python 3",
      "name": "python3"
    },
    "gpuClass": "standard"
  },
  "cells": [
    {
      "cell_type": "markdown",
      "metadata": {
        "id": "view-in-github",
        "colab_type": "text"
      },
      "source": [
        "<a href=\"https://colab.research.google.com/github/malinphy/q_17/blob/main/pca.ipynb\" target=\"_parent\"><img src=\"https://colab.research.google.com/assets/colab-badge.svg\" alt=\"Open In Colab\"/></a>"
      ]
    },
    {
      "cell_type": "code",
      "source": [
        "from google.colab import drive\n",
        "drive.mount('/content/drive')"
      ],
      "metadata": {
        "colab": {
          "base_uri": "https://localhost:8080/"
        },
        "id": "woml2Vl0I547",
        "outputId": "996d500f-6738-4da6-aac7-21f109a09433"
      },
      "execution_count": 1,
      "outputs": [
        {
          "output_type": "stream",
          "name": "stdout",
          "text": [
            "Drive already mounted at /content/drive; to attempt to forcibly remount, call drive.mount(\"/content/drive\", force_remount=True).\n"
          ]
        }
      ]
    },
    {
      "cell_type": "code",
      "source": [
        "!pip install scann -q"
      ],
      "metadata": {
        "id": "JsIv97_fi0OO"
      },
      "execution_count": 2,
      "outputs": []
    },
    {
      "cell_type": "code",
      "source": [
        "import os\n",
        "import numpy as np # linear algebra\n",
        "import pandas as pd # data processing, CSV file I/O (e.g. pd.read_csv)\n",
        "\n",
        "from numpy.random import seed\n",
        "from sklearn.preprocessing import minmax_scale\n",
        "from sklearn.model_selection import train_test_split\n",
        "import tensorflow as tf\n",
        "from tensorflow import keras\n",
        "from keras.layers import Input, Dense\n",
        "from keras.models import Model\n",
        "import matplotlib.pyplot as plt\n",
        "import scann\n",
        "plt.style.use('ggplot')\n",
        "# import openai\n",
        "from sklearn.decomposition import PCA"
      ],
      "metadata": {
        "id": "eaQimpmyI6ej"
      },
      "execution_count": 3,
      "outputs": []
    },
    {
      "cell_type": "code",
      "source": [
        "vector_dir = 'drive/MyDrive/BBC_content_vectors.npy'\n",
        "title_dir = 'drive/MyDrive/transfer/title_vectors_gpt.npy'\n",
        "embedding_vectors = np.load(vector_dir)\n",
        "title_gpt_vectors = np.squeeze(np.load(title_dir))\n",
        "print((embedding_vectors).shape)\n",
        "print(title_gpt_vectors.shape)"
      ],
      "metadata": {
        "colab": {
          "base_uri": "https://localhost:8080/"
        },
        "id": "OHOqu38Mi5sp",
        "outputId": "d9eabae3-f321-446d-cee6-7dd60d9c72d2"
      },
      "execution_count": 4,
      "outputs": [
        {
          "output_type": "stream",
          "name": "stdout",
          "text": [
            "(15468, 1536)\n",
            "(15468, 1536)\n"
          ]
        }
      ]
    },
    {
      "cell_type": "code",
      "source": [
        "pca_ = PCA(n_components=256, random_state = 42, svd_solver = 'arpack')\n",
        "embedding_vectors_pca = pca_.fit_transform(embedding_vectors)\n",
        "title_vectors_pca = pca_.transform(title_gpt_vectors)"
      ],
      "metadata": {
        "id": "Dn0U6C5yjcNj"
      },
      "execution_count": 5,
      "outputs": []
    },
    {
      "cell_type": "code",
      "source": [
        "searcher = scann.scann_ops_pybind.builder(embedding_vectors, 50, \"dot_product\").tree(\n",
        "    num_leaves=1500, num_leaves_to_search=100, training_sample_size=250000).score_ah(\n",
        "    2, anisotropic_quantization_threshold=0.2).reorder(100).build()"
      ],
      "metadata": {
        "id": "5fdmvVTQjMkD"
      },
      "execution_count": 6,
      "outputs": []
    },
    {
      "cell_type": "code",
      "source": [
        "searcher_pca = scann.scann_ops_pybind.builder(embedding_vectors_pca, 50, \"dot_product\").tree(\n",
        "    num_leaves=1500, num_leaves_to_search=100, training_sample_size=250000).score_ah(\n",
        "    2, anisotropic_quantization_threshold=0.2).reorder(100).build()"
      ],
      "metadata": {
        "id": "oMCqcnu_kYMB"
      },
      "execution_count": 7,
      "outputs": []
    },
    {
      "cell_type": "code",
      "source": [
        "raw_idx = []\n",
        "reduced_idx = []\n",
        "for i in range(100):\n",
        "    raw_idx.append(searcher.search(title_gpt_vectors[i])[0])\n",
        "    reduced_idx.append(searcher_pca.search(title_vectors_pca[i])[0])"
      ],
      "metadata": {
        "id": "KnRwgd48kmgq"
      },
      "execution_count": 8,
      "outputs": []
    },
    {
      "cell_type": "code",
      "source": [
        "def hit_rate(actual, predicted):\n",
        "    return np.intersect1d(actual, predicted)"
      ],
      "metadata": {
        "id": "TWInEwgLkt7h"
      },
      "execution_count": 9,
      "outputs": []
    },
    {
      "cell_type": "code",
      "source": [
        "reduced_idx = np.array(reduced_idx, dtype = 'int32')\n",
        "raw_idx = np.array(raw_idx, dtype = 'int32')"
      ],
      "metadata": {
        "id": "vv9181M8ly6F"
      },
      "execution_count": 10,
      "outputs": []
    },
    {
      "cell_type": "code",
      "source": [
        "def apk(actual, predicted, k=10):\n",
        "    \"\"\"\n",
        "    Computes the average precision at k.\n",
        "    This function computes the average prescision at k between two lists of\n",
        "    items.\n",
        "    Parameters\n",
        "    ----------\n",
        "    actual : list\n",
        "             A list of elements that are to be predicted (order doesn't matter)\n",
        "    predicted : list\n",
        "                A list of predicted elements (order does matter)\n",
        "    k : int, optional\n",
        "        The maximum number of predicted elements\n",
        "    Returns\n",
        "    -------\n",
        "    score : double\n",
        "            The average precision at k over the input lists\n",
        "    \"\"\"\n",
        "    if len(predicted)>k:\n",
        "        predicted = predicted[:k]\n",
        "\n",
        "    score = 0.0\n",
        "    num_hits = 0.0\n",
        "    hits = []\n",
        "    for i,p in enumerate(predicted):\n",
        "        if p in actual and p not in predicted[:i]:\n",
        "            num_hits += 1.0\n",
        "            score += num_hits / (i+1.0)\n",
        "        hits.append(num_hits)\n",
        "    if not actual:\n",
        "        return 0.0\n",
        "    # print(((hits)))\n",
        "    return score / min(len(actual), k)\n",
        "\n",
        "def mapk(actual, predicted, k=10):\n",
        "    \"\"\"\n",
        "    Computes the mean average precision at k.\n",
        "    This function computes the mean average prescision at k between two lists\n",
        "    of lists of items.\n",
        "    Parameters\n",
        "    ----------\n",
        "    actual : list\n",
        "             A list of lists of elements that are to be predicted \n",
        "             (order doesn't matter in the lists)\n",
        "    predicted : list\n",
        "                A list of lists of predicted elements\n",
        "                (order matters in the lists)\n",
        "    k : int, optional\n",
        "        The maximum number of predicted elements\n",
        "    Returns\n",
        "    -------\n",
        "    score : double\n",
        "            The mean average precision at k over the input lists\n",
        "    \"\"\"\n",
        "    return np.mean([apk(a,p,k) for a,p in zip(actual, predicted)])\n",
        "\n",
        "    \n",
        "ap_1 = mapk(raw_idx.tolist(), reduced_idx.tolist(),k=1)\n",
        "ap_3 = mapk(raw_idx.tolist(), reduced_idx.tolist(),k=3)\n",
        "ap_5 = mapk(raw_idx.tolist(), reduced_idx.tolist(),k=4)\n",
        "ap_10 = mapk(raw_idx.tolist(), reduced_idx.tolist(),k=10)\n",
        "ap_15 = mapk(raw_idx.tolist(), reduced_idx.tolist(),k=15)\n",
        "ap_20 = mapk(raw_idx.tolist(), reduced_idx.tolist(),k=20)\n",
        "ap_30 = mapk(raw_idx.tolist(), reduced_idx.tolist(),k=30)\n",
        "plt.plot([1,3,5,10,15,20,30], [ap_1,ap_3,ap_5,ap_10,ap_15,ap_20,ap_30], 'o-')"
      ],
      "metadata": {
        "colab": {
          "base_uri": "https://localhost:8080/",
          "height": 283
        },
        "id": "eCGSQq_-m3uw",
        "outputId": "c69b896b-087f-468f-f1b6-571ba38e3fb7"
      },
      "execution_count": 17,
      "outputs": [
        {
          "output_type": "execute_result",
          "data": {
            "text/plain": [
              "[<matplotlib.lines.Line2D at 0x7f35cbe1b0d0>]"
            ]
          },
          "metadata": {},
          "execution_count": 17
        },
        {
          "output_type": "display_data",
          "data": {
            "text/plain": [
              "<Figure size 432x288 with 1 Axes>"
            ],
            "image/png": "[encoded data removed]"
          },
          "metadata": {}
        }
      ]
    },
    {
      "cell_type": "code",
      "source": [
        "def intersect(actual, predicted,k):\n",
        "    return np.intersect1d(actual, predicted)\n",
        "\n",
        "def hit_rate(actual, predicted,k):\n",
        "    total = 0\n",
        "    for i in range(len(actual)):\n",
        "        intersection = intersect(raw_idx[i][:k], reduced_idx[i][:k],3)\n",
        "        total = total + len(intersection)\n",
        "\n",
        "    return total\n",
        "\n",
        "HR_1 = hit_rate(raw_idx, reduced_idx, 1)\n",
        "HR_3 = hit_rate(raw_idx, reduced_idx, 3)\n",
        "HR_5 = hit_rate(raw_idx, reduced_idx, 5)\n",
        "HR_10 = hit_rate(raw_idx, reduced_idx, 10)\n",
        "HR_15 = hit_rate(raw_idx, reduced_idx, 15)\n",
        "HR_20 = hit_rate(raw_idx, reduced_idx, 20)\n",
        "HR_30 = hit_rate(raw_idx, reduced_idx, 30)\n",
        "plt.plot([1,3,5,10,15,20,30], [HR_1,HR_3,HR_5,HR_10,HR_15,HR_20,HR_30], 'o-')"
      ],
      "metadata": {
        "id": "yM5M55p7f8Qv",
        "outputId": "a7fc55ec-dcf8-47f3-b7e1-1c4dac5d0e21",
        "colab": {
          "base_uri": "https://localhost:8080/",
          "height": 283
        }
      },
      "execution_count": 16,
      "outputs": [
        {
          "output_type": "execute_result",
          "data": {
            "text/plain": [
              "[<matplotlib.lines.Line2D at 0x7f35cbefc760>]"
            ]
          },
          "metadata": {},
          "execution_count": 16
        },
        {
          "output_type": "display_data",
          "data": {
            "text/plain": [
              "<Figure size 432x288 with 1 Axes>"
            ],
            "image/png": "[encoded data removed]"
          },
          "metadata": {}
        }
      ]
    },
    {
      "cell_type": "code",
      "source": [],
      "metadata": {
        "id": "c_kOWuoAecOW"
      },
      "execution_count": 15,
      "outputs": []
    }
  ]
}