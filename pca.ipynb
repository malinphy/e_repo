{
  "nbformat": 4,
  "nbformat_minor": 0,
  "metadata": {
    "colab": {
      "provenance": [],
      "include_colab_link": true
    },
    "kernelspec": {
      "display_name": "Python 3",
      "name": "python3"
    },
    "gpuClass": "standard"
  },
  "cells": [
    {
      "cell_type": "markdown",
      "metadata": {
        "id": "view-in-github",
        "colab_type": "text"
      },
      "source": [
        "<a href=\"https://colab.research.google.com/github/malinphy/q_17/blob/main/pca.ipynb\" target=\"_parent\"><img src=\"https://colab.research.google.com/assets/colab-badge.svg\" alt=\"Open In Colab\"/></a>"
      ]
    },
    {
      "cell_type": "code",
      "source": [
        "from google.colab import drive\n",
        "drive.mount('/content/drive')"
      ],
      "metadata": {
        "colab": {
          "base_uri": "https://localhost:8080/"
        },
        "id": "woml2Vl0I547",
        "outputId": "d5340174-8b53-4798-b001-dd5c2628f19c"
      },
      "execution_count": 1,
      "outputs": [
        {
          "output_type": "stream",
          "name": "stdout",
          "text": [
            "Mounted at /content/drive\n"
          ]
        }
      ]
    },
    {
      "cell_type": "code",
      "source": [
        "!pip install scann -q"
      ],
      "metadata": {
        "id": "JsIv97_fi0OO",
        "outputId": "5d4eef5f-50fa-42ad-a11c-1c6b3dcf2e97",
        "colab": {
          "base_uri": "https://localhost:8080/"
        }
      },
      "execution_count": 2,
      "outputs": [
        {
          "output_type": "stream",
          "name": "stdout",
          "text": [
            "\u001b[2K     \u001b[90m━━━━━━━━━━━━━━━━━━━━━━━━━━━━━━━━━━━━━━━━\u001b[0m \u001b[32m10.5/10.5 MB\u001b[0m \u001b[31m60.4 MB/s\u001b[0m eta \u001b[36m0:00:00\u001b[0m\n",
            "\u001b[?25h"
          ]
        }
      ]
    },
    {
      "cell_type": "code",
      "source": [
        "import os\n",
        "import numpy as np # linear algebra\n",
        "import pandas as pd # data processing, CSV file I/O (e.g. pd.read_csv)\n",
        "\n",
        "from numpy.random import seed\n",
        "from sklearn.preprocessing import minmax_scale\n",
        "from sklearn.model_selection import train_test_split\n",
        "import tensorflow as tf\n",
        "from tensorflow import keras\n",
        "from keras.layers import Input, Dense\n",
        "from keras.models import Model\n",
        "import matplotlib.pyplot as plt\n",
        "import scann\n",
        "plt.style.use('ggplot')\n",
        "# import openai\n",
        "from sklearn.decomposition import PCA"
      ],
      "metadata": {
        "id": "eaQimpmyI6ej"
      },
      "execution_count": 3,
      "outputs": []
    },
    {
      "cell_type": "code",
      "source": [
        "\n",
        "vector_dir = 'drive/MyDrive/BBC_content_vectors.npy'\n",
        "title_dir = 'drive/MyDrive/transfer/title_vectors_gpt.npy'\n",
        "embedding_vectors = np.load(vector_dir)\n",
        "title_gpt_vectors = np.squeeze(np.load(title_dir))\n",
        "print((embedding_vectors).shape)\n",
        "print(title_gpt_vectors.shape)"
      ],
      "metadata": {
        "id": "OHOqu38Mi5sp",
        "outputId": "6a98f01a-7a78-437c-e4bd-7e75b512d8c0",
        "colab": {
          "base_uri": "https://localhost:8080/"
        }
      },
      "execution_count": 4,
      "outputs": [
        {
          "output_type": "stream",
          "name": "stdout",
          "text": [
            "(15468, 1536)\n",
            "(15468, 1536)\n"
          ]
        }
      ]
    },
    {
      "cell_type": "code",
      "source": [
        "pca_ = PCA(n_components=256, random_state = 42, svd_solver = 'arpack')\n",
        "embedding_vectors_pca = pca_.fit_transform(embedding_vectors)\n",
        "title_vectors_pca = pca_.transform(title_gpt_vectors)"
      ],
      "metadata": {
        "id": "Dn0U6C5yjcNj"
      },
      "execution_count": 5,
      "outputs": []
    },
    {
      "cell_type": "code",
      "source": [
        "searcher = scann.scann_ops_pybind.builder(embedding_vectors, 25, \"dot_product\").tree(\n",
        "    num_leaves=1500, num_leaves_to_search=100, training_sample_size=250000).score_ah(\n",
        "    2, anisotropic_quantization_threshold=0.2).reorder(100).build()"
      ],
      "metadata": {
        "id": "5fdmvVTQjMkD"
      },
      "execution_count": 6,
      "outputs": []
    },
    {
      "cell_type": "code",
      "source": [
        "searcher_pca = scann.scann_ops_pybind.builder(embedding_vectors_pca, 25, \"dot_product\").tree(\n",
        "    num_leaves=1500, num_leaves_to_search=100, training_sample_size=250000).score_ah(\n",
        "    2, anisotropic_quantization_threshold=0.2).reorder(100).build()"
      ],
      "metadata": {
        "id": "oMCqcnu_kYMB"
      },
      "execution_count": 7,
      "outputs": []
    },
    {
      "cell_type": "code",
      "source": [
        "raw_idx = []\n",
        "reduced_idx = []\n",
        "for i in range(20):\n",
        "    raw_idx.append(searcher.search(title_gpt_vectors[i])[0][:10])\n",
        "    reduced_idx.append(searcher_pca.search(title_vectors_pca[i])[0][:10])"
      ],
      "metadata": {
        "id": "KnRwgd48kmgq"
      },
      "execution_count": 8,
      "outputs": []
    },
    {
      "cell_type": "code",
      "source": [
        "def hit_rate(actual, predicted):\n",
        "    return np.intersect1d(actual, predicted)"
      ],
      "metadata": {
        "id": "TWInEwgLkt7h"
      },
      "execution_count": 9,
      "outputs": []
    },
    {
      "cell_type": "code",
      "source": [
        "total = 0\n",
        "for i in range(len(raw_idx)):\n",
        "    intersection = hit_rate(raw_idx[i], reduced_idx[i])\n",
        "    total = total + len(intersection)\n",
        "    print(i, len(intersection), intersection)"
      ],
      "metadata": {
        "id": "U3b78XxxlJqK",
        "outputId": "45ffb199-6bd2-4d1d-c4b5-f2dc0755d8e6",
        "colab": {
          "base_uri": "https://localhost:8080/"
        }
      },
      "execution_count": 10,
      "outputs": [
        {
          "output_type": "stream",
          "name": "stdout",
          "text": [
            "0 7 [    0   484  1517  2415  8305  8902 12584]\n",
            "1 7 [    1  1965  2569  2832  4164  8938 10916]\n",
            "2 5 [   2 1259 1909 5616 6728]\n",
            "3 7 [   3  104 3029 3997 4993 5652 7606]\n",
            "4 1 [4]\n",
            "5 4 [   5 3244 3422 7469]\n",
            "6 4 [   6 1461 3712 6484]\n",
            "7 4 [    7  8741 13910 15327]\n",
            "8 3 [    8  1380 14349]\n",
            "9 6 [    9  1953  4117  7077 13584 13967]\n",
            "10 5 [   10  1318  4809 13282 13514]\n",
            "11 5 [   11  2509 11156 13365 15356]\n",
            "12 7 [   12  2544  5574 13008 13763 14011 15178]\n",
            "13 9 [   13  1456  5227  8505  9320 10151 11788 14003 15180]\n",
            "14 7 [   14   333  6102  6130  9779 15091 15429]\n",
            "15 5 [   15  5096 12604 13205 14615]\n",
            "16 2 [  16 7364]\n",
            "17 6 [   17  1840  3557  4013 12210 13387]\n",
            "18 5 [   18  4235  9398  9630 11318]\n",
            "19 4 [   19  8059 10255 15234]\n"
          ]
        }
      ]
    },
    {
      "cell_type": "code",
      "source": [
        "7.0\n",
        "7.0\n",
        "5.0\n",
        "7.0\n",
        "1.0\n",
        "4.0\n",
        "4.0\n",
        "4.0\n",
        "3.0\n",
        "6.0\n",
        "5.0\n",
        "5.0\n",
        "7.0\n",
        "9.0\n",
        "7.0\n",
        "5.0\n",
        "2.0\n",
        "6.0\n",
        "5.0\n",
        "4.0"
      ],
      "metadata": {
        "id": "cN9GzQ9YUXCD"
      },
      "execution_count": null,
      "outputs": []
    },
    {
      "cell_type": "code",
      "source": [
        "reduced_idx = np.array(reduced_idx, dtype = 'int32')\n",
        "raw_idx = np.array(raw_idx, dtype = 'int32')"
      ],
      "metadata": {
        "id": "vv9181M8ly6F"
      },
      "execution_count": 32,
      "outputs": []
    },
    {
      "cell_type": "code",
      "source": [
        "def apk(actual, predicted, k=10):\n",
        "    \"\"\"\n",
        "    Computes the average precision at k.\n",
        "    This function computes the average prescision at k between two lists of\n",
        "    items.\n",
        "    Parameters\n",
        "    ----------\n",
        "    actual : list\n",
        "             A list of elements that are to be predicted (order doesn't matter)\n",
        "    predicted : list\n",
        "                A list of predicted elements (order does matter)\n",
        "    k : int, optional\n",
        "        The maximum number of predicted elements\n",
        "    Returns\n",
        "    -------\n",
        "    score : double\n",
        "            The average precision at k over the input lists\n",
        "    \"\"\"\n",
        "    if len(predicted)>k:\n",
        "        predicted = predicted[:k]\n",
        "\n",
        "    score = 0.0\n",
        "    num_hits = 0.0\n",
        "\n",
        "    for i,p in enumerate(predicted):\n",
        "        if p in actual and p not in predicted[:i]:\n",
        "            num_hits += 1.0\n",
        "            score += num_hits / (i+1.0)\n",
        "\n",
        "    # if not actual:\n",
        "    #     return 0.0\n",
        "    # print(num_hits)\n",
        "    return score / min(len(actual), k)\n",
        "\n",
        "def mapk(actual, predicted, k=10):\n",
        "    \"\"\"\n",
        "    Computes the mean average precision at k.\n",
        "    This function computes the mean average prescision at k between two lists\n",
        "    of lists of items.\n",
        "    Parameters\n",
        "    ----------\n",
        "    actual : list\n",
        "             A list of lists of elements that are to be predicted \n",
        "             (order doesn't matter in the lists)\n",
        "    predicted : list\n",
        "                A list of lists of predicted elements\n",
        "                (order matters in the lists)\n",
        "    k : int, optional\n",
        "        The maximum number of predicted elements\n",
        "    Returns\n",
        "    -------\n",
        "    score : double\n",
        "            The mean average precision at k over the input lists\n",
        "    \"\"\"\n",
        "    return np.mean([apk(a,p,k) for a,p in zip(actual, predicted)])\n",
        "    # return np.average([apk(a,p,k) for a,p in zip(actual, predicted)])\n",
        "\n",
        "\n",
        "mapk(raw_idx, reduced_idx, k=3)    "
      ],
      "metadata": {
        "id": "eCGSQq_-m3uw",
        "outputId": "7e9834ea-c7af-47ae-c0bd-f2647c977a1d",
        "colab": {
          "base_uri": "https://localhost:8080/"
        }
      },
      "execution_count": 42,
      "outputs": [
        {
          "output_type": "execute_result",
          "data": {
            "text/plain": [
              "0.8777777777777777"
            ]
          },
          "metadata": {},
          "execution_count": 42
        }
      ]
    },
    {
      "cell_type": "code",
      "source": [
        "ap = []\n",
        "# loop through and calculate AP for each query q\n",
        "for q in range(Q):\n",
        "    ap_num = 0\n",
        "    # loop through k values\n",
        "    for x in range(k):\n",
        "        # calculate precision@k\n",
        "        act_set = set(actual[q])                                                                                                                                   \n",
        "        pred_set = set(predicted[:x+1])\n",
        "        precision_at_k = len(act_set & pred_set) / (x+1)\n",
        "        # calculate rel_k values\n",
        "        if predicted[x] in actual[q]:\n",
        "            rel_k = 1\n",
        "        else:\n",
        "            rel_k = 0\n",
        "        # calculate numerator value for ap\n",
        "        ap_num += precision_at_k * rel_k\n",
        "    # now we calculate the AP value as the average of AP\n",
        "    # numerator values\n",
        "    ap_q = ap_num / len(actual[q])\n",
        "    print(f\"AP@{k}_{q+1} = {round(ap_q,2)}\")\n",
        "    ap.append(ap_q)\n",
        "\n",
        "# now we take the mean of all ap values to get mAP\n",
        "map_at_k = sum(ap) / Q\n",
        "\n",
        "# generate results\n",
        "print(f\"mAP@{k} = {round(map_at_k, 2)}\")"
      ],
      "metadata": {
        "id": "Ea-9fOFLPQBU"
      },
      "execution_count": null,
      "outputs": []
    }
  ]
}