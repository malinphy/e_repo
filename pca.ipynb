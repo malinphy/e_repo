{
  "nbformat": 4,
  "nbformat_minor": 0,
  "metadata": {
    "colab": {
      "provenance": [],
      "include_colab_link": true
    },
    "kernelspec": {
      "display_name": "Python 3",
      "name": "python3"
    },
    "gpuClass": "standard"
  },
  "cells": [
    {
      "cell_type": "markdown",
      "metadata": {
        "id": "view-in-github",
        "colab_type": "text"
      },
      "source": [
        "<a href=\"https://colab.research.google.com/github/malinphy/q_17/blob/main/pca.ipynb\" target=\"_parent\"><img src=\"https://colab.research.google.com/assets/colab-badge.svg\" alt=\"Open In Colab\"/></a>"
      ]
    },
    {
      "cell_type": "code",
      "source": [
        "from google.colab import drive\n",
        "drive.mount('/content/drive')"
      ],
      "metadata": {
        "colab": {
          "base_uri": "https://localhost:8080/"
        },
        "id": "woml2Vl0I547",
        "outputId": "bb82b778-760d-4799-c81d-6fb46a019669"
      },
      "execution_count": 1,
      "outputs": [
        {
          "output_type": "stream",
          "name": "stdout",
          "text": [
            "Drive already mounted at /content/drive; to attempt to forcibly remount, call drive.mount(\"/content/drive\", force_remount=True).\n"
          ]
        }
      ]
    },
    {
      "cell_type": "code",
      "source": [
        "!pip install scann -q"
      ],
      "metadata": {
        "id": "JsIv97_fi0OO"
      },
      "execution_count": 2,
      "outputs": []
    },
    {
      "cell_type": "code",
      "source": [
        "import os\n",
        "import numpy as np # linear algebra\n",
        "import pandas as pd # data processing, CSV file I/O (e.g. pd.read_csv)\n",
        "\n",
        "from numpy.random import seed\n",
        "from sklearn.preprocessing import minmax_scale\n",
        "from sklearn.model_selection import train_test_split\n",
        "import tensorflow as tf\n",
        "from tensorflow import keras\n",
        "from keras.layers import Input, Dense\n",
        "from keras.models import Model\n",
        "import matplotlib.pyplot as plt\n",
        "import scann\n",
        "plt.style.use('ggplot')\n",
        "# import openai\n",
        "from sklearn.decomposition import PCA, TruncatedSVD\n",
        "from sklearn.preprocessing import StandardScaler"
      ],
      "metadata": {
        "id": "eaQimpmyI6ej"
      },
      "execution_count": 3,
      "outputs": []
    },
    {
      "cell_type": "code",
      "source": [
        "vector_dir = 'drive/MyDrive/BBC_content_vectors.npy'\n",
        "title_dir = 'drive/MyDrive/transfer/title_vectors_gpt.npy'\n",
        "embedding_vectors = np.load(vector_dir)\n",
        "title_gpt_vectors = np.squeeze(np.load(title_dir))\n",
        "print((embedding_vectors).shape)\n",
        "print(title_gpt_vectors.shape)"
      ],
      "metadata": {
        "colab": {
          "base_uri": "https://localhost:8080/"
        },
        "id": "OHOqu38Mi5sp",
        "outputId": "71704c73-9f23-478c-c2c2-d6accb42db5e"
      },
      "execution_count": 4,
      "outputs": [
        {
          "output_type": "stream",
          "name": "stdout",
          "text": [
            "(15468, 1536)\n",
            "(15468, 1536)\n"
          ]
        }
      ]
    },
    {
      "cell_type": "code",
      "source": [
        "pca_ = PCA(n_components=256, random_state = 42, svd_solver = 'arpack')\n",
        "embedding_vectors_pca = pca_.fit_transform(embedding_vectors)\n",
        "title_vectors_pca = pca_.transform(title_gpt_vectors)"
      ],
      "metadata": {
        "id": "Dn0U6C5yjcNj"
      },
      "execution_count": 5,
      "outputs": []
    },
    {
      "cell_type": "code",
      "source": [
        "searcher = scann.scann_ops_pybind.builder(embedding_vectors, 50, \"dot_product\").tree(\n",
        "    num_leaves=1500, num_leaves_to_search=100, training_sample_size=250000).score_ah(\n",
        "    2, anisotropic_quantization_threshold=0.2).reorder(100).build()"
      ],
      "metadata": {
        "id": "5fdmvVTQjMkD"
      },
      "execution_count": 6,
      "outputs": []
    },
    {
      "cell_type": "code",
      "source": [
        "searcher_pca = scann.scann_ops_pybind.builder(embedding_vectors_pca, 50, \"dot_product\").tree(\n",
        "    num_leaves=1500, num_leaves_to_search=100, training_sample_size=250000).score_ah(\n",
        "    2, anisotropic_quantization_threshold=0.2).reorder(100).build()"
      ],
      "metadata": {
        "id": "oMCqcnu_kYMB"
      },
      "execution_count": 7,
      "outputs": []
    },
    {
      "cell_type": "code",
      "source": [
        "raw_idx = []\n",
        "reduced_idx = []\n",
        "for i in range(100):\n",
        "    raw_idx.append(searcher.search(title_gpt_vectors[i])[0])\n",
        "    reduced_idx.append(searcher_pca.search(title_vectors_pca[i])[0])"
      ],
      "metadata": {
        "id": "KnRwgd48kmgq"
      },
      "execution_count": 8,
      "outputs": []
    },
    {
      "cell_type": "code",
      "source": [
        "def hit_rate(actual, predicted):\n",
        "    return np.intersect1d(actual, predicted)"
      ],
      "metadata": {
        "id": "TWInEwgLkt7h"
      },
      "execution_count": 9,
      "outputs": []
    },
    {
      "cell_type": "code",
      "source": [
        "reduced_idx = np.array(reduced_idx, dtype = 'int32')\n",
        "raw_idx = np.array(raw_idx, dtype = 'int32')"
      ],
      "metadata": {
        "id": "vv9181M8ly6F"
      },
      "execution_count": 10,
      "outputs": []
    },
    {
      "cell_type": "code",
      "source": [
        "def apk(actual, predicted, k=10):\n",
        "    \"\"\"\n",
        "    Computes the average precision at k.\n",
        "    This function computes the average prescision at k between two lists of\n",
        "    items.\n",
        "    Parameters\n",
        "    ----------\n",
        "    actual : list\n",
        "             A list of elements that are to be predicted (order doesn't matter)\n",
        "    predicted : list\n",
        "                A list of predicted elements (order does matter)\n",
        "    k : int, optional\n",
        "        The maximum number of predicted elements\n",
        "    Returns\n",
        "    -------\n",
        "    score : double\n",
        "            The average precision at k over the input lists\n",
        "    \"\"\"\n",
        "    if len(predicted)>k:\n",
        "        predicted = predicted[:k]\n",
        "\n",
        "    score = 0.0\n",
        "    num_hits = 0.0\n",
        "    hits = []\n",
        "    for i,p in enumerate(predicted):\n",
        "        if p in actual and p not in predicted[:i]:\n",
        "            num_hits += 1.0\n",
        "            score += num_hits / (i+1.0)\n",
        "        hits.append(num_hits)\n",
        "    if not actual:\n",
        "        return 0.0\n",
        "    # print(((hits)))\n",
        "    return score / min(len(actual), k)\n",
        "\n",
        "def mapk(actual, predicted, k=10):\n",
        "    \"\"\"\n",
        "    Computes the mean average precision at k.\n",
        "    This function computes the mean average prescision at k between two lists\n",
        "    of lists of items.\n",
        "    Parameters\n",
        "    ----------\n",
        "    actual : list\n",
        "             A list of lists of elements that are to be predicted \n",
        "             (order doesn't matter in the lists)\n",
        "    predicted : list\n",
        "                A list of lists of predicted elements\n",
        "                (order matters in the lists)\n",
        "    k : int, optional\n",
        "        The maximum number of predicted elements\n",
        "    Returns\n",
        "    -------\n",
        "    score : double\n",
        "            The mean average precision at k over the input lists\n",
        "    \"\"\"\n",
        "    return np.mean([apk(a,p,k) for a,p in zip(actual, predicted)])\n",
        "\n",
        "    \n",
        "ap_1 = mapk(raw_idx.tolist(), reduced_idx.tolist(),k=1)\n",
        "ap_3 = mapk(raw_idx.tolist(), reduced_idx.tolist(),k=3)\n",
        "ap_5 = mapk(raw_idx.tolist(), reduced_idx.tolist(),k=4)\n",
        "ap_10 = mapk(raw_idx.tolist(), reduced_idx.tolist(),k=10)\n",
        "ap_15 = mapk(raw_idx.tolist(), reduced_idx.tolist(),k=15)\n",
        "ap_20 = mapk(raw_idx.tolist(), reduced_idx.tolist(),k=20)\n",
        "ap_30 = mapk(raw_idx.tolist(), reduced_idx.tolist(),k=30)\n",
        "plt.plot([1,3,5,10,15,20,30], [ap_1,ap_3,ap_5,ap_10,ap_15,ap_20,ap_30], 'o-')"
      ],
      "metadata": {
        "colab": {
          "base_uri": "https://localhost:8080/",
          "height": 283
        },
        "id": "eCGSQq_-m3uw",
        "outputId": "b19b31b8-699d-4659-941b-1f71ae23145e"
      },
      "execution_count": 11,
      "outputs": [
        {
          "output_type": "execute_result",
          "data": {
            "text/plain": [
              "[<matplotlib.lines.Line2D at 0x7fc10951b790>]"
            ]
          },
          "metadata": {},
          "execution_count": 11
        },
        {
          "output_type": "display_data",
          "data": {
            "text/plain": [
              "<Figure size 432x288 with 1 Axes>"
            ],
            "image/png": "[encoded data removed]"
          },
          "metadata": {}
        }
      ]
    },
    {
      "cell_type": "code",
      "source": [
        "def intersect(actual, predicted,k):\n",
        "    return np.intersect1d(actual, predicted)\n",
        "\n",
        "def hit_rate(actual, predicted,k):\n",
        "    total = 0\n",
        "    for i in range(len(actual)):\n",
        "        intersection = intersect(raw_idx[i][:k], reduced_idx[i][:k],3)\n",
        "        total = total + len(intersection)\n",
        "\n",
        "    return total\n",
        "\n",
        "HR_1 = hit_rate(raw_idx, reduced_idx, 1)\n",
        "HR_3 = hit_rate(raw_idx, reduced_idx, 3)\n",
        "HR_5 = hit_rate(raw_idx, reduced_idx, 5)\n",
        "HR_10 = hit_rate(raw_idx, reduced_idx, 10)\n",
        "HR_15 = hit_rate(raw_idx, reduced_idx, 15)\n",
        "HR_20 = hit_rate(raw_idx, reduced_idx, 20)\n",
        "HR_30 = hit_rate(raw_idx, reduced_idx, 30)\n",
        "plt.plot([1,3,5,10,15,20,30], [HR_1,HR_3,HR_5,HR_10,HR_15,HR_20,HR_30], 'o-')"
      ],
      "metadata": {
        "id": "yM5M55p7f8Qv",
        "outputId": "9bade2be-0959-45fe-ba5b-12ab877b6604",
        "colab": {
          "base_uri": "https://localhost:8080/",
          "height": 283
        }
      },
      "execution_count": 12,
      "outputs": [
        {
          "output_type": "execute_result",
          "data": {
            "text/plain": [
              "[<matplotlib.lines.Line2D at 0x7fc109422280>]"
            ]
          },
          "metadata": {},
          "execution_count": 12
        },
        {
          "output_type": "display_data",
          "data": {
            "text/plain": [
              "<Figure size 432x288 with 1 Axes>"
            ],
            "image/png": "[encoded data removed]"
          },
          "metadata": {}
        }
      ]
    },
    {
      "cell_type": "code",
      "source": [
        "# pca_variance = []\n",
        "# explained_variance_ratio_= []\n",
        "# for i in np.arange(2,400,4):\n",
        "#     pca_ = PCA(n_components=i, random_state = 42)\n",
        "#     embedding_vectors_pca = pca_.fit_transform(embedding_vectors)\n",
        "#     pca_variance.append(np.cumsum(pca_.explained_variance_))\n",
        "#     explained_variance_ratio_.append(np.cumsum(pca_.explained_variance_ratio_))\n",
        "#     # title_vectors_pca = pca_.transform(title_gpt_vectors)"
      ],
      "metadata": {
        "id": "ar9jM2q1BEif"
      },
      "execution_count": 13,
      "outputs": []
    },
    {
      "cell_type": "code",
      "source": [
        "# summed_explained_variance_ratio_ = []\n",
        "# for i in range(len(explained_variance_ratio_)):\n",
        "#     summed_explained_variance_ratio_= np.cumsum(explained_variance_ratio_[i])"
      ],
      "metadata": {
        "id": "6Unv6xlLILBV"
      },
      "execution_count": 14,
      "outputs": []
    },
    {
      "cell_type": "code",
      "source": [
        "# np.cumsum(pca_variance[0])"
      ],
      "metadata": {
        "id": "rWQMrWCTH2hu"
      },
      "execution_count": 15,
      "outputs": []
    },
    {
      "cell_type": "code",
      "source": [
        "pca = PCA().fit(embedding_vectors)\n",
        "pca_var = np.cumsum(pca.explained_variance_ratio_)\n",
        "\n",
        "svd_content = TruncatedSVD(n_iter= 20, n_components = 1536 ).fit(embedding_vectors)\n",
        "svd_var = np.cumsum(svd_content.explained_variance_ratio_)"
      ],
      "metadata": {
        "id": "4v8mU0xtgMpE"
      },
      "execution_count": 35,
      "outputs": []
    },
    {
      "cell_type": "code",
      "source": [
        "plt.figure(figsize = (15,6))\n",
        "plt.plot(svd_var, marker = 'o', alpha =0.2)\n",
        "# plt.xlabel('number of components')\n",
        "# plt.ylabel('cumulative explained variance');\n",
        "\n",
        "# plt.figure(figsize = (15,6))\n",
        "plt.plot(pca_var)\n",
        "plt.xlabel('number of components')\n",
        "plt.ylabel('cumulative explained variance');\n",
        "plt.legend(['SVD','PCA'])"
      ],
      "metadata": {
        "id": "jVZz4z6QcvAm",
        "outputId": "55665541-854a-4ce6-eb77-ad558d7c0210",
        "colab": {
          "base_uri": "https://localhost:8080/",
          "height": 409
        }
      },
      "execution_count": 36,
      "outputs": [
        {
          "output_type": "execute_result",
          "data": {
            "text/plain": [
              "<matplotlib.legend.Legend at 0x7fc1092ee5b0>"
            ]
          },
          "metadata": {},
          "execution_count": 36
        },
        {
          "output_type": "display_data",
          "data": {
            "text/plain": [
              "<Figure size 1080x432 with 1 Axes>"
            ],
            "image/png": "[encoded data removed]"
          },
          "metadata": {}
        }
      ]
    },
    {
      "cell_type": "code",
      "source": [
        "print('PCA 100% :',np.where(np.array(pca_var) >= 0.99)[0][0])\n",
        "print('SVD 100% :',np.where(np.array(svd_var) >= 0.99)[0][0])\n",
        "print('PCA 95% :',np.where(np.array(pca_var) >= 0.95)[0][0])\n",
        "print('SVD 95% :',np.where(np.array(svd_var) >= 0.95)[0][0])\n",
        "print('PCA 90% :',np.where(np.array(pca_var) >= 0.90)[0][0])\n",
        "print('SVD 90% :',np.where(np.array(svd_var) >= 0.90)[0][0])\n",
        "print('SVD 95% :',np.where(np.array(svd_var) >= 0.82)[0][0])\n",
        "print('SVD 90% :',np.where(np.array(svd_var) >= 0.82)[0][0])"
      ],
      "metadata": {
        "id": "_W2h3_aAJn-X",
        "outputId": "ae577e91-d627-412b-e7ab-9038983f8d46",
        "colab": {
          "base_uri": "https://localhost:8080/"
        }
      },
      "execution_count": 37,
      "outputs": [
        {
          "output_type": "stream",
          "name": "stdout",
          "text": [
            "PCA 100% : 1007\n",
            "SVD 100% : 1007\n",
            "PCA 95% : 593\n",
            "SVD 95% : 593\n",
            "PCA 90% : 401\n",
            "SVD 90% : 402\n",
            "SVD 95% : 250\n",
            "SVD 90% : 250\n"
          ]
        }
      ]
    },
    {
      "cell_type": "code",
      "source": [
        "from sklearn.preprocessing import StandardScaler"
      ],
      "metadata": {
        "id": "aQqD5rpCLMgA"
      },
      "execution_count": 19,
      "outputs": []
    },
    {
      "cell_type": "code",
      "source": [
        "std_sc = StandardScaler()\n",
        "std_sc.fit(embedding_vectors)\n",
        "scaled_embedding_vectors = std_sc.transform(embedding_vectors)"
      ],
      "metadata": {
        "id": "FGpXx6M2TMKo"
      },
      "execution_count": 20,
      "outputs": []
    },
    {
      "cell_type": "code",
      "source": [
        "pca = PCA().fit(scaled_embedding_vectors)\n",
        "pca_var = np.cumsum(pca.explained_variance_ratio_)\n",
        "plt.figure(figsize = (15,6))\n",
        "plt.plot(pca_var)\n",
        "plt.xlabel('number of components')\n",
        "plt.ylabel('cumulative explained variance');\n",
        "plt.xlim([0,1200]);"
      ],
      "metadata": {
        "id": "kpDIvlv0UtRf",
        "outputId": "cfb909e0-8036-47ed-cbdf-d219a984c70d",
        "colab": {
          "base_uri": "https://localhost:8080/",
          "height": 391
        }
      },
      "execution_count": 21,
      "outputs": [
        {
          "output_type": "display_data",
          "data": {
            "text/plain": [
              "<Figure size 1080x432 with 1 Axes>"
            ],
            "image/png": "[encoded data removed]"
          },
          "metadata": {}
        }
      ]
    },
    {
      "cell_type": "code",
      "source": [
        "np.where(np.array(pca_var) >= 0.95)[0][0]"
      ],
      "metadata": {
        "id": "aWt_Nlm0UyZJ",
        "outputId": "91842191-7fe8-409c-eafd-9a2a6d054991",
        "colab": {
          "base_uri": "https://localhost:8080/"
        }
      },
      "execution_count": 22,
      "outputs": [
        {
          "output_type": "execute_result",
          "data": {
            "text/plain": [
              "598"
            ]
          },
          "metadata": {},
          "execution_count": 22
        }
      ]
    },
    {
      "cell_type": "code",
      "source": [
        "pca_256 = PCA(n_components = 256).fit(embedding_vectors)\n",
        "pca_256_reduced_content = pca_256.transform(embedding_vectors)\n",
        "pca_256_reduced_title = pca_256.transform(title_gpt_vectors)"
      ],
      "metadata": {
        "id": "t0IASKuUU8n6"
      },
      "execution_count": 23,
      "outputs": []
    },
    {
      "cell_type": "code",
      "source": [
        "pca_593 = PCA(n_components = 593).fit(embedding_vectors)\n",
        "pca_593_reduced_content = pca_593.transform(embedding_vectors)\n",
        "pca_593_reduced_title = pca_593.transform(title_gpt_vectors)"
      ],
      "metadata": {
        "id": "OfU43Kwej93q"
      },
      "execution_count": 24,
      "outputs": []
    },
    {
      "cell_type": "code",
      "source": [
        "pca_1007 = PCA(n_components = 1007).fit(embedding_vectors)\n",
        "pca_1007_reduced_content = pca_1007.transform(embedding_vectors)\n",
        "pca_1007_reduced_title = pca_1007.transform(title_gpt_vectors)"
      ],
      "metadata": {
        "id": "bBI76BXskD5J"
      },
      "execution_count": 25,
      "outputs": []
    },
    {
      "cell_type": "code",
      "source": [
        "np.save('./pca_256_reduced_content.npy',pca_256_reduced_content)\n",
        "np.save('./pca_256_reduced_title.npy',pca_256_reduced_title)"
      ],
      "metadata": {
        "id": "rlDLQtxYkOND"
      },
      "execution_count": 26,
      "outputs": []
    },
    {
      "cell_type": "code",
      "source": [
        "np.save('./pca_593_reduced_content.npy',pca_593_reduced_content)\n",
        "np.save('./pca_593_reduced_title.npy',pca_593_reduced_title)"
      ],
      "metadata": {
        "id": "V05DZzqXmC5E"
      },
      "execution_count": 27,
      "outputs": []
    },
    {
      "cell_type": "code",
      "source": [
        "np.save('./pca_1007_reduced_content.npy',pca_1007_reduced_content)\n",
        "np.save('./pca_1007_reduced_title.npy',pca_1007_reduced_title)"
      ],
      "metadata": {
        "id": "LQPXk9lUmCVd"
      },
      "execution_count": 28,
      "outputs": []
    }
  ]
}