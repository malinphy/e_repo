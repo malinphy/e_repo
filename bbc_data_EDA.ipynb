{
  "nbformat": 4,
  "nbformat_minor": 0,
  "metadata": {
    "colab": {
      "provenance": [],
      "authorship_tag": "ABX9TyOTbQaqTUkjgkTwnjVNNsBR",
      "include_colab_link": true
    },
    "kernelspec": {
      "name": "python3",
      "display_name": "Python 3"
    },
    "language_info": {
      "name": "python"
    },
    "gpuClass": "standard"
  },
  "cells": [
    {
      "cell_type": "markdown",
      "metadata": {
        "id": "view-in-github",
        "colab_type": "text"
      },
      "source": [
        "<a href=\"https://colab.research.google.com/github/malinphy/q_17/blob/main/bbc_data_EDA.ipynb\" target=\"_parent\"><img src=\"https://colab.research.google.com/assets/colab-badge.svg\" alt=\"Open In Colab\"/></a>"
      ]
    },
    {
      "cell_type": "code",
      "source": [
        "from google.colab import drive\n",
        "drive.mount('/content/drive')"
      ],
      "metadata": {
        "colab": {
          "base_uri": "https://localhost:8080/"
        },
        "id": "tt9J41urOS4w",
        "outputId": "f2439f70-aa3a-4f92-bf59-e891b1ad5441"
      },
      "execution_count": 1,
      "outputs": [
        {
          "output_type": "stream",
          "name": "stdout",
          "text": [
            "Mounted at /content/drive\n"
          ]
        }
      ]
    },
    {
      "cell_type": "markdown",
      "source": [],
      "metadata": {
        "id": "XESB98c_PQk0"
      }
    },
    {
      "cell_type": "markdown",
      "source": [
        "import os \n",
        "import json \n",
        "\n",
        "\n",
        "def data_loader(data_path):\n",
        "\n",
        "    f = open(data_path)\n",
        "    data = json.load(f)\n",
        "    \n",
        "    return data\n",
        "\n",
        "def column_selection(selected_column, data) :\n",
        "    empty_column = []\n",
        "    for i in data:\n",
        "        empty_column.append(i[selected_column])\n",
        "\n",
        "    return empty_column\n",
        "\n",
        "def data_cleaner(txt_data):\n",
        "    # if limit != None:\n",
        "    clean_data = []\n",
        "    empty_indices = []\n",
        "    for i in range(len(txt_data)):\n",
        "        if txt_data[i] != '':\n",
        "                # print(content[i])\n",
        "            clean_data.append(txt_data[i])\n",
        "        else :\n",
        "            empty_indices.append(i)\n",
        "    # print(empty_indices)\n",
        "    return clean_data , empty_indices        \n",
        "    \n",
        "def delete_multiple_element(list_object, indices):\n",
        "    indices = sorted(indices, reverse=True)\n",
        "    for idx in indices:\n",
        "        if idx < len(list_object):\n",
        "            # list_object.pop(idx)\n",
        "            del list_object[idx]        "
      ],
      "metadata": {
        "id": "nsBLKyscPCgO"
      }
    },
    {
      "cell_type": "code",
      "source": [
        "import os \n",
        "import json\n",
        "import pandas as pd \n",
        "import numpy as np \n",
        "from data_preprocess import data_loader, column_selection, data_cleaner,delete_multiple_element"
      ],
      "metadata": {
        "id": "5rotjXtLOS1E"
      },
      "execution_count": 2,
      "outputs": []
    },
    {
      "cell_type": "code",
      "source": [
        "input_path = 'drive/MyDrive/bbc_news_list_uk.json'\n",
        "data = data_loader(input_path)\n",
        "print(data[0].keys())"
      ],
      "metadata": {
        "colab": {
          "base_uri": "https://localhost:8080/"
        },
        "id": "kTA821OLOSyg",
        "outputId": "af469a84-7743-46d9-da9c-2852bd9eeef9"
      },
      "execution_count": 3,
      "outputs": [
        {
          "output_type": "stream",
          "name": "stdout",
          "text": [
            "dict_keys(['tags', 'title', 'news_post_date', 'raw_content', 'content', 'url', 'author', 'language', '_id', 'region', 'short_description', 'category', 'crawled_at'])\n"
          ]
        }
      ]
    },
    {
      "cell_type": "code",
      "source": [
        "content = column_selection('content', data)\n",
        "title = column_selection('title', data)\n",
        "region  = column_selection('region', data)\n",
        "short_desc = column_selection('short_description', data)\n",
        "category = column_selection('category', data)"
      ],
      "metadata": {
        "id": "_Tzn-6yFOSvg"
      },
      "execution_count": 4,
      "outputs": []
    },
    {
      "cell_type": "code",
      "source": [
        "for i in range(len(region)):\n",
        "    if region[i] == '':\n",
        "        region[i] == 'NO_INFO'"
      ],
      "metadata": {
        "id": "aPx-NAf8OSsu"
      },
      "execution_count": 5,
      "outputs": []
    },
    {
      "cell_type": "code",
      "source": [
        "clean_content,empty_indices_content = data_cleaner(content)"
      ],
      "metadata": {
        "id": "rAVSfOKyOywH"
      },
      "execution_count": 6,
      "outputs": []
    },
    {
      "cell_type": "code",
      "source": [
        "clean_title,empty_indices_title = data_cleaner(title)\n",
        "clean_region,empty_indices_region = data_cleaner(region)\n",
        "clean_short_desc,empty_indices_short_desc = data_cleaner(short_desc)\n",
        "clean_category,empty_indices_category = data_cleaner(category)"
      ],
      "metadata": {
        "id": "FCYDrRApO1MQ"
      },
      "execution_count": 7,
      "outputs": []
    },
    {
      "cell_type": "code",
      "source": [
        "print('Content Length :',len(content))\n",
        "print('Clean Content Length :',len(clean_content))\n",
        "print('Title Lenght :',len(title))\n",
        "print(len(region))"
      ],
      "metadata": {
        "colab": {
          "base_uri": "https://localhost:8080/"
        },
        "id": "wyHq-51NO2t2",
        "outputId": "807e9586-aaa6-4eef-8488-b5267cd4981a"
      },
      "execution_count": 8,
      "outputs": [
        {
          "output_type": "stream",
          "name": "stdout",
          "text": [
            "Content Length : 15825\n",
            "Clean Content Length : 15468\n",
            "Title Lenght : 15825\n",
            "15825\n"
          ]
        }
      ]
    },
    {
      "cell_type": "code",
      "source": [
        "# delete_multiple_element(clean_content,empty_indices_content)\n",
        "delete_multiple_element(clean_title,empty_indices_content)\n",
        "delete_multiple_element(clean_region,empty_indices_content)\n",
        "delete_multiple_element(clean_short_desc,empty_indices_content)\n",
        "delete_multiple_element(clean_category,empty_indices_content)"
      ],
      "metadata": {
        "id": "HVhRmxKpO4dv"
      },
      "execution_count": 9,
      "outputs": []
    },
    {
      "cell_type": "code",
      "source": [
        "print('Clean Content Length :',len(clean_content))\n",
        "print('Clean Title Length :',len(clean_title))\n",
        "print('Clean Region Length :',len(clean_region))\n",
        "print('Clean ShortDescription Length :',len(clean_short_desc))\n",
        "print('Clean Category Length :',len(clean_category))"
      ],
      "metadata": {
        "colab": {
          "base_uri": "https://localhost:8080/"
        },
        "id": "w4tVUA74O6K3",
        "outputId": "aaab24ad-ac12-4950-864b-f28de08ab9e6"
      },
      "execution_count": 10,
      "outputs": [
        {
          "output_type": "stream",
          "name": "stdout",
          "text": [
            "Clean Content Length : 15468\n",
            "Clean Title Length : 15468\n",
            "Clean Region Length : 15176\n",
            "Clean ShortDescription Length : 15468\n",
            "Clean Category Length : 15468\n"
          ]
        }
      ]
    },
    {
      "cell_type": "code",
      "source": [],
      "metadata": {
        "id": "yJp26jMgO-_7"
      },
      "execution_count": null,
      "outputs": []
    }
  ]
}