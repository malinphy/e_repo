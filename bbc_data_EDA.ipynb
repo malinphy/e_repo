{
  "nbformat": 4,
  "nbformat_minor": 0,
  "metadata": {
    "colab": {
      "provenance": [],
      "authorship_tag": "ABX9TyPz0olSLBUipnhmmsgzExah",
      "include_colab_link": true
    },
    "kernelspec": {
      "name": "python3",
      "display_name": "Python 3"
    },
    "language_info": {
      "name": "python"
    },
    "gpuClass": "standard"
  },
  "cells": [
    {
      "cell_type": "markdown",
      "metadata": {
        "id": "view-in-github",
        "colab_type": "text"
      },
      "source": [
        "<a href=\"https://colab.research.google.com/github/malinphy/q_17/blob/main/bbc_data_EDA.ipynb\" target=\"_parent\"><img src=\"https://colab.research.google.com/assets/colab-badge.svg\" alt=\"Open In Colab\"/></a>"
      ]
    },
    {
      "cell_type": "code",
      "source": [
        "from google.colab import drive\n",
        "drive.mount('/content/drive')"
      ],
      "metadata": {
        "colab": {
          "base_uri": "https://localhost:8080/"
        },
        "id": "tt9J41urOS4w",
        "outputId": "9681292e-c020-4012-d00d-89aad7f1fb55"
      },
      "execution_count": 1,
      "outputs": [
        {
          "output_type": "stream",
          "name": "stdout",
          "text": [
            "Mounted at /content/drive\n"
          ]
        }
      ]
    },
    {
      "cell_type": "markdown",
      "source": [],
      "metadata": {
        "id": "XESB98c_PQk0"
      }
    },
    {
      "cell_type": "code",
      "source": [
        "def data_loader(data_path):\n",
        "\n",
        "    f = open(data_path)\n",
        "    data = json.load(f)\n",
        "\n",
        "    return data\n",
        "\n",
        "def column_selection(selected_column, data) :\n",
        "    empty_column = []\n",
        "    for i in data:\n",
        "        empty_column.append(i[selected_column])\n",
        "\n",
        "    return empty_column\n",
        "\n",
        "def data_cleaner(txt_data):\n",
        "    # if limit != None:\n",
        "    clean_data = []\n",
        "    empty_indices = []\n",
        "    for i in range(len(txt_data)):\n",
        "        if txt_data[i] != '':\n",
        "                # print(content[i])\n",
        "            clean_data.append(txt_data[i])\n",
        "        else :\n",
        "            empty_indices.append(i)\n",
        "    # print(empty_indices)\n",
        "    return clean_data , empty_indices        \n",
        "\n",
        "def delete_multiple_element(list_object, indices):\n",
        "    indices = sorted(indices, reverse=True)\n",
        "    for idx in indices:\n",
        "        if idx < len(list_object):\n",
        "            # list_object.pop(idx)\n",
        "            del list_object[idx] \n",
        "\n",
        "\n",
        "def index_returner(df,unique_region):\n",
        "    x = df[df['region'] == unique_region].index\n",
        "    return x             "
      ],
      "metadata": {
        "id": "vRm6A6AaN0a_"
      },
      "execution_count": 2,
      "outputs": []
    },
    {
      "cell_type": "code",
      "source": [
        "import os \n",
        "import json\n",
        "import pandas as pd \n",
        "import numpy as np \n",
        "# from data_preprocess import data_loader, column_selection, data_cleaner,delete_multiple_element\n",
        "import matplotlib.pyplot as plt \n",
        "# import tensorflow as tf \n",
        "# from tensorflow import keras \n",
        "# from tensorflow.keras import layers\n",
        "# from tensorflow.keras.layers import *\n",
        "\n",
        "plt.style.use('ggplot')"
      ],
      "metadata": {
        "id": "5rotjXtLOS1E"
      },
      "execution_count": 3,
      "outputs": []
    },
    {
      "cell_type": "code",
      "source": [
        "input_path = 'drive/MyDrive/bbc_news_list_uk.json'\n",
        "data = data_loader(input_path)\n",
        "print(data[0].keys())"
      ],
      "metadata": {
        "colab": {
          "base_uri": "https://localhost:8080/"
        },
        "id": "kTA821OLOSyg",
        "outputId": "a8eacb5f-6c77-448f-f8a7-10c107b9e035"
      },
      "execution_count": 4,
      "outputs": [
        {
          "output_type": "stream",
          "name": "stdout",
          "text": [
            "dict_keys(['tags', 'title', 'news_post_date', 'raw_content', 'content', 'url', 'author', 'language', '_id', 'region', 'short_description', 'category', 'crawled_at'])\n"
          ]
        }
      ]
    },
    {
      "cell_type": "code",
      "source": [
        "content = column_selection('content', data)\n",
        "title = column_selection('title', data)\n",
        "region  = column_selection('region', data)\n",
        "short_desc = column_selection('short_description', data)\n",
        "category = column_selection('category', data)"
      ],
      "metadata": {
        "id": "_Tzn-6yFOSvg"
      },
      "execution_count": 5,
      "outputs": []
    },
    {
      "cell_type": "code",
      "source": [
        "print('content_len:', len(content))\n",
        "print('title_len:', len(title))\n",
        "print('region_len:', len(region))\n",
        "print('desc_len:', len(short_desc))\n",
        "print('category_len:', len(category))"
      ],
      "metadata": {
        "colab": {
          "base_uri": "https://localhost:8080/"
        },
        "id": "eTfnCumoPj3h",
        "outputId": "bae13b67-e9c7-4029-8253-a14e68825789"
      },
      "execution_count": 6,
      "outputs": [
        {
          "output_type": "stream",
          "name": "stdout",
          "text": [
            "content_len: 15825\n",
            "title_len: 15825\n",
            "region_len: 15825\n",
            "desc_len: 15825\n",
            "category_len: 15825\n"
          ]
        }
      ]
    },
    {
      "cell_type": "code",
      "source": [],
      "metadata": {
        "id": "nCD5AFTSc7S9"
      },
      "execution_count": 6,
      "outputs": []
    },
    {
      "cell_type": "code",
      "source": [
        "for i in range(len(region)):\n",
        "    if region[i] == '':\n",
        "        region[i] = 'NO_INFO'"
      ],
      "metadata": {
        "id": "aPx-NAf8OSsu"
      },
      "execution_count": 7,
      "outputs": []
    },
    {
      "cell_type": "code",
      "source": [
        "clean_content,empty_indices_content = data_cleaner(content)"
      ],
      "metadata": {
        "id": "rAVSfOKyOywH"
      },
      "execution_count": 8,
      "outputs": []
    },
    {
      "cell_type": "code",
      "source": [
        "clean_title,empty_indices_title = data_cleaner(title)\n",
        "clean_region,empty_indices_region = data_cleaner(region)\n",
        "clean_short_desc,empty_indices_short_desc = data_cleaner(short_desc)\n",
        "clean_category,empty_indices_category = data_cleaner(category)"
      ],
      "metadata": {
        "id": "FCYDrRApO1MQ"
      },
      "execution_count": 9,
      "outputs": []
    },
    {
      "cell_type": "code",
      "source": [
        "print('Content Length :',len(content))\n",
        "print('Clean Content Length :',len(clean_content))\n",
        "print('Title Lenght :',len(title))\n",
        "# print(len(region))"
      ],
      "metadata": {
        "colab": {
          "base_uri": "https://localhost:8080/"
        },
        "id": "wyHq-51NO2t2",
        "outputId": "e058b460-76cf-4eee-f046-3c99475d67a9"
      },
      "execution_count": 10,
      "outputs": [
        {
          "output_type": "stream",
          "name": "stdout",
          "text": [
            "Content Length : 15825\n",
            "Clean Content Length : 15468\n",
            "Title Lenght : 15825\n"
          ]
        }
      ]
    },
    {
      "cell_type": "code",
      "source": [
        "# delete_multiple_element(clean_content,empty_indices_content)\n",
        "delete_multiple_element(clean_title,empty_indices_content)\n",
        "delete_multiple_element(clean_region,empty_indices_content)\n",
        "delete_multiple_element(clean_short_desc,empty_indices_content)\n",
        "delete_multiple_element(clean_category,empty_indices_content)"
      ],
      "metadata": {
        "id": "HVhRmxKpO4dv"
      },
      "execution_count": 11,
      "outputs": []
    },
    {
      "cell_type": "code",
      "source": [
        "print('Clean Content Length :',len(clean_content))\n",
        "print('Clean Title Length :',len(clean_title))\n",
        "print('Clean Region Length :',len(clean_region))\n",
        "print('Clean ShortDescription Length :',len(clean_short_desc))\n",
        "print('Clean Category Length :',len(clean_category))"
      ],
      "metadata": {
        "colab": {
          "base_uri": "https://localhost:8080/"
        },
        "id": "w4tVUA74O6K3",
        "outputId": "3156da1f-c598-4758-e0c0-0641e72b54ff"
      },
      "execution_count": 12,
      "outputs": [
        {
          "output_type": "stream",
          "name": "stdout",
          "text": [
            "Clean Content Length : 15468\n",
            "Clean Title Length : 15468\n",
            "Clean Region Length : 15468\n",
            "Clean ShortDescription Length : 15468\n",
            "Clean Category Length : 15468\n"
          ]
        }
      ]
    },
    {
      "cell_type": "code",
      "source": [
        "df_clean = pd.DataFrame({\n",
        "    'content': clean_content,\n",
        "    'title' : clean_title,\n",
        "    'region' : clean_region,\n",
        "    'desc' : clean_short_desc,\n",
        "    'category' : clean_category\n",
        "})"
      ],
      "metadata": {
        "id": "yJp26jMgO-_7"
      },
      "execution_count": 13,
      "outputs": []
    },
    {
      "cell_type": "code",
      "source": [
        "df_clean.head(2)"
      ],
      "metadata": {
        "colab": {
          "base_uri": "https://localhost:8080/",
          "height": 112
        },
        "id": "8pnYWE_CV2_Z",
        "outputId": "31e39d30-1e87-4f3d-f534-4c73e296dab9"
      },
      "execution_count": 14,
      "outputs": [
        {
          "output_type": "execute_result",
          "data": {
            "text/plain": [
              "                                             content  \\\n",
              "0  The heroin substitute methadone can be used as...   \n",
              "1  The eldest son of North Korean leader Kim Jong...   \n",
              "\n",
              "                                               title        region  \\\n",
              "0  Why quitting heroin substitute methadone is 'v...        Health   \n",
              "1  North Korea leader's eldest son 'opposes dynasty'  Asia-Pacific   \n",
              "\n",
              "                                                desc  category  \n",
              "0  Heroin substitute methadone is used to wean ad...  BBC News  \n",
              "1  The eldest son of North Korean leader Kim Jong...  BBC News  "
            ],
            "text/html": [
              "\n",
              "  <div id=\"df-c1726a9b-30e5-4271-a9fb-1242438fba1a\">\n",
              "    <div class=\"colab-df-container\">\n",
              "      <div>\n",
              "<style scoped>\n",
              "    .dataframe tbody tr th:only-of-type {\n",
              "        vertical-align: middle;\n",
              "    }\n",
              "\n",
              "    .dataframe tbody tr th {\n",
              "        vertical-align: top;\n",
              "    }\n",
              "\n",
              "    .dataframe thead th {\n",
              "        text-align: right;\n",
              "    }\n",
              "</style>\n",
              "<table border=\"1\" class=\"dataframe\">\n",
              "  <thead>\n",
              "    <tr style=\"text-align: right;\">\n",
              "      <th></th>\n",
              "      <th>content</th>\n",
              "      <th>title</th>\n",
              "      <th>region</th>\n",
              "      <th>desc</th>\n",
              "      <th>category</th>\n",
              "    </tr>\n",
              "  </thead>\n",
              "  <tbody>\n",
              "    <tr>\n",
              "      <th>0</th>\n",
              "      <td>The heroin substitute methadone can be used as...</td>\n",
              "      <td>Why quitting heroin substitute methadone is 'v...</td>\n",
              "      <td>Health</td>\n",
              "      <td>Heroin substitute methadone is used to wean ad...</td>\n",
              "      <td>BBC News</td>\n",
              "    </tr>\n",
              "    <tr>\n",
              "      <th>1</th>\n",
              "      <td>The eldest son of North Korean leader Kim Jong...</td>\n",
              "      <td>North Korea leader's eldest son 'opposes dynasty'</td>\n",
              "      <td>Asia-Pacific</td>\n",
              "      <td>The eldest son of North Korean leader Kim Jong...</td>\n",
              "      <td>BBC News</td>\n",
              "    </tr>\n",
              "  </tbody>\n",
              "</table>\n",
              "</div>\n",
              "      <button class=\"colab-df-convert\" onclick=\"convertToInteractive('df-c1726a9b-30e5-4271-a9fb-1242438fba1a')\"\n",
              "              title=\"Convert this dataframe to an interactive table.\"\n",
              "              style=\"display:none;\">\n",
              "        \n",
              "  <svg xmlns=\"http://www.w3.org/2000/svg\" height=\"24px\"viewBox=\"0 0 24 24\"\n",
              "       width=\"24px\">\n",
              "    <path d=\"M0 0h24v24H0V0z\" fill=\"none\"/>\n",
              "    <path d=\"M18.56 5.44l.94 2.06.94-2.06 2.06-.94-2.06-.94-.94-2.06-.94 2.06-2.06.94zm-11 1L8.5 8.5l.94-2.06 2.06-.94-2.06-.94L8.5 2.5l-.94 2.06-2.06.94zm10 10l.94 2.06.94-2.06 2.06-.94-2.06-.94-.94-2.06-.94 2.06-2.06.94z\"/><path d=\"M17.41 7.96l-1.37-1.37c-.4-.4-.92-.59-1.43-.59-.52 0-1.04.2-1.43.59L10.3 9.45l-7.72 7.72c-.78.78-.78 2.05 0 2.83L4 21.41c.39.39.9.59 1.41.59.51 0 1.02-.2 1.41-.59l7.78-7.78 2.81-2.81c.8-.78.8-2.07 0-2.86zM5.41 20L4 18.59l7.72-7.72 1.47 1.35L5.41 20z\"/>\n",
              "  </svg>\n",
              "      </button>\n",
              "      \n",
              "  <style>\n",
              "    .colab-df-container {\n",
              "      display:flex;\n",
              "      flex-wrap:wrap;\n",
              "      gap: 12px;\n",
              "    }\n",
              "\n",
              "    .colab-df-convert {\n",
              "      background-color: #E8F0FE;\n",
              "      border: none;\n",
              "      border-radius: 50%;\n",
              "      cursor: pointer;\n",
              "      display: none;\n",
              "      fill: #1967D2;\n",
              "      height: 32px;\n",
              "      padding: 0 0 0 0;\n",
              "      width: 32px;\n",
              "    }\n",
              "\n",
              "    .colab-df-convert:hover {\n",
              "      background-color: #E2EBFA;\n",
              "      box-shadow: 0px 1px 2px rgba(60, 64, 67, 0.3), 0px 1px 3px 1px rgba(60, 64, 67, 0.15);\n",
              "      fill: #174EA6;\n",
              "    }\n",
              "\n",
              "    [theme=dark] .colab-df-convert {\n",
              "      background-color: #3B4455;\n",
              "      fill: #D2E3FC;\n",
              "    }\n",
              "\n",
              "    [theme=dark] .colab-df-convert:hover {\n",
              "      background-color: #434B5C;\n",
              "      box-shadow: 0px 1px 3px 1px rgba(0, 0, 0, 0.15);\n",
              "      filter: drop-shadow(0px 1px 2px rgba(0, 0, 0, 0.3));\n",
              "      fill: #FFFFFF;\n",
              "    }\n",
              "  </style>\n",
              "\n",
              "      <script>\n",
              "        const buttonEl =\n",
              "          document.querySelector('#df-c1726a9b-30e5-4271-a9fb-1242438fba1a button.colab-df-convert');\n",
              "        buttonEl.style.display =\n",
              "          google.colab.kernel.accessAllowed ? 'block' : 'none';\n",
              "\n",
              "        async function convertToInteractive(key) {\n",
              "          const element = document.querySelector('#df-c1726a9b-30e5-4271-a9fb-1242438fba1a');\n",
              "          const dataTable =\n",
              "            await google.colab.kernel.invokeFunction('convertToInteractive',\n",
              "                                                     [key], {});\n",
              "          if (!dataTable) return;\n",
              "\n",
              "          const docLinkHtml = 'Like what you see? Visit the ' +\n",
              "            '<a target=\"_blank\" href=https://colab.research.google.com/notebooks/data_table.ipynb>data table notebook</a>'\n",
              "            + ' to learn more about interactive tables.';\n",
              "          element.innerHTML = '';\n",
              "          dataTable['output_type'] = 'display_data';\n",
              "          await google.colab.output.renderOutput(dataTable, element);\n",
              "          const docLink = document.createElement('div');\n",
              "          docLink.innerHTML = docLinkHtml;\n",
              "          element.appendChild(docLink);\n",
              "        }\n",
              "      </script>\n",
              "    </div>\n",
              "  </div>\n",
              "  "
            ]
          },
          "metadata": {},
          "execution_count": 14
        }
      ]
    },
    {
      "cell_type": "code",
      "source": [
        "print('number of region :',df_clean['region'].nunique())\n",
        "print(df_clean['region'].unique())"
      ],
      "metadata": {
        "colab": {
          "base_uri": "https://localhost:8080/"
        },
        "id": "LMmUXEJsWCGZ",
        "outputId": "89673245-d663-4e7d-a56a-b77956f76cf6"
      },
      "execution_count": 15,
      "outputs": [
        {
          "output_type": "stream",
          "name": "stdout",
          "text": [
            "number of region : 84\n",
            "['Health' 'Asia-Pacific' 'Lincolnshire' 'Tayside and Central Scotland'\n",
            " 'Manchester' 'NE Scotland, Orkney & Shetland' 'US & Canada' 'Cornwall'\n",
            " 'Surrey' 'England' 'Hereford & Worcester' 'Middle East' 'London'\n",
            " 'Magazine' 'Stoke & Staffordshire' 'Wales' 'Europe'\n",
            " 'Glasgow & West Scotland' 'UK Politics' 'Bristol' 'South Asia'\n",
            " 'Northern Ireland' 'Norfolk' 'UK' 'Business' 'Cambridgeshire'\n",
            " 'Entertainment & Arts' 'North East Wales' 'Africa' 'Jersey' 'Scotland'\n",
            " 'South Scotland' 'Wiltshire' 'Northampton' 'Highlands & Islands'\n",
            " 'Suffolk' 'Cumbria' 'Shropshire' 'Sheffield & South Yorkshire'\n",
            " 'Beds, Herts & Bucks' 'Coventry & Warwickshire' 'North West Wales'\n",
            " 'York & North Yorkshire' 'Education & Family' 'Kent' 'South East Wales'\n",
            " 'Guernsey' 'Technology' 'South West Wales' 'Hampshire & Isle of Wight'\n",
            " 'Science & Environment' 'Lancashire' 'N. Ireland Politics' 'Somerset'\n",
            " 'Isle Of Man / Ellan Vannin' 'Sussex' 'Devon' 'Dorset' 'Wales politics'\n",
            " 'Wear' 'Edinburgh, Fife & East Scotland' 'Foyle & West'\n",
            " 'Latin America & Caribbean' 'Mid Wales' 'Berkshire' 'Scotland business'\n",
            " 'Leeds & West Yorkshire' 'Bradford' 'Essex' 'Birmingham & Black Country'\n",
            " 'Derby' 'Tyne & Wear' 'World' 'Black country' 'Liverpool' 'Nottingham'\n",
            " 'Leicester' 'Tees' 'Humberside' 'Gloucestershire' 'Oxford'\n",
            " 'Scotland politics' 'Home' 'US and Canada']\n"
          ]
        }
      ]
    },
    {
      "cell_type": "code",
      "source": [
        "new_df = pd.DataFrame(df_clean.groupby(['region'])['region'].count())\n",
        "new_df['region']"
      ],
      "metadata": {
        "colab": {
          "base_uri": "https://localhost:8080/"
        },
        "id": "8z72F-qoWbiB",
        "outputId": "4ee3873b-2247-4936-8197-0010a0e7bd49"
      },
      "execution_count": 16,
      "outputs": [
        {
          "output_type": "execute_result",
          "data": {
            "text/plain": [
              "region\n",
              "Africa                        293\n",
              "Asia-Pacific                  356\n",
              "Beds, Herts & Bucks           143\n",
              "Berkshire                     118\n",
              "Birmingham & Black Country    118\n",
              "                             ... \n",
              "Wales politics                 26\n",
              "Wear                           77\n",
              "Wiltshire                      81\n",
              "World                          23\n",
              "York & North Yorkshire         79\n",
              "Name: region, Length: 84, dtype: int64"
            ]
          },
          "metadata": {},
          "execution_count": 16
        }
      ]
    },
    {
      "cell_type": "code",
      "source": [
        "new_df"
      ],
      "metadata": {
        "id": "zmnnU6zcmChy",
        "colab": {
          "base_uri": "https://localhost:8080/",
          "height": 455
        },
        "outputId": "3ee996aa-de91-4255-cab0-32a15fc3e6ea"
      },
      "execution_count": 17,
      "outputs": [
        {
          "output_type": "execute_result",
          "data": {
            "text/plain": [
              "                            region\n",
              "region                            \n",
              "Africa                         293\n",
              "Asia-Pacific                   356\n",
              "Beds, Herts & Bucks            143\n",
              "Berkshire                      118\n",
              "Birmingham & Black Country     118\n",
              "...                            ...\n",
              "Wales politics                  26\n",
              "Wear                            77\n",
              "Wiltshire                       81\n",
              "World                           23\n",
              "York & North Yorkshire          79\n",
              "\n",
              "[84 rows x 1 columns]"
            ],
            "text/html": [
              "\n",
              "  <div id=\"df-601e24e8-db5f-4970-b83d-07610d27494c\">\n",
              "    <div class=\"colab-df-container\">\n",
              "      <div>\n",
              "<style scoped>\n",
              "    .dataframe tbody tr th:only-of-type {\n",
              "        vertical-align: middle;\n",
              "    }\n",
              "\n",
              "    .dataframe tbody tr th {\n",
              "        vertical-align: top;\n",
              "    }\n",
              "\n",
              "    .dataframe thead th {\n",
              "        text-align: right;\n",
              "    }\n",
              "</style>\n",
              "<table border=\"1\" class=\"dataframe\">\n",
              "  <thead>\n",
              "    <tr style=\"text-align: right;\">\n",
              "      <th></th>\n",
              "      <th>region</th>\n",
              "    </tr>\n",
              "    <tr>\n",
              "      <th>region</th>\n",
              "      <th></th>\n",
              "    </tr>\n",
              "  </thead>\n",
              "  <tbody>\n",
              "    <tr>\n",
              "      <th>Africa</th>\n",
              "      <td>293</td>\n",
              "    </tr>\n",
              "    <tr>\n",
              "      <th>Asia-Pacific</th>\n",
              "      <td>356</td>\n",
              "    </tr>\n",
              "    <tr>\n",
              "      <th>Beds, Herts &amp; Bucks</th>\n",
              "      <td>143</td>\n",
              "    </tr>\n",
              "    <tr>\n",
              "      <th>Berkshire</th>\n",
              "      <td>118</td>\n",
              "    </tr>\n",
              "    <tr>\n",
              "      <th>Birmingham &amp; Black Country</th>\n",
              "      <td>118</td>\n",
              "    </tr>\n",
              "    <tr>\n",
              "      <th>...</th>\n",
              "      <td>...</td>\n",
              "    </tr>\n",
              "    <tr>\n",
              "      <th>Wales politics</th>\n",
              "      <td>26</td>\n",
              "    </tr>\n",
              "    <tr>\n",
              "      <th>Wear</th>\n",
              "      <td>77</td>\n",
              "    </tr>\n",
              "    <tr>\n",
              "      <th>Wiltshire</th>\n",
              "      <td>81</td>\n",
              "    </tr>\n",
              "    <tr>\n",
              "      <th>World</th>\n",
              "      <td>23</td>\n",
              "    </tr>\n",
              "    <tr>\n",
              "      <th>York &amp; North Yorkshire</th>\n",
              "      <td>79</td>\n",
              "    </tr>\n",
              "  </tbody>\n",
              "</table>\n",
              "<p>84 rows × 1 columns</p>\n",
              "</div>\n",
              "      <button class=\"colab-df-convert\" onclick=\"convertToInteractive('df-601e24e8-db5f-4970-b83d-07610d27494c')\"\n",
              "              title=\"Convert this dataframe to an interactive table.\"\n",
              "              style=\"display:none;\">\n",
              "        \n",
              "  <svg xmlns=\"http://www.w3.org/2000/svg\" height=\"24px\"viewBox=\"0 0 24 24\"\n",
              "       width=\"24px\">\n",
              "    <path d=\"M0 0h24v24H0V0z\" fill=\"none\"/>\n",
              "    <path d=\"M18.56 5.44l.94 2.06.94-2.06 2.06-.94-2.06-.94-.94-2.06-.94 2.06-2.06.94zm-11 1L8.5 8.5l.94-2.06 2.06-.94-2.06-.94L8.5 2.5l-.94 2.06-2.06.94zm10 10l.94 2.06.94-2.06 2.06-.94-2.06-.94-.94-2.06-.94 2.06-2.06.94z\"/><path d=\"M17.41 7.96l-1.37-1.37c-.4-.4-.92-.59-1.43-.59-.52 0-1.04.2-1.43.59L10.3 9.45l-7.72 7.72c-.78.78-.78 2.05 0 2.83L4 21.41c.39.39.9.59 1.41.59.51 0 1.02-.2 1.41-.59l7.78-7.78 2.81-2.81c.8-.78.8-2.07 0-2.86zM5.41 20L4 18.59l7.72-7.72 1.47 1.35L5.41 20z\"/>\n",
              "  </svg>\n",
              "      </button>\n",
              "      \n",
              "  <style>\n",
              "    .colab-df-container {\n",
              "      display:flex;\n",
              "      flex-wrap:wrap;\n",
              "      gap: 12px;\n",
              "    }\n",
              "\n",
              "    .colab-df-convert {\n",
              "      background-color: #E8F0FE;\n",
              "      border: none;\n",
              "      border-radius: 50%;\n",
              "      cursor: pointer;\n",
              "      display: none;\n",
              "      fill: #1967D2;\n",
              "      height: 32px;\n",
              "      padding: 0 0 0 0;\n",
              "      width: 32px;\n",
              "    }\n",
              "\n",
              "    .colab-df-convert:hover {\n",
              "      background-color: #E2EBFA;\n",
              "      box-shadow: 0px 1px 2px rgba(60, 64, 67, 0.3), 0px 1px 3px 1px rgba(60, 64, 67, 0.15);\n",
              "      fill: #174EA6;\n",
              "    }\n",
              "\n",
              "    [theme=dark] .colab-df-convert {\n",
              "      background-color: #3B4455;\n",
              "      fill: #D2E3FC;\n",
              "    }\n",
              "\n",
              "    [theme=dark] .colab-df-convert:hover {\n",
              "      background-color: #434B5C;\n",
              "      box-shadow: 0px 1px 3px 1px rgba(0, 0, 0, 0.15);\n",
              "      filter: drop-shadow(0px 1px 2px rgba(0, 0, 0, 0.3));\n",
              "      fill: #FFFFFF;\n",
              "    }\n",
              "  </style>\n",
              "\n",
              "      <script>\n",
              "        const buttonEl =\n",
              "          document.querySelector('#df-601e24e8-db5f-4970-b83d-07610d27494c button.colab-df-convert');\n",
              "        buttonEl.style.display =\n",
              "          google.colab.kernel.accessAllowed ? 'block' : 'none';\n",
              "\n",
              "        async function convertToInteractive(key) {\n",
              "          const element = document.querySelector('#df-601e24e8-db5f-4970-b83d-07610d27494c');\n",
              "          const dataTable =\n",
              "            await google.colab.kernel.invokeFunction('convertToInteractive',\n",
              "                                                     [key], {});\n",
              "          if (!dataTable) return;\n",
              "\n",
              "          const docLinkHtml = 'Like what you see? Visit the ' +\n",
              "            '<a target=\"_blank\" href=https://colab.research.google.com/notebooks/data_table.ipynb>data table notebook</a>'\n",
              "            + ' to learn more about interactive tables.';\n",
              "          element.innerHTML = '';\n",
              "          dataTable['output_type'] = 'display_data';\n",
              "          await google.colab.output.renderOutput(dataTable, element);\n",
              "          const docLink = document.createElement('div');\n",
              "          docLink.innerHTML = docLinkHtml;\n",
              "          element.appendChild(docLink);\n",
              "        }\n",
              "      </script>\n",
              "    </div>\n",
              "  </div>\n",
              "  "
            ]
          },
          "metadata": {},
          "execution_count": 17
        }
      ]
    },
    {
      "cell_type": "code",
      "source": [
        "new_df = new_df.rename(columns = {'region':'counts'})\n",
        "new_df = new_df.reset_index()\n",
        "#  df.rename(columns={'oldName1': 'newName1', 'oldName2': 'newName2'})"
      ],
      "metadata": {
        "id": "Xa3Nz8rxjSft"
      },
      "execution_count": 18,
      "outputs": []
    },
    {
      "cell_type": "code",
      "source": [
        "# x = new_df['region']\n",
        "plt.figure(figsize=(25,6))\n",
        "plt.scatter(new_df['region'], new_df['counts'])\n",
        "plt.xticks(rotation=90);\n",
        "# plt.yaxis.set_ticks(np.arange(0, 1100, 50))\n",
        "plt.yticks(np.arange(0, 1100, 50));\n",
        "# plt.ylim([0,650]);\n",
        "plt.title(['REGION vs # COUNTS']);"
      ],
      "metadata": {
        "colab": {
          "base_uri": "https://localhost:8080/",
          "height": 473
        },
        "id": "dSLAiZEJmDkQ",
        "outputId": "8ef0ac3c-c011-421c-f0df-d5dacb8b50a1"
      },
      "execution_count": 19,
      "outputs": [
        {
          "output_type": "display_data",
          "data": {
            "text/plain": [
              "<Figure size 1800x432 with 1 Axes>"
            ],
            "image/png": "[encoded data removed]"
          },
          "metadata": {}
        }
      ]
    },
    {
      "cell_type": "code",
      "source": [
        "region_name = 'London'\n",
        "x = df_clean[df_clean['region']==region_name]\n",
        "x.index"
      ],
      "metadata": {
        "colab": {
          "base_uri": "https://localhost:8080/"
        },
        "id": "KFMwEXdocVj-",
        "outputId": "33d77a85-4265-46d1-97ef-77422a8b3746"
      },
      "execution_count": 20,
      "outputs": [
        {
          "output_type": "execute_result",
          "data": {
            "text/plain": [
              "Int64Index([   16,    20,   103,   120,   199,   207,   255,   464,   569,\n",
              "              572,\n",
              "            ...\n",
              "            15068, 15115, 15190, 15237, 15296, 15310, 15330, 15332, 15429,\n",
              "            15442],\n",
              "           dtype='int64', length=423)"
            ]
          },
          "metadata": {},
          "execution_count": 20
        }
      ]
    },
    {
      "cell_type": "code",
      "source": [
        "len(x)"
      ],
      "metadata": {
        "colab": {
          "base_uri": "https://localhost:8080/"
        },
        "id": "JAEL94zbf120",
        "outputId": "8ccffdc9-b16e-4a03-c947-50af7cd5a66d"
      },
      "execution_count": 21,
      "outputs": [
        {
          "output_type": "execute_result",
          "data": {
            "text/plain": [
              "423"
            ]
          },
          "metadata": {},
          "execution_count": 21
        }
      ]
    },
    {
      "cell_type": "code",
      "source": [
        "df_clean.iloc[x.index]"
      ],
      "metadata": {
        "colab": {
          "base_uri": "https://localhost:8080/",
          "height": 424
        },
        "id": "GEkrbeD0jV7T",
        "outputId": "fb871d8b-3504-4e4d-d7c2-11090530648f"
      },
      "execution_count": 22,
      "outputs": [
        {
          "output_type": "execute_result",
          "data": {
            "text/plain": [
              "                                                 content  \\\n",
              "16     Jailed pop star George Michael has been transf...   \n",
              "20     Three men have been found guilty of murdering ...   \n",
              "103    A council in west London has been criticised f...   \n",
              "120    Sir Robert Mark, the former Metropolitan Polic...   \n",
              "199    A sprinter who raced in national competitions ...   \n",
              "...                                                  ...   \n",
              "15310  Six proposals will be considered to become the...   \n",
              "15330  A man dubbed the \"Tome Raider\" after he stole ...   \n",
              "15332  Peace protesters who have been camping in Parl...   \n",
              "15429  A former teacher has been found guilty of abus...   \n",
              "15442  A singer and guitarist from east London has wo...   \n",
              "\n",
              "                                                   title  region  \\\n",
              "16     George Michael moved to Category C Highpoint P...  London   \n",
              "20     Trio guilty of Ben Gardner 'Halloween hat' murder  London   \n",
              "103    London council attacked for asking tenants to ...  London   \n",
              "120    Police boss who tackled Scotland Yard corrupti...  London   \n",
              "199    Sprinter Matthew Thomas branded 'common criminal'  London   \n",
              "...                                                  ...     ...   \n",
              "15310  Six art ideas in running for Trafalgar Square ...  London   \n",
              "15330  'Tome Raider' jailed over rare book thefts in ...  London   \n",
              "15332     Parliament Square peace protesters are evicted  London   \n",
              "15429    Teacher guilty of abusing boys at London school  London   \n",
              "15442  Guitarist wins search for London's best young ...  London   \n",
              "\n",
              "                                                    desc  category  \n",
              "16     Jailed pop star George Michael is transferred ...  BBC News  \n",
              "20     Three men are found guilty of murdering an IT ...  BBC News  \n",
              "103    A council in west London is criticised for cal...  BBC News  \n",
              "120    Sir Robert Mark, the former Metropolitan Polic...  BBC News  \n",
              "199    A sprinter who raced in national competitions ...  BBC News  \n",
              "...                                                  ...       ...  \n",
              "15310  Six ideas are put forward for the next artwork...  BBC News  \n",
              "15330  A man dubbed the \"Tome Raider\" after he stole ...  BBC News  \n",
              "15332  Peace protesters are evicted from Parliament S...  BBC News  \n",
              "15429  A 65-year-old man is convicted of sexually abu...  BBC News  \n",
              "15442  Singer and guitarist Noemie Ducimetiere wins a...  BBC News  \n",
              "\n",
              "[423 rows x 5 columns]"
            ],
            "text/html": [
              "\n",
              "  <div id=\"df-3688f532-c30d-4941-9810-9c00917dfa2c\">\n",
              "    <div class=\"colab-df-container\">\n",
              "      <div>\n",
              "<style scoped>\n",
              "    .dataframe tbody tr th:only-of-type {\n",
              "        vertical-align: middle;\n",
              "    }\n",
              "\n",
              "    .dataframe tbody tr th {\n",
              "        vertical-align: top;\n",
              "    }\n",
              "\n",
              "    .dataframe thead th {\n",
              "        text-align: right;\n",
              "    }\n",
              "</style>\n",
              "<table border=\"1\" class=\"dataframe\">\n",
              "  <thead>\n",
              "    <tr style=\"text-align: right;\">\n",
              "      <th></th>\n",
              "      <th>content</th>\n",
              "      <th>title</th>\n",
              "      <th>region</th>\n",
              "      <th>desc</th>\n",
              "      <th>category</th>\n",
              "    </tr>\n",
              "  </thead>\n",
              "  <tbody>\n",
              "    <tr>\n",
              "      <th>16</th>\n",
              "      <td>Jailed pop star George Michael has been transf...</td>\n",
              "      <td>George Michael moved to Category C Highpoint P...</td>\n",
              "      <td>London</td>\n",
              "      <td>Jailed pop star George Michael is transferred ...</td>\n",
              "      <td>BBC News</td>\n",
              "    </tr>\n",
              "    <tr>\n",
              "      <th>20</th>\n",
              "      <td>Three men have been found guilty of murdering ...</td>\n",
              "      <td>Trio guilty of Ben Gardner 'Halloween hat' murder</td>\n",
              "      <td>London</td>\n",
              "      <td>Three men are found guilty of murdering an IT ...</td>\n",
              "      <td>BBC News</td>\n",
              "    </tr>\n",
              "    <tr>\n",
              "      <th>103</th>\n",
              "      <td>A council in west London has been criticised f...</td>\n",
              "      <td>London council attacked for asking tenants to ...</td>\n",
              "      <td>London</td>\n",
              "      <td>A council in west London is criticised for cal...</td>\n",
              "      <td>BBC News</td>\n",
              "    </tr>\n",
              "    <tr>\n",
              "      <th>120</th>\n",
              "      <td>Sir Robert Mark, the former Metropolitan Polic...</td>\n",
              "      <td>Police boss who tackled Scotland Yard corrupti...</td>\n",
              "      <td>London</td>\n",
              "      <td>Sir Robert Mark, the former Metropolitan Polic...</td>\n",
              "      <td>BBC News</td>\n",
              "    </tr>\n",
              "    <tr>\n",
              "      <th>199</th>\n",
              "      <td>A sprinter who raced in national competitions ...</td>\n",
              "      <td>Sprinter Matthew Thomas branded 'common criminal'</td>\n",
              "      <td>London</td>\n",
              "      <td>A sprinter who raced in national competitions ...</td>\n",
              "      <td>BBC News</td>\n",
              "    </tr>\n",
              "    <tr>\n",
              "      <th>...</th>\n",
              "      <td>...</td>\n",
              "      <td>...</td>\n",
              "      <td>...</td>\n",
              "      <td>...</td>\n",
              "      <td>...</td>\n",
              "    </tr>\n",
              "    <tr>\n",
              "      <th>15310</th>\n",
              "      <td>Six proposals will be considered to become the...</td>\n",
              "      <td>Six art ideas in running for Trafalgar Square ...</td>\n",
              "      <td>London</td>\n",
              "      <td>Six ideas are put forward for the next artwork...</td>\n",
              "      <td>BBC News</td>\n",
              "    </tr>\n",
              "    <tr>\n",
              "      <th>15330</th>\n",
              "      <td>A man dubbed the \"Tome Raider\" after he stole ...</td>\n",
              "      <td>'Tome Raider' jailed over rare book thefts in ...</td>\n",
              "      <td>London</td>\n",
              "      <td>A man dubbed the \"Tome Raider\" after he stole ...</td>\n",
              "      <td>BBC News</td>\n",
              "    </tr>\n",
              "    <tr>\n",
              "      <th>15332</th>\n",
              "      <td>Peace protesters who have been camping in Parl...</td>\n",
              "      <td>Parliament Square peace protesters are evicted</td>\n",
              "      <td>London</td>\n",
              "      <td>Peace protesters are evicted from Parliament S...</td>\n",
              "      <td>BBC News</td>\n",
              "    </tr>\n",
              "    <tr>\n",
              "      <th>15429</th>\n",
              "      <td>A former teacher has been found guilty of abus...</td>\n",
              "      <td>Teacher guilty of abusing boys at London school</td>\n",
              "      <td>London</td>\n",
              "      <td>A 65-year-old man is convicted of sexually abu...</td>\n",
              "      <td>BBC News</td>\n",
              "    </tr>\n",
              "    <tr>\n",
              "      <th>15442</th>\n",
              "      <td>A singer and guitarist from east London has wo...</td>\n",
              "      <td>Guitarist wins search for London's best young ...</td>\n",
              "      <td>London</td>\n",
              "      <td>Singer and guitarist Noemie Ducimetiere wins a...</td>\n",
              "      <td>BBC News</td>\n",
              "    </tr>\n",
              "  </tbody>\n",
              "</table>\n",
              "<p>423 rows × 5 columns</p>\n",
              "</div>\n",
              "      <button class=\"colab-df-convert\" onclick=\"convertToInteractive('df-3688f532-c30d-4941-9810-9c00917dfa2c')\"\n",
              "              title=\"Convert this dataframe to an interactive table.\"\n",
              "              style=\"display:none;\">\n",
              "        \n",
              "  <svg xmlns=\"http://www.w3.org/2000/svg\" height=\"24px\"viewBox=\"0 0 24 24\"\n",
              "       width=\"24px\">\n",
              "    <path d=\"M0 0h24v24H0V0z\" fill=\"none\"/>\n",
              "    <path d=\"M18.56 5.44l.94 2.06.94-2.06 2.06-.94-2.06-.94-.94-2.06-.94 2.06-2.06.94zm-11 1L8.5 8.5l.94-2.06 2.06-.94-2.06-.94L8.5 2.5l-.94 2.06-2.06.94zm10 10l.94 2.06.94-2.06 2.06-.94-2.06-.94-.94-2.06-.94 2.06-2.06.94z\"/><path d=\"M17.41 7.96l-1.37-1.37c-.4-.4-.92-.59-1.43-.59-.52 0-1.04.2-1.43.59L10.3 9.45l-7.72 7.72c-.78.78-.78 2.05 0 2.83L4 21.41c.39.39.9.59 1.41.59.51 0 1.02-.2 1.41-.59l7.78-7.78 2.81-2.81c.8-.78.8-2.07 0-2.86zM5.41 20L4 18.59l7.72-7.72 1.47 1.35L5.41 20z\"/>\n",
              "  </svg>\n",
              "      </button>\n",
              "      \n",
              "  <style>\n",
              "    .colab-df-container {\n",
              "      display:flex;\n",
              "      flex-wrap:wrap;\n",
              "      gap: 12px;\n",
              "    }\n",
              "\n",
              "    .colab-df-convert {\n",
              "      background-color: #E8F0FE;\n",
              "      border: none;\n",
              "      border-radius: 50%;\n",
              "      cursor: pointer;\n",
              "      display: none;\n",
              "      fill: #1967D2;\n",
              "      height: 32px;\n",
              "      padding: 0 0 0 0;\n",
              "      width: 32px;\n",
              "    }\n",
              "\n",
              "    .colab-df-convert:hover {\n",
              "      background-color: #E2EBFA;\n",
              "      box-shadow: 0px 1px 2px rgba(60, 64, 67, 0.3), 0px 1px 3px 1px rgba(60, 64, 67, 0.15);\n",
              "      fill: #174EA6;\n",
              "    }\n",
              "\n",
              "    [theme=dark] .colab-df-convert {\n",
              "      background-color: #3B4455;\n",
              "      fill: #D2E3FC;\n",
              "    }\n",
              "\n",
              "    [theme=dark] .colab-df-convert:hover {\n",
              "      background-color: #434B5C;\n",
              "      box-shadow: 0px 1px 3px 1px rgba(0, 0, 0, 0.15);\n",
              "      filter: drop-shadow(0px 1px 2px rgba(0, 0, 0, 0.3));\n",
              "      fill: #FFFFFF;\n",
              "    }\n",
              "  </style>\n",
              "\n",
              "      <script>\n",
              "        const buttonEl =\n",
              "          document.querySelector('#df-3688f532-c30d-4941-9810-9c00917dfa2c button.colab-df-convert');\n",
              "        buttonEl.style.display =\n",
              "          google.colab.kernel.accessAllowed ? 'block' : 'none';\n",
              "\n",
              "        async function convertToInteractive(key) {\n",
              "          const element = document.querySelector('#df-3688f532-c30d-4941-9810-9c00917dfa2c');\n",
              "          const dataTable =\n",
              "            await google.colab.kernel.invokeFunction('convertToInteractive',\n",
              "                                                     [key], {});\n",
              "          if (!dataTable) return;\n",
              "\n",
              "          const docLinkHtml = 'Like what you see? Visit the ' +\n",
              "            '<a target=\"_blank\" href=https://colab.research.google.com/notebooks/data_table.ipynb>data table notebook</a>'\n",
              "            + ' to learn more about interactive tables.';\n",
              "          element.innerHTML = '';\n",
              "          dataTable['output_type'] = 'display_data';\n",
              "          await google.colab.output.renderOutput(dataTable, element);\n",
              "          const docLink = document.createElement('div');\n",
              "          docLink.innerHTML = docLinkHtml;\n",
              "          element.appendChild(docLink);\n",
              "        }\n",
              "      </script>\n",
              "    </div>\n",
              "  </div>\n",
              "  "
            ]
          },
          "metadata": {},
          "execution_count": 22
        }
      ]
    },
    {
      "cell_type": "code",
      "source": [
        "def json_maker(query, id, content, title, region, desc):\n",
        "    return {'query':str(query),'ID':id,'CONTENT':content, 'TITLE':title, 'REGION':region, 'DESCRIPTION':desc}"
      ],
      "metadata": {
        "id": "kq8zze4_FJMS"
      },
      "execution_count": 23,
      "outputs": []
    },
    {
      "cell_type": "code",
      "source": [
        "def info_print(index_num):\n",
        "    \n",
        "    print('CONTENT:', df_clean['content'][index_num])\n",
        "    print('TITLE:', df_clean['title'][index_num])\n",
        "    print('REGION:', df_clean['region'][index_num])\n",
        "    print('DESC:', df_clean['desc'][index_num])\n"
      ],
      "metadata": {
        "id": "IchK-727CZ5j"
      },
      "execution_count": 24,
      "outputs": []
    },
    {
      "cell_type": "code",
      "source": [
        "info_print(13475)"
      ],
      "metadata": {
        "colab": {
          "base_uri": "https://localhost:8080/"
        },
        "id": "F_5b4fCJC0Lz",
        "outputId": "117adfdc-b02e-4a52-e4c1-6399c12b76cc"
      },
      "execution_count": 25,
      "outputs": [
        {
          "output_type": "stream",
          "name": "stdout",
          "text": [
            "CONTENT: The team behind the Derry/Londonderry City of Culture 2013 have pitched their final bid to the judging panel.The 10-strong team travelled to Liverpool to give their presentation.Led by Derry City Council's Valerie Watts, the team included Deputy First Minister Martin McGuinness and Junior Minister Robin Newton.\"Let's hope that the judging panel recognise a place of talent, creativity, energy and strength,\" said Ms Watts.\"Being one of the four shortlisted cities is a huge achievement and something we should all be proud of.\"Derry has been short-listed along with Birmingham, Sheffield and Norwich.The team delivered a 20-minute pitch, followed by 100 minutes of detailed questioning from the judging panel.Mr McGuinness said that following the publication of the Saville Report, people in Derry felt they could now move forward.\"Some people call it Derry. Others call it Londonderry. But we all call it home,\" he said.\"Derry is an inherently creative and resilient city. We have a new story to tell. \"Becoming the City of Culture will represent a turning point, a pivotal moment when 'hope and history rhyme' making us a beacon of transformation to communities across the world. It is our ambition to see 'the town we love so well' become a city that is truly 'legenderry'.\"  Minister Newton said the bid showed a city \"looking to its future\".\"The people of Londonderry, the north west and Northern Ireland and their political representatives, stand united behind this bid,\" he said.\"To recognise Londonderry today as the UK City of Culture 2013 will not only transform a city but a region and indeed a country both culturally and economically for years to come.\"The winning city will be announced in mid-July.\n",
            "TITLE: Derry City of Culture team make their final pitch\n",
            "REGION: Foyle & West\n",
            "DESC: The team behind the Derry/Londonderry City of Culture 2013 pitch their final bid to the judging panel.\n"
          ]
        }
      ]
    },
    {
      "cell_type": "code",
      "source": [
        "#### keyword extraction \n",
        "# https://huggingface.co/yanekyuk/bert-uncased-keyword-extractor\n",
        "# https://huggingface.co/Voicelab/vlt5-base-keywords?text=The+biggest+advantage+is+the+transferability+of+the+vlT5+model%2C+as+it+works+well+on+all+domains+and+types+of+text.+The+downside+is+that+the+text+length+and+the+number+of+keywords+are+similar+to+the+training+data%3A+the+text+piece+of+an+abstract+length+generates+approximately+3+to+5+keywords.+It+works+both+extractive+and+abstractively.+Longer+pieces+of+text+must+be+split+into+smaller+chunks%2C+and+then+propagated+to+the+model.\n",
        "# https://huggingface.co/facebook/bart-large-mnli   zero shot label classification\n",
        "# eger her content datasinin multilabel halini bulabilirsem belki kontentlerin kesisim kumesini de bulabilirim.\n",
        "# eger her content datasinin keywordlerini bulabilirsem kesisen keyworleri kullanarak kontentlerin kesisim kumeisni de bulabilirim.\n",
        "# https://huggingface.co/yanekyuk/bert-keyword-extractor?text=Canadian+Natural+Resources+Minister+Jonathan+Wilkinson+told+Bloomberg+that+the+country+could+start+supplying+Europe+with+liquefied+natural+gas+%28LNG%29+in+as+soon+as+three+years+by+converting+an+existing+LNG+import+facility+on+Canada%E2%80%99s+Atlantic+coast+into+an+export+terminal.+Bottom+line%3A+Wilkinson+said+what+Canada+cares+about+is+that+the+new+LNG+facility+uses+a+low-emission+process+for+the+gas+and+is+capable+of+transitioning+to+exporting+hydrogen+later+on.\n",
        "# \n"
      ],
      "metadata": {
        "id": "bAMB_0m5C7m6"
      },
      "execution_count": 26,
      "outputs": []
    },
    {
      "cell_type": "markdown",
      "source": [
        "clustering\n"
      ],
      "metadata": {
        "id": "luRWx5OcoVZz"
      }
    },
    {
      "cell_type": "code",
      "source": [
        "!pip install umap-learn -q\n",
        "!pip install hdbscan -q"
      ],
      "metadata": {
        "colab": {
          "base_uri": "https://localhost:8080/"
        },
        "id": "cnwPEJHXoiqN",
        "outputId": "b94ef17d-dd86-464f-e06d-c896fc0a8812"
      },
      "execution_count": 38,
      "outputs": [
        {
          "output_type": "stream",
          "name": "stdout",
          "text": [
            "\u001b[?25l     \u001b[90m━━━━━━━━━━━━━━━━━━━━━━━━━━━━━━━━━━━━━━━━\u001b[0m \u001b[32m0.0/5.2 MB\u001b[0m \u001b[31m?\u001b[0m eta \u001b[36m-:--:--\u001b[0m\r\u001b[2K     \u001b[91m━━━━━━━━\u001b[0m\u001b[91m╸\u001b[0m\u001b[90m━━━━━━━━━━━━━━━━━━━━━━━━━━━━━━━\u001b[0m \u001b[32m1.2/5.2 MB\u001b[0m \u001b[31m33.8 MB/s\u001b[0m eta \u001b[36m0:00:01\u001b[0m\r\u001b[2K     \u001b[91m━━━━━━━━━━━━━━━━━━━━━━━━━━━\u001b[0m\u001b[90m╺\u001b[0m\u001b[90m━━━━━━━━━━━━\u001b[0m \u001b[32m3.5/5.2 MB\u001b[0m \u001b[31m49.6 MB/s\u001b[0m eta \u001b[36m0:00:01\u001b[0m\r\u001b[2K     \u001b[91m━━━━━━━━━━━━━━━━━━━━━━━━━━━━━━━━━━━━━━━\u001b[0m\u001b[91m╸\u001b[0m \u001b[32m5.2/5.2 MB\u001b[0m \u001b[31m55.3 MB/s\u001b[0m eta \u001b[36m0:00:01\u001b[0m\r\u001b[2K     \u001b[91m━━━━━━━━━━━━━━━━━━━━━━━━━━━━━━━━━━━━━━━\u001b[0m\u001b[91m╸\u001b[0m \u001b[32m5.2/5.2 MB\u001b[0m \u001b[31m55.3 MB/s\u001b[0m eta \u001b[36m0:00:01\u001b[0m\r\u001b[2K     \u001b[90m━━━━━━━━━━━━━━━━━━━━━━━━━━━━━━━━━━━━━━━━\u001b[0m \u001b[32m5.2/5.2 MB\u001b[0m \u001b[31m33.5 MB/s\u001b[0m eta \u001b[36m0:00:00\u001b[0m\n",
            "\u001b[?25h  Installing build dependencies ... \u001b[?25l\u001b[?25hdone\n",
            "  Getting requirements to build wheel ... \u001b[?25l\u001b[?25hdone\n",
            "  Preparing metadata (pyproject.toml) ... \u001b[?25l\u001b[?25hdone\n",
            "  Building wheel for hdbscan (pyproject.toml) ... \u001b[?25l\u001b[?25hdone\n"
          ]
        }
      ]
    },
    {
      "cell_type": "code",
      "source": [
        "vector_dir = 'drive/MyDrive/summation_embeddings.npy'\n",
        "# os.listdir('drive/MyDrive')\n",
        "embedding_vectors = np.load(vector_dir)"
      ],
      "metadata": {
        "id": "qRTiFknq89O0"
      },
      "execution_count": 35,
      "outputs": []
    },
    {
      "cell_type": "code",
      "source": [
        "import umap ### dimensionality reduction algorithm\n",
        "import hdbscan ### clustering algorithm"
      ],
      "metadata": {
        "id": "AOxQCpG0oU3T"
      },
      "execution_count": 40,
      "outputs": []
    },
    {
      "cell_type": "code",
      "source": [
        "# We reduce the dimensionality to 5 while keeping the size of the local neighborhood at 15\n",
        "umap_embeddings = umap.UMAP(n_neighbors=15, \n",
        "                            n_components=5, \n",
        "                            metric='cosine').fit_transform(embedding_vectors)"
      ],
      "metadata": {
        "id": "9x-yHrsL8_EQ"
      },
      "execution_count": 37,
      "outputs": []
    },
    {
      "cell_type": "code",
      "source": [
        "cluster = hdbscan.HDBSCAN(\n",
        "                        min_cluster_size = 15,\n",
        "                        metric = 'euclidean' ,\n",
        "                        cluster_selection_method = 'eom'\n",
        "                        ).fit(umap_embeddings)"
      ],
      "metadata": {
        "id": "65sxuP7N9kBz"
      },
      "execution_count": 43,
      "outputs": []
    },
    {
      "cell_type": "code",
      "source": [
        "umap_data = umap.UMAP(n_neighbors=15, n_components=2, min_dist=0.0, metric='cosine').fit_transform(embedding_vectors)\n"
      ],
      "metadata": {
        "id": "-qtAq5Ws-9SH"
      },
      "execution_count": 45,
      "outputs": []
    },
    {
      "cell_type": "code",
      "source": [
        "result = pd.DataFrame(umap_data, columns=['x', 'y'])\n",
        "result['labels'] = cluster.labels_\n",
        "fig, ax = plt.subplots(figsize=(20, 10))\n",
        "outliers = result.loc[result.labels == -1, :]\n",
        "clustered = result.loc[result.labels != -1, :]\n",
        "plt.scatter(outliers.x, outliers.y,\n",
        "            # color='#BDBDBD',\n",
        "            s=0.05)\n",
        "plt.scatter(clustered.x, clustered.y, c=clustered.labels, s=10,\n",
        "            cmap='hsv_r'\n",
        "            )\n",
        "plt.xlim([0,20])\n",
        "# plt.legend([result['labels'].unique()])\n",
        "# plt.colorbar()"
      ],
      "metadata": {
        "colab": {
          "base_uri": "https://localhost:8080/",
          "height": 610
        },
        "id": "mNZxKGZe_pTN",
        "outputId": "d8e0d2e4-955d-41b7-b439-2d5701361108"
      },
      "execution_count": 61,
      "outputs": [
        {
          "output_type": "execute_result",
          "data": {
            "text/plain": [
              "(0.0, 20.0)"
            ]
          },
          "metadata": {},
          "execution_count": 61
        },
        {
          "output_type": "display_data",
          "data": {
            "text/plain": [
              "<Figure size 1440x720 with 1 Axes>"
            ],
            "image/png": "[encoded data removed]"
          },
          "metadata": {}
        }
      ]
    },
    {
      "cell_type": "code",
      "source": [
        "result"
      ],
      "metadata": {
        "colab": {
          "base_uri": "https://localhost:8080/",
          "height": 424
        },
        "id": "jwSM7DPJ_4Ar",
        "outputId": "d5ac01d3-30be-487f-83eb-034b989d5f10"
      },
      "execution_count": 47,
      "outputs": [
        {
          "output_type": "execute_result",
          "data": {
            "text/plain": [
              "              x         y  labels\n",
              "0      8.449739  6.732603      -1\n",
              "1      8.676922  2.196244      -1\n",
              "2      8.961184  6.482584       8\n",
              "3      7.482664  3.123925      -1\n",
              "4      7.470929  3.125592      -1\n",
              "...         ...       ...     ...\n",
              "2342  12.566989  3.367991      13\n",
              "2343  12.008976  5.678672      31\n",
              "2344  13.787008  2.803093      14\n",
              "2345  13.229710  7.911063      -1\n",
              "2346  10.957275  7.686333      36\n",
              "\n",
              "[2347 rows x 3 columns]"
            ],
            "text/html": [
              "\n",
              "  <div id=\"df-e5dc6c6b-998b-4616-92bd-e1f79219ab32\">\n",
              "    <div class=\"colab-df-container\">\n",
              "      <div>\n",
              "<style scoped>\n",
              "    .dataframe tbody tr th:only-of-type {\n",
              "        vertical-align: middle;\n",
              "    }\n",
              "\n",
              "    .dataframe tbody tr th {\n",
              "        vertical-align: top;\n",
              "    }\n",
              "\n",
              "    .dataframe thead th {\n",
              "        text-align: right;\n",
              "    }\n",
              "</style>\n",
              "<table border=\"1\" class=\"dataframe\">\n",
              "  <thead>\n",
              "    <tr style=\"text-align: right;\">\n",
              "      <th></th>\n",
              "      <th>x</th>\n",
              "      <th>y</th>\n",
              "      <th>labels</th>\n",
              "    </tr>\n",
              "  </thead>\n",
              "  <tbody>\n",
              "    <tr>\n",
              "      <th>0</th>\n",
              "      <td>8.449739</td>\n",
              "      <td>6.732603</td>\n",
              "      <td>-1</td>\n",
              "    </tr>\n",
              "    <tr>\n",
              "      <th>1</th>\n",
              "      <td>8.676922</td>\n",
              "      <td>2.196244</td>\n",
              "      <td>-1</td>\n",
              "    </tr>\n",
              "    <tr>\n",
              "      <th>2</th>\n",
              "      <td>8.961184</td>\n",
              "      <td>6.482584</td>\n",
              "      <td>8</td>\n",
              "    </tr>\n",
              "    <tr>\n",
              "      <th>3</th>\n",
              "      <td>7.482664</td>\n",
              "      <td>3.123925</td>\n",
              "      <td>-1</td>\n",
              "    </tr>\n",
              "    <tr>\n",
              "      <th>4</th>\n",
              "      <td>7.470929</td>\n",
              "      <td>3.125592</td>\n",
              "      <td>-1</td>\n",
              "    </tr>\n",
              "    <tr>\n",
              "      <th>...</th>\n",
              "      <td>...</td>\n",
              "      <td>...</td>\n",
              "      <td>...</td>\n",
              "    </tr>\n",
              "    <tr>\n",
              "      <th>2342</th>\n",
              "      <td>12.566989</td>\n",
              "      <td>3.367991</td>\n",
              "      <td>13</td>\n",
              "    </tr>\n",
              "    <tr>\n",
              "      <th>2343</th>\n",
              "      <td>12.008976</td>\n",
              "      <td>5.678672</td>\n",
              "      <td>31</td>\n",
              "    </tr>\n",
              "    <tr>\n",
              "      <th>2344</th>\n",
              "      <td>13.787008</td>\n",
              "      <td>2.803093</td>\n",
              "      <td>14</td>\n",
              "    </tr>\n",
              "    <tr>\n",
              "      <th>2345</th>\n",
              "      <td>13.229710</td>\n",
              "      <td>7.911063</td>\n",
              "      <td>-1</td>\n",
              "    </tr>\n",
              "    <tr>\n",
              "      <th>2346</th>\n",
              "      <td>10.957275</td>\n",
              "      <td>7.686333</td>\n",
              "      <td>36</td>\n",
              "    </tr>\n",
              "  </tbody>\n",
              "</table>\n",
              "<p>2347 rows × 3 columns</p>\n",
              "</div>\n",
              "      <button class=\"colab-df-convert\" onclick=\"convertToInteractive('df-e5dc6c6b-998b-4616-92bd-e1f79219ab32')\"\n",
              "              title=\"Convert this dataframe to an interactive table.\"\n",
              "              style=\"display:none;\">\n",
              "        \n",
              "  <svg xmlns=\"http://www.w3.org/2000/svg\" height=\"24px\"viewBox=\"0 0 24 24\"\n",
              "       width=\"24px\">\n",
              "    <path d=\"M0 0h24v24H0V0z\" fill=\"none\"/>\n",
              "    <path d=\"M18.56 5.44l.94 2.06.94-2.06 2.06-.94-2.06-.94-.94-2.06-.94 2.06-2.06.94zm-11 1L8.5 8.5l.94-2.06 2.06-.94-2.06-.94L8.5 2.5l-.94 2.06-2.06.94zm10 10l.94 2.06.94-2.06 2.06-.94-2.06-.94-.94-2.06-.94 2.06-2.06.94z\"/><path d=\"M17.41 7.96l-1.37-1.37c-.4-.4-.92-.59-1.43-.59-.52 0-1.04.2-1.43.59L10.3 9.45l-7.72 7.72c-.78.78-.78 2.05 0 2.83L4 21.41c.39.39.9.59 1.41.59.51 0 1.02-.2 1.41-.59l7.78-7.78 2.81-2.81c.8-.78.8-2.07 0-2.86zM5.41 20L4 18.59l7.72-7.72 1.47 1.35L5.41 20z\"/>\n",
              "  </svg>\n",
              "      </button>\n",
              "      \n",
              "  <style>\n",
              "    .colab-df-container {\n",
              "      display:flex;\n",
              "      flex-wrap:wrap;\n",
              "      gap: 12px;\n",
              "    }\n",
              "\n",
              "    .colab-df-convert {\n",
              "      background-color: #E8F0FE;\n",
              "      border: none;\n",
              "      border-radius: 50%;\n",
              "      cursor: pointer;\n",
              "      display: none;\n",
              "      fill: #1967D2;\n",
              "      height: 32px;\n",
              "      padding: 0 0 0 0;\n",
              "      width: 32px;\n",
              "    }\n",
              "\n",
              "    .colab-df-convert:hover {\n",
              "      background-color: #E2EBFA;\n",
              "      box-shadow: 0px 1px 2px rgba(60, 64, 67, 0.3), 0px 1px 3px 1px rgba(60, 64, 67, 0.15);\n",
              "      fill: #174EA6;\n",
              "    }\n",
              "\n",
              "    [theme=dark] .colab-df-convert {\n",
              "      background-color: #3B4455;\n",
              "      fill: #D2E3FC;\n",
              "    }\n",
              "\n",
              "    [theme=dark] .colab-df-convert:hover {\n",
              "      background-color: #434B5C;\n",
              "      box-shadow: 0px 1px 3px 1px rgba(0, 0, 0, 0.15);\n",
              "      filter: drop-shadow(0px 1px 2px rgba(0, 0, 0, 0.3));\n",
              "      fill: #FFFFFF;\n",
              "    }\n",
              "  </style>\n",
              "\n",
              "      <script>\n",
              "        const buttonEl =\n",
              "          document.querySelector('#df-e5dc6c6b-998b-4616-92bd-e1f79219ab32 button.colab-df-convert');\n",
              "        buttonEl.style.display =\n",
              "          google.colab.kernel.accessAllowed ? 'block' : 'none';\n",
              "\n",
              "        async function convertToInteractive(key) {\n",
              "          const element = document.querySelector('#df-e5dc6c6b-998b-4616-92bd-e1f79219ab32');\n",
              "          const dataTable =\n",
              "            await google.colab.kernel.invokeFunction('convertToInteractive',\n",
              "                                                     [key], {});\n",
              "          if (!dataTable) return;\n",
              "\n",
              "          const docLinkHtml = 'Like what you see? Visit the ' +\n",
              "            '<a target=\"_blank\" href=https://colab.research.google.com/notebooks/data_table.ipynb>data table notebook</a>'\n",
              "            + ' to learn more about interactive tables.';\n",
              "          element.innerHTML = '';\n",
              "          dataTable['output_type'] = 'display_data';\n",
              "          await google.colab.output.renderOutput(dataTable, element);\n",
              "          const docLink = document.createElement('div');\n",
              "          docLink.innerHTML = docLinkHtml;\n",
              "          element.appendChild(docLink);\n",
              "        }\n",
              "      </script>\n",
              "    </div>\n",
              "  </div>\n",
              "  "
            ]
          },
          "metadata": {},
          "execution_count": 47
        }
      ]
    },
    {
      "cell_type": "code",
      "source": [
        "result['labels'].unique()"
      ],
      "metadata": {
        "colab": {
          "base_uri": "https://localhost:8080/"
        },
        "id": "JzD0r7w3AyAG",
        "outputId": "bf7f8fd2-42ff-48c0-f8d1-38debfa9fb9c"
      },
      "execution_count": 48,
      "outputs": [
        {
          "output_type": "execute_result",
          "data": {
            "text/plain": [
              "array([-1,  8, 14, 26, 32,  0, 33, 30, 17, 24, 34, 36, 28, 25, 16, 10,  4,\n",
              "       22, 29,  5, 12, 11,  6,  3, 20, 35, 31, 13,  7, 21, 19, 18,  9,  2,\n",
              "       27, 15,  1, 23])"
            ]
          },
          "metadata": {},
          "execution_count": 48
        }
      ]
    },
    {
      "cell_type": "code",
      "source": [],
      "metadata": {
        "id": "MsprNygCA55T"
      },
      "execution_count": null,
      "outputs": []
    }
  ]
}