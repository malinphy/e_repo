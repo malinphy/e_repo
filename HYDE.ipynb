{
  "cells": [
    {
      "cell_type": "markdown",
      "metadata": {
        "id": "view-in-github",
        "colab_type": "text"
      },
      "source": [
        "<a href=\"https://colab.research.google.com/github/malinphy/q_17/blob/main/HYDE.ipynb\" target=\"_parent\"><img src=\"https://colab.research.google.com/assets/colab-badge.svg\" alt=\"Open In Colab\"/></a>"
      ]
    },
    {
      "cell_type": "code",
      "source": [
        "!wget  https://www.dropbox.com/s/9nulx9nxn4chujw/faiss.msmarco-v1-passage.contriever.pq-m192.tar.gz\n",
        "!tar -xvf contriever_msmarco_index.tar.gz"
      ],
      "metadata": {
        "colab": {
          "base_uri": "https://localhost:8080/"
        },
        "id": "khP7dHkDUkhr",
        "outputId": "1f9e292b-4e4e-4f61-b67f-ae333470fd33"
      },
      "execution_count": 1,
      "outputs": [
        {
          "output_type": "stream",
          "name": "stdout",
          "text": [
            "--2023-03-02 13:25:04--  https://www.dropbox.com/s/9nulx9nxn4chujw/faiss.msmarco-v1-passage.contriever.pq-m192.tar.gz\n",
            "Resolving www.dropbox.com (www.dropbox.com)... 162.125.3.18, 2620:100:6018:18::a27d:312\n",
            "Connecting to www.dropbox.com (www.dropbox.com)|162.125.3.18|:443... connected.\n",
            "HTTP request sent, awaiting response... 302 Found\n",
            "Location: /s/raw/9nulx9nxn4chujw/faiss.msmarco-v1-passage.contriever.pq-m192.tar.gz [following]\n",
            "--2023-03-02 13:25:05--  https://www.dropbox.com/s/raw/9nulx9nxn4chujw/faiss.msmarco-v1-passage.contriever.pq-m192.tar.gz\n",
            "Reusing existing connection to www.dropbox.com:443.\n",
            "HTTP request sent, awaiting response... 302 Found\n",
            "Location: https://uc269330f338390cadcb1895a08f.dl.dropboxusercontent.com/cd/0/inline/B3c2HUl-w1fldOcdb8zKgzNFsvury-VTehej58e4NpT0Nw1nUTPqDg46yesiGssh3qT1BWzJICM4qGsRsU9KAzA6EtzKNqbTQzLFYpb_n8Jcecq2wd0m8fmu4dFmHV-G5JheevfoTqM8zHjCx-ZvDXhl-EnBsMlj4tjJlm4v19pJCw/file# [following]\n",
            "--2023-03-02 13:25:05--  https://uc269330f338390cadcb1895a08f.dl.dropboxusercontent.com/cd/0/inline/B3c2HUl-w1fldOcdb8zKgzNFsvury-VTehej58e4NpT0Nw1nUTPqDg46yesiGssh3qT1BWzJICM4qGsRsU9KAzA6EtzKNqbTQzLFYpb_n8Jcecq2wd0m8fmu4dFmHV-G5JheevfoTqM8zHjCx-ZvDXhl-EnBsMlj4tjJlm4v19pJCw/file\n",
            "Resolving uc269330f338390cadcb1895a08f.dl.dropboxusercontent.com (uc269330f338390cadcb1895a08f.dl.dropboxusercontent.com)... 162.125.3.15, 2620:100:6018:15::a27d:30f\n",
            "Connecting to uc269330f338390cadcb1895a08f.dl.dropboxusercontent.com (uc269330f338390cadcb1895a08f.dl.dropboxusercontent.com)|162.125.3.15|:443... connected.\n",
            "HTTP request sent, awaiting response... 302 Found\n",
            "Location: /cd/0/inline2/B3cmWXRcUZrR7apE8dzaoeDwQUQpJWSrDsiS46p0eRVhmioDK4wU85ZmG_WvT1h3BaBgowA_T_OBsYIQjtCsIPRXEImszERPhwyMi7d8dzyV9THgI4UeEuaG2WI9atOYZprLGbmrTzIXkR6x_cWgCHSCy0fUj7a-jh3lUKnPcBduCYGYr41J8e_BaA-h_pnfntLKSh23gBN3nbsugX2-zPymLJ-iqDBjvWc5_cVBdhPVpGZHtpbOuLsgUUmsX3T9O90Xi4oknMXW2Czs5s87V-SGS5ggpt57Wh-P7cAc5UCLpq5nSxTm24615qbUQYo8rUf-S3B9BFIpePI_ep0G_hRZ8fE2cgIOL12Phs7MCwutrgbGy1h_ZqXgJXI8jjYwwo9E3GKEs67sHGiiYHy2TT5av_f9fvBTbzxh_U5z2GEsDg/file [following]\n",
            "--2023-03-02 13:25:05--  https://uc269330f338390cadcb1895a08f.dl.dropboxusercontent.com/cd/0/inline2/B3cmWXRcUZrR7apE8dzaoeDwQUQpJWSrDsiS46p0eRVhmioDK4wU85ZmG_WvT1h3BaBgowA_T_OBsYIQjtCsIPRXEImszERPhwyMi7d8dzyV9THgI4UeEuaG2WI9atOYZprLGbmrTzIXkR6x_cWgCHSCy0fUj7a-jh3lUKnPcBduCYGYr41J8e_BaA-h_pnfntLKSh23gBN3nbsugX2-zPymLJ-iqDBjvWc5_cVBdhPVpGZHtpbOuLsgUUmsX3T9O90Xi4oknMXW2Czs5s87V-SGS5ggpt57Wh-P7cAc5UCLpq5nSxTm24615qbUQYo8rUf-S3B9BFIpePI_ep0G_hRZ8fE2cgIOL12Phs7MCwutrgbGy1h_ZqXgJXI8jjYwwo9E3GKEs67sHGiiYHy2TT5av_f9fvBTbzxh_U5z2GEsDg/file\n",
            "Reusing existing connection to uc269330f338390cadcb1895a08f.dl.dropboxusercontent.com:443.\n",
            "HTTP request sent, awaiting response... 200 OK\n",
            "Length: 1718495453 (1.6G) [application/octet-stream]\n",
            "Saving to: ‘faiss.msmarco-v1-passage.contriever.pq-m192.tar.gz.1’\n",
            "\n",
            "faiss.msmarco-v1-pa 100%[===================>]   1.60G  80.8MB/s    in 20s     \n",
            "\n",
            "2023-03-02 13:25:26 (81.3 MB/s) - ‘faiss.msmarco-v1-passage.contriever.pq-m192.tar.gz.1’ saved [1718495453/1718495453]\n",
            "\n",
            "tar: contriever_msmarco_index.tar.gz: Cannot open: No such file or directory\n",
            "tar: Error is not recoverable: exiting now\n"
          ]
        }
      ]
    },
    {
      "cell_type": "code",
      "source": [
        "!tar -xvf faiss.msmarco-v1-passage.contriever.pq-m192.tar.gz.1"
      ],
      "metadata": {
        "colab": {
          "base_uri": "https://localhost:8080/"
        },
        "id": "QCrh2iNmWnwx",
        "outputId": "0f0e2f66-c69a-4e30-d68e-6820aec2775d"
      },
      "execution_count": 2,
      "outputs": [
        {
          "output_type": "stream",
          "name": "stdout",
          "text": [
            "faiss.msmarco-v1-passage.contriever.pq-m192/\n",
            "faiss.msmarco-v1-passage.contriever.pq-m192/docid\n",
            "faiss.msmarco-v1-passage.contriever.pq-m192/index\n"
          ]
        }
      ]
    },
    {
      "cell_type": "code",
      "source": [
        "!pip install pyserini -q"
      ],
      "metadata": {
        "id": "Prux3mOcUke1"
      },
      "execution_count": 3,
      "outputs": []
    },
    {
      "cell_type": "code",
      "source": [
        "!pip install openai -q\n",
        "!pip install cohere -q\n",
        "!pip install faiss-cpu -q"
      ],
      "metadata": {
        "id": "GlngRgEhUkbL"
      },
      "execution_count": 4,
      "outputs": []
    },
    {
      "cell_type": "code",
      "source": [
        "import time\n",
        "import openai\n",
        "import cohere\n",
        "\n",
        "class Generator:\n",
        "    def __init__(self, model_name, api_key):\n",
        "        self.model_name = model_name\n",
        "        self.api_key = api_key\n",
        "    \n",
        "    def generate(self):\n",
        "        return \"\"\n",
        "\n",
        "\n",
        "class OpenAIGenerator(Generator):\n",
        "    def __init__(self, model_name, api_key, n=8, max_tokens=512, temperature=0.7, top_p=1, frequency_penalty=0.0, presence_penalty=0.0, stop=['\\n\\n\\n'], wait_till_success=False):\n",
        "        super().__init__(model_name, api_key)\n",
        "        self.n = n\n",
        "        self.max_tokens = max_tokens\n",
        "        self.temperature = temperature\n",
        "        self.top_p = top_p\n",
        "        self.frequency_penalty = frequency_penalty\n",
        "        self.presence_penalty = presence_penalty\n",
        "        self.stop = stop\n",
        "        self.wait_till_success = wait_till_success\n",
        "    \n",
        "    @staticmethod\n",
        "    def parse_response(response):\n",
        "        to_return = []\n",
        "        for _, g in enumerate(response['choices']):\n",
        "            text = g['text']\n",
        "            logprob = sum(g['logprobs']['token_logprobs'])\n",
        "            to_return.append((text, logprob))\n",
        "        texts = [r[0] for r in sorted(to_return, key=lambda tup: tup[1], reverse=True)]\n",
        "        return texts\n",
        "\n",
        "    def generate(self, prompt):\n",
        "        get_results = False\n",
        "        while not get_results:\n",
        "            try:\n",
        "                result = openai.Completion.create(\n",
        "                    engine=self.model_name,\n",
        "                    prompt=prompt,\n",
        "                    api_key=self.api_key,\n",
        "                    max_tokens=self.max_tokens,\n",
        "                    temperature=self.temperature,\n",
        "                    frequency_penalty=self.frequency_penalty,\n",
        "                    presence_penalty=self.presence_penalty,\n",
        "                    top_p=self.top_p,\n",
        "                    n=self.n,\n",
        "                    stop=self.stop,\n",
        "                    logprobs=1\n",
        "                )\n",
        "                get_results = True\n",
        "            except Exception as e:\n",
        "                if self.wait_till_success:\n",
        "                    time.sleep(1)\n",
        "                else:\n",
        "                    raise e\n",
        "        return self.parse_response(result)\n",
        "\n",
        "\n",
        "class CohereGenerator(Generator):\n",
        "    def __init__(self, model_name, api_key, n=8, max_tokens=512, temperature=0.7, p=1, frequency_penalty=0.0, presence_penalty=0.0, stop=['\\n\\n\\n'], wait_till_success=False):\n",
        "        super().__init__(model_name, api_key)\n",
        "        self.cohere = cohere.Cohere(self.api_key)\n",
        "        self.n = n\n",
        "        self.max_tokens = max_tokens\n",
        "        self.temperature = temperature\n",
        "        self.p = p\n",
        "        self.frequency_penalty = frequency_penalty\n",
        "        self.presence_penalty = presence_penalty\n",
        "        self.stop = stop\n",
        "        self.wait_till_success = wait_till_success\n",
        "\n",
        "    \n",
        "    @staticmethod\n",
        "    def parse_response(response):\n",
        "        text = response.generations[0].text\n",
        "        return text\n",
        "    \n",
        "    def generate(self, prompt):\n",
        "        texts = []\n",
        "        for _ in range(self.n):\n",
        "            get_result = False\n",
        "            while not get_result:\n",
        "                try:\n",
        "                    result = self.cohere.generate(\n",
        "                        prompt=prompt,\n",
        "                        model=self.model_name,\n",
        "                        max_tokens=self.max_tokens,\n",
        "                        temperature=self.temperature,\n",
        "                        frequency_penalty=self.frequency_penalty,\n",
        "                        presence_penalty=self.presence_penalty,\n",
        "                        p=self.p,\n",
        "                        k=0,\n",
        "                        stop=self.stop,\n",
        "                    )\n",
        "                    get_result = True\n",
        "                except Exception as e:\n",
        "                    if self.wait_till_success:\n",
        "                        time.sleep(1)\n",
        "                    else:\n",
        "                        raise e\n",
        "            text = self.parse_response(result)\n",
        "            texts.append(text)\n",
        "        return texts"
      ],
      "metadata": {
        "id": "aw1R3pgfVeli"
      },
      "execution_count": 5,
      "outputs": []
    },
    {
      "cell_type": "code",
      "source": [
        "import numpy as np\n",
        "\n",
        "\n",
        "class HyDE:\n",
        "    def __init__(self, promptor, generator, encoder, searcher):\n",
        "        self.promptor = promptor\n",
        "        self.generator = generator\n",
        "        self.encoder = encoder\n",
        "        self.searcher = searcher\n",
        "    \n",
        "    def prompt(self, query):\n",
        "        return self.promptor.build_prompt(query)\n",
        "\n",
        "    def generate(self, query):\n",
        "        prompt = self.promptor.build_prompt(query)\n",
        "        hypothesis_documents = self.generator.generate(prompt)\n",
        "        return hypothesis_documents\n",
        "    \n",
        "    def encode(self, query, hypothesis_documents):\n",
        "        all_emb_c = []\n",
        "        for c in [query] + hypothesis_documents:\n",
        "            c_emb = self.encoder.encode(c)\n",
        "            all_emb_c.append(np.array(c_emb))\n",
        "        all_emb_c = np.array(all_emb_c)\n",
        "        avg_emb_c = np.mean(all_emb_c, axis=0)\n",
        "        hyde_vector = avg_emb_c.reshape((1, len(avg_emb_c)))\n",
        "        return hyde_vector\n",
        "    \n",
        "    def search(self, hyde_vector, k=10):\n",
        "        hits = self.searcher.search(hyde_vector, k=k)\n",
        "        return hits\n",
        "    \n",
        "\n",
        "    def e2e_search(self, query, k=10):\n",
        "        prompt = self.promptor.build_prompt(query)\n",
        "        hypothesis_documents = self.generator.generate(prompt)\n",
        "        hyde_vector = self.encode(query, hypothesis_documents)\n",
        "        hits = self.searcher.search(hyde_vector, k=k)\n",
        "        return hits"
      ],
      "metadata": {
        "id": "rA3UocmtVrx6"
      },
      "execution_count": 6,
      "outputs": []
    },
    {
      "cell_type": "code",
      "source": [
        "WEB_SEARCH = \"\"\"Please write a passage to answer the question.\n",
        "Question: {}\n",
        "Passage:\"\"\"\n",
        "\n",
        "\n",
        "SCIFACT = \"\"\"Please write a scientific paper passage to support/refute the claim.\n",
        "Claim: {}\n",
        "Passage:\"\"\"\n",
        "\n",
        "\n",
        "ARGUANA = \"\"\"Please write a counter argument for the passage.\n",
        "Passage: {}\n",
        "Counter Argument:\"\"\"\n",
        "\n",
        "\n",
        "TREC_COVID = \"\"\"Please write a scientific paper passage to answer the question.\n",
        "Question: {}\n",
        "Passage:\"\"\"\n",
        "\n",
        "\n",
        "FIQA = \"\"\"Please write a financial article passage to answer the question.\n",
        "Question: {}\n",
        "Passage:\"\"\"\n",
        "\n",
        "\n",
        "DBPEDIA_ENTITY = \"\"\"Please write a passage to answer the question.\n",
        "Question: {}\n",
        "Passage:\"\"\"\n",
        "\n",
        "\n",
        "TREC_NEWS = \"\"\"Please write a news passage about the topic.\n",
        "Topic: {}\n",
        "Passage:\"\"\"\n",
        "\n",
        "\n",
        "MR_TYDI = \"\"\"Please write a passage in {} to answer the question in detail.\n",
        "Question: {}\n",
        "Passage:\"\"\"\n",
        "\n",
        "\n",
        "class Promptor:\n",
        "    def __init__(self, task: str, language: str = 'en'):\n",
        "        self.task = task\n",
        "        self.language = language\n",
        "    \n",
        "    def build_prompt(self, query: str):\n",
        "        if self.task == 'web search':\n",
        "            return WEB_SEARCH.format(query)\n",
        "        elif self.task == 'scifact':\n",
        "            return SCIFACT.format(query)\n",
        "        elif self.task == 'arguana':\n",
        "            return ARGUANA.format(query)\n",
        "        elif self.task == 'trec-covid':\n",
        "            return TREC_COVID.format(query)\n",
        "        elif self.task == 'fiqa':\n",
        "            return FIQA.format(query)\n",
        "        elif self.task == 'dbpedia-entity':\n",
        "            return DBPEDIA_ENTITY.format(query)\n",
        "        elif self.task == 'trec-news':\n",
        "            return TREC_NEWS.format(query)\n",
        "        elif self.task == 'mr-tydi':\n",
        "            return MR_TYDI.format(self.language, query)\n",
        "        else:\n",
        "            raise ValueError('Task not supported')"
      ],
      "metadata": {
        "id": "SOw32COVVwgn"
      },
      "execution_count": 7,
      "outputs": []
    },
    {
      "cell_type": "code",
      "source": [],
      "metadata": {
        "id": "G7IlBRvFU_nb"
      },
      "execution_count": 8,
      "outputs": []
    },
    {
      "cell_type": "code",
      "source": [
        "import json\n",
        "from pyserini.search import FaissSearcher, LuceneSearcher\n",
        "from pyserini.search.faiss import AutoQueryEncoder\n",
        "\n",
        "# from hyde import Promptor, OpenAIGenerator, CohereGenerator, HyDE"
      ],
      "metadata": {
        "id": "7smb68U9VPML"
      },
      "execution_count": 9,
      "outputs": []
    },
    {
      "cell_type": "code",
      "source": [
        "KEY = 'KEY' # replace with your API key, it can be OpenAI api key or Cohere api key\n",
        "promptor = Promptor('web search')\n",
        "generator = OpenAIGenerator('text-davinci-003', KEY)\n",
        "encoder = AutoQueryEncoder(encoder_dir='facebook/contriever', pooling='mean')\n",
        "# searcher = FaissSearcher('contriever_msmarco_index/', encoder)\n",
        "searcher = FaissSearcher('faiss.msmarco-v1-passage.contriever.pq-m192/',encoder)\n",
        "corpus = LuceneSearcher.from_prebuilt_index('msmarco-v1-passage')"
      ],
      "metadata": {
        "colab": {
          "base_uri": "https://localhost:8080/"
        },
        "id": "1w1T-rCOVyVy",
        "outputId": "28c10f21-20a3-4e3c-87ae-37be155535fd"
      },
      "execution_count": 10,
      "outputs": [
        {
          "output_type": "stream",
          "name": "stdout",
          "text": [
            "Downloading index at https://rgw.cs.uwaterloo.ca/pyserini/indexes/lucene-index.msmarco-v1-passage.20221004.252b5e.tar.gz...\n"
          ]
        },
        {
          "output_type": "stream",
          "name": "stderr",
          "text": [
            "lucene-index.msmarco-v1-passage.20221004.252b5e.tar.gz: 2.02GB [00:30, 70.4MB/s]                            \n"
          ]
        }
      ]
    },
    {
      "cell_type": "code",
      "source": [
        "hyde = HyDE(promptor, generator, encoder, searcher)"
      ],
      "metadata": {
        "id": "IGQPX7e6YAlP"
      },
      "execution_count": 11,
      "outputs": []
    },
    {
      "cell_type": "code",
      "source": [
        "query = 'how long does it take to remove wisdom tooth'"
      ],
      "metadata": {
        "id": "vh5JBqMpX0l6"
      },
      "execution_count": 12,
      "outputs": []
    },
    {
      "cell_type": "code",
      "source": [
        "prompt = hyde.prompt(query)\n",
        "print(prompt)"
      ],
      "metadata": {
        "colab": {
          "base_uri": "https://localhost:8080/"
        },
        "id": "PE-29oNgX0h_",
        "outputId": "88ecac29-2f2a-4226-9d38-46345538e576"
      },
      "execution_count": 13,
      "outputs": [
        {
          "output_type": "stream",
          "name": "stdout",
          "text": [
            "Please write a passage to answer the question.\n",
            "Question: how long does it take to remove wisdom tooth\n",
            "Passage:\n"
          ]
        }
      ]
    },
    {
      "cell_type": "code",
      "source": [
        "hypothesis_documents = hyde.generate(query)\n",
        "for i, doc in enumerate(hypothesis_documents):\n",
        "    print(f'HyDE Generated Document: {i}')\n",
        "    print(doc.strip())"
      ],
      "metadata": {
        "colab": {
          "base_uri": "https://localhost:8080/"
        },
        "id": "Bjb3S7P1X5XQ",
        "outputId": "1f572182-11d7-4ab3-8b93-e53aff276cf3"
      },
      "execution_count": 14,
      "outputs": [
        {
          "output_type": "stream",
          "name": "stdout",
          "text": [
            "HyDE Generated Document: 0\n",
            "The length of time it takes to remove a wisdom tooth will vary depending on the individual. Generally, the procedure can take anywhere from 30 minutes to several hours. The complexity of the extraction, the location of the tooth, and the number of teeth being removed all affect the length of time it takes to complete the process. In most cases, the entire procedure can be completed in one visit to the dentist. However, if multiple teeth are being extracted or the tooth is impacted, the process may take longer and require multiple visits.\n",
            "HyDE Generated Document: 1\n",
            "Removing a wisdom tooth typically takes anywhere from 20 minutes to an hour, depending on the complexity of the procedure. If the tooth is impacted, or stuck in the jawbone, the procedure may take longer. Removal of a wisdom tooth usually requires a local anesthetic to numb the area and a sedative, such as nitrous oxide, to keep the patient comfortable. In some cases, general anesthesia may be required. After the tooth is removed, the area is sutured and the patient is monitored for approximately 15 minutes to ensure there are no complications.\n",
            "HyDE Generated Document: 2\n",
            "The amount of time it takes to remove a wisdom tooth will vary depending on the individual. Generally, a wisdom tooth extraction can take anywhere from 20 to 40 minutes. The complexity of the procedure, as well as how many wisdom teeth are being extracted, will also play a role in how long it takes. Your dentist will be able to provide you with a more accurate estimate based on your individual situation. In some cases, the procedure can last up to an hour. After the extraction, it is important to allow yourself plenty of time to rest and recover.\n",
            "HyDE Generated Document: 3\n",
            "The amount of time it takes to remove a wisdom tooth can vary depending on the particular tooth and the individual's individual situation. Generally, wisdom teeth removal can take anywhere from 20 minutes to two hours. This is because the tooth must be accessed, removed, and the area cleaned and sutured. If a wisdom tooth is impacted, the process may be more complicated and can take longer. Additionally, if the patient is having multiple wisdom teeth removed at once, the process may take longer. Ultimately, the amount of time it takes to remove a wisdom tooth is dependent on the individual situation.\n",
            "HyDE Generated Document: 4\n",
            "The amount of time it takes to remove a wisdom tooth will depend on the individual case. Generally, the procedure can take anywhere from 20 minutes to an hour or more, depending on the complexity of the case. If there are multiple teeth needing to be extracted or if the tooth is impacted, the procedure can take longer. Additionally, any complications, such as infection or inflammation, can also add to the length of the procedure. After the procedure is complete, the patient will usually need to rest for a few hours, and may need to come back for follow-up visits for further care.\n",
            "HyDE Generated Document: 5\n",
            "The time it takes to remove a wisdom tooth can vary depending on the individual's unique case and the complexity of the procedure. Generally, the process can take anywhere from 30 minutes to two hours. During the procedure, the dentist will carefully examine the tooth to determine the best approach for extraction. This may include the use of forceps, a drill, and other instruments to remove the tooth. After the extraction, the dentist may need to stitch the area closed to help promote healing. In some cases, a second visit may be needed to ensure that the area is healing properly.\n",
            "HyDE Generated Document: 6\n",
            "Removing a wisdom tooth typically takes anywhere from 20 to 40 minutes. The exact length of time will depend on the complexity of the extraction and the individual's unique situation. Generally, the procedure will involve making an incision in the gums to expose the tooth, and then using either a high-speed drill or forceps to remove it. During the procedure, the dentist may also need to remove some of the surrounding bone and tissue to ensure a successful extraction. After the wisdom tooth is removed, the dentist will suture the wound and provide instructions on how to care for it while it is healing.\n",
            "HyDE Generated Document: 7\n",
            "The amount of time it takes to remove a wisdom tooth will depend on a variety of factors. In general, the process can take anywhere from 30 minutes to a few hours. This will vary depending on the complexity of the procedure, the skill of the dentist, and the number of teeth being removed. It also depends on the size of the tooth, how deeply it is embedded in the jawbone, and how much tissue needs to be removed. In some cases, a surgeon may need to be called in to assist with the removal, which can add additional time to the procedure. Additionally, the difficulty of the procedure can depend on the patient’s age, health, and medical history. If a patient is considered high-risk, the procedure can take longer than it would for a patient with no health risks.\n"
          ]
        }
      ]
    },
    {
      "cell_type": "code",
      "source": [
        "hyde_vector = hyde.encode(query, hypothesis_documents)\n",
        "print(hyde_vector.shape)"
      ],
      "metadata": {
        "colab": {
          "base_uri": "https://localhost:8080/"
        },
        "id": "HiJUhiCsYICZ",
        "outputId": "e39e5843-8446-4450-ba07-55e879a1e612"
      },
      "execution_count": 15,
      "outputs": [
        {
          "output_type": "stream",
          "name": "stdout",
          "text": [
            "(1, 768)\n"
          ]
        }
      ]
    },
    {
      "cell_type": "code",
      "source": [
        "hits = hyde.search(hyde_vector, k=10)\n",
        "for i, hit in enumerate(hits):\n",
        "    print(f'HyDE Retrieved Document: {i}')\n",
        "    print(hit.docid)\n",
        "    print(json.loads(corpus.doc(hit.docid).raw())['contents'])"
      ],
      "metadata": {
        "colab": {
          "base_uri": "https://localhost:8080/"
        },
        "id": "wq43CqEYYPRl",
        "outputId": "335ef02d-356f-4007-8c24-2a54bf152540"
      },
      "execution_count": 16,
      "outputs": [
        {
          "output_type": "stream",
          "name": "stdout",
          "text": [
            "HyDE Retrieved Document: 0\n",
            "91493\n",
            "The time it takes to remove the tooth will vary. Some procedures only take a few minutes, whereas others can take 20 minutes or longer. After your wisdom teeth have been removed, you may experience swelling and discomfort, both on the inside and outside of your mouth. This is usually worse for the first three days, but it can last for up to two weeks. Read more about how a wisdom tooth is removed and recovering from wisdom tooth removal.\n",
            "HyDE Retrieved Document: 1\n",
            "4174313\n",
            "The time it takes to remove the tooth will vary. Some procedures only take a few minutes, whereas others can take 20 minutes or longer. After your wisdom teeth have been removed, you may experience swelling and discomfort, both on the inside and outside of your mouth.This is usually worse for the first three days, but it can last for up to two weeks. Read more about how a wisdom tooth is removed and recovering from wisdom tooth removal.he time it takes to remove the tooth will vary. Some procedures only take a few minutes, whereas others can take 20 minutes or longer. After your wisdom teeth have been removed, you may experience swelling and discomfort, both on the inside and outside of your mouth.\n",
            "HyDE Retrieved Document: 2\n",
            "18103\n",
            "Before having your wisdom teeth removed, you'll be given an injection of local anaesthetic to numb the tooth and surrounding area. If you're particularly anxious about the procedure, your dentist or surgeon may give you a sedative to help you relax. This usually involves an injection into your arm.urgery to remove wisdom teeth shouldn't be painful, because the area will be numb. However, if you feel pain during the procedure, tell your dentist or oral surgeon so they can give you more anaesthetic. How long it takes to remove the tooth will vary.\n",
            "HyDE Retrieved Document: 3\n",
            "7716249\n",
            "As a natural way of cleansing the tooth socket, the body will send more blood to the wound site, triggering bleeding after the performed surgery. Depending on how difficult was, the amount of blood secreted may vary. However, blood clot should be promoted within 24 hours after the surgery. Your dentist will ask you to bite a cotton pad on gently within first few hours to promote blood clot. On the first day, swelling and pain might still be excruciating, causing extreme discomfort while eating, even talking and opening the mouth.\n",
            "HyDE Retrieved Document: 4\n",
            "7913164\n",
            "Typical Cost Ranges for Wisdom Tooth Removal. The cost of the surgery depends on how complex the tooth removal is. Some surgeons will give a package deal for removing all four teeth at once. The national average for that cost runs from $1,000-3,000, depending on the teeth. Keep in mind, there is often also a fee to numb the area before the teeth are removed, or for anesthesia if the surgery is more difficult.\n",
            "HyDE Retrieved Document: 5\n",
            "4174308\n",
            "How wisdom teeth are removed. Your dentist may remove your wisdom teeth or they may refer you to a specialist surgeon for hospital treatment. Before the procedure, you'll usually be given a local anaesthetic injection to numb the area around the tooth.he time it takes to remove the tooth will vary. Some procedures only take a few minutes, whereas others can take 20 minutes or longer. After your wisdom teeth have been removed, you may experience swelling and discomfort, both on the inside and outside of your mouth.\n",
            "HyDE Retrieved Document: 6\n",
            "5463138\n",
            "Wisdom tooth extraction recovery takes approximately five to seven days, with the gum area being fully healed in approximately three to four weeks. If the jaw is damaged during tooth extraction, full recovery may take up to six months. Once you have undergone the surgical extraction procedure, there are several steps to take to ensure proper healing and recovery from the procedure. During the first 24 hours after wisdom teeth removal, you can expect some bleeding. To control bleeding, a moist, clean piece of gauze can be placed over the extraction site. Biting pressure applied for 45 minutes should stop the bleeding.\n",
            "HyDE Retrieved Document: 7\n",
            "2463321\n",
            "Wisdom Teeth Removal Recovery Tips. The speed of recovery after wisdom teeth removal will vary from person to person. For the following few days after surgery, you can expect some degree of discomfort and swelling. The level of this will depend to an extent on the difficulty of the extraction.\n",
            "HyDE Retrieved Document: 8\n",
            "3065683\n",
            "For an impacted tooth, extraction using a local anesthetic can cost $225-$600 per tooth. The use of nitrous oxide to relax the patient typically adds $40-$90; or general anesthetic can add $250-$800 to the total cost. The type of impaction affects the price.\n",
            "HyDE Retrieved Document: 9\n",
            "1311743\n",
            "The cost of a wisdom tooth extraction will vary by the condition of the teeth, the number of teeth being removed and the type of anesthesia used. Having wisdom teeth removed is a surgical procedure and more complicated than pulling a regular tooth. This makes it more expensive than how much it typically costs to pull a tooth.\n"
          ]
        }
      ]
    },
    {
      "cell_type": "code",
      "source": [
        "hits = hyde.e2e_search(query, k=10)\n",
        "for i, hit in enumerate(hits):\n",
        "    print(f'HyDE Retrieved Document: {i}')\n",
        "    print(hit.docid)\n",
        "    print(json.loads(corpus.doc(hit.docid).raw())['contents'])"
      ],
      "metadata": {
        "colab": {
          "base_uri": "https://localhost:8080/"
        },
        "id": "js3xs_cIYXWu",
        "outputId": "054cdc64-eae3-4634-c4e8-2410bbafe8d5"
      },
      "execution_count": 17,
      "outputs": [
        {
          "output_type": "stream",
          "name": "stdout",
          "text": [
            "HyDE Retrieved Document: 0\n",
            "91493\n",
            "The time it takes to remove the tooth will vary. Some procedures only take a few minutes, whereas others can take 20 minutes or longer. After your wisdom teeth have been removed, you may experience swelling and discomfort, both on the inside and outside of your mouth. This is usually worse for the first three days, but it can last for up to two weeks. Read more about how a wisdom tooth is removed and recovering from wisdom tooth removal.\n",
            "HyDE Retrieved Document: 1\n",
            "4174313\n",
            "The time it takes to remove the tooth will vary. Some procedures only take a few minutes, whereas others can take 20 minutes or longer. After your wisdom teeth have been removed, you may experience swelling and discomfort, both on the inside and outside of your mouth.This is usually worse for the first three days, but it can last for up to two weeks. Read more about how a wisdom tooth is removed and recovering from wisdom tooth removal.he time it takes to remove the tooth will vary. Some procedures only take a few minutes, whereas others can take 20 minutes or longer. After your wisdom teeth have been removed, you may experience swelling and discomfort, both on the inside and outside of your mouth.\n",
            "HyDE Retrieved Document: 2\n",
            "18103\n",
            "Before having your wisdom teeth removed, you'll be given an injection of local anaesthetic to numb the tooth and surrounding area. If you're particularly anxious about the procedure, your dentist or surgeon may give you a sedative to help you relax. This usually involves an injection into your arm.urgery to remove wisdom teeth shouldn't be painful, because the area will be numb. However, if you feel pain during the procedure, tell your dentist or oral surgeon so they can give you more anaesthetic. How long it takes to remove the tooth will vary.\n",
            "HyDE Retrieved Document: 3\n",
            "7716249\n",
            "As a natural way of cleansing the tooth socket, the body will send more blood to the wound site, triggering bleeding after the performed surgery. Depending on how difficult was, the amount of blood secreted may vary. However, blood clot should be promoted within 24 hours after the surgery. Your dentist will ask you to bite a cotton pad on gently within first few hours to promote blood clot. On the first day, swelling and pain might still be excruciating, causing extreme discomfort while eating, even talking and opening the mouth.\n",
            "HyDE Retrieved Document: 4\n",
            "7913164\n",
            "Typical Cost Ranges for Wisdom Tooth Removal. The cost of the surgery depends on how complex the tooth removal is. Some surgeons will give a package deal for removing all four teeth at once. The national average for that cost runs from $1,000-3,000, depending on the teeth. Keep in mind, there is often also a fee to numb the area before the teeth are removed, or for anesthesia if the surgery is more difficult.\n",
            "HyDE Retrieved Document: 5\n",
            "2198616\n",
            "According to the offices of practicing oral surgeon Dr. Joseph Arzadon of Arlington, Virginia, typical wisdom teeth recovery time is three to four days, although it can be as long as one week. The length of recovery depends a lot on how badly the wisdom teeth were impacted and how they were erupting.\n",
            "HyDE Retrieved Document: 6\n",
            "3012167\n",
            "Some procedures only take a few minutes, whereas others can take 20 minutes or longer. After your wisdom teeth have been removed, you may experience swelling and discomfort, both on the inside and outside of your mouth. This is usually worse for the first three days, but it can last for up to two weeks. Read more about how a wisdom tooth is removed and recovering from wisdom tooth removal.\n",
            "HyDE Retrieved Document: 7\n",
            "8694161\n",
            "How long does it take to remove a wisdom tooth - Please tell me how long it takes for to get one wisdom tooth removed? Dependson difficulty. It depends on the age of the patient and the difficulty of the extraction. Surgical time only may be from 5-30 minutes/tooth.\n",
            "HyDE Retrieved Document: 8\n",
            "4159345\n",
            "How long does it take to heal after your wisdom teeth are removed. As with any type of surgery, everyone heals differently, but it usually takes between 10 days to 2 weeks for wisdom teeth removal.\n",
            "HyDE Retrieved Document: 9\n",
            "1311743\n",
            "The cost of a wisdom tooth extraction will vary by the condition of the teeth, the number of teeth being removed and the type of anesthesia used. Having wisdom teeth removed is a surgical procedure and more complicated than pulling a regular tooth. This makes it more expensive than how much it typically costs to pull a tooth.\n"
          ]
        }
      ]
    },
    {
      "cell_type": "code",
      "source": [],
      "metadata": {
        "id": "1quK6Ed9YbA-"
      },
      "execution_count": 17,
      "outputs": []
    }
  ],
  "metadata": {
    "kernelspec": {
      "display_name": "Python 3",
      "language": "python",
      "name": "python3"
    },
    "language_info": {
      "codemirror_mode": {
        "name": "ipython",
        "version": 3
      },
      "file_extension": ".py",
      "mimetype": "text/x-python",
      "name": "python",
      "nbconvert_exporter": "python",
      "pygments_lexer": "ipython3",
      "version": "3.9.0"
    },
    "orig_nbformat": 4,
    "vscode": {
      "interpreter": {
        "hash": "847438a9f5a002e71fa961380a0e0b7862f726eba1286357470e46fe9301d798"
      }
    },
    "colab": {
      "provenance": [],
      "include_colab_link": true
    },
    "gpuClass": "standard"
  },
  "nbformat": 4,
  "nbformat_minor": 0
}