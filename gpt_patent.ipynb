{
  "nbformat": 4,
  "nbformat_minor": 0,
  "metadata": {
    "colab": {
      "provenance": [],
      "include_colab_link": true
    },
    "kernelspec": {
      "display_name": "Python 3",
      "name": "python3"
    },
    "gpuClass": "standard"
  },
  "cells": [
    {
      "cell_type": "markdown",
      "metadata": {
        "id": "view-in-github",
        "colab_type": "text"
      },
      "source": [
        "<a href=\"https://colab.research.google.com/github/malinphy/q_17/blob/main/gpt_patent.ipynb\" target=\"_parent\"><img src=\"https://colab.research.google.com/assets/colab-badge.svg\" alt=\"Open In Colab\"/></a>"
      ]
    },
    {
      "cell_type": "code",
      "source": [
        "!pip install scann -q"
      ],
      "metadata": {
        "id": "dwDldf0K8Bw4",
        "outputId": "a4a2c5ed-66cd-4d74-94e5-9b7cdab51041",
        "colab": {
          "base_uri": "https://localhost:8080/"
        }
      },
      "execution_count": 1,
      "outputs": [
        {
          "output_type": "stream",
          "name": "stdout",
          "text": [
            "\u001b[?25l     \u001b[90m━━━━━━━━━━━━━━━━━━━━━━━━━━━━━━━━━━━━━━━━\u001b[0m \u001b[32m0.0/10.5 MB\u001b[0m \u001b[31m?\u001b[0m eta \u001b[36m-:--:--\u001b[0m\r\u001b[2K     \u001b[91m━\u001b[0m\u001b[90m╺\u001b[0m\u001b[90m━━━━━━━━━━━━━━━━━━━━━━━━━━━━━━━━━━━━━━\u001b[0m \u001b[32m0.4/10.5 MB\u001b[0m \u001b[31m11.0 MB/s\u001b[0m eta \u001b[36m0:00:01\u001b[0m\r\u001b[2K     \u001b[91m━━━━━━━━━━━\u001b[0m\u001b[90m╺\u001b[0m\u001b[90m━━━━━━━━━━━━━━━━━━━━━━━━━━━━\u001b[0m \u001b[32m2.9/10.5 MB\u001b[0m \u001b[31m41.8 MB/s\u001b[0m eta \u001b[36m0:00:01\u001b[0m\r\u001b[2K     \u001b[91m━━━━━━━━━━━━━━━━━━━━━━━━━━\u001b[0m\u001b[90m╺\u001b[0m\u001b[90m━━━━━━━━━━━━━\u001b[0m \u001b[32m6.9/10.5 MB\u001b[0m \u001b[31m64.6 MB/s\u001b[0m eta \u001b[36m0:00:01\u001b[0m\r\u001b[2K     \u001b[91m━━━━━━━━━━━━━━━━━━━━━━━━━━━━━━━━━━━━━━━\u001b[0m\u001b[91m╸\u001b[0m \u001b[32m10.5/10.5 MB\u001b[0m \u001b[31m94.2 MB/s\u001b[0m eta \u001b[36m0:00:01\u001b[0m\r\u001b[2K     \u001b[91m━━━━━━━━━━━━━━━━━━━━━━━━━━━━━━━━━━━━━━━\u001b[0m\u001b[91m╸\u001b[0m \u001b[32m10.5/10.5 MB\u001b[0m \u001b[31m94.2 MB/s\u001b[0m eta \u001b[36m0:00:01\u001b[0m\r\u001b[2K     \u001b[90m━━━━━━━━━━━━━━━━━━━━━━━━━━━━━━━━━━━━━━━━\u001b[0m \u001b[32m10.5/10.5 MB\u001b[0m \u001b[31m56.7 MB/s\u001b[0m eta \u001b[36m0:00:00\u001b[0m\n",
            "\u001b[?25h"
          ]
        }
      ]
    },
    {
      "cell_type": "code",
      "metadata": {
        "id": "Lj6cbR0JBTCP",
        "outputId": "6d54c986-a79c-4033-b598-10d19822674d",
        "colab": {
          "base_uri": "https://localhost:8080/"
        }
      },
      "source": [
        "from google.colab import drive\n",
        "drive.mount('/content/drive')"
      ],
      "execution_count": 2,
      "outputs": [
        {
          "output_type": "stream",
          "name": "stdout",
          "text": [
            "Mounted at /content/drive\n"
          ]
        }
      ]
    },
    {
      "cell_type": "code",
      "source": [
        "import os \n",
        "import json \n",
        "# from transformers import AutoTokenizer, BioGptModel\n",
        "import torch\n",
        "import matplotlib.pyplot as plt \n",
        "plt.style.use('ggplot')\n",
        "import numpy as np\n",
        "from sklearn.decomposition import PCA, TruncatedSVD\n",
        "import joblib\n",
        "import scann"
      ],
      "metadata": {
        "id": "eKIj0di18F3y"
      },
      "execution_count": 3,
      "outputs": []
    },
    {
      "cell_type": "code",
      "source": [
        "def normalizer(x):     \n",
        "    normalized_vector = x / np.linalg.norm(x)\n",
        "    return normalized_vector\n",
        "\n",
        "def apk(actual, predicted, k=10):\n",
        "    if len(predicted)>k:\n",
        "        predicted = predicted[:k]\n",
        "\n",
        "    score = 0.0\n",
        "    num_hits = 0.0\n",
        "    hits = []\n",
        "    for i,p in enumerate(predicted):\n",
        "        if p in actual and p not in predicted[:i]:\n",
        "            num_hits += 1.0\n",
        "            score += num_hits / (i+1.0)\n",
        "        hits.append(num_hits)\n",
        "    # if not actual:\n",
        "    #     return 0.0\n",
        "    # print(((hits)))\n",
        "    return score / min(len(actual), k)\n",
        "\n",
        "def mapk(actual, predicted, k=10):\n",
        "    return np.mean([apk(a,p,k) for a,p in zip(actual, predicted)])\n",
        "\n",
        "def intersect(actual, predicted,k):\n",
        "    return np.intersect1d(actual[:k], predicted[:k])\n",
        "\n",
        "def hit_rate(actual, predicted,k):\n",
        "    total = 0\n",
        "    for i in range(len(actual)):\n",
        "        intersection = intersect(actual[i], predicted[i],k)\n",
        "        total = total + len(intersection)\n",
        "\n",
        "    return total\n",
        "\n",
        "\n",
        "def mean_reciprocal_rank(idx, k):\n",
        "    rank = []\n",
        "    for i in range(len(idx)):\n",
        "        rank.append(np.where(idx[i][:k] == i)[0])\n",
        "\n",
        "    elevated_rank = np.add(rank,1)\n",
        "    elevated_rank = np.concatenate(elevated_rank)\n",
        "    elevated_rank_len = len(elevated_rank)\n",
        "    reciprocal_rank = np.divide(1,elevated_rank)\n",
        "    reciprocal_rank_sum = np.sum(reciprocal_rank)\n",
        "    # print('asfasfasfas',len(idx))\n",
        "    # return reciprocal_rank_sum/elevated_rank_len\n",
        "    return reciprocal_rank_sum/len(idx)    \n",
        "\n",
        "def dcg_calc(similarity_scores, K):\n",
        "    similarity_len = len(similarity_scores)\n",
        "    total_dcg = []\n",
        "    for similarities in similarity_scores:\n",
        "        dcg = 0\n",
        "        for k in range(1,K):\n",
        "            rel_k = similarities[k-1]\n",
        "            dcg += rel_k / log2(1 + k)\n",
        "        total_dcg.append(dcg)\n",
        "    return np.sum(total_dcg)/similarity_len    \n",
        "\n",
        "\n",
        "def metrics_calculator(raw_idx, reduced_idx, k_values):\n",
        "    k = k_values\n",
        "    ap = []\n",
        "    hit = []\n",
        "    mrr = []\n",
        "    for i in k:\n",
        "        ap.append( mapk(raw_idx, reduced_idx,i))\n",
        "        hit.append( hit_rate(raw_idx, reduced_idx,i))\n",
        "        mrr.append(mean_reciprocal_rank(reduced_idx, i))\n",
        "    return ap, hit , mrr    "
      ],
      "metadata": {
        "id": "YhVGN1sN_-xQ"
      },
      "execution_count": 4,
      "outputs": []
    },
    {
      "cell_type": "code",
      "source": [
        "# os.listdir('drive/MyDrive/transfer/patent')"
      ],
      "metadata": {
        "id": "QuawZA458M7i"
      },
      "execution_count": 5,
      "outputs": []
    },
    {
      "cell_type": "code",
      "source": [
        "biotech_title_gpt = np.load('drive/MyDrive/transfer/patent/biotech_title_vectors.npy')\n",
        "biotech_abst_gpt = np.load('drive/MyDrive/transfer/patent/biotech_abstract_vectors.npy')"
      ],
      "metadata": {
        "id": "D4YBtwg-8gBN"
      },
      "execution_count": 6,
      "outputs": []
    },
    {
      "cell_type": "code",
      "source": [
        "print(biotech_title_gpt.shape)\n",
        "print(biotech_abst_gpt.shape)"
      ],
      "metadata": {
        "id": "bg8HjpH59JSc",
        "outputId": "25cc7d44-3d4d-4138-ff10-e6742b3ba124",
        "colab": {
          "base_uri": "https://localhost:8080/"
        }
      },
      "execution_count": 7,
      "outputs": [
        {
          "output_type": "stream",
          "name": "stdout",
          "text": [
            "(484, 1536)\n",
            "(484, 1536)\n"
          ]
        }
      ]
    },
    {
      "cell_type": "code",
      "source": [
        "pca = PCA().fit(biotech_abst_gpt)\n",
        "pca_var = np.cumsum(pca.explained_variance_ratio_)\n",
        "\n",
        "svd_content = TruncatedSVD(n_iter= 25, n_components = 1536 ).fit(biotech_abst_gpt)\n",
        "svd_var = np.cumsum(svd_content.explained_variance_ratio_)"
      ],
      "metadata": {
        "id": "flw7pnoN9bgV"
      },
      "execution_count": 8,
      "outputs": []
    },
    {
      "cell_type": "code",
      "source": [
        "plt.figure(figsize = (15,6))\n",
        "plt.plot(svd_var, marker = 'o', alpha =0.2)\n",
        "# plt.xlabel('number of components')\n",
        "# plt.ylabel('cumulative explained variance');\n",
        "\n",
        "# plt.figure(figsize = (15,6))\n",
        "plt.plot(pca_var)\n",
        "plt.xlabel('number of components')\n",
        "plt.ylabel('cumulative explained variance');\n",
        "plt.legend(['SVD','PCA'])"
      ],
      "metadata": {
        "id": "2SuNHDWr-MtQ",
        "outputId": "71b04f89-c308-41b2-ba51-3ea51103cd3d",
        "colab": {
          "base_uri": "https://localhost:8080/",
          "height": 409
        }
      },
      "execution_count": 9,
      "outputs": [
        {
          "output_type": "execute_result",
          "data": {
            "text/plain": [
              "<matplotlib.legend.Legend at 0x7fe1c896bd60>"
            ]
          },
          "metadata": {},
          "execution_count": 9
        },
        {
          "output_type": "display_data",
          "data": {
            "text/plain": [
              "<Figure size 1080x432 with 1 Axes>"
            ],
            "image/png": "[encoded data removed]"
          },
          "metadata": {}
        }
      ]
    },
    {
      "cell_type": "code",
      "source": [
        "print('PCA 100% :',np.where(np.array(pca_var) >= 0.99)[0][0])\n",
        "print('SVD 100% :',np.where(np.array(svd_var) >= 0.99)[0][0])\n",
        "print('PCA 95% :',np.where(np.array(pca_var) >= 0.95)[0][0])\n",
        "print('SVD 95% :',np.where(np.array(svd_var) >= 0.95)[0][0])\n",
        "print('PCA 90% :',np.where(np.array(pca_var) >= 0.90)[0][0])\n",
        "print('SVD 90% :',np.where(np.array(svd_var) >= 0.90)[0][0])\n",
        "print('SVD 82% :',np.where(np.array(svd_var) >= 0.82)[0][0])\n",
        "print('SVD 82% :',np.where(np.array(svd_var) >= 0.82)[0][0])"
      ],
      "metadata": {
        "id": "lqj5HMKY-XpO",
        "outputId": "016203fd-3ad8-4013-80a0-3d08840c73bd",
        "colab": {
          "base_uri": "https://localhost:8080/"
        }
      },
      "execution_count": 10,
      "outputs": [
        {
          "output_type": "stream",
          "name": "stdout",
          "text": [
            "PCA 100% : 165\n",
            "SVD 100% : 166\n",
            "PCA 95% : 107\n",
            "SVD 95% : 108\n",
            "PCA 90% : 74\n",
            "SVD 90% : 75\n",
            "SVD 82% : 48\n",
            "SVD 82% : 48\n"
          ]
        }
      ]
    },
    {
      "cell_type": "code",
      "source": [
        "def pca_reducer(target_dimension, content, title):\n",
        "    pca_name = '_pca_'+str(target_dimension)\n",
        "    pca_ = PCA(n_components=target_dimension, random_state = 42, svd_solver = 'arpack')\n",
        "    pca_.fit(content)\n",
        "    content_vectors_pca = np.apply_along_axis(normalizer,1,pca_.transform(content))\n",
        "    title_vectors_pca = np.apply_along_axis(normalizer,1,pca_.transform(title))\n",
        "\n",
        "    inverse_content = pca_.inverse_transform(content_vectors_pca)\n",
        "    inverse_title = pca_.inverse_transform(title_vectors_pca)\n",
        "\n",
        "    np.save('drive/MyDrive/transfer/patent/gpt_reduced_patents/patent_abst_vectors_norm'+pca_name,content_vectors_pca)\n",
        "    np.save('drive/MyDrive/transfer/patent/gpt_reduced_patents/patent_title_vectors_norm'+pca_name,title_vectors_pca)\n",
        "#     np.save('drive/MyDrive/transfer/reduced_dim/inverse_content_vectors_norm'+pca_name, inverse_content)\n",
        "#     np.save('drive/MyDrive/transfer/reduced_dim/inverse_title_vectors_norm'+pca_name, inverse_title)\n",
        "    joblib.dump(pca_, pca_name)\n",
        "\n",
        "def svd_reducer(target_dimension, content, title):\n",
        "    svd_name = '_svd_'+str(target_dimension)\n",
        "    svd_ = TruncatedSVD(n_iter= 25, n_components = target_dimension, random_state = 42 )\n",
        "    svd_.fit(content)\n",
        "    content_vectors_svd = np.apply_along_axis(normalizer,1,svd_.transform(content))\n",
        "    title_vectors_svd = np.apply_along_axis(normalizer,1,svd_.transform(title))\n",
        "\n",
        "    inverse_content = svd_.inverse_transform(content_vectors_svd)\n",
        "    inverse_title = svd_.inverse_transform(title_vectors_svd)\n",
        "\n",
        "    np.save('drive/MyDrive/transfer/patent/gpt_reduced_patents/patent_abst_vectors_norm'+svd_name,content_vectors_svd)\n",
        "    np.save('drive/MyDrive/transfer/patent/gpt_reduced_patents/patent_title_vectors_norm'+svd_name,title_vectors_svd)\n",
        "#     np.save('drive/MyDrive/transfer/reduced_dim/inverse_content_vectors_norm'+svd_name, inverse_content)\n",
        "#     np.save('drive/MyDrive/transfer/reduced_dim/inverse_title_vectors_norm'+svd_name, inverse_title)\n",
        "    joblib.dump(svd_, svd_name)"
      ],
      "metadata": {
        "id": "yQAH_1-n-a_f"
      },
      "execution_count": 11,
      "outputs": []
    },
    {
      "cell_type": "code",
      "source": [
        "pca_reducer(40, biotech_abst_gpt, biotech_title_gpt)\n",
        "svd_reducer(40, biotech_abst_gpt, biotech_title_gpt)\n",
        "\n",
        "pca_reducer(57, biotech_abst_gpt, biotech_title_gpt)\n",
        "svd_reducer(57, biotech_abst_gpt, biotech_title_gpt)\n",
        "\n",
        "pca_reducer(90, biotech_abst_gpt, biotech_title_gpt)\n",
        "svd_reducer(90, biotech_abst_gpt, biotech_title_gpt)\n",
        "\n",
        "pca_reducer(107, biotech_abst_gpt, biotech_title_gpt)\n",
        "svd_reducer(107, biotech_abst_gpt, biotech_title_gpt)"
      ],
      "metadata": {
        "id": "9ddvSXzzAa-Z"
      },
      "execution_count": 12,
      "outputs": []
    },
    {
      "cell_type": "code",
      "source": [
        "abstract_pca_40 = np.load('drive/MyDrive/transfer/patent/gpt_reduced_patents/patent_abst_vectors_norm_pca_40.npy')\n",
        "abstract_pca_57 = np.load('drive/MyDrive/transfer/patent/gpt_reduced_patents/patent_abst_vectors_norm_pca_57.npy')\n",
        "abstract_pca_90 = np.load('drive/MyDrive/transfer/patent/gpt_reduced_patents/patent_abst_vectors_norm_pca_90.npy')\n",
        "abstract_pca_107 = np.load('drive/MyDrive/transfer/patent/gpt_reduced_patents/patent_abst_vectors_norm_pca_107.npy')\n",
        "\n",
        "abstract_svd_40 = np.load('drive/MyDrive/transfer/patent/gpt_reduced_patents/patent_abst_vectors_norm_svd_40.npy')\n",
        "abstract_svd_57 = np.load('drive/MyDrive/transfer/patent/gpt_reduced_patents/patent_abst_vectors_norm_svd_57.npy')\n",
        "abstract_svd_90 = np.load('drive/MyDrive/transfer/patent/gpt_reduced_patents/patent_abst_vectors_norm_svd_90.npy')\n",
        "abstract_svd_107 = np.load('drive/MyDrive/transfer/patent/gpt_reduced_patents/patent_abst_vectors_norm_svd_107.npy')\n",
        "\n",
        "title_pca_40 = np.load('drive/MyDrive/transfer/patent/gpt_reduced_patents/patent_title_vectors_norm_pca_40.npy')\n",
        "title_pca_57 = np.load('drive/MyDrive/transfer/patent/gpt_reduced_patents/patent_title_vectors_norm_pca_57.npy')\n",
        "title_pca_90 = np.load('drive/MyDrive/transfer/patent/gpt_reduced_patents/patent_title_vectors_norm_pca_90.npy')\n",
        "title_pca_107 = np.load('drive/MyDrive/transfer/patent/gpt_reduced_patents/patent_title_vectors_norm_pca_107.npy')\n",
        "\n",
        "title_svd_40 = np.load('drive/MyDrive/transfer/patent/gpt_reduced_patents/patent_title_vectors_norm_svd_40.npy')\n",
        "title_svd_57 = np.load('drive/MyDrive/transfer/patent/gpt_reduced_patents/patent_title_vectors_norm_svd_57.npy')\n",
        "title_svd_90 = np.load('drive/MyDrive/transfer/patent/gpt_reduced_patents/patent_title_vectors_norm_svd_90.npy')\n",
        "title_svd_107 = np.load('drive/MyDrive/transfer/patent/gpt_reduced_patents/patent_title_vectors_norm_svd_107.npy')"
      ],
      "metadata": {
        "id": "b8_iprWMBckg"
      },
      "execution_count": 13,
      "outputs": []
    },
    {
      "cell_type": "code",
      "source": [
        "print('content_pca_256 shape:',np.array(abstract_pca_57).shape)\n",
        "print('content_svd_256 shape:',np.array(abstract_pca_90).shape)\n",
        "print('title_pca_256 shape:',np.array(abstract_svd_57).shape)\n",
        "print('title_svd_256 shape:',np.array(abstract_svd_90).shape)\n",
        "print('content_pca_256_inverse shape:',np.array(title_pca_57).shape)\n",
        "print('content_svd_256_inverse shape:',np.array(title_pca_90).shape)\n",
        "print('title_pca_256_inverse shape:',np.array(title_svd_57).shape)\n",
        "print('title_svd_256_inverse shape:',np.array(title_svd_90).shape)"
      ],
      "metadata": {
        "id": "t6BiUndMDuEf",
        "outputId": "9591ffed-6407-4d7e-be34-ca95c882429e",
        "colab": {
          "base_uri": "https://localhost:8080/"
        }
      },
      "execution_count": 14,
      "outputs": [
        {
          "output_type": "stream",
          "name": "stdout",
          "text": [
            "content_pca_256 shape: (484, 57)\n",
            "content_svd_256 shape: (484, 90)\n",
            "title_pca_256 shape: (484, 57)\n",
            "title_svd_256 shape: (484, 90)\n",
            "content_pca_256_inverse shape: (484, 57)\n",
            "content_svd_256_inverse shape: (484, 90)\n",
            "title_pca_256_inverse shape: (484, 57)\n",
            "title_svd_256_inverse shape: (484, 90)\n"
          ]
        }
      ]
    },
    {
      "cell_type": "code",
      "source": [
        "title_svd_107.shape"
      ],
      "metadata": {
        "id": "ArXQeCtxEsOh",
        "outputId": "57b7c85e-acbd-4731-8d02-9b18a121427f",
        "colab": {
          "base_uri": "https://localhost:8080/"
        }
      },
      "execution_count": 15,
      "outputs": [
        {
          "output_type": "execute_result",
          "data": {
            "text/plain": [
              "(484, 107)"
            ]
          },
          "metadata": {},
          "execution_count": 15
        }
      ]
    },
    {
      "cell_type": "code",
      "source": [
        "searcher_raw = scann.scann_ops_pybind.builder(biotech_abst_gpt, 50, \"dot_product\").tree(\n",
        "    num_leaves=200, num_leaves_to_search=100, training_sample_size=250000).score_ah(\n",
        "    2, anisotropic_quantization_threshold=0.2).reorder(100).build()\n",
        "\n",
        "searcher_pca_40 = scann.scann_ops_pybind.builder(abstract_pca_40, 50, \"dot_product\").tree(\n",
        "    num_leaves=200, num_leaves_to_search=100, training_sample_size=250000).score_ah(\n",
        "    2, anisotropic_quantization_threshold=0.2).reorder(100).build()\n",
        "\n",
        "searcher_pca_57 = scann.scann_ops_pybind.builder(abstract_pca_57, 50, \"dot_product\").tree(\n",
        "    num_leaves=200, num_leaves_to_search=100, training_sample_size=250000).score_ah(\n",
        "    2, anisotropic_quantization_threshold=0.2).reorder(100).build()\n",
        "\n",
        "searcher_pca_90 = scann.scann_ops_pybind.builder(abstract_pca_90, 50, \"dot_product\").tree(\n",
        "    num_leaves=200, num_leaves_to_search=100, training_sample_size=250000).score_ah(\n",
        "    2, anisotropic_quantization_threshold=0.2).reorder(100).build()\n",
        "\n",
        "searcher_pca_107 = scann.scann_ops_pybind.builder(abstract_pca_107, 50, \"dot_product\").tree(\n",
        "    num_leaves=200, num_leaves_to_search=100, training_sample_size=250000).score_ah(\n",
        "    2, anisotropic_quantization_threshold=0.2).reorder(100).build()    \n",
        "\n",
        "searcher_svd_40 = scann.scann_ops_pybind.builder(abstract_svd_40, 50, \"dot_product\").tree(\n",
        "    num_leaves=200, num_leaves_to_search=100, training_sample_size=250000).score_ah(\n",
        "    2, anisotropic_quantization_threshold=0.2).reorder(100).build()\n",
        "\n",
        "searcher_svd_57 = scann.scann_ops_pybind.builder(abstract_svd_57, 50, \"dot_product\").tree(\n",
        "    num_leaves=200, num_leaves_to_search=100, training_sample_size=250000).score_ah(\n",
        "    2, anisotropic_quantization_threshold=0.2).reorder(100).build()\n",
        "\n",
        "searcher_svd_90 = scann.scann_ops_pybind.builder(title_svd_90, 50, \"dot_product\").tree(\n",
        "    num_leaves=200, num_leaves_to_search=100, training_sample_size=250000).score_ah(\n",
        "    2, anisotropic_quantization_threshold=0.2).reorder(100).build()    \n",
        "     \n",
        "searcher_svd_107 = scann.scann_ops_pybind.builder(title_svd_107, 50, \"dot_product\").tree(\n",
        "    num_leaves=200, num_leaves_to_search=100, training_sample_size=250000).score_ah(\n",
        "    2, anisotropic_quantization_threshold=0.2).reorder(100).build()    "
      ],
      "metadata": {
        "id": "o9YpH2fiDzX-"
      },
      "execution_count": 16,
      "outputs": []
    },
    {
      "cell_type": "code",
      "source": [
        "raw_idx = []\n",
        "reduced_idx_pca_40 = []\n",
        "reduced_idx_svd_40 = []\n",
        "reduced_idx_pca_57 = []\n",
        "reduced_idx_svd_57 = []\n",
        "reduced_idx_pca_90 = []\n",
        "reduced_idx_svd_90 = []\n",
        "reduced_idx_pca_107 = []\n",
        "reduced_idx_svd_107 = []\n",
        "for i in range(len(biotech_title_gpt)):\n",
        "    raw_idx.append(searcher_raw.search(biotech_title_gpt[i])[0])\n",
        "    reduced_idx_pca_40.append(searcher_pca_40.search(title_pca_40[i])[0])\n",
        "    reduced_idx_svd_40.append(searcher_svd_40.search(title_svd_40[i])[0])\n",
        "    reduced_idx_pca_57.append(searcher_pca_57.search(title_pca_57[i])[0])\n",
        "    reduced_idx_svd_57.append(searcher_svd_57.search(title_svd_57[i])[0])\n",
        "    reduced_idx_pca_90.append(searcher_pca_90.search(title_pca_90[i])[0])\n",
        "    reduced_idx_svd_90.append(searcher_svd_90.search(title_svd_90[i])[0])\n",
        "    reduced_idx_pca_107.append(searcher_pca_107.search(title_pca_107[i])[0])\n",
        "    reduced_idx_svd_107.append(searcher_svd_107.search(title_svd_107[i])[0])"
      ],
      "metadata": {
        "id": "8-3_ZcREEPTI"
      },
      "execution_count": 17,
      "outputs": []
    },
    {
      "cell_type": "code",
      "source": [
        "k = [1,3,5,10,15,20,30]\n",
        "ap_pca_40, hit_pca_40, mrr_pca_40 = metrics_calculator(raw_idx,reduced_idx_pca_40, k )\n",
        "ap_svd_40, hit_svd_40, mrr_svd_40 = metrics_calculator(raw_idx,reduced_idx_svd_40, k )\n",
        "\n",
        "ap_pca_57, hit_pca_57, mrr_pca_57 = metrics_calculator(raw_idx,reduced_idx_pca_57, k )\n",
        "ap_svd_57, hit_svd_57, mrr_svd_57 = metrics_calculator(raw_idx,reduced_idx_svd_57, k )\n",
        "\n",
        "ap_pca_90, hit_pca_90, mrr_pca_90 = metrics_calculator(raw_idx,reduced_idx_pca_90, k )\n",
        "ap_svd_90, hit_svd_90, mrr_svd_90 = metrics_calculator(raw_idx,reduced_idx_svd_90, k )\n",
        "\n",
        "ap_pca_107, hit_pca_107, mrr_pca_107 = metrics_calculator(raw_idx,reduced_idx_pca_107, k )\n",
        "ap_svd_107, hit_svd_107, mrr_svd_107 = metrics_calculator(raw_idx,reduced_idx_svd_107, k )     "
      ],
      "metadata": {
        "id": "-SYIzfD2EnIA",
        "outputId": "e2a48130-df15-4fc5-b22d-23f5ca548ccc",
        "colab": {
          "base_uri": "https://localhost:8080/"
        }
      },
      "execution_count": 18,
      "outputs": [
        {
          "output_type": "stream",
          "name": "stderr",
          "text": [
            "<ipython-input-4-36549f9d3b38>:42: VisibleDeprecationWarning: Creating an ndarray from ragged nested sequences (which is a list-or-tuple of lists-or-tuples-or ndarrays with different lengths or shapes) is deprecated. If you meant to do this, you must specify 'dtype=object' when creating the ndarray.\n",
            "  elevated_rank = np.add(rank,1)\n"
          ]
        }
      ]
    },
    {
      "cell_type": "code",
      "source": [
        "\n",
        "\n",
        "# plt.subplot(1,4,2)\n",
        "plt.figure(figsize =(15,8))\n",
        "# plt.plot(k,hit_pca_40, '-p', color = 'purple')\n",
        "# plt.plot(k,hit_svd_40, '-.')\n",
        "plt.plot(k,hit_pca_57, '-o')\n",
        "plt.plot(k,hit_svd_57, '-*')\n",
        "plt.plot(k,hit_pca_90, '--^')\n",
        "plt.plot(k,hit_svd_90, '>-')\n",
        "plt.scatter(k,hit_pca_107, marker ='s',color= 'green')\n",
        "plt.plot(k,hit_svd_107, '--')\n",
        "# plt.scatter(k,hit_svd_90, marker = 's', color= 'green')\n",
        "\n",
        "plt.title('TOTAL HIT@K')\n",
        "plt.legend(['pca_57','svd_57','pca_90','svd_90','pca_107','svd_107'])\n",
        "plt.xlabel('K');\n",
        "     \n"
      ],
      "metadata": {
        "id": "pIJj4DKrFM_5",
        "outputId": "48455352-6029-4a13-ec5f-223ea8a6af1d",
        "colab": {
          "base_uri": "https://localhost:8080/",
          "height": 517
        }
      },
      "execution_count": 21,
      "outputs": [
        {
          "output_type": "display_data",
          "data": {
            "text/plain": [
              "<Figure size 1080x576 with 1 Axes>"
            ],
            "image/png": "[encoded data removed]"
          },
          "metadata": {}
        }
      ]
    },
    {
      "cell_type": "code",
      "source": [
        "hit_svd_57"
      ],
      "metadata": {
        "id": "n2wi5q1WFddy",
        "outputId": "6e2da536-7779-4e1d-fd37-9d2b9dd51255",
        "colab": {
          "base_uri": "https://localhost:8080/"
        }
      },
      "execution_count": 22,
      "outputs": [
        {
          "output_type": "execute_result",
          "data": {
            "text/plain": [
              "[245, 903, 1566, 3220, 4885, 6419, 10229]"
            ]
          },
          "metadata": {},
          "execution_count": 22
        }
      ]
    },
    {
      "cell_type": "code",
      "source": [],
      "metadata": {
        "id": "rhXzp7GuKNEU"
      },
      "execution_count": 20,
      "outputs": []
    },
    {
      "cell_type": "code",
      "source": [],
      "metadata": {
        "id": "sR3O7Nz7KUfz"
      },
      "execution_count": 20,
      "outputs": []
    }
  ]
}