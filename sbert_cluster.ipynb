{
  "nbformat": 4,
  "nbformat_minor": 0,
  "metadata": {
    "accelerator": "GPU",
    "colab": {
      "provenance": [],
      "include_colab_link": true
    },
    "kernelspec": {
      "display_name": "Python 3",
      "name": "python3"
    },
    "widgets": {
      "application/vnd.jupyter.widget-state+json": {
        "014c526c74544de987c6e755bafb516d": {
          "model_module": "@jupyter-widgets/controls",
          "model_name": "HBoxModel",
          "model_module_version": "1.5.0",
          "state": {
            "_dom_classes": [],
            "_model_module": "@jupyter-widgets/controls",
            "_model_module_version": "1.5.0",
            "_model_name": "HBoxModel",
            "_view_count": null,
            "_view_module": "@jupyter-widgets/controls",
            "_view_module_version": "1.5.0",
            "_view_name": "HBoxView",
            "box_style": "",
            "children": [
              "IPY_MODEL_ce04a86ccb3e45b5bee57c8cd46eb277",
              "IPY_MODEL_b0b60204ed5c4896abe92ef1b699256d",
              "IPY_MODEL_6b05dbeb1cbe4360a06598cb59c68c3a"
            ],
            "layout": "IPY_MODEL_089717d5d24646369c650333d6dcaf19"
          }
        },
        "ce04a86ccb3e45b5bee57c8cd46eb277": {
          "model_module": "@jupyter-widgets/controls",
          "model_name": "HTMLModel",
          "model_module_version": "1.5.0",
          "state": {
            "_dom_classes": [],
            "_model_module": "@jupyter-widgets/controls",
            "_model_module_version": "1.5.0",
            "_model_name": "HTMLModel",
            "_view_count": null,
            "_view_module": "@jupyter-widgets/controls",
            "_view_module_version": "1.5.0",
            "_view_name": "HTMLView",
            "description": "",
            "description_tooltip": null,
            "layout": "IPY_MODEL_93ecfbf3e4194a399762e74a301dd59b",
            "placeholder": "​",
            "style": "IPY_MODEL_f1aeed447f674cfa97766c48731e84bf",
            "value": "Batches: 100%"
          }
        },
        "b0b60204ed5c4896abe92ef1b699256d": {
          "model_module": "@jupyter-widgets/controls",
          "model_name": "FloatProgressModel",
          "model_module_version": "1.5.0",
          "state": {
            "_dom_classes": [],
            "_model_module": "@jupyter-widgets/controls",
            "_model_module_version": "1.5.0",
            "_model_name": "FloatProgressModel",
            "_view_count": null,
            "_view_module": "@jupyter-widgets/controls",
            "_view_module_version": "1.5.0",
            "_view_name": "ProgressView",
            "bar_style": "success",
            "description": "",
            "description_tooltip": null,
            "layout": "IPY_MODEL_a554c8a498fa46a0b008dd3ba0f4b53f",
            "max": 242,
            "min": 0,
            "orientation": "horizontal",
            "style": "IPY_MODEL_d7cb48e5061542e9a900bdbc51a98fa4",
            "value": 242
          }
        },
        "6b05dbeb1cbe4360a06598cb59c68c3a": {
          "model_module": "@jupyter-widgets/controls",
          "model_name": "HTMLModel",
          "model_module_version": "1.5.0",
          "state": {
            "_dom_classes": [],
            "_model_module": "@jupyter-widgets/controls",
            "_model_module_version": "1.5.0",
            "_model_name": "HTMLModel",
            "_view_count": null,
            "_view_module": "@jupyter-widgets/controls",
            "_view_module_version": "1.5.0",
            "_view_name": "HTMLView",
            "description": "",
            "description_tooltip": null,
            "layout": "IPY_MODEL_4e896f99d0414820979fb2d8ed8af516",
            "placeholder": "​",
            "style": "IPY_MODEL_06806fd82595438a9f712a73daf097d3",
            "value": " 242/242 [00:39&lt;00:00, 16.90it/s]"
          }
        },
        "089717d5d24646369c650333d6dcaf19": {
          "model_module": "@jupyter-widgets/base",
          "model_name": "LayoutModel",
          "model_module_version": "1.2.0",
          "state": {
            "_model_module": "@jupyter-widgets/base",
            "_model_module_version": "1.2.0",
            "_model_name": "LayoutModel",
            "_view_count": null,
            "_view_module": "@jupyter-widgets/base",
            "_view_module_version": "1.2.0",
            "_view_name": "LayoutView",
            "align_content": null,
            "align_items": null,
            "align_self": null,
            "border": null,
            "bottom": null,
            "display": null,
            "flex": null,
            "flex_flow": null,
            "grid_area": null,
            "grid_auto_columns": null,
            "grid_auto_flow": null,
            "grid_auto_rows": null,
            "grid_column": null,
            "grid_gap": null,
            "grid_row": null,
            "grid_template_areas": null,
            "grid_template_columns": null,
            "grid_template_rows": null,
            "height": null,
            "justify_content": null,
            "justify_items": null,
            "left": null,
            "margin": null,
            "max_height": null,
            "max_width": null,
            "min_height": null,
            "min_width": null,
            "object_fit": null,
            "object_position": null,
            "order": null,
            "overflow": null,
            "overflow_x": null,
            "overflow_y": null,
            "padding": null,
            "right": null,
            "top": null,
            "visibility": null,
            "width": null
          }
        },
        "93ecfbf3e4194a399762e74a301dd59b": {
          "model_module": "@jupyter-widgets/base",
          "model_name": "LayoutModel",
          "model_module_version": "1.2.0",
          "state": {
            "_model_module": "@jupyter-widgets/base",
            "_model_module_version": "1.2.0",
            "_model_name": "LayoutModel",
            "_view_count": null,
            "_view_module": "@jupyter-widgets/base",
            "_view_module_version": "1.2.0",
            "_view_name": "LayoutView",
            "align_content": null,
            "align_items": null,
            "align_self": null,
            "border": null,
            "bottom": null,
            "display": null,
            "flex": null,
            "flex_flow": null,
            "grid_area": null,
            "grid_auto_columns": null,
            "grid_auto_flow": null,
            "grid_auto_rows": null,
            "grid_column": null,
            "grid_gap": null,
            "grid_row": null,
            "grid_template_areas": null,
            "grid_template_columns": null,
            "grid_template_rows": null,
            "height": null,
            "justify_content": null,
            "justify_items": null,
            "left": null,
            "margin": null,
            "max_height": null,
            "max_width": null,
            "min_height": null,
            "min_width": null,
            "object_fit": null,
            "object_position": null,
            "order": null,
            "overflow": null,
            "overflow_x": null,
            "overflow_y": null,
            "padding": null,
            "right": null,
            "top": null,
            "visibility": null,
            "width": null
          }
        },
        "f1aeed447f674cfa97766c48731e84bf": {
          "model_module": "@jupyter-widgets/controls",
          "model_name": "DescriptionStyleModel",
          "model_module_version": "1.5.0",
          "state": {
            "_model_module": "@jupyter-widgets/controls",
            "_model_module_version": "1.5.0",
            "_model_name": "DescriptionStyleModel",
            "_view_count": null,
            "_view_module": "@jupyter-widgets/base",
            "_view_module_version": "1.2.0",
            "_view_name": "StyleView",
            "description_width": ""
          }
        },
        "a554c8a498fa46a0b008dd3ba0f4b53f": {
          "model_module": "@jupyter-widgets/base",
          "model_name": "LayoutModel",
          "model_module_version": "1.2.0",
          "state": {
            "_model_module": "@jupyter-widgets/base",
            "_model_module_version": "1.2.0",
            "_model_name": "LayoutModel",
            "_view_count": null,
            "_view_module": "@jupyter-widgets/base",
            "_view_module_version": "1.2.0",
            "_view_name": "LayoutView",
            "align_content": null,
            "align_items": null,
            "align_self": null,
            "border": null,
            "bottom": null,
            "display": null,
            "flex": null,
            "flex_flow": null,
            "grid_area": null,
            "grid_auto_columns": null,
            "grid_auto_flow": null,
            "grid_auto_rows": null,
            "grid_column": null,
            "grid_gap": null,
            "grid_row": null,
            "grid_template_areas": null,
            "grid_template_columns": null,
            "grid_template_rows": null,
            "height": null,
            "justify_content": null,
            "justify_items": null,
            "left": null,
            "margin": null,
            "max_height": null,
            "max_width": null,
            "min_height": null,
            "min_width": null,
            "object_fit": null,
            "object_position": null,
            "order": null,
            "overflow": null,
            "overflow_x": null,
            "overflow_y": null,
            "padding": null,
            "right": null,
            "top": null,
            "visibility": null,
            "width": null
          }
        },
        "d7cb48e5061542e9a900bdbc51a98fa4": {
          "model_module": "@jupyter-widgets/controls",
          "model_name": "ProgressStyleModel",
          "model_module_version": "1.5.0",
          "state": {
            "_model_module": "@jupyter-widgets/controls",
            "_model_module_version": "1.5.0",
            "_model_name": "ProgressStyleModel",
            "_view_count": null,
            "_view_module": "@jupyter-widgets/base",
            "_view_module_version": "1.2.0",
            "_view_name": "StyleView",
            "bar_color": null,
            "description_width": ""
          }
        },
        "4e896f99d0414820979fb2d8ed8af516": {
          "model_module": "@jupyter-widgets/base",
          "model_name": "LayoutModel",
          "model_module_version": "1.2.0",
          "state": {
            "_model_module": "@jupyter-widgets/base",
            "_model_module_version": "1.2.0",
            "_model_name": "LayoutModel",
            "_view_count": null,
            "_view_module": "@jupyter-widgets/base",
            "_view_module_version": "1.2.0",
            "_view_name": "LayoutView",
            "align_content": null,
            "align_items": null,
            "align_self": null,
            "border": null,
            "bottom": null,
            "display": null,
            "flex": null,
            "flex_flow": null,
            "grid_area": null,
            "grid_auto_columns": null,
            "grid_auto_flow": null,
            "grid_auto_rows": null,
            "grid_column": null,
            "grid_gap": null,
            "grid_row": null,
            "grid_template_areas": null,
            "grid_template_columns": null,
            "grid_template_rows": null,
            "height": null,
            "justify_content": null,
            "justify_items": null,
            "left": null,
            "margin": null,
            "max_height": null,
            "max_width": null,
            "min_height": null,
            "min_width": null,
            "object_fit": null,
            "object_position": null,
            "order": null,
            "overflow": null,
            "overflow_x": null,
            "overflow_y": null,
            "padding": null,
            "right": null,
            "top": null,
            "visibility": null,
            "width": null
          }
        },
        "06806fd82595438a9f712a73daf097d3": {
          "model_module": "@jupyter-widgets/controls",
          "model_name": "DescriptionStyleModel",
          "model_module_version": "1.5.0",
          "state": {
            "_model_module": "@jupyter-widgets/controls",
            "_model_module_version": "1.5.0",
            "_model_name": "DescriptionStyleModel",
            "_view_count": null,
            "_view_module": "@jupyter-widgets/base",
            "_view_module_version": "1.2.0",
            "_view_name": "StyleView",
            "description_width": ""
          }
        }
      }
    }
  },
  "cells": [
    {
      "cell_type": "markdown",
      "metadata": {
        "id": "view-in-github",
        "colab_type": "text"
      },
      "source": [
        "<a href=\"https://colab.research.google.com/github/malinphy/q_17/blob/main/sbert_cluster.ipynb\" target=\"_parent\"><img src=\"https://colab.research.google.com/assets/colab-badge.svg\" alt=\"Open In Colab\"/></a>"
      ]
    },
    {
      "cell_type": "code",
      "metadata": {
        "id": "Lj6cbR0JBTCP"
      },
      "source": [
        "!pip install sentence_transformers -q"
      ],
      "execution_count": 1,
      "outputs": []
    },
    {
      "cell_type": "code",
      "source": [
        "from sentence_transformers import SentenceTransformer, util\n",
        "import os\n",
        "import csv\n",
        "import time\n",
        "\n",
        "\n",
        "# # Model for computing sentence embeddings. We use one trained for similar questions detection\n",
        "# model = SentenceTransformer('all-MiniLM-L6-v2')\n",
        "\n",
        "# # We donwload the Quora Duplicate Questions Dataset (https://www.quora.com/q/quoradata/First-Quora-Dataset-Release-Question-Pairs)\n",
        "# # and find similar question in it\n",
        "# url = \"http://qim.fs.quoracdn.net/quora_duplicate_questions.tsv\"\n",
        "# dataset_path = \"quora_duplicate_questions.tsv\"\n",
        "# max_corpus_size = 50000  # We limit our corpus to only the first 50k questions\n",
        "\n",
        "\n",
        "# # Check if the dataset exists. If not, download and extract\n",
        "# # Download dataset if needed\n",
        "# if not os.path.exists(dataset_path):\n",
        "#     print(\"Download dataset\")\n",
        "#     util.http_get(url, dataset_path)\n",
        "\n",
        "# # Get all unique sentences from the file\n",
        "# corpus_sentences = set()\n",
        "# with open(dataset_path, encoding='utf8') as fIn:\n",
        "#     reader = csv.DictReader(fIn, delimiter='\\t', quoting=csv.QUOTE_MINIMAL)\n",
        "#     for row in reader:\n",
        "#         corpus_sentences.add(row['question1'])\n",
        "#         corpus_sentences.add(row['question2'])\n",
        "#         if len(corpus_sentences) >= max_corpus_size:\n",
        "#             break"
      ],
      "metadata": {
        "id": "xusr-JWt1wML"
      },
      "execution_count": 2,
      "outputs": []
    },
    {
      "cell_type": "code",
      "source": [
        "# corpus_sentences = list(corpus_sentences)\n",
        "# print(\"Encode the corpus. This might take a while\")\n",
        "# corpus_embeddings = model.encode(corpus_sentences, batch_size=64, show_progress_bar=True, convert_to_tensor=True)\n"
      ],
      "metadata": {
        "id": "VwDfs72i16WD"
      },
      "execution_count": 3,
      "outputs": []
    },
    {
      "cell_type": "code",
      "source": [
        "# print(\"Start clustering\")\n",
        "# start_time = time.time()\n",
        "\n",
        "# #Two parameters to tune:\n",
        "# #min_cluster_size: Only consider cluster that have at least 25 elements\n",
        "# #threshold: Consider sentence pairs with a cosine-similarity larger than threshold as similar\n",
        "# clusters = util.community_detection(corpus_embeddings, min_community_size=25, threshold=0.75)"
      ],
      "metadata": {
        "id": "2OkRfRFc2UGc"
      },
      "execution_count": 4,
      "outputs": []
    },
    {
      "cell_type": "code",
      "source": [
        "# for i in range(20):\n",
        "#     print(len(clusters[i]))"
      ],
      "metadata": {
        "id": "JltlkuWN2jyq"
      },
      "execution_count": 5,
      "outputs": []
    },
    {
      "cell_type": "code",
      "source": [
        "# #Print for all clusters the top 3 and bottom 3 elements\n",
        "# for i, cluster in enumerate(clusters):\n",
        "#     print(\"\\nCluster {}, #{} Elements \".format(i+1, len(cluster)))\n",
        "#     for sentence_id in cluster[0:3]:\n",
        "#         print(\"\\t\", corpus_sentences[sentence_id])\n",
        "#     print(\"\\t\", \"...\")\n",
        "#     for sentence_id in cluster[-3:]:\n",
        "#         print(\"\\t\", corpus_sentences[sentence_id])"
      ],
      "metadata": {
        "id": "MeiaHxjh2aIs"
      },
      "execution_count": 6,
      "outputs": []
    },
    {
      "cell_type": "code",
      "source": [
        "from google.colab import drive\n",
        "drive.mount('/content/drive')"
      ],
      "metadata": {
        "id": "vQZXiwVB2faz",
        "outputId": "5da1cb46-b71f-47ea-f925-8d010a94c90f",
        "colab": {
          "base_uri": "https://localhost:8080/"
        }
      },
      "execution_count": 7,
      "outputs": [
        {
          "output_type": "stream",
          "name": "stdout",
          "text": [
            "Drive already mounted at /content/drive; to attempt to forcibly remount, call drive.mount(\"/content/drive\", force_remount=True).\n"
          ]
        }
      ]
    },
    {
      "cell_type": "code",
      "source": [
        "def data_loader(data_path):\n",
        "\n",
        "    f = open(data_path)\n",
        "    data = json.load(f)\n",
        "\n",
        "    return data\n",
        "\n",
        "def column_selection(selected_column, data) :\n",
        "    empty_column = []\n",
        "    for i in data:\n",
        "        empty_column.append(i[selected_column])\n",
        "\n",
        "    return empty_column\n",
        "\n",
        "def data_cleaner(txt_data):\n",
        "    # if limit != None:\n",
        "    clean_data = []\n",
        "    empty_indices = []\n",
        "    for i in range(len(txt_data)):\n",
        "        if txt_data[i] != '':\n",
        "                # print(content[i])\n",
        "            clean_data.append(txt_data[i])\n",
        "        else :\n",
        "            empty_indices.append(i)\n",
        "    # print(empty_indices)\n",
        "    return clean_data , empty_indices        \n",
        "\n",
        "def delete_multiple_element(list_object, indices):\n",
        "    indices = sorted(indices, reverse=True)\n",
        "    for idx in indices:\n",
        "        if idx < len(list_object):\n",
        "            # list_object.pop(idx)\n",
        "            del list_object[idx] \n",
        "\n",
        "\n",
        "def index_returner(df,unique_region):\n",
        "    x = df[df['region'] == unique_region].index\n",
        "    return x       \n",
        "\n",
        "def char_counter(x):\n",
        "    return  len(x)\n",
        "\n",
        "def token_counter(x):\n",
        "    return len(x.split())      "
      ],
      "metadata": {
        "id": "jf2hn9a-3GOc"
      },
      "execution_count": 8,
      "outputs": []
    },
    {
      "cell_type": "code",
      "source": [
        "import os \n",
        "import json\n",
        "import pandas as pd \n",
        "import numpy as np \n",
        "import matplotlib.pyplot as plt \n",
        "# import tensorflow as tf \n",
        "# from tensorflow import keras \n",
        "# from tensorflow.keras import layers\n",
        "# from tensorflow.keras.layers import *\n",
        "\n",
        "plt.style.use('ggplot')"
      ],
      "metadata": {
        "id": "cGEguH4a3Kz_"
      },
      "execution_count": 9,
      "outputs": []
    },
    {
      "cell_type": "code",
      "source": [
        "input_path = 'drive/MyDrive/bbc_news_list_uk.json'\n",
        "data = data_loader(input_path)\n",
        "print(data[0].keys())"
      ],
      "metadata": {
        "id": "3hnuqPB33Qf0",
        "outputId": "ba96f364-ad70-4a09-e710-02abd70f12d6",
        "colab": {
          "base_uri": "https://localhost:8080/"
        }
      },
      "execution_count": 10,
      "outputs": [
        {
          "output_type": "stream",
          "name": "stdout",
          "text": [
            "dict_keys(['tags', 'title', 'news_post_date', 'raw_content', 'content', 'url', 'author', 'language', '_id', 'region', 'short_description', 'category', 'crawled_at'])\n"
          ]
        }
      ]
    },
    {
      "cell_type": "code",
      "source": [
        "content = column_selection('content', data)\n",
        "title = column_selection('title', data)\n",
        "region  = column_selection('region', data)\n",
        "short_desc = column_selection('short_description', data)\n",
        "category = column_selection('category', data)"
      ],
      "metadata": {
        "id": "CjZnLh1I3UHO"
      },
      "execution_count": 11,
      "outputs": []
    },
    {
      "cell_type": "code",
      "source": [
        "for i in range(len(region)):\n",
        "    if region[i] == '':\n",
        "        region[i] = 'NO_INFO'"
      ],
      "metadata": {
        "id": "_0Kmlwhd3Xsd"
      },
      "execution_count": 12,
      "outputs": []
    },
    {
      "cell_type": "code",
      "source": [
        "clean_content,empty_indices_content = data_cleaner(content)"
      ],
      "metadata": {
        "id": "jyAsdgyt3aSt"
      },
      "execution_count": 13,
      "outputs": []
    },
    {
      "cell_type": "code",
      "source": [
        "clean_title,empty_indices_title = data_cleaner(title)\n",
        "clean_region,empty_indices_region = data_cleaner(region)\n",
        "clean_short_desc,empty_indices_short_desc = data_cleaner(short_desc)\n",
        "clean_category,empty_indices_category = data_cleaner(category)"
      ],
      "metadata": {
        "id": "9zDNQ-LB3cXR"
      },
      "execution_count": 14,
      "outputs": []
    },
    {
      "cell_type": "code",
      "source": [
        "delete_multiple_element(clean_title,empty_indices_content)\n",
        "delete_multiple_element(clean_region,empty_indices_content)\n",
        "delete_multiple_element(clean_short_desc,empty_indices_content)\n",
        "delete_multiple_element(clean_category,empty_indices_content)"
      ],
      "metadata": {
        "id": "RtTYuC753euj"
      },
      "execution_count": 15,
      "outputs": []
    },
    {
      "cell_type": "code",
      "source": [
        "df_clean = pd.DataFrame({\n",
        "    'content': clean_content,\n",
        "    'title' : clean_title,\n",
        "    'region' : clean_region,\n",
        "    'desc' : clean_short_desc,\n",
        "    'category' : clean_category\n",
        "})\n",
        "df_clean.head(1)"
      ],
      "metadata": {
        "id": "x41hSPoZ3g8s",
        "outputId": "423cbe87-1025-493f-8db9-00ebc09ef0c8",
        "colab": {
          "base_uri": "https://localhost:8080/",
          "height": 81
        }
      },
      "execution_count": 16,
      "outputs": [
        {
          "output_type": "execute_result",
          "data": {
            "text/plain": [
              "                                             content  \\\n",
              "0  The heroin substitute methadone can be used as...   \n",
              "\n",
              "                                               title  region  \\\n",
              "0  Why quitting heroin substitute methadone is 'v...  Health   \n",
              "\n",
              "                                                desc  category  \n",
              "0  Heroin substitute methadone is used to wean ad...  BBC News  "
            ],
            "text/html": [
              "\n",
              "  <div id=\"df-1d8616ff-04dc-4521-a527-a3b479c009eb\">\n",
              "    <div class=\"colab-df-container\">\n",
              "      <div>\n",
              "<style scoped>\n",
              "    .dataframe tbody tr th:only-of-type {\n",
              "        vertical-align: middle;\n",
              "    }\n",
              "\n",
              "    .dataframe tbody tr th {\n",
              "        vertical-align: top;\n",
              "    }\n",
              "\n",
              "    .dataframe thead th {\n",
              "        text-align: right;\n",
              "    }\n",
              "</style>\n",
              "<table border=\"1\" class=\"dataframe\">\n",
              "  <thead>\n",
              "    <tr style=\"text-align: right;\">\n",
              "      <th></th>\n",
              "      <th>content</th>\n",
              "      <th>title</th>\n",
              "      <th>region</th>\n",
              "      <th>desc</th>\n",
              "      <th>category</th>\n",
              "    </tr>\n",
              "  </thead>\n",
              "  <tbody>\n",
              "    <tr>\n",
              "      <th>0</th>\n",
              "      <td>The heroin substitute methadone can be used as...</td>\n",
              "      <td>Why quitting heroin substitute methadone is 'v...</td>\n",
              "      <td>Health</td>\n",
              "      <td>Heroin substitute methadone is used to wean ad...</td>\n",
              "      <td>BBC News</td>\n",
              "    </tr>\n",
              "  </tbody>\n",
              "</table>\n",
              "</div>\n",
              "      <button class=\"colab-df-convert\" onclick=\"convertToInteractive('df-1d8616ff-04dc-4521-a527-a3b479c009eb')\"\n",
              "              title=\"Convert this dataframe to an interactive table.\"\n",
              "              style=\"display:none;\">\n",
              "        \n",
              "  <svg xmlns=\"http://www.w3.org/2000/svg\" height=\"24px\"viewBox=\"0 0 24 24\"\n",
              "       width=\"24px\">\n",
              "    <path d=\"M0 0h24v24H0V0z\" fill=\"none\"/>\n",
              "    <path d=\"M18.56 5.44l.94 2.06.94-2.06 2.06-.94-2.06-.94-.94-2.06-.94 2.06-2.06.94zm-11 1L8.5 8.5l.94-2.06 2.06-.94-2.06-.94L8.5 2.5l-.94 2.06-2.06.94zm10 10l.94 2.06.94-2.06 2.06-.94-2.06-.94-.94-2.06-.94 2.06-2.06.94z\"/><path d=\"M17.41 7.96l-1.37-1.37c-.4-.4-.92-.59-1.43-.59-.52 0-1.04.2-1.43.59L10.3 9.45l-7.72 7.72c-.78.78-.78 2.05 0 2.83L4 21.41c.39.39.9.59 1.41.59.51 0 1.02-.2 1.41-.59l7.78-7.78 2.81-2.81c.8-.78.8-2.07 0-2.86zM5.41 20L4 18.59l7.72-7.72 1.47 1.35L5.41 20z\"/>\n",
              "  </svg>\n",
              "      </button>\n",
              "      \n",
              "  <style>\n",
              "    .colab-df-container {\n",
              "      display:flex;\n",
              "      flex-wrap:wrap;\n",
              "      gap: 12px;\n",
              "    }\n",
              "\n",
              "    .colab-df-convert {\n",
              "      background-color: #E8F0FE;\n",
              "      border: none;\n",
              "      border-radius: 50%;\n",
              "      cursor: pointer;\n",
              "      display: none;\n",
              "      fill: #1967D2;\n",
              "      height: 32px;\n",
              "      padding: 0 0 0 0;\n",
              "      width: 32px;\n",
              "    }\n",
              "\n",
              "    .colab-df-convert:hover {\n",
              "      background-color: #E2EBFA;\n",
              "      box-shadow: 0px 1px 2px rgba(60, 64, 67, 0.3), 0px 1px 3px 1px rgba(60, 64, 67, 0.15);\n",
              "      fill: #174EA6;\n",
              "    }\n",
              "\n",
              "    [theme=dark] .colab-df-convert {\n",
              "      background-color: #3B4455;\n",
              "      fill: #D2E3FC;\n",
              "    }\n",
              "\n",
              "    [theme=dark] .colab-df-convert:hover {\n",
              "      background-color: #434B5C;\n",
              "      box-shadow: 0px 1px 3px 1px rgba(0, 0, 0, 0.15);\n",
              "      filter: drop-shadow(0px 1px 2px rgba(0, 0, 0, 0.3));\n",
              "      fill: #FFFFFF;\n",
              "    }\n",
              "  </style>\n",
              "\n",
              "      <script>\n",
              "        const buttonEl =\n",
              "          document.querySelector('#df-1d8616ff-04dc-4521-a527-a3b479c009eb button.colab-df-convert');\n",
              "        buttonEl.style.display =\n",
              "          google.colab.kernel.accessAllowed ? 'block' : 'none';\n",
              "\n",
              "        async function convertToInteractive(key) {\n",
              "          const element = document.querySelector('#df-1d8616ff-04dc-4521-a527-a3b479c009eb');\n",
              "          const dataTable =\n",
              "            await google.colab.kernel.invokeFunction('convertToInteractive',\n",
              "                                                     [key], {});\n",
              "          if (!dataTable) return;\n",
              "\n",
              "          const docLinkHtml = 'Like what you see? Visit the ' +\n",
              "            '<a target=\"_blank\" href=https://colab.research.google.com/notebooks/data_table.ipynb>data table notebook</a>'\n",
              "            + ' to learn more about interactive tables.';\n",
              "          element.innerHTML = '';\n",
              "          dataTable['output_type'] = 'display_data';\n",
              "          await google.colab.output.renderOutput(dataTable, element);\n",
              "          const docLink = document.createElement('div');\n",
              "          docLink.innerHTML = docLinkHtml;\n",
              "          element.appendChild(docLink);\n",
              "        }\n",
              "      </script>\n",
              "    </div>\n",
              "  </div>\n",
              "  "
            ]
          },
          "metadata": {},
          "execution_count": 16
        }
      ]
    },
    {
      "cell_type": "code",
      "source": [
        "model = SentenceTransformer('all-MiniLM-L6-v2')\n",
        "corpus_sentences = list(df_clean['content'])\n",
        "print(\"Encode the corpus. This might take a while\")\n",
        "corpus_embeddings = model.encode(corpus_sentences, batch_size=64, show_progress_bar=True, convert_to_tensor=True)\n"
      ],
      "metadata": {
        "id": "2zaAe-593jPw",
        "outputId": "81495ade-50d0-4790-b511-608fe8bcb707",
        "colab": {
          "base_uri": "https://localhost:8080/",
          "height": 67,
          "referenced_widgets": [
            "014c526c74544de987c6e755bafb516d",
            "ce04a86ccb3e45b5bee57c8cd46eb277",
            "b0b60204ed5c4896abe92ef1b699256d",
            "6b05dbeb1cbe4360a06598cb59c68c3a",
            "089717d5d24646369c650333d6dcaf19",
            "93ecfbf3e4194a399762e74a301dd59b",
            "f1aeed447f674cfa97766c48731e84bf",
            "a554c8a498fa46a0b008dd3ba0f4b53f",
            "d7cb48e5061542e9a900bdbc51a98fa4",
            "4e896f99d0414820979fb2d8ed8af516",
            "06806fd82595438a9f712a73daf097d3"
          ]
        }
      },
      "execution_count": 17,
      "outputs": [
        {
          "output_type": "stream",
          "name": "stdout",
          "text": [
            "Encode the corpus. This might take a while\n"
          ]
        },
        {
          "output_type": "display_data",
          "data": {
            "text/plain": [
              "Batches:   0%|          | 0/242 [00:00<?, ?it/s]"
            ],
            "application/vnd.jupyter.widget-view+json": {
              "version_major": 2,
              "version_minor": 0,
              "model_id": "014c526c74544de987c6e755bafb516d"
            }
          },
          "metadata": {}
        }
      ]
    },
    {
      "cell_type": "code",
      "source": [
        "clusters = util.community_detection(corpus_embeddings, min_community_size=25, threshold=0.25)"
      ],
      "metadata": {
        "id": "5yxQ9sva4dHp"
      },
      "execution_count": 18,
      "outputs": []
    },
    {
      "cell_type": "code",
      "source": [
        "len(clusters)"
      ],
      "metadata": {
        "id": "a73yEHGv4VWt",
        "outputId": "25cbd723-b664-4be7-fa40-8753351ac016",
        "colab": {
          "base_uri": "https://localhost:8080/"
        }
      },
      "execution_count": 19,
      "outputs": [
        {
          "output_type": "execute_result",
          "data": {
            "text/plain": [
              "91"
            ]
          },
          "metadata": {},
          "execution_count": 19
        }
      ]
    },
    {
      "cell_type": "code",
      "source": [],
      "metadata": {
        "id": "h4wRGqAI4WSc"
      },
      "execution_count": 19,
      "outputs": []
    }
  ]
}