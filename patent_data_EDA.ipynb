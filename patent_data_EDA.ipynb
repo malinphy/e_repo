{
  "nbformat": 4,
  "nbformat_minor": 0,
  "metadata": {
    "colab": {
      "provenance": [],
      "include_colab_link": true
    },
    "kernelspec": {
      "display_name": "Python 3",
      "name": "python3"
    },
    "gpuClass": "standard"
  },
  "cells": [
    {
      "cell_type": "markdown",
      "metadata": {
        "id": "view-in-github",
        "colab_type": "text"
      },
      "source": [
        "<a href=\"https://colab.research.google.com/github/malinphy/q_17/blob/main/patent_data_EDA.ipynb\" target=\"_parent\"><img src=\"https://colab.research.google.com/assets/colab-badge.svg\" alt=\"Open In Colab\"/></a>"
      ]
    },
    {
      "cell_type": "code",
      "source": [
        "from google.colab import drive\n",
        "drive.mount('/content/drive')"
      ],
      "metadata": {
        "id": "rvtMApyAbmO9",
        "outputId": "9bf7c5da-08d2-4fa8-fffc-95c566af7dc6",
        "colab": {
          "base_uri": "https://localhost:8080/"
        }
      },
      "execution_count": 1,
      "outputs": [
        {
          "output_type": "stream",
          "name": "stdout",
          "text": [
            "Drive already mounted at /content/drive; to attempt to forcibly remount, call drive.mount(\"/content/drive\", force_remount=True).\n"
          ]
        }
      ]
    },
    {
      "cell_type": "code",
      "metadata": {
        "id": "Lj6cbR0JBTCP"
      },
      "source": [
        "import os \n",
        "import json\n",
        "from typing import List\n",
        "import collections\n",
        "import numpy as np\n",
        "import pandas as pd"
      ],
      "execution_count": 2,
      "outputs": []
    },
    {
      "cell_type": "code",
      "source": [
        "biotech_patents_dir = 'drive/MyDrive/transfer/patent/vec_vectorized_biotech_patents_transformed_ols.json'\n",
        "uspto_patents_dir = 'drive/MyDrive/transfer/patent/vec_vectorized_uspto_patents_transformed_ols.json'\n",
        "nih_patents_dir = 'drive/MyDrive/transfer/patent/patent_raw/nih/nih_patents_ada_embeddings.json'"
      ],
      "metadata": {
        "id": "TBGnzcgdbm57"
      },
      "execution_count": 3,
      "outputs": []
    },
    {
      "cell_type": "code",
      "source": [
        "# with open(nih_patents_dir, 'r') as f:\n",
        "#     data = json.load(f)"
      ],
      "metadata": {
        "id": "KWwMiV3RcDMT"
      },
      "execution_count": 4,
      "outputs": []
    },
    {
      "cell_type": "code",
      "source": [
        "class patent_data:\n",
        "    def __init__(self, dir:str):\n",
        "        self.dir = dir\n",
        "\n",
        "    def ab_title_bringer(self):\n",
        "        with open (self.dir, 'r') as f:\n",
        "            data = json.load(f)\n",
        "\n",
        "        title = [data[i]['title'] for i in range(len(data))]\n",
        "        abstract = [data[i]['abstract'] for i in range(len(data))]\n",
        "        urls = [data[i]['url'] for i in range(len(data))]\n",
        "\n",
        "        return title, abstract, urls\n",
        "\n",
        "def unique_values(x: List[str]) -> List[int] :\n",
        "    dup = [item for item, count in collections.Counter(x).items() if count > 1]\n",
        "    unique_pos = []\n",
        "    for i in dup:\n",
        "        unique_pos.append(x.index(i))\n",
        "    \n",
        "    return(unique_pos)\n",
        "    \n",
        "def normalizer(str_data:str) -> str:\n",
        "    return str_data.lower().rstrip().lstrip()"
      ],
      "metadata": {
        "id": "L_wmNAsocsKr"
      },
      "execution_count": 5,
      "outputs": []
    },
    {
      "cell_type": "code",
      "source": [
        "biotech_data = patent_data(biotech_patents_dir)\n",
        "biotech_title, biotech_abstract,biotech_urls = biotech_data.ab_title_bringer()\n",
        "\n",
        "uspto_data = patent_data(uspto_patents_dir)\n",
        "uspto_title, uspto_abstract, biotech_urls = uspto_data.ab_title_bringer()\n",
        "\n",
        "nih_data = patent_data(nih_patents_dir)\n",
        "nih_title, nih_abstract, biotech_urls = nih_data.ab_title_bringer()"
      ],
      "metadata": {
        "id": "MaljtUhScf68"
      },
      "execution_count": 6,
      "outputs": []
    },
    {
      "cell_type": "code",
      "source": [
        "normalized_title_biotech = [normalizer(i) for i in biotech_title]\n",
        "normalized_abstract_biotech = [normalizer(i) for i in biotech_abstract]\n",
        "\n",
        "normalized_title_uspto = [normalizer(i) for i in uspto_title]\n",
        "normalized_abstract_uspto = [normalizer(i) for i in uspto_abstract]\n",
        "\n",
        "normalized_title_nih = [normalizer(i) for i in nih_title]\n",
        "normalized_abstract_nih = [normalizer(i) for i in nih_abstract]"
      ],
      "metadata": {
        "id": "ZjZbOKd3fSiH"
      },
      "execution_count": 7,
      "outputs": []
    },
    {
      "cell_type": "code",
      "source": [
        "print('Title BIOTECH PATENTS :',len(normalized_title_biotech))\n",
        "print('Unique titles BIOTECH PATENTS :',len(set(normalized_title_biotech)))\n",
        "print('Title USPTO patents :',len(normalized_title_uspto))\n",
        "print('Unique titles USPTO patents :',len(set(normalized_title_uspto)))\n",
        "print('Title NIH PATENTS :',len(normalized_title_nih))\n",
        "print('Unique titles NIH PATENTS :',len(set(normalized_title_nih)))"
      ],
      "metadata": {
        "id": "wTy73AZwgKYh",
        "outputId": "2bce4ae8-6bff-4d53-d58e-5acca3c0d54f",
        "colab": {
          "base_uri": "https://localhost:8080/"
        }
      },
      "execution_count": 8,
      "outputs": [
        {
          "output_type": "stream",
          "name": "stdout",
          "text": [
            "Title BIOTECH PATENTS : 484\n",
            "Unique titles BIOTECH PATENTS : 228\n",
            "Title USPTO patents : 4\n",
            "Unique titles USPTO patents : 4\n",
            "Title NIH PATENTS : 3243\n",
            "Unique titles NIH PATENTS : 2842\n"
          ]
        }
      ]
    },
    {
      "cell_type": "code",
      "source": [
        "print('Title BIOTECH PATENTS :',len(normalized_abstract_biotech))\n",
        "print('Unique titles BIOTECH PATENTS :',len(set(normalized_abstract_biotech)))\n",
        "print('Title USPTO patents :',len(normalized_abstract_uspto))\n",
        "print('Unique titles USPTO patents :',len(set(normalized_abstract_uspto)))\n",
        "print('Title NIH PATENTS :',len(normalized_abstract_nih))\n",
        "print('Unique titles NIH PATENTS :',len(set(normalized_abstract_nih)))"
      ],
      "metadata": {
        "id": "b9lAHSZh1dvu",
        "outputId": "cbed249f-12d1-4a99-a8ab-cc39b0c01a05",
        "colab": {
          "base_uri": "https://localhost:8080/"
        }
      },
      "execution_count": 9,
      "outputs": [
        {
          "output_type": "stream",
          "name": "stdout",
          "text": [
            "Title BIOTECH PATENTS : 484\n",
            "Unique titles BIOTECH PATENTS : 231\n",
            "Title USPTO patents : 4\n",
            "Unique titles USPTO patents : 4\n",
            "Title NIH PATENTS : 3243\n",
            "Unique titles NIH PATENTS : 2865\n"
          ]
        }
      ]
    },
    {
      "cell_type": "code",
      "source": [
        "unique_pos_biotech = unique_values(normalized_title_biotech)\n",
        "unique_pos_uspto = unique_values(normalized_title_uspto)\n",
        "unique_pos_nih = unique_values(normalized_title_nih)\n",
        "# np.where( np.array(normalized_title_nih) == 'selective recovery')"
      ],
      "metadata": {
        "id": "Sr5TcsaScMiJ"
      },
      "execution_count": 10,
      "outputs": []
    },
    {
      "cell_type": "code",
      "source": [
        "biotech_ada_title = np.load('drive/MyDrive/transfer/patent/biotech_title_vectors.npy')\n",
        "biotech_ada_abstract = np.load('drive/MyDrive/transfer/patent/biotech_abstract_vectors.npy')\n",
        "print(biotech_ada_title.shape)\n",
        "print(biotech_ada_abstract.shape)"
      ],
      "metadata": {
        "id": "OTf9_STnjUcp",
        "outputId": "a8ef2218-8647-4994-8dc9-d69c250f35dc",
        "colab": {
          "base_uri": "https://localhost:8080/"
        }
      },
      "execution_count": 11,
      "outputs": [
        {
          "output_type": "stream",
          "name": "stdout",
          "text": [
            "(484, 1536)\n",
            "(484, 1536)\n"
          ]
        }
      ]
    },
    {
      "cell_type": "code",
      "source": [
        "df = pd.DataFrame({'normalized_title_biotech':normalized_title_biotech})\n",
        "df.head(3)"
      ],
      "metadata": {
        "id": "qX1a_1HWkers",
        "outputId": "efbf6ea7-20ff-4aba-d677-f8ee00486291",
        "colab": {
          "base_uri": "https://localhost:8080/",
          "height": 143
        }
      },
      "execution_count": 12,
      "outputs": [
        {
          "output_type": "execute_result",
          "data": {
            "text/plain": [
              "                            normalized_title_biotech\n",
              "0  lipids and lipid nanoparticle formulations for...\n",
              "1  lipids and lipid nanoparticle formulations for...\n",
              "2  lipids and lipid nanoparticle formulations for..."
            ],
            "text/html": [
              "\n",
              "  <div id=\"df-0ca2cb67-2f67-44fa-95bb-ee85145de7e7\">\n",
              "    <div class=\"colab-df-container\">\n",
              "      <div>\n",
              "<style scoped>\n",
              "    .dataframe tbody tr th:only-of-type {\n",
              "        vertical-align: middle;\n",
              "    }\n",
              "\n",
              "    .dataframe tbody tr th {\n",
              "        vertical-align: top;\n",
              "    }\n",
              "\n",
              "    .dataframe thead th {\n",
              "        text-align: right;\n",
              "    }\n",
              "</style>\n",
              "<table border=\"1\" class=\"dataframe\">\n",
              "  <thead>\n",
              "    <tr style=\"text-align: right;\">\n",
              "      <th></th>\n",
              "      <th>normalized_title_biotech</th>\n",
              "    </tr>\n",
              "  </thead>\n",
              "  <tbody>\n",
              "    <tr>\n",
              "      <th>0</th>\n",
              "      <td>lipids and lipid nanoparticle formulations for...</td>\n",
              "    </tr>\n",
              "    <tr>\n",
              "      <th>1</th>\n",
              "      <td>lipids and lipid nanoparticle formulations for...</td>\n",
              "    </tr>\n",
              "    <tr>\n",
              "      <th>2</th>\n",
              "      <td>lipids and lipid nanoparticle formulations for...</td>\n",
              "    </tr>\n",
              "  </tbody>\n",
              "</table>\n",
              "</div>\n",
              "      <button class=\"colab-df-convert\" onclick=\"convertToInteractive('df-0ca2cb67-2f67-44fa-95bb-ee85145de7e7')\"\n",
              "              title=\"Convert this dataframe to an interactive table.\"\n",
              "              style=\"display:none;\">\n",
              "        \n",
              "  <svg xmlns=\"http://www.w3.org/2000/svg\" height=\"24px\"viewBox=\"0 0 24 24\"\n",
              "       width=\"24px\">\n",
              "    <path d=\"M0 0h24v24H0V0z\" fill=\"none\"/>\n",
              "    <path d=\"M18.56 5.44l.94 2.06.94-2.06 2.06-.94-2.06-.94-.94-2.06-.94 2.06-2.06.94zm-11 1L8.5 8.5l.94-2.06 2.06-.94-2.06-.94L8.5 2.5l-.94 2.06-2.06.94zm10 10l.94 2.06.94-2.06 2.06-.94-2.06-.94-.94-2.06-.94 2.06-2.06.94z\"/><path d=\"M17.41 7.96l-1.37-1.37c-.4-.4-.92-.59-1.43-.59-.52 0-1.04.2-1.43.59L10.3 9.45l-7.72 7.72c-.78.78-.78 2.05 0 2.83L4 21.41c.39.39.9.59 1.41.59.51 0 1.02-.2 1.41-.59l7.78-7.78 2.81-2.81c.8-.78.8-2.07 0-2.86zM5.41 20L4 18.59l7.72-7.72 1.47 1.35L5.41 20z\"/>\n",
              "  </svg>\n",
              "      </button>\n",
              "      \n",
              "  <style>\n",
              "    .colab-df-container {\n",
              "      display:flex;\n",
              "      flex-wrap:wrap;\n",
              "      gap: 12px;\n",
              "    }\n",
              "\n",
              "    .colab-df-convert {\n",
              "      background-color: #E8F0FE;\n",
              "      border: none;\n",
              "      border-radius: 50%;\n",
              "      cursor: pointer;\n",
              "      display: none;\n",
              "      fill: #1967D2;\n",
              "      height: 32px;\n",
              "      padding: 0 0 0 0;\n",
              "      width: 32px;\n",
              "    }\n",
              "\n",
              "    .colab-df-convert:hover {\n",
              "      background-color: #E2EBFA;\n",
              "      box-shadow: 0px 1px 2px rgba(60, 64, 67, 0.3), 0px 1px 3px 1px rgba(60, 64, 67, 0.15);\n",
              "      fill: #174EA6;\n",
              "    }\n",
              "\n",
              "    [theme=dark] .colab-df-convert {\n",
              "      background-color: #3B4455;\n",
              "      fill: #D2E3FC;\n",
              "    }\n",
              "\n",
              "    [theme=dark] .colab-df-convert:hover {\n",
              "      background-color: #434B5C;\n",
              "      box-shadow: 0px 1px 3px 1px rgba(0, 0, 0, 0.15);\n",
              "      filter: drop-shadow(0px 1px 2px rgba(0, 0, 0, 0.3));\n",
              "      fill: #FFFFFF;\n",
              "    }\n",
              "  </style>\n",
              "\n",
              "      <script>\n",
              "        const buttonEl =\n",
              "          document.querySelector('#df-0ca2cb67-2f67-44fa-95bb-ee85145de7e7 button.colab-df-convert');\n",
              "        buttonEl.style.display =\n",
              "          google.colab.kernel.accessAllowed ? 'block' : 'none';\n",
              "\n",
              "        async function convertToInteractive(key) {\n",
              "          const element = document.querySelector('#df-0ca2cb67-2f67-44fa-95bb-ee85145de7e7');\n",
              "          const dataTable =\n",
              "            await google.colab.kernel.invokeFunction('convertToInteractive',\n",
              "                                                     [key], {});\n",
              "          if (!dataTable) return;\n",
              "\n",
              "          const docLinkHtml = 'Like what you see? Visit the ' +\n",
              "            '<a target=\"_blank\" href=https://colab.research.google.com/notebooks/data_table.ipynb>data table notebook</a>'\n",
              "            + ' to learn more about interactive tables.';\n",
              "          element.innerHTML = '';\n",
              "          dataTable['output_type'] = 'display_data';\n",
              "          await google.colab.output.renderOutput(dataTable, element);\n",
              "          const docLink = document.createElement('div');\n",
              "          docLink.innerHTML = docLinkHtml;\n",
              "          element.appendChild(docLink);\n",
              "        }\n",
              "      </script>\n",
              "    </div>\n",
              "  </div>\n",
              "  "
            ]
          },
          "metadata": {},
          "execution_count": 12
        }
      ]
    },
    {
      "cell_type": "code",
      "source": [
        "biotech_title_dilution_index = list(df.drop_duplicates(subset='normalized_title_biotech', keep='first', inplace=False, ignore_index=False).index)\n",
        "biotech_ada_title_diluted = []\n",
        "biotech_ada_abstract_diluted = []\n",
        "for i in biotech_title_dilution_index:\n",
        "    biotech_ada_title_diluted.append(biotech_ada_title[i])\n",
        "    biotech_ada_abstract_diluted.append(biotech_ada_abstract[i])"
      ],
      "metadata": {
        "id": "mQ1UtBPqm_v3"
      },
      "execution_count": 13,
      "outputs": []
    },
    {
      "cell_type": "code",
      "source": [
        "biotech_ada_title_diluted= np.array(biotech_ada_title_diluted)\n",
        "biotech_ada_abstraction_diluted= np.array(biotech_ada_abstract_diluted)"
      ],
      "metadata": {
        "id": "8j6pG-XIeAgy"
      },
      "execution_count": 14,
      "outputs": []
    },
    {
      "cell_type": "code",
      "source": [],
      "metadata": {
        "id": "4RIfdCxJqQ_3"
      },
      "execution_count": 14,
      "outputs": []
    }
  ]
}