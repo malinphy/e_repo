{
  "nbformat": 4,
  "nbformat_minor": 0,
  "metadata": {
    "colab": {
      "provenance": [],
      "include_colab_link": true
    },
    "kernelspec": {
      "display_name": "Python 3",
      "name": "python3"
    },
    "gpuClass": "standard"
  },
  "cells": [
    {
      "cell_type": "markdown",
      "metadata": {
        "id": "view-in-github",
        "colab_type": "text"
      },
      "source": [
        "<a href=\"https://colab.research.google.com/github/malinphy/q_17/blob/main/patent_data_EDA.ipynb\" target=\"_parent\"><img src=\"https://colab.research.google.com/assets/colab-badge.svg\" alt=\"Open In Colab\"/></a>"
      ]
    },
    {
      "cell_type": "code",
      "source": [
        "from google.colab import drive\n",
        "drive.mount('/content/drive')"
      ],
      "metadata": {
        "id": "rvtMApyAbmO9",
        "outputId": "78fcf722-371f-4e80-a1bb-d6bae957d368",
        "colab": {
          "base_uri": "https://localhost:8080/"
        }
      },
      "execution_count": 1,
      "outputs": [
        {
          "output_type": "stream",
          "name": "stdout",
          "text": [
            "Drive already mounted at /content/drive; to attempt to forcibly remount, call drive.mount(\"/content/drive\", force_remount=True).\n"
          ]
        }
      ]
    },
    {
      "cell_type": "code",
      "source": [
        "!pip install scann -q"
      ],
      "metadata": {
        "id": "8bqa5LXAxDJ4"
      },
      "execution_count": 2,
      "outputs": []
    },
    {
      "cell_type": "code",
      "metadata": {
        "id": "Lj6cbR0JBTCP"
      },
      "source": [
        "import os \n",
        "import json\n",
        "from typing import List\n",
        "import collections\n",
        "import numpy as np\n",
        "import pandas as pd\n",
        "import scann\n",
        "import joblib\n",
        "from sklearn.decomposition import TruncatedSVD, PCA\n",
        "import matplotlib.pyplot as plt\n",
        "plt.style.use('ggplot')"
      ],
      "execution_count": 3,
      "outputs": []
    },
    {
      "cell_type": "code",
      "source": [
        "biotech_patents_dir = 'drive/MyDrive/transfer/patent/vec_vectorized_biotech_patents_transformed_ols.json'\n",
        "uspto_patents_dir = 'drive/MyDrive/transfer/patent/vec_vectorized_uspto_patents_transformed_ols.json'\n",
        "nih_patents_dir = 'drive/MyDrive/transfer/patent/patent_raw/nih/nih_patents_ada_embeddings.json'"
      ],
      "metadata": {
        "id": "TBGnzcgdbm57"
      },
      "execution_count": 4,
      "outputs": []
    },
    {
      "cell_type": "code",
      "source": [
        "# with open(nih_patents_dir, 'r') as f:\n",
        "#     data = json.load(f)"
      ],
      "metadata": {
        "id": "KWwMiV3RcDMT"
      },
      "execution_count": 5,
      "outputs": []
    },
    {
      "cell_type": "code",
      "source": [
        "class patent_data:\n",
        "    def __init__(self, dir:str):\n",
        "        self.dir = dir\n",
        "\n",
        "    def ab_title_bringer(self):\n",
        "        with open (self.dir, 'r') as f:\n",
        "            data = json.load(f)\n",
        "\n",
        "        title = [data[i]['title'] for i in range(len(data))]\n",
        "        abstract = [data[i]['abstract'] for i in range(len(data))]\n",
        "        urls = [data[i]['url'] for i in range(len(data))]\n",
        "\n",
        "        return title, abstract, urls\n",
        "\n",
        "def unique_values(x: List[str]) -> List[int] :\n",
        "    dup = [item for item, count in collections.Counter(x).items() if count > 1]\n",
        "    unique_pos = []\n",
        "    for i in dup:\n",
        "        unique_pos.append(x.index(i))\n",
        "    \n",
        "    return(unique_pos)\n",
        "    \n",
        "def normalizer(str_data:str) -> str:\n",
        "    return str_data.lower().rstrip().lstrip()"
      ],
      "metadata": {
        "id": "L_wmNAsocsKr"
      },
      "execution_count": 6,
      "outputs": []
    },
    {
      "cell_type": "code",
      "source": [
        "def vector_normalizer(x):     \n",
        "    normalized_vector = x / np.linalg.norm(x)\n",
        "    return normalized_vector\n",
        "\n",
        "def apk(actual, predicted, k=10):\n",
        "    if len(predicted)>k:\n",
        "        predicted = predicted[:k]\n",
        "\n",
        "    score = 0.0\n",
        "    num_hits = 0.0\n",
        "    hits = []\n",
        "    for i,p in enumerate(predicted):\n",
        "        if p in actual and p not in predicted[:i]:\n",
        "            num_hits += 1.0\n",
        "            score += num_hits / (i+1.0)\n",
        "        hits.append(num_hits)\n",
        "    # if not actual:\n",
        "    #     return 0.0\n",
        "    # print(((hits)))\n",
        "    return score / min(len(actual), k)\n",
        "\n",
        "def mapk(actual, predicted, k=10):\n",
        "    return np.mean([apk(a,p,k) for a,p in zip(actual, predicted)])\n",
        "\n",
        "def intersect(actual, predicted,k):\n",
        "    return np.intersect1d(actual[:k], predicted[:k])\n",
        "\n",
        "def hit_rate(actual, predicted,k):\n",
        "    total = 0\n",
        "    for i in range(len(actual)):\n",
        "        intersection = intersect(actual[i], predicted[i],k)\n",
        "        total = total + len(intersection)\n",
        "\n",
        "    return total\n",
        "\n",
        "\n",
        "def mean_reciprocal_rank(idx, k):\n",
        "    rank = []\n",
        "    for i in range(len(idx)):\n",
        "        rank.append(np.where(idx[i][:k] == i)[0])\n",
        "\n",
        "    elevated_rank = np.add(rank,1)\n",
        "    elevated_rank = np.concatenate(elevated_rank)\n",
        "    elevated_rank_len = len(elevated_rank)\n",
        "    reciprocal_rank = np.divide(1,elevated_rank)\n",
        "    reciprocal_rank_sum = np.sum(reciprocal_rank)\n",
        "    # print('asfasfasfas',len(idx))\n",
        "    # return reciprocal_rank_sum/elevated_rank_len\n",
        "    return reciprocal_rank_sum/len(idx)    \n",
        "\n",
        "def dcg_calc(similarity_scores, K):\n",
        "    similarity_len = len(similarity_scores)\n",
        "    total_dcg = []\n",
        "    for similarities in similarity_scores:\n",
        "        dcg = 0\n",
        "        for k in range(1,K):\n",
        "            rel_k = similarities[k-1]\n",
        "            dcg += rel_k / log2(1 + k)\n",
        "        total_dcg.append(dcg)\n",
        "    return np.sum(total_dcg)/similarity_len    \n",
        "\n",
        "def metrics_calculator(raw_idx, reduced_idx, k_values):\n",
        "    k = k_values\n",
        "    ap = []\n",
        "    hit = []\n",
        "    mrr = []\n",
        "    for i in k:\n",
        "        ap.append( mapk(raw_idx, reduced_idx,i))\n",
        "        hit.append( hit_rate(raw_idx, reduced_idx,i))\n",
        "        mrr.append(mean_reciprocal_rank(reduced_idx, i))\n",
        "    return ap, hit , mrr  "
      ],
      "metadata": {
        "id": "oce2YZCuysb_"
      },
      "execution_count": 7,
      "outputs": []
    },
    {
      "cell_type": "code",
      "source": [
        "def pca_reducer(target_dimension, content, title):\n",
        "    pca_name = '_pca_'+str(target_dimension)\n",
        "    pca_ = PCA(n_components=target_dimension, random_state = 42, svd_solver = 'arpack')\n",
        "    pca_.fit(content)\n",
        "    content_vectors_pca = np.apply_along_axis(vector_normalizer,1,pca_.transform(content))\n",
        "    title_vectors_pca = np.apply_along_axis(vector_normalizer,1,pca_.transform(title))\n",
        "\n",
        "    inverse_content = pca_.inverse_transform(content_vectors_pca)\n",
        "    inverse_title = pca_.inverse_transform(title_vectors_pca)\n",
        "\n",
        "    np.save('./patent_abst_vectors_norm'+pca_name,content_vectors_pca)\n",
        "    np.save('./patent_title_vectors_norm'+pca_name,title_vectors_pca)\n",
        "#     np.save('drive/MyDrive/transfer/reduced_dim/inverse_content_vectors_norm'+pca_name, inverse_content)\n",
        "#     np.save('drive/MyDrive/transfer/reduced_dim/inverse_title_vectors_norm'+pca_name, inverse_title)\n",
        "    joblib.dump(pca_, pca_name)\n",
        "\n",
        "def svd_reducer(target_dimension, content, title):\n",
        "    svd_name = '_svd_'+str(target_dimension)\n",
        "    svd_ = TruncatedSVD(n_iter= 25, n_components = target_dimension, random_state = 42 )\n",
        "    svd_.fit(content)\n",
        "    content_vectors_svd = np.apply_along_axis(vector_normalizer,1,svd_.transform(content))\n",
        "    title_vectors_svd = np.apply_along_axis(vector_normalizer,1,svd_.transform(title))\n",
        "\n",
        "    inverse_content = svd_.inverse_transform(content_vectors_svd)\n",
        "    inverse_title = svd_.inverse_transform(title_vectors_svd)\n",
        "\n",
        "    np.save('./patent_abst_vectors_norm'+svd_name,content_vectors_svd)\n",
        "    np.save('./patent_title_vectors_norm'+svd_name,title_vectors_svd)\n",
        "#     np.save('drive/MyDrive/transfer/reduced_dim/inverse_content_vectors_norm'+svd_name, inverse_content)\n",
        "#     np.save('drive/MyDrive/transfer/reduced_dim/inverse_title_vectors_norm'+svd_name, inverse_title)\n",
        "    joblib.dump(svd_, svd_name)\n",
        "     \n"
      ],
      "metadata": {
        "id": "lszz8o4M1US1"
      },
      "execution_count": 8,
      "outputs": []
    },
    {
      "cell_type": "code",
      "source": [
        "biotech_data = patent_data(biotech_patents_dir)\n",
        "biotech_title, biotech_abstract,biotech_urls = biotech_data.ab_title_bringer()\n",
        "\n",
        "uspto_data = patent_data(uspto_patents_dir)\n",
        "uspto_title, uspto_abstract, biotech_urls = uspto_data.ab_title_bringer()\n",
        "\n",
        "nih_data = patent_data(nih_patents_dir)\n",
        "nih_title, nih_abstract, biotech_urls = nih_data.ab_title_bringer()"
      ],
      "metadata": {
        "id": "MaljtUhScf68"
      },
      "execution_count": 9,
      "outputs": []
    },
    {
      "cell_type": "code",
      "source": [
        "# biotech_title"
      ],
      "metadata": {
        "id": "dLNPWEHz4y6z"
      },
      "execution_count": 10,
      "outputs": []
    },
    {
      "cell_type": "code",
      "source": [
        "normalized_title_biotech = [normalizer(i) for i in biotech_title]\n",
        "normalized_abstract_biotech = [normalizer(i) for i in biotech_abstract]\n",
        "\n",
        "normalized_title_uspto = [normalizer(i) for i in uspto_title]\n",
        "normalized_abstract_uspto = [normalizer(i) for i in uspto_abstract]\n",
        "\n",
        "normalized_title_nih = [normalizer(i) for i in nih_title]\n",
        "normalized_abstract_nih = [normalizer(i) for i in nih_abstract]"
      ],
      "metadata": {
        "id": "ZjZbOKd3fSiH"
      },
      "execution_count": 11,
      "outputs": []
    },
    {
      "cell_type": "code",
      "source": [
        "print('Title BIOTECH PATENTS :',len(normalized_title_biotech))\n",
        "print('Unique titles BIOTECH PATENTS :',len(set(normalized_title_biotech)))\n",
        "print('Title USPTO patents :',len(normalized_title_uspto))\n",
        "print('Unique titles USPTO patents :',len(set(normalized_title_uspto)))\n",
        "print('Title NIH PATENTS :',len(normalized_title_nih))\n",
        "print('Unique titles NIH PATENTS :',len(set(normalized_title_nih)))"
      ],
      "metadata": {
        "id": "wTy73AZwgKYh",
        "outputId": "b62ef894-58ce-49bf-ba9f-fbeb72d4ad92",
        "colab": {
          "base_uri": "https://localhost:8080/"
        }
      },
      "execution_count": 12,
      "outputs": [
        {
          "output_type": "stream",
          "name": "stdout",
          "text": [
            "Title BIOTECH PATENTS : 484\n",
            "Unique titles BIOTECH PATENTS : 228\n",
            "Title USPTO patents : 4\n",
            "Unique titles USPTO patents : 4\n",
            "Title NIH PATENTS : 3243\n",
            "Unique titles NIH PATENTS : 2842\n"
          ]
        }
      ]
    },
    {
      "cell_type": "code",
      "source": [
        "print('Title BIOTECH PATENTS :',len(normalized_abstract_biotech))\n",
        "print('Unique titles BIOTECH PATENTS :',len(set(normalized_abstract_biotech)))\n",
        "print('Title USPTO patents :',len(normalized_abstract_uspto))\n",
        "print('Unique titles USPTO patents :',len(set(normalized_abstract_uspto)))\n",
        "print('Title NIH PATENTS :',len(normalized_abstract_nih))\n",
        "print('Unique titles NIH PATENTS :',len(set(normalized_abstract_nih)))"
      ],
      "metadata": {
        "id": "b9lAHSZh1dvu",
        "outputId": "eee5b554-7899-4e5d-a9a5-c1ca79248844",
        "colab": {
          "base_uri": "https://localhost:8080/"
        }
      },
      "execution_count": 13,
      "outputs": [
        {
          "output_type": "stream",
          "name": "stdout",
          "text": [
            "Title BIOTECH PATENTS : 484\n",
            "Unique titles BIOTECH PATENTS : 231\n",
            "Title USPTO patents : 4\n",
            "Unique titles USPTO patents : 4\n",
            "Title NIH PATENTS : 3243\n",
            "Unique titles NIH PATENTS : 2865\n"
          ]
        }
      ]
    },
    {
      "cell_type": "code",
      "source": [
        "unique_pos_biotech = unique_values(normalized_title_biotech)\n",
        "unique_pos_uspto = unique_values(normalized_title_uspto)\n",
        "unique_pos_nih = unique_values(normalized_title_nih)\n",
        "# np.where( np.array(normalized_title_nih) == 'selective recovery')"
      ],
      "metadata": {
        "id": "Sr5TcsaScMiJ"
      },
      "execution_count": 14,
      "outputs": []
    },
    {
      "cell_type": "code",
      "source": [
        "biotech_ada_title = np.load('drive/MyDrive/transfer/patent/biotech_title_vectors.npy')\n",
        "biotech_ada_abstract = np.load('drive/MyDrive/transfer/patent/biotech_abstract_vectors.npy')\n",
        "print(biotech_ada_title.shape)\n",
        "print(biotech_ada_abstract.shape)\n",
        "\n",
        "uspto_ada_title = np.load('drive/MyDrive/transfer/patent/uspto_title_vectors.npy')\n",
        "uspto_ada_abstract = np.load('drive/MyDrive/transfer/patent/uspto_abstract_vectors.npy')\n",
        "print(uspto_ada_title.shape)\n",
        "print(uspto_ada_abstract.shape)"
      ],
      "metadata": {
        "colab": {
          "base_uri": "https://localhost:8080/"
        },
        "id": "OTf9_STnjUcp",
        "outputId": "73452a3d-f9e1-44c6-b6aa-7e0b791b57ad"
      },
      "execution_count": 15,
      "outputs": [
        {
          "output_type": "stream",
          "name": "stdout",
          "text": [
            "(484, 1536)\n",
            "(484, 1536)\n",
            "(4, 1536)\n",
            "(4, 1536)\n"
          ]
        }
      ]
    },
    {
      "cell_type": "code",
      "source": [
        "def index_diluter(normalized_title_data):   \n",
        "    \n",
        "    df = pd.DataFrame({'normalized_title_data':normalized_title_data})\n",
        "    diluted_indices = list(df.drop_duplicates(subset='normalized_title_data', keep='first', inplace=False, ignore_index=False).index)\n",
        "    return diluted_indices"
      ],
      "metadata": {
        "id": "qX1a_1HWkers"
      },
      "execution_count": 16,
      "outputs": []
    },
    {
      "cell_type": "code",
      "source": [
        "def vector_diluter(title_vectors:List[float], abstract_vectors:List[float], diluted_index:List[int]) -> (List[float],List[float]) :\n",
        "\n",
        "    title_diluted = []\n",
        "    abstract_diluted = []\n",
        "    for i in diluted_index:\n",
        "        title_diluted.append(title_vectors[i])\n",
        "        abstract_diluted.append(abstract_vectors[i])\n",
        "\n",
        "    return title_diluted, abstract_diluted\n"
      ],
      "metadata": {
        "id": "cQ25dYKOv9Aa"
      },
      "execution_count": 17,
      "outputs": []
    },
    {
      "cell_type": "code",
      "source": [
        "biotech_title_dilution_index = index_diluter(normalized_title_biotech)\n",
        "uspto_title_dilution_index = index_diluter(normalized_title_uspto)\n",
        "\n",
        "biotech_ada_title_diluted,biotech_ada_abstract_diluted = vector_diluter(biotech_ada_title, biotech_ada_abstract, biotech_title_dilution_index)\n",
        "uspto_ada_title_diluted,uspto_ada_abstract_diluted = vector_diluter(uspto_ada_title, uspto_ada_abstract, uspto_title_dilution_index)"
      ],
      "metadata": {
        "id": "qmcJckcTxJv9"
      },
      "execution_count": 18,
      "outputs": []
    },
    {
      "cell_type": "code",
      "source": [
        "biotech_ada_title_diluted= np.array(biotech_ada_title_diluted)\n",
        "biotech_ada_abstract_diluted= np.array(biotech_ada_abstract_diluted)\n",
        "\n",
        "uspto_ada_title_diluted= np.array(uspto_ada_title_diluted)\n",
        "uspto_ada_abstract_diluted= np.array(uspto_ada_abstract_diluted)\n",
        "\n",
        "total_ada_title_diluted = np.concatenate((biotech_ada_title_diluted,uspto_ada_title_diluted))\n",
        "total_ada_abstract_diluted = np.concatenate((biotech_ada_abstract_diluted,uspto_ada_abstract_diluted))"
      ],
      "metadata": {
        "id": "8j6pG-XIeAgy"
      },
      "execution_count": 19,
      "outputs": []
    },
    {
      "cell_type": "code",
      "source": [
        "print(biotech_ada_title_diluted.shape)\n",
        "print(biotech_ada_abstract_diluted.shape)\n",
        "\n",
        "print(uspto_ada_title_diluted.shape)\n",
        "print(uspto_ada_abstract_diluted.shape)\n",
        "\n",
        "print(total_ada_title_diluted.shape)\n",
        "print(total_ada_abstract_diluted.shape)"
      ],
      "metadata": {
        "id": "4RIfdCxJqQ_3",
        "colab": {
          "base_uri": "https://localhost:8080/"
        },
        "outputId": "f35e1558-01af-42b8-be3c-52d05c0526e8"
      },
      "execution_count": 20,
      "outputs": [
        {
          "output_type": "stream",
          "name": "stdout",
          "text": [
            "(228, 1536)\n",
            "(228, 1536)\n",
            "(4, 1536)\n",
            "(4, 1536)\n",
            "(232, 1536)\n",
            "(232, 1536)\n"
          ]
        }
      ]
    },
    {
      "cell_type": "code",
      "source": [
        "searcher_raw = scann.scann_ops_pybind.builder(total_ada_abstract_diluted, 50, \"dot_product\").tree(\n",
        "    num_leaves=200, num_leaves_to_search=100, training_sample_size=250000).score_ah(\n",
        "    2, anisotropic_quantization_threshold=0.2).reorder(100).build()"
      ],
      "metadata": {
        "id": "oUU8GPYFxm0z"
      },
      "execution_count": 21,
      "outputs": []
    },
    {
      "cell_type": "code",
      "source": [
        "raw_idx = []\n",
        "for i in range(len(total_ada_abstract_diluted)):\n",
        "    raw_idx.append(searcher_raw.search(total_ada_title_diluted[i])[0])"
      ],
      "metadata": {
        "id": "QYhbkmVuyYWe"
      },
      "execution_count": 22,
      "outputs": []
    },
    {
      "cell_type": "code",
      "source": [
        "pca = PCA().fit(total_ada_abstract_diluted)\n",
        "pca_var = np.cumsum(pca.explained_variance_ratio_)\n",
        "\n",
        "svd_content = TruncatedSVD(n_iter= 25, n_components = 1536 ).fit(total_ada_abstract_diluted)\n",
        "svd_var = np.cumsum(svd_content.explained_variance_ratio_)\n",
        "     \n",
        "plt.figure(figsize = (12.5,4))\n",
        "plt.plot(svd_var, marker = 'o', alpha =0.2)\n",
        "plt.plot(pca_var)\n",
        "plt.xlabel('number of components')\n",
        "plt.ylabel('cumulative explained variance');\n",
        "plt.legend(['SVD','PCA'])"
      ],
      "metadata": {
        "id": "yR7uz2rRyxw3",
        "outputId": "908e96f4-a54e-4e7c-b5fc-77c650efed3f",
        "colab": {
          "base_uri": "https://localhost:8080/",
          "height": 410
        }
      },
      "execution_count": 23,
      "outputs": [
        {
          "output_type": "execute_result",
          "data": {
            "text/plain": [
              "<matplotlib.legend.Legend at 0x7fade4551430>"
            ]
          },
          "metadata": {},
          "execution_count": 23
        },
        {
          "output_type": "display_data",
          "data": {
            "text/plain": [
              "<Figure size 1250x400 with 1 Axes>"
            ],
            "image/png": "[encoded data removed]"
          },
          "metadata": {}
        }
      ]
    },
    {
      "cell_type": "code",
      "source": [
        "print('PCA 100% :',np.where(np.array(pca_var) >= 0.99)[0][0])\n",
        "print('SVD 100% :',np.where(np.array(svd_var) >= 0.99)[0][0])\n",
        "print('PCA 95% :',np.where(np.array(pca_var) >= 0.95)[0][0])\n",
        "print('SVD 95% :',np.where(np.array(svd_var) >= 0.95)[0][0])\n",
        "print('PCA 90% :',np.where(np.array(pca_var) >= 0.90)[0][0])\n",
        "print('SVD 90% :',np.where(np.array(svd_var) >= 0.90)[0][0])\n",
        "print('SVD 82% :',np.where(np.array(svd_var) >= 0.82)[0][0])\n",
        "print('SVD 82% :',np.where(np.array(svd_var) >= 0.82)[0][0])"
      ],
      "metadata": {
        "id": "rhS7TIr_y7C5",
        "outputId": "04a1f84e-0e35-44f8-ac71-c60c73361440",
        "colab": {
          "base_uri": "https://localhost:8080/"
        }
      },
      "execution_count": 24,
      "outputs": [
        {
          "output_type": "stream",
          "name": "stdout",
          "text": [
            "PCA 100% : 165\n",
            "SVD 100% : 166\n",
            "PCA 95% : 118\n",
            "SVD 95% : 119\n",
            "PCA 90% : 87\n",
            "SVD 90% : 88\n",
            "SVD 82% : 59\n",
            "SVD 82% : 59\n"
          ]
        }
      ]
    },
    {
      "cell_type": "code",
      "source": [
        "pca_reducer(59, total_ada_abstract_diluted, total_ada_title_diluted)\n",
        "svd_reducer(59, total_ada_abstract_diluted, total_ada_title_diluted)\n",
        "\n",
        "pca_reducer(87, total_ada_abstract_diluted, total_ada_title_diluted)\n",
        "svd_reducer(87, total_ada_abstract_diluted, total_ada_title_diluted)\n",
        "\n",
        "pca_reducer(118, total_ada_abstract_diluted, total_ada_title_diluted)\n",
        "svd_reducer(118, total_ada_abstract_diluted, total_ada_title_diluted)\n",
        "\n",
        "pca_reducer(165, total_ada_abstract_diluted, total_ada_title_diluted)\n",
        "svd_reducer(165, total_ada_abstract_diluted, total_ada_title_diluted)"
      ],
      "metadata": {
        "id": "xxJLWM0c2jtG"
      },
      "execution_count": 25,
      "outputs": []
    },
    {
      "cell_type": "code",
      "source": [
        "abstract_pca_59 = np.load('./patent_abst_vectors_norm_pca_59.npy')\n",
        "abstract_pca_87 = np.load('./patent_abst_vectors_norm_pca_87.npy')\n",
        "abstract_pca_118 = np.load('./patent_abst_vectors_norm_pca_118.npy')\n",
        "abstract_pca_165 = np.load('./patent_abst_vectors_norm_pca_165.npy')\n",
        "\n",
        "abstract_svd_59 = np.load('./patent_abst_vectors_norm_svd_59.npy')\n",
        "abstract_svd_87 = np.load('./patent_abst_vectors_norm_svd_87.npy')\n",
        "abstract_svd_118 = np.load('./patent_abst_vectors_norm_svd_118.npy')\n",
        "abstract_svd_165 = np.load('./patent_abst_vectors_norm_svd_165.npy')\n",
        "\n",
        "title_pca_59 = np.load('./patent_title_vectors_norm_pca_59.npy')\n",
        "title_pca_87 = np.load('./patent_title_vectors_norm_pca_87.npy')\n",
        "title_pca_118 = np.load('./patent_title_vectors_norm_pca_118.npy')\n",
        "title_pca_165 = np.load('./patent_title_vectors_norm_pca_165.npy')\n",
        "\n",
        "title_svd_59 = np.load('./patent_title_vectors_norm_svd_59.npy')\n",
        "title_svd_87 = np.load('./patent_title_vectors_norm_svd_87.npy')\n",
        "title_svd_118 = np.load('./patent_title_vectors_norm_svd_118.npy')\n",
        "title_svd_165 = np.load('./patent_title_vectors_norm_svd_165.npy')"
      ],
      "metadata": {
        "id": "yrGXPsJ_3dZJ"
      },
      "execution_count": 26,
      "outputs": []
    }
  ]
}