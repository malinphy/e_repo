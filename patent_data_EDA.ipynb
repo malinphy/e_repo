{
  "nbformat": 4,
  "nbformat_minor": 0,
  "metadata": {
    "colab": {
      "provenance": [],
      "include_colab_link": true
    },
    "kernelspec": {
      "display_name": "Python 3",
      "name": "python3"
    },
    "gpuClass": "standard"
  },
  "cells": [
    {
      "cell_type": "markdown",
      "metadata": {
        "id": "view-in-github",
        "colab_type": "text"
      },
      "source": [
        "<a href=\"https://colab.research.google.com/github/malinphy/q_17/blob/main/patent_data_EDA.ipynb\" target=\"_parent\"><img src=\"https://colab.research.google.com/assets/colab-badge.svg\" alt=\"Open In Colab\"/></a>"
      ]
    },
    {
      "cell_type": "code",
      "source": [
        "from google.colab import drive\n",
        "drive.mount('/content/drive')"
      ],
      "metadata": {
        "id": "rvtMApyAbmO9",
        "outputId": "3bef200a-9b37-4e79-c524-4df6c259f62a",
        "colab": {
          "base_uri": "https://localhost:8080/"
        }
      },
      "execution_count": 1,
      "outputs": [
        {
          "output_type": "stream",
          "name": "stdout",
          "text": [
            "Drive already mounted at /content/drive; to attempt to forcibly remount, call drive.mount(\"/content/drive\", force_remount=True).\n"
          ]
        }
      ]
    },
    {
      "cell_type": "code",
      "metadata": {
        "id": "Lj6cbR0JBTCP"
      },
      "source": [
        "import os \n",
        "import json\n",
        "from typing import List\n",
        "import collections\n",
        "import numpy as np\n",
        "import pandas as pd"
      ],
      "execution_count": 2,
      "outputs": []
    },
    {
      "cell_type": "code",
      "source": [
        "biotech_patents_dir = 'drive/MyDrive/transfer/patent/vec_vectorized_biotech_patents_transformed_ols.json'\n",
        "uspto_patents_dir = 'drive/MyDrive/transfer/patent/vec_vectorized_uspto_patents_transformed_ols.json'\n",
        "nih_patents_dir = 'drive/MyDrive/transfer/patent/patent_raw/nih/nih_patents_ada_embeddings.json'"
      ],
      "metadata": {
        "id": "TBGnzcgdbm57"
      },
      "execution_count": 3,
      "outputs": []
    },
    {
      "cell_type": "code",
      "source": [
        "# with open(nih_patents_dir, 'r') as f:\n",
        "#     data = json.load(f)"
      ],
      "metadata": {
        "id": "KWwMiV3RcDMT"
      },
      "execution_count": 4,
      "outputs": []
    },
    {
      "cell_type": "code",
      "source": [
        "class patent_data:\n",
        "    def __init__(self, dir:str):\n",
        "        self.dir = dir\n",
        "\n",
        "    def ab_title_bringer(self):\n",
        "        with open (self.dir, 'r') as f:\n",
        "            data = json.load(f)\n",
        "\n",
        "        title = [data[i]['title'] for i in range(len(data))]\n",
        "        abstract = [data[i]['abstract'] for i in range(len(data))]\n",
        "        urls = [data[i]['url'] for i in range(len(data))]\n",
        "\n",
        "        return title, abstract, urls\n",
        "\n",
        "def unique_values(x: List[str]) -> List[int] :\n",
        "    dup = [item for item, count in collections.Counter(x).items() if count > 1]\n",
        "    unique_pos = []\n",
        "    for i in dup:\n",
        "        unique_pos.append(x.index(i))\n",
        "    \n",
        "    return(unique_pos)\n",
        "    \n",
        "def normalizer(str_data:str) -> str:\n",
        "    return str_data.lower().rstrip().lstrip()"
      ],
      "metadata": {
        "id": "L_wmNAsocsKr"
      },
      "execution_count": 5,
      "outputs": []
    },
    {
      "cell_type": "code",
      "source": [
        "biotech_data = patent_data(biotech_patents_dir)\n",
        "biotech_title, biotech_abstract,biotech_urls = biotech_data.ab_title_bringer()\n",
        "\n",
        "uspto_data = patent_data(uspto_patents_dir)\n",
        "uspto_title, uspto_abstract, biotech_urls = uspto_data.ab_title_bringer()\n",
        "\n",
        "nih_data = patent_data(nih_patents_dir)\n",
        "nih_title, nih_abstract, biotech_urls = nih_data.ab_title_bringer()"
      ],
      "metadata": {
        "id": "MaljtUhScf68"
      },
      "execution_count": 6,
      "outputs": []
    },
    {
      "cell_type": "code",
      "source": [
        "normalized_title_biotech = [normalizer(i) for i in biotech_title]\n",
        "normalized_abstract_biotech = [normalizer(i) for i in biotech_abstract]\n",
        "\n",
        "normalized_title_uspto = [normalizer(i) for i in uspto_title]\n",
        "normalized_abstract_uspto = [normalizer(i) for i in uspto_abstract]\n",
        "\n",
        "normalized_title_nih = [normalizer(i) for i in nih_title]\n",
        "normalized_abstract_nih = [normalizer(i) for i in nih_abstract]"
      ],
      "metadata": {
        "id": "ZjZbOKd3fSiH"
      },
      "execution_count": 7,
      "outputs": []
    },
    {
      "cell_type": "code",
      "source": [
        "print('Title BIOTECH PATENTS :',len(normalized_title_biotech))\n",
        "print('Unique titles BIOTECH PATENTS :',len(set(normalized_title_biotech)))\n",
        "print('Title USPTO patents :',len(normalized_title_uspto))\n",
        "print('Unique titles USPTO patents :',len(set(normalized_title_uspto)))\n",
        "print('Title NIH PATENTS :',len(normalized_title_nih))\n",
        "print('Unique titles NIH PATENTS :',len(set(normalized_title_nih)))"
      ],
      "metadata": {
        "id": "wTy73AZwgKYh",
        "outputId": "8d121ac4-b796-4d1d-d8e8-ab1121fce1a7",
        "colab": {
          "base_uri": "https://localhost:8080/"
        }
      },
      "execution_count": 8,
      "outputs": [
        {
          "output_type": "stream",
          "name": "stdout",
          "text": [
            "Title BIOTECH PATENTS : 484\n",
            "Unique titles BIOTECH PATENTS : 228\n",
            "Title USPTO patents : 4\n",
            "Unique titles USPTO patents : 4\n",
            "Title NIH PATENTS : 3243\n",
            "Unique titles NIH PATENTS : 2842\n"
          ]
        }
      ]
    },
    {
      "cell_type": "code",
      "source": [
        "print('Title BIOTECH PATENTS :',len(normalized_abstract_biotech))\n",
        "print('Unique titles BIOTECH PATENTS :',len(set(normalized_abstract_biotech)))\n",
        "print('Title USPTO patents :',len(normalized_abstract_uspto))\n",
        "print('Unique titles USPTO patents :',len(set(normalized_abstract_uspto)))\n",
        "print('Title NIH PATENTS :',len(normalized_abstract_nih))\n",
        "print('Unique titles NIH PATENTS :',len(set(normalized_abstract_nih)))"
      ],
      "metadata": {
        "id": "b9lAHSZh1dvu",
        "outputId": "88688801-9110-41f6-a352-b534223c18bf",
        "colab": {
          "base_uri": "https://localhost:8080/"
        }
      },
      "execution_count": 9,
      "outputs": [
        {
          "output_type": "stream",
          "name": "stdout",
          "text": [
            "Title BIOTECH PATENTS : 484\n",
            "Unique titles BIOTECH PATENTS : 231\n",
            "Title USPTO patents : 4\n",
            "Unique titles USPTO patents : 4\n",
            "Title NIH PATENTS : 3243\n",
            "Unique titles NIH PATENTS : 2865\n"
          ]
        }
      ]
    },
    {
      "cell_type": "code",
      "source": [
        "unique_pos_biotech = unique_values(normalized_title_biotech)\n",
        "unique_pos_uspto = unique_values(normalized_title_uspto)\n",
        "unique_pos_nih = unique_values(normalized_title_nih)\n",
        "# np.where( np.array(normalized_title_nih) == 'selective recovery')"
      ],
      "metadata": {
        "id": "Sr5TcsaScMiJ"
      },
      "execution_count": 10,
      "outputs": []
    },
    {
      "cell_type": "code",
      "source": [
        "biotech_ada_title = np.load('drive/MyDrive/transfer/patent/biotech_title_vectors.npy')\n",
        "biotech_ada_abstract = np.load('drive/MyDrive/transfer/patent/biotech_abstract_vectors.npy')\n",
        "print(biotech_ada_title.shape)\n",
        "print(biotech_ada_abstract.shape)\n",
        "\n",
        "uspto_ada_title = np.load('drive/MyDrive/transfer/patent/uspto_title_vectors.npy')\n",
        "uspto_ada_abstract = np.load('drive/MyDrive/transfer/patent/uspto_abstract_vectors.npy')\n",
        "print(uspto_ada_title.shape)\n",
        "print(uspto_ada_abstract.shape)"
      ],
      "metadata": {
        "colab": {
          "base_uri": "https://localhost:8080/"
        },
        "id": "OTf9_STnjUcp",
        "outputId": "ff9f6ecc-a0dc-4e02-b5f4-afaa0362c459"
      },
      "execution_count": 11,
      "outputs": [
        {
          "output_type": "stream",
          "name": "stdout",
          "text": [
            "(484, 1536)\n",
            "(484, 1536)\n",
            "(4, 1536)\n",
            "(4, 1536)\n"
          ]
        }
      ]
    },
    {
      "cell_type": "code",
      "source": [
        "def index_diluter(normalized_title_data):   \n",
        "    \n",
        "    df = pd.DataFrame({'normalized_title_data':normalized_title_data})\n",
        "    diluted_indices = list(df.drop_duplicates(subset='normalized_title_data', keep='first', inplace=False, ignore_index=False).index)\n",
        "    return diluted_indices"
      ],
      "metadata": {
        "id": "qX1a_1HWkers"
      },
      "execution_count": 12,
      "outputs": []
    },
    {
      "cell_type": "code",
      "source": [
        "def vector_diluter(title_vectors:List[float], abstract_vectors:List[float], diluted_index:List[int]) -> (List[float],List[float]) :\n",
        "\n",
        "    title_diluted = []\n",
        "    abstract_diluted = []\n",
        "    for i in diluted_index:\n",
        "        title_diluted.append(title_vectors[i])\n",
        "        abstract_diluted.append(abstract_vectors[i])\n",
        "\n",
        "    return title_diluted, abstract_diluted\n"
      ],
      "metadata": {
        "id": "cQ25dYKOv9Aa"
      },
      "execution_count": 13,
      "outputs": []
    },
    {
      "cell_type": "code",
      "source": [
        "biotech_title_dilution_index = index_diluter(normalized_title_biotech)\n",
        "uspto_title_dilution_index = index_diluter(normalized_title_uspto)\n",
        "\n",
        "biotech_ada_title_diluted,biotech_ada_abstract_diluted = vector_diluter(biotech_ada_title, biotech_ada_abstract, biotech_title_dilution_index)\n",
        "uspto_ada_title_diluted,uspto_ada_abstract_diluted = vector_diluter(uspto_ada_title, uspto_ada_abstract, uspto_title_dilution_index)"
      ],
      "metadata": {
        "id": "qmcJckcTxJv9"
      },
      "execution_count": 14,
      "outputs": []
    },
    {
      "cell_type": "code",
      "source": [
        "biotech_ada_title_diluted= np.array(biotech_ada_title_diluted)\n",
        "biotech_ada_abstract_diluted= np.array(biotech_ada_abstract_diluted)\n",
        "\n",
        "uspto_ada_title_diluted= np.array(uspto_ada_title_diluted)\n",
        "uspto_ada_abstract_diluted= np.array(uspto_ada_abstract_diluted)"
      ],
      "metadata": {
        "id": "8j6pG-XIeAgy"
      },
      "execution_count": 18,
      "outputs": []
    },
    {
      "cell_type": "code",
      "source": [
        "print(biotech_ada_title_diluted.shape)\n",
        "print(biotech_ada_abstract_diluted.shape)\n",
        "\n",
        "print(uspto_ada_title_diluted.shape)\n",
        "print(uspto_ada_abstract_diluted.shape)"
      ],
      "metadata": {
        "id": "4RIfdCxJqQ_3",
        "colab": {
          "base_uri": "https://localhost:8080/"
        },
        "outputId": "811239f2-79e2-4667-997e-48d36d811b8d"
      },
      "execution_count": 19,
      "outputs": [
        {
          "output_type": "stream",
          "name": "stdout",
          "text": [
            "(228, 1536)\n",
            "(228, 1536)\n",
            "(4, 1536)\n",
            "(4, 1536)\n"
          ]
        }
      ]
    },
    {
      "cell_type": "code",
      "source": [],
      "metadata": {
        "id": "oUU8GPYFxm0z"
      },
      "execution_count": 16,
      "outputs": []
    }
  ]
}