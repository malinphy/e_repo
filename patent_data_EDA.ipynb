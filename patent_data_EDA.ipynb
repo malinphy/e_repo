{
  "nbformat": 4,
  "nbformat_minor": 0,
  "metadata": {
    "colab": {
      "provenance": [],
      "include_colab_link": true
    },
    "kernelspec": {
      "display_name": "Python 3",
      "name": "python3"
    },
    "gpuClass": "standard"
  },
  "cells": [
    {
      "cell_type": "markdown",
      "metadata": {
        "id": "view-in-github",
        "colab_type": "text"
      },
      "source": [
        "<a href=\"https://colab.research.google.com/github/malinphy/q_17/blob/main/patent_data_EDA.ipynb\" target=\"_parent\"><img src=\"https://colab.research.google.com/assets/colab-badge.svg\" alt=\"Open In Colab\"/></a>"
      ]
    },
    {
      "cell_type": "code",
      "source": [
        "from google.colab import drive\n",
        "drive.mount('/content/drive')"
      ],
      "metadata": {
        "id": "rvtMApyAbmO9",
        "outputId": "21a1e061-c11b-4406-8ea4-d3eb1b771e5c",
        "colab": {
          "base_uri": "https://localhost:8080/"
        }
      },
      "execution_count": 1,
      "outputs": [
        {
          "output_type": "stream",
          "name": "stdout",
          "text": [
            "Mounted at /content/drive\n"
          ]
        }
      ]
    },
    {
      "cell_type": "code",
      "metadata": {
        "id": "Lj6cbR0JBTCP"
      },
      "source": [
        "import os \n",
        "import json"
      ],
      "execution_count": 2,
      "outputs": []
    },
    {
      "cell_type": "code",
      "source": [
        "biotech_patents_dir = 'drive/MyDrive/transfer/patent/vec_vectorized_biotech_patents_transformed_ols.json'\n",
        "uspto_patents_dir = 'drive/MyDrive/transfer/patent/vec_vectorized_uspto_patents_transformed_ols.json'\n",
        "nih_patents_dir = 'drive/MyDrive/transfer/patent/patent_raw/nih/nih_patents_ada_embeddings.json'"
      ],
      "metadata": {
        "id": "TBGnzcgdbm57"
      },
      "execution_count": 3,
      "outputs": []
    },
    {
      "cell_type": "code",
      "source": [
        "# with open(nih_patents_dir, 'r') as f:\n",
        "#     data = json.load(f)"
      ],
      "metadata": {
        "id": "KWwMiV3RcDMT"
      },
      "execution_count": 4,
      "outputs": []
    },
    {
      "cell_type": "code",
      "source": [
        "class patent_data:\n",
        "    def __init__(self, dir):\n",
        "        self.dir = dir\n",
        "\n",
        "    def ab_title_bringer(self):\n",
        "        with open (self.dir, 'r') as f:\n",
        "            data = json.load(f)\n",
        "\n",
        "        title = [data[i]['title'] for i in range(len(data))]\n",
        "        abstract = [data[i]['abstract'] for i in range(len(data))]\n",
        "        urls = [data[i]['url'] for i in range(len(data))]\n",
        "\n",
        "        return title, abstract, urls"
      ],
      "metadata": {
        "id": "L_wmNAsocsKr"
      },
      "execution_count": 5,
      "outputs": []
    },
    {
      "cell_type": "code",
      "source": [
        "biotech_data = patent_data(biotech_patents_dir)\n",
        "biotech_title, biotech_abstract,biotech_urls = biotech_data.ab_title_bringer()\n",
        "\n",
        "uspto_data = patent_data(uspto_patents_dir)\n",
        "uspto_title, uspto_abstract, biotech_urls = uspto_data.ab_title_bringer()\n",
        "\n",
        "nih_data = patent_data(nih_patents_dir)\n",
        "nih_title, nih_abstract, biotech_urls = nih_data.ab_title_bringer()"
      ],
      "metadata": {
        "id": "MaljtUhScf68"
      },
      "execution_count": 6,
      "outputs": []
    },
    {
      "cell_type": "code",
      "source": [
        "def normalizer(string):\n",
        "    return string.lower().rstrip().lstrip()"
      ],
      "metadata": {
        "id": "M0ui0ynacmjE"
      },
      "execution_count": 7,
      "outputs": []
    },
    {
      "cell_type": "code",
      "source": [
        "normalized_title_biotech = [normalizer(i) for i in biotech_title]\n",
        "normalized_abstract_biotech = [normalizer(i) for i in biotech_abstract]\n",
        "\n",
        "normalized_title_uspto = [normalizer(i) for i in uspto_title]\n",
        "normalized_abstract_uspto = [normalizer(i) for i in uspto_abstract]\n",
        "\n",
        "nih_title_biotech = [normalizer(i) for i in nih_title]\n",
        "nih_abstract_biotech = [normalizer(i) for i in nih_abstract]"
      ],
      "metadata": {
        "id": "ZjZbOKd3fSiH"
      },
      "execution_count": 8,
      "outputs": []
    },
    {
      "cell_type": "code",
      "source": [
        "print('Title BIOTECH PATENTS :',len(normalized_title_biotech))\n",
        "print('Unique titles BIOTECH PATENTS :',len(set(normalized_title_biotech)))\n",
        "print('Title USPTO patents :',len(normalized_title_uspto))\n",
        "print('Unique titles USPTO patents :',len(set(normalized_title_uspto)))\n",
        "print('Title NIH PATENTS :',len(nih_title_biotech))\n",
        "print('Unique titles NIH PATENTS :',len(set(nih_title_biotech)))"
      ],
      "metadata": {
        "id": "wTy73AZwgKYh",
        "outputId": "9fc06add-0c02-4182-9956-c0a8a68f4b3f",
        "colab": {
          "base_uri": "https://localhost:8080/"
        }
      },
      "execution_count": 9,
      "outputs": [
        {
          "output_type": "stream",
          "name": "stdout",
          "text": [
            "Title BIOTECH PATENTS : 484\n",
            "Unique titles BIOTECH PATENTS : 228\n",
            "Title USPTO patents : 4\n",
            "Unique titles USPTO patents : 4\n",
            "Title NIH PATENTS : 3243\n",
            "Unique titles NIH PATENTS : 2842\n"
          ]
        }
      ]
    },
    {
      "cell_type": "code",
      "source": [
        "print('Title BIOTECH PATENTS :',len(normalized_abstract_biotech))\n",
        "print('Unique titles BIOTECH PATENTS :',len(set(normalized_abstract_biotech)))\n",
        "print('Title USPTO patents :',len(normalized_abstract_uspto))\n",
        "print('Unique titles USPTO patents :',len(set(normalized_abstract_uspto)))\n",
        "print('Title NIH PATENTS :',len(nih_abstract_biotech))\n",
        "print('Unique titles NIH PATENTS :',len(set(nih_abstract_biotech)))"
      ],
      "metadata": {
        "id": "b9lAHSZh1dvu",
        "outputId": "83687a16-de6c-4129-ee82-d15c0653906d",
        "colab": {
          "base_uri": "https://localhost:8080/"
        }
      },
      "execution_count": 10,
      "outputs": [
        {
          "output_type": "stream",
          "name": "stdout",
          "text": [
            "Title BIOTECH PATENTS : 484\n",
            "Unique titles BIOTECH PATENTS : 231\n",
            "Title USPTO patents : 4\n",
            "Unique titles USPTO patents : 4\n",
            "Title NIH PATENTS : 3243\n",
            "Unique titles NIH PATENTS : 2865\n"
          ]
        }
      ]
    },
    {
      "cell_type": "code",
      "source": [
        "import collections\n",
        "\n",
        "original = ['A', 'B', 'A', 'B', 'C', 'A','C']\n",
        "dup = [item for item, count in collections.Counter(original).items() if count > 1]\n",
        "for i in dup:\n",
        "    print(\"index of\", i, \"=\", original.index(i))"
      ],
      "metadata": {
        "id": "iTtYClUe20cP",
        "outputId": "26095ab1-d70d-4d43-cd30-d9bfe03a454f",
        "colab": {
          "base_uri": "https://localhost:8080/"
        }
      },
      "execution_count": 12,
      "outputs": [
        {
          "output_type": "stream",
          "name": "stdout",
          "text": [
            "index of A = 0\n",
            "index of B = 1\n",
            "index of C = 4\n"
          ]
        }
      ]
    },
    {
      "cell_type": "code",
      "source": [],
      "metadata": {
        "id": "q3lR_Oba_NCk"
      },
      "execution_count": null,
      "outputs": []
    }
  ]
}