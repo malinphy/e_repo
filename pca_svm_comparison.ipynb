{
  "nbformat": 4,
  "nbformat_minor": 0,
  "metadata": {
    "colab": {
      "provenance": [],
      "include_colab_link": true
    },
    "kernelspec": {
      "display_name": "Python 3",
      "name": "python3"
    },
    "gpuClass": "standard"
  },
  "cells": [
    {
      "cell_type": "markdown",
      "metadata": {
        "id": "view-in-github",
        "colab_type": "text"
      },
      "source": [
        "<a href=\"https://colab.research.google.com/github/malinphy/q_17/blob/main/pca_svm_comparison.ipynb\" target=\"_parent\"><img src=\"https://colab.research.google.com/assets/colab-badge.svg\" alt=\"Open In Colab\"/></a>"
      ]
    },
    {
      "cell_type": "code",
      "source": [
        "from google.colab import drive\n",
        "drive.mount('/content/drive')"
      ],
      "metadata": {
        "id": "LPYbT7XFWdwZ",
        "outputId": "3bcebd9b-b39d-4e9e-862e-cf4df744afec",
        "colab": {
          "base_uri": "https://localhost:8080/"
        }
      },
      "execution_count": 1,
      "outputs": [
        {
          "output_type": "stream",
          "name": "stdout",
          "text": [
            "Drive already mounted at /content/drive; to attempt to forcibly remount, call drive.mount(\"/content/drive\", force_remount=True).\n"
          ]
        }
      ]
    },
    {
      "cell_type": "code",
      "source": [
        "!pip install scann -q"
      ],
      "metadata": {
        "id": "VdhRJDieWdtr"
      },
      "execution_count": 2,
      "outputs": []
    },
    {
      "cell_type": "code",
      "source": [
        "import os\n",
        "import numpy as np # linear algebra\n",
        "import pandas as pd # data processing, CSV file I/O (e.g. pd.read_csv)\n",
        "\n",
        "from numpy.random import seed\n",
        "from sklearn.preprocessing import minmax_scale\n",
        "from sklearn.model_selection import train_test_split\n",
        "import matplotlib.pyplot as plt\n",
        "import scann\n",
        "plt.style.use('ggplot')\n",
        "# import openai\n",
        "from sklearn.decomposition import PCA, TruncatedSVD\n",
        "from sklearn.preprocessing import StandardScaler"
      ],
      "metadata": {
        "id": "QbUwlvbjW9mo"
      },
      "execution_count": 3,
      "outputs": []
    },
    {
      "cell_type": "code",
      "source": [
        "def apk(actual, predicted, k=10):\n",
        "    if len(predicted)>k:\n",
        "        predicted = predicted[:k]\n",
        "\n",
        "    score = 0.0\n",
        "    num_hits = 0.0\n",
        "    hits = []\n",
        "    for i,p in enumerate(predicted):\n",
        "        if p in actual and p not in predicted[:i]:\n",
        "            num_hits += 1.0\n",
        "            score += num_hits / (i+1.0)\n",
        "        hits.append(num_hits)\n",
        "    # if not actual:\n",
        "    #     return 0.0\n",
        "    # print(((hits)))\n",
        "    return score / min(len(actual), k)\n",
        "\n",
        "def mapk(actual, predicted, k=10):\n",
        "    return np.mean([apk(a,p,k) for a,p in zip(actual, predicted)])\n",
        "\n",
        "def intersect(actual, predicted,k):\n",
        "    return np.intersect1d(actual[:k], predicted[:k])\n",
        "\n",
        "def hit_rate(actual, predicted,k):\n",
        "    total = 0\n",
        "    for i in range(len(actual)):\n",
        "        intersection = intersect(actual[i], predicted[i],k)\n",
        "        total = total + len(intersection)\n",
        "\n",
        "    return total"
      ],
      "metadata": {
        "id": "mFFmcVD8j5YC"
      },
      "execution_count": 4,
      "outputs": []
    },
    {
      "cell_type": "code",
      "source": [
        "vector_dir = 'drive/MyDrive/BBC_content_vectors.npy'\n",
        "title_dir = 'drive/MyDrive/transfer/title_vectors_gpt.npy'\n",
        "embedding_vectors = np.load(vector_dir)\n",
        "title_gpt_vectors = np.squeeze(np.load(title_dir))\n",
        "print((embedding_vectors).shape)\n",
        "print(title_gpt_vectors.shape)"
      ],
      "metadata": {
        "id": "LjKrwV9miHf2",
        "outputId": "a33a6e3d-6d97-45b4-e3c4-093076cd9bb0",
        "colab": {
          "base_uri": "https://localhost:8080/"
        }
      },
      "execution_count": 5,
      "outputs": [
        {
          "output_type": "stream",
          "name": "stdout",
          "text": [
            "(15468, 1536)\n",
            "(15468, 1536)\n"
          ]
        }
      ]
    },
    {
      "cell_type": "code",
      "source": [
        "pca_ = PCA(n_components=256, random_state = 42, svd_solver = 'arpack')\n",
        "embedding_vectors_pca = pca_.fit_transform(embedding_vectors)\n",
        "title_vectors_pca = pca_.transform(title_gpt_vectors)\n",
        "\n",
        "svd_ = TruncatedSVD(n_iter= 20, n_components = 256 ).fit(embedding_vectors)\n",
        "embedding_vectors_svd = svd_.fit_transform(embedding_vectors)\n",
        "title_vectors_svd = svd_.transform(title_gpt_vectors)"
      ],
      "metadata": {
        "id": "BnN7bxwciJVf"
      },
      "execution_count": 6,
      "outputs": []
    },
    {
      "cell_type": "code",
      "source": [
        "searcher_raw = scann.scann_ops_pybind.builder(embedding_vectors, 50, \"dot_product\").tree(\n",
        "    num_leaves=1500, num_leaves_to_search=100, training_sample_size=250000).score_ah(\n",
        "    2, anisotropic_quantization_threshold=0.2).reorder(100).build()\n",
        "\n",
        "searcher_pca = scann.scann_ops_pybind.builder(embedding_vectors_pca, 50, \"dot_product\").tree(\n",
        "    num_leaves=1500, num_leaves_to_search=100, training_sample_size=250000).score_ah(\n",
        "    2, anisotropic_quantization_threshold=0.2).reorder(100).build()\n",
        "\n",
        "searcher_svd = scann.scann_ops_pybind.builder(embedding_vectors_svd, 50, \"dot_product\").tree(\n",
        "    num_leaves=1500, num_leaves_to_search=100, training_sample_size=250000).score_ah(\n",
        "    2, anisotropic_quantization_threshold=0.2).reorder(100).build()            "
      ],
      "metadata": {
        "id": "Teet7aFqiLQ6"
      },
      "execution_count": 7,
      "outputs": []
    },
    {
      "cell_type": "code",
      "source": [
        "raw_idx = []\n",
        "reduced_idx_pca = []\n",
        "reduced_idx_svd = []\n",
        "for i in range(100):\n",
        "    raw_idx.append(searcher_raw.search(title_gpt_vectors[i])[0])\n",
        "    reduced_idx_pca.append(searcher_pca.search(title_vectors_pca[i])[0])\n",
        "    reduced_idx_svd.append(searcher_svd.search(title_vectors_svd[i])[0])\n",
        "\n",
        "raw_idx = np.array(raw_idx,dtype = 'int32')  \n",
        "raw_idx_pca = np.array(reduced_idx_pca,dtype = 'int32')  "
      ],
      "metadata": {
        "id": "-jwoIZ1ojY1u"
      },
      "execution_count": 8,
      "outputs": []
    },
    {
      "cell_type": "code",
      "source": [
        "k = [1,3,4,10,15,20,30]\n",
        "ap_pca = []\n",
        "for i in k:\n",
        "    ap_pca.append( mapk(raw_idx, reduced_idx_pca,k=i))\n",
        "\n",
        "ap_svd = []\n",
        "for i in k:\n",
        "    ap_svd.append( mapk(raw_idx, reduced_idx_svd,k=i))\n",
        "\n",
        "\n",
        "hit_pca = []\n",
        "for i in k:\n",
        "    hit_pca.append( hit_rate(raw_idx, reduced_idx_svd,k=i)) \n",
        "\n",
        "hit_svd = []\n",
        "for i in k:\n",
        "    hit_svd.append( hit_rate(raw_idx, reduced_idx_svd,k=i))         "
      ],
      "metadata": {
        "id": "gKOiccAjj4SA"
      },
      "execution_count": 9,
      "outputs": []
    },
    {
      "cell_type": "code",
      "source": [
        "plt.plot(k,ap_pca, 'o-')\n",
        "plt.plot(k,ap_svd, '-*')"
      ],
      "metadata": {
        "id": "ad2zfsO9kepi",
        "outputId": "11d9f35a-dd15-4470-e895-d25fdc11eaf0",
        "colab": {
          "base_uri": "https://localhost:8080/",
          "height": 283
        }
      },
      "execution_count": 10,
      "outputs": [
        {
          "output_type": "execute_result",
          "data": {
            "text/plain": [
              "[<matplotlib.lines.Line2D at 0x7efedbed98b0>]"
            ]
          },
          "metadata": {},
          "execution_count": 10
        },
        {
          "output_type": "display_data",
          "data": {
            "text/plain": [
              "<Figure size 432x288 with 1 Axes>"
            ],
            "image/png": "[encoded data removed]"
          },
          "metadata": {}
        }
      ]
    },
    {
      "cell_type": "code",
      "source": [
        "plt.plot(k,hit_pca, 'o-')\n",
        "plt.plot(k,hit_svd, '--')\n",
        "plt.xlim([0,15])\n",
        "plt.ylim([0,500])"
      ],
      "metadata": {
        "id": "RH8nP22sk20p",
        "outputId": "89e45823-2a0e-4e3f-bc1a-e3ee6a2ac8a4",
        "colab": {
          "base_uri": "https://localhost:8080/",
          "height": 287
        }
      },
      "execution_count": 13,
      "outputs": [
        {
          "output_type": "execute_result",
          "data": {
            "text/plain": [
              "(0.0, 500.0)"
            ]
          },
          "metadata": {},
          "execution_count": 13
        },
        {
          "output_type": "display_data",
          "data": {
            "text/plain": [
              "<Figure size 432x288 with 1 Axes>"
            ],
            "image/png": "[encoded data removed]"
          },
          "metadata": {}
        }
      ]
    },
    {
      "cell_type": "code",
      "source": [],
      "metadata": {
        "id": "h3vK571Vn3Mt"
      },
      "execution_count": 11,
      "outputs": []
    }
  ]
}