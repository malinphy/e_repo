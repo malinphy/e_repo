{
  "nbformat": 4,
  "nbformat_minor": 0,
  "metadata": {
    "colab": {
      "provenance": [],
      "include_colab_link": true
    },
    "kernelspec": {
      "display_name": "Python 3",
      "name": "python3"
    },
    "gpuClass": "standard"
  },
  "cells": [
    {
      "cell_type": "markdown",
      "metadata": {
        "id": "view-in-github",
        "colab_type": "text"
      },
      "source": [
        "<a href=\"https://colab.research.google.com/github/malinphy/q_17/blob/main/triplet_patent_v1.ipynb\" target=\"_parent\"><img src=\"https://colab.research.google.com/assets/colab-badge.svg\" alt=\"Open In Colab\"/></a>"
      ]
    },
    {
      "cell_type": "code",
      "source": [
        "from google.colab import drive\n",
        "drive.mount('/content/drive')"
      ],
      "metadata": {
        "colab": {
          "base_uri": "https://localhost:8080/"
        },
        "id": "0LOv_BJkD_KY",
        "outputId": "bd1ef06e-d6ae-4ce4-9a94-0f74c8c877ff"
      },
      "execution_count": 1,
      "outputs": [
        {
          "output_type": "stream",
          "name": "stdout",
          "text": [
            "Drive already mounted at /content/drive; to attempt to forcibly remount, call drive.mount(\"/content/drive\", force_remount=True).\n"
          ]
        }
      ]
    },
    {
      "cell_type": "code",
      "source": [
        "import pandas as pd \n",
        "import numpy as np \n",
        "import matplotlib.pyplot as plt \n",
        "\n",
        "import tensorflow as tf \n",
        "from tensorflow import keras \n",
        "from tensorflow.keras import Model, Input, layers\n",
        "from tensorflow.keras.layers import *\n",
        "from typing import List"
      ],
      "metadata": {
        "id": "_4jphP7HC3JM"
      },
      "execution_count": 2,
      "outputs": []
    },
    {
      "cell_type": "code",
      "source": [
        "total_content = np.load('drive/MyDrive/transfer/patent/patent_first/total_content.npy')\n",
        "total_title = np.load('drive/MyDrive/transfer/patent/patent_first/total_title.npy')"
      ],
      "metadata": {
        "id": "aVEV8fxTD-jP"
      },
      "execution_count": 3,
      "outputs": []
    },
    {
      "cell_type": "code",
      "source": [
        "print(total_content.shape)\n",
        "print(total_title.shape)"
      ],
      "metadata": {
        "colab": {
          "base_uri": "https://localhost:8080/"
        },
        "id": "der6EJcFC3Fz",
        "outputId": "3a7e46d6-0978-43b4-eda0-b80ffbc004b7"
      },
      "execution_count": 4,
      "outputs": [
        {
          "output_type": "stream",
          "name": "stdout",
          "text": [
            "(488, 1536)\n",
            "(488, 1536)\n"
          ]
        }
      ]
    },
    {
      "cell_type": "code",
      "source": [
        "content_index_pos = np.arange(0,len(total_content)).reshape(1,total_content.shape[0])\n",
        "title_index_pos = np.arange(0,len(total_title)).reshape(1,total_content.shape[0])\n",
        "pos_labels = np.ones(len(title_index_pos[0]), dtype = 'int32')"
      ],
      "metadata": {
        "id": "7bHAssraFOK8"
      },
      "execution_count": 5,
      "outputs": []
    },
    {
      "cell_type": "code",
      "source": [
        "### there is a problem in the for loop, check content_index rather than content_index[0]\n",
        "def neg_generator(content, title, neg_number):\n",
        "    inp_data = []\n",
        "    for i,j in zip(content[0], title[0]):\n",
        "        var1 = np.random.randint(0, len(content[0]), neg_number)\n",
        "        while i in var1:\n",
        "            var1 = np.random.randint(0, len(content[0]), neg_number)\n",
        "        # inp_data.append(list(var1))  \n",
        "        inp_data.append(np.array(var1))\n",
        "    return inp_data"
      ],
      "metadata": {
        "id": "osa0eHb9GCJ5"
      },
      "execution_count": 6,
      "outputs": []
    },
    {
      "cell_type": "code",
      "source": [
        "negs = neg_generator(content_index_pos, title_index_pos, 4)"
      ],
      "metadata": {
        "id": "yN0OcXv3GRW6"
      },
      "execution_count": 7,
      "outputs": []
    },
    {
      "cell_type": "code",
      "source": [
        "def data_aligner(title_index, negs):\n",
        "    v2 = []\n",
        "    for i in range(title_index.shape[-1]):\n",
        "        t_index = title_index[0][i]\n",
        "        v2.append(np.full(len(negs[i]),t_index))\n",
        "    v2 = np.concatenate(v2)\n",
        "    negs = np.concatenate(negs)\n",
        "    return v2, negs        "
      ],
      "metadata": {
        "id": "ydYh_wW0JMYz"
      },
      "execution_count": 8,
      "outputs": []
    },
    {
      "cell_type": "code",
      "source": [
        "title_index_neg,negs = data_aligner(title_index_pos, negs)\n",
        "neg_labels = np.zeros(len(negs), dtype = 'int32')"
      ],
      "metadata": {
        "id": "W863UO5cMfDr"
      },
      "execution_count": 9,
      "outputs": []
    },
    {
      "cell_type": "code",
      "source": [
        "print(len(title_index_neg))\n",
        "print(len(negs))"
      ],
      "metadata": {
        "id": "jvPMt9wNRha0",
        "outputId": "8f68d46f-bb3a-42f4-8fde-b23e571ba39e",
        "colab": {
          "base_uri": "https://localhost:8080/"
        }
      },
      "execution_count": 10,
      "outputs": [
        {
          "output_type": "stream",
          "name": "stdout",
          "text": [
            "1952\n",
            "1952\n"
          ]
        }
      ]
    },
    {
      "cell_type": "code",
      "source": [
        "neg_content_vecs = []\n",
        "for i in range(len(negs)):\n",
        "    neg_content_vecs.append(total_content[negs[i]])"
      ],
      "metadata": {
        "id": "NFA27odLSmpC"
      },
      "execution_count": 11,
      "outputs": []
    },
    {
      "cell_type": "code",
      "source": [
        "neg_content_vecs = np.array(neg_content_vecs)"
      ],
      "metadata": {
        "id": "pHAkPFIrWh_e"
      },
      "execution_count": 12,
      "outputs": []
    },
    {
      "cell_type": "code",
      "source": [
        "factorized_title_index_pos = sorted(list(title_index_pos[0])*4)\n",
        "factorized_abst_index_pos = sorted(list(content_index_pos[0])*4)"
      ],
      "metadata": {
        "id": "S8gsBr20bAbW"
      },
      "execution_count": 13,
      "outputs": []
    },
    {
      "cell_type": "code",
      "source": [
        "df = pd.DataFrame({\n",
        "    'title_index': factorized_title_index_pos,\n",
        "    'pos_context_index': factorized_abst_index_pos, \n",
        "    'neg_context_index' : negs\n",
        "})"
      ],
      "metadata": {
        "id": "tE3MgNJ-du80"
      },
      "execution_count": 14,
      "outputs": []
    },
    {
      "cell_type": "markdown",
      "source": [
        "# Triplet Loss Function"
      ],
      "metadata": {
        "id": "rd2dsqSafWVh"
      }
    },
    {
      "cell_type": "code",
      "source": [
        "def distance_calc(y_true, y_pred):\n",
        "    anchor, positive, negative = tf.split(y_pred, 3, axis=1)\n",
        "    ap_distance = tf.reduce_sum(tf.square(anchor - positive), -1)\n",
        "    an_distance = tf.reduce_sum(tf.square(anchor - negative), -1)\n",
        "    loss = ap_distance - an_distance\n",
        "    margin = 0\n",
        "    loss = tf.maximum(loss + margin, 0.0)\n",
        "    return loss"
      ],
      "metadata": {
        "id": "kcs305HphMEX"
      },
      "execution_count": 18,
      "outputs": []
    },
    {
      "cell_type": "code",
      "source": [
        "anc_inp = Input(1536, name = 'anchor_input')\n",
        "pos_inp = Input(1536, name = 'positive_input')\n",
        "neg_inp = Input(1536, name = 'negative_input')\n",
        "final = tf.keras.layers.Concatenate(axis=-1)([anc_inp, pos_inp, neg_inp])\n",
        "\n",
        "triplet_model = Model(inputs = [anc_inp, pos_inp, neg_inp], outputs= [final])\n",
        "triplet_model.compile(\n",
        "    optimizer = 'Adam',\n",
        "    loss = distance_calc\n",
        ")"
      ],
      "metadata": {
        "id": "QK6xQV6deYLS"
      },
      "execution_count": 19,
      "outputs": []
    },
    {
      "cell_type": "code",
      "source": [
        "tf.keras.utils.plot_model(\n",
        "    triplet_model,\n",
        "    # to_file=\"model.png\",\n",
        "    show_shapes=True,\n",
        "    show_dtype=True,\n",
        "    show_layer_names=True,\n",
        "    rankdir=\"TB\",\n",
        "    expand_nested=False,\n",
        "    dpi=96,\n",
        "    layer_range=None,\n",
        "    show_layer_activations=True,\n",
        "    # show_trainable=False,\n",
        ")\n",
        "\n",
        "\n"
      ],
      "metadata": {
        "id": "TCUd1sEwj_9l",
        "outputId": "9861a7a7-aa43-4c7c-ca03-9754de6a2363",
        "colab": {
          "base_uri": "https://localhost:8080/",
          "height": 262
        }
      },
      "execution_count": 35,
      "outputs": [
        {
          "output_type": "execute_result",
          "data": {
            "image/png": "[encoded data removed]",
            "text/plain": [
              "<IPython.core.display.Image object>"
            ]
          },
          "metadata": {},
          "execution_count": 35
        }
      ]
    },
    {
      "cell_type": "code",
      "source": [
        "dummy_labes = np.ones(len(df))"
      ],
      "metadata": {
        "id": "ls9mVCNNjjqS"
      },
      "execution_count": 25,
      "outputs": []
    },
    {
      "cell_type": "code",
      "source": [
        "triplet_model.fit(\n",
        "    [\n",
        "    total_title[df['title_index'].values],\n",
        "    total_content[df['pos_context_index'].values],\n",
        "    total_content[df['neg_context_index'].values],\n",
        "    ], \n",
        "    dummy_labes,\n",
        "    epochs = 500, \n",
        "    verbose = 0\n",
        "    )"
      ],
      "metadata": {
        "id": "sLpO5PQviYGV",
        "outputId": "1b76fde0-1a50-46dd-c4c3-e4fa004d0383",
        "colab": {
          "base_uri": "https://localhost:8080/"
        }
      },
      "execution_count": 27,
      "outputs": [
        {
          "output_type": "execute_result",
          "data": {
            "text/plain": [
              "<keras.callbacks.History at 0x7f4c4dfeca60>"
            ]
          },
          "metadata": {},
          "execution_count": 27
        }
      ]
    },
    {
      "cell_type": "code",
      "source": [],
      "metadata": {
        "id": "3FCm3vt0jn49"
      },
      "execution_count": null,
      "outputs": []
    }
  ]
}