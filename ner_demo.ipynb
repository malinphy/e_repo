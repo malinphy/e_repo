{
  "nbformat": 4,
  "nbformat_minor": 0,
  "metadata": {
    "colab": {
      "provenance": [],
      "include_colab_link": true
    },
    "kernelspec": {
      "display_name": "Python 3",
      "name": "python3"
    },
    "gpuClass": "standard"
  },
  "cells": [
    {
      "cell_type": "markdown",
      "metadata": {
        "id": "view-in-github",
        "colab_type": "text"
      },
      "source": [
        "<a href=\"https://colab.research.google.com/github/malinphy/q_17/blob/main/ner_demo.ipynb\" target=\"_parent\"><img src=\"https://colab.research.google.com/assets/colab-badge.svg\" alt=\"Open In Colab\"/></a>"
      ]
    },
    {
      "cell_type": "code",
      "source": [
        "import numpy as np\n",
        "import pandas as pd \n",
        "import tensorflow as tf \n",
        "from tensorflow import keras \n",
        "from tensorflow.keras import Model, Input, layers, Sequential\n",
        "from tensorflow.keras.layers import *\n",
        "\n",
        "from sklearn.model_selection import train_test_split"
      ],
      "metadata": {
        "id": "AjBxhyyP2GgD"
      },
      "execution_count": 1,
      "outputs": []
    },
    {
      "cell_type": "code",
      "source": [
        "url = 'https://raw.githubusercontent.com/BeiqiZh/Named-Entity-Recognition/main/datasets/ner_dataset.csv'\n",
        "df = pd.read_csv(url, encoding='latin1')"
      ],
      "metadata": {
        "id": "g5pAI13x2Gay"
      },
      "execution_count": 2,
      "outputs": []
    },
    {
      "cell_type": "code",
      "source": [
        "df = df.fillna(method = 'ffill')\n",
        "df.head(3)"
      ],
      "metadata": {
        "id": "cEK0ou522TgK",
        "outputId": "277836e6-787f-4eb7-cab5-8f929113d0dd",
        "colab": {
          "base_uri": "https://localhost:8080/",
          "height": 143
        }
      },
      "execution_count": 3,
      "outputs": [
        {
          "output_type": "execute_result",
          "data": {
            "text/plain": [
              "    Sentence #           Word  POS Tag\n",
              "0  Sentence: 1      Thousands  NNS   O\n",
              "1  Sentence: 1             of   IN   O\n",
              "2  Sentence: 1  demonstrators  NNS   O"
            ],
            "text/html": [
              "\n",
              "  <div id=\"df-723d811a-9c42-4f0f-994c-8cd40483ece5\">\n",
              "    <div class=\"colab-df-container\">\n",
              "      <div>\n",
              "<style scoped>\n",
              "    .dataframe tbody tr th:only-of-type {\n",
              "        vertical-align: middle;\n",
              "    }\n",
              "\n",
              "    .dataframe tbody tr th {\n",
              "        vertical-align: top;\n",
              "    }\n",
              "\n",
              "    .dataframe thead th {\n",
              "        text-align: right;\n",
              "    }\n",
              "</style>\n",
              "<table border=\"1\" class=\"dataframe\">\n",
              "  <thead>\n",
              "    <tr style=\"text-align: right;\">\n",
              "      <th></th>\n",
              "      <th>Sentence #</th>\n",
              "      <th>Word</th>\n",
              "      <th>POS</th>\n",
              "      <th>Tag</th>\n",
              "    </tr>\n",
              "  </thead>\n",
              "  <tbody>\n",
              "    <tr>\n",
              "      <th>0</th>\n",
              "      <td>Sentence: 1</td>\n",
              "      <td>Thousands</td>\n",
              "      <td>NNS</td>\n",
              "      <td>O</td>\n",
              "    </tr>\n",
              "    <tr>\n",
              "      <th>1</th>\n",
              "      <td>Sentence: 1</td>\n",
              "      <td>of</td>\n",
              "      <td>IN</td>\n",
              "      <td>O</td>\n",
              "    </tr>\n",
              "    <tr>\n",
              "      <th>2</th>\n",
              "      <td>Sentence: 1</td>\n",
              "      <td>demonstrators</td>\n",
              "      <td>NNS</td>\n",
              "      <td>O</td>\n",
              "    </tr>\n",
              "  </tbody>\n",
              "</table>\n",
              "</div>\n",
              "      <button class=\"colab-df-convert\" onclick=\"convertToInteractive('df-723d811a-9c42-4f0f-994c-8cd40483ece5')\"\n",
              "              title=\"Convert this dataframe to an interactive table.\"\n",
              "              style=\"display:none;\">\n",
              "        \n",
              "  <svg xmlns=\"http://www.w3.org/2000/svg\" height=\"24px\"viewBox=\"0 0 24 24\"\n",
              "       width=\"24px\">\n",
              "    <path d=\"M0 0h24v24H0V0z\" fill=\"none\"/>\n",
              "    <path d=\"M18.56 5.44l.94 2.06.94-2.06 2.06-.94-2.06-.94-.94-2.06-.94 2.06-2.06.94zm-11 1L8.5 8.5l.94-2.06 2.06-.94-2.06-.94L8.5 2.5l-.94 2.06-2.06.94zm10 10l.94 2.06.94-2.06 2.06-.94-2.06-.94-.94-2.06-.94 2.06-2.06.94z\"/><path d=\"M17.41 7.96l-1.37-1.37c-.4-.4-.92-.59-1.43-.59-.52 0-1.04.2-1.43.59L10.3 9.45l-7.72 7.72c-.78.78-.78 2.05 0 2.83L4 21.41c.39.39.9.59 1.41.59.51 0 1.02-.2 1.41-.59l7.78-7.78 2.81-2.81c.8-.78.8-2.07 0-2.86zM5.41 20L4 18.59l7.72-7.72 1.47 1.35L5.41 20z\"/>\n",
              "  </svg>\n",
              "      </button>\n",
              "      \n",
              "  <style>\n",
              "    .colab-df-container {\n",
              "      display:flex;\n",
              "      flex-wrap:wrap;\n",
              "      gap: 12px;\n",
              "    }\n",
              "\n",
              "    .colab-df-convert {\n",
              "      background-color: #E8F0FE;\n",
              "      border: none;\n",
              "      border-radius: 50%;\n",
              "      cursor: pointer;\n",
              "      display: none;\n",
              "      fill: #1967D2;\n",
              "      height: 32px;\n",
              "      padding: 0 0 0 0;\n",
              "      width: 32px;\n",
              "    }\n",
              "\n",
              "    .colab-df-convert:hover {\n",
              "      background-color: #E2EBFA;\n",
              "      box-shadow: 0px 1px 2px rgba(60, 64, 67, 0.3), 0px 1px 3px 1px rgba(60, 64, 67, 0.15);\n",
              "      fill: #174EA6;\n",
              "    }\n",
              "\n",
              "    [theme=dark] .colab-df-convert {\n",
              "      background-color: #3B4455;\n",
              "      fill: #D2E3FC;\n",
              "    }\n",
              "\n",
              "    [theme=dark] .colab-df-convert:hover {\n",
              "      background-color: #434B5C;\n",
              "      box-shadow: 0px 1px 3px 1px rgba(0, 0, 0, 0.15);\n",
              "      filter: drop-shadow(0px 1px 2px rgba(0, 0, 0, 0.3));\n",
              "      fill: #FFFFFF;\n",
              "    }\n",
              "  </style>\n",
              "\n",
              "      <script>\n",
              "        const buttonEl =\n",
              "          document.querySelector('#df-723d811a-9c42-4f0f-994c-8cd40483ece5 button.colab-df-convert');\n",
              "        buttonEl.style.display =\n",
              "          google.colab.kernel.accessAllowed ? 'block' : 'none';\n",
              "\n",
              "        async function convertToInteractive(key) {\n",
              "          const element = document.querySelector('#df-723d811a-9c42-4f0f-994c-8cd40483ece5');\n",
              "          const dataTable =\n",
              "            await google.colab.kernel.invokeFunction('convertToInteractive',\n",
              "                                                     [key], {});\n",
              "          if (!dataTable) return;\n",
              "\n",
              "          const docLinkHtml = 'Like what you see? Visit the ' +\n",
              "            '<a target=\"_blank\" href=https://colab.research.google.com/notebooks/data_table.ipynb>data table notebook</a>'\n",
              "            + ' to learn more about interactive tables.';\n",
              "          element.innerHTML = '';\n",
              "          dataTable['output_type'] = 'display_data';\n",
              "          await google.colab.output.renderOutput(dataTable, element);\n",
              "          const docLink = document.createElement('div');\n",
              "          docLink.innerHTML = docLinkHtml;\n",
              "          element.appendChild(docLink);\n",
              "        }\n",
              "      </script>\n",
              "    </div>\n",
              "  </div>\n",
              "  "
            ]
          },
          "metadata": {},
          "execution_count": 3
        }
      ]
    },
    {
      "cell_type": "code",
      "source": [
        "sentences = df.groupby(['Sentence #'])['Word'].apply(list)\n",
        "POSs = df.groupby(['Sentence #'])['POS'].apply(list)\n",
        "TAGs = df.groupby(['Sentence #'])['Tag'].apply(list)"
      ],
      "metadata": {
        "id": "s1UpL9222rB7"
      },
      "execution_count": 4,
      "outputs": []
    },
    {
      "cell_type": "code",
      "source": [
        "sentences_total = [' '.join(i) for i in sentences]"
      ],
      "metadata": {
        "id": "_328BIJW3AFs"
      },
      "execution_count": 5,
      "outputs": []
    },
    {
      "cell_type": "code",
      "source": [
        "seq_len = int(np.max([len(i) for i  in sentences]))\n",
        "print(seq_len)\n",
        "tf_vectorizer = tf.keras.layers.TextVectorization(\n",
        "                        output_sequence_length = seq_len,\n",
        "                        max_tokens = 35000\n",
        "                        )"
      ],
      "metadata": {
        "id": "lLz_4EUg3Zic",
        "outputId": "02232349-7a4b-446e-c5c6-117f2abe6eb3",
        "colab": {
          "base_uri": "https://localhost:8080/"
        }
      },
      "execution_count": 6,
      "outputs": [
        {
          "output_type": "stream",
          "name": "stdout",
          "text": [
            "104\n"
          ]
        }
      ]
    },
    {
      "cell_type": "code",
      "source": [
        "tf_vectorizer.adapt(sentences_total)"
      ],
      "metadata": {
        "id": "sI1bdDYF4Jfm"
      },
      "execution_count": 7,
      "outputs": []
    },
    {
      "cell_type": "code",
      "source": [
        "corpus_size = len(tf_vectorizer.get_vocabulary())\n",
        "print('CORPUS_SIZE :',corpus_size)"
      ],
      "metadata": {
        "id": "72E9VqHuMnDg",
        "outputId": "94b689d7-0d2f-48d5-9912-0b627702af49",
        "colab": {
          "base_uri": "https://localhost:8080/"
        }
      },
      "execution_count": 8,
      "outputs": [
        {
          "output_type": "stream",
          "name": "stdout",
          "text": [
            "CORPUS_SIZE : 31309\n"
          ]
        }
      ]
    },
    {
      "cell_type": "code",
      "source": [
        "sentences_total[0]"
      ],
      "metadata": {
        "id": "6akJf4B2NdRE",
        "outputId": "9ecd980e-e786-4231-fa99-908fce4e6bb1",
        "colab": {
          "base_uri": "https://localhost:8080/",
          "height": 35
        }
      },
      "execution_count": 9,
      "outputs": [
        {
          "output_type": "execute_result",
          "data": {
            "text/plain": [
              "'Thousands of demonstrators have marched through London to protest the war in Iraq and demand the withdrawal of British troops from that country .'"
            ],
            "application/vnd.google.colaboratory.intrinsic+json": {
              "type": "string"
            }
          },
          "metadata": {},
          "execution_count": 9
        }
      ]
    },
    {
      "cell_type": "code",
      "source": [
        "sequences = tf_vectorizer(sentences_total)"
      ],
      "metadata": {
        "id": "4l6iwCqvNBqh"
      },
      "execution_count": 10,
      "outputs": []
    },
    {
      "cell_type": "code",
      "source": [
        "len(df)"
      ],
      "metadata": {
        "id": "AdfpktCUPrjf",
        "outputId": "652378a5-33d7-4b68-85c5-7f095c2bbccd",
        "colab": {
          "base_uri": "https://localhost:8080/"
        }
      },
      "execution_count": 11,
      "outputs": [
        {
          "output_type": "execute_result",
          "data": {
            "text/plain": [
              "1048575"
            ]
          },
          "metadata": {},
          "execution_count": 11
        }
      ]
    },
    {
      "cell_type": "code",
      "source": [
        "unique_tags = df['Tag'].unique()"
      ],
      "metadata": {
        "id": "yGt6lXxjNkPa"
      },
      "execution_count": 12,
      "outputs": []
    },
    {
      "cell_type": "code",
      "source": [
        "unique_tags"
      ],
      "metadata": {
        "id": "bKMawZkLN4iT",
        "outputId": "6adbceac-9ac1-446c-c418-4583614cee0c",
        "colab": {
          "base_uri": "https://localhost:8080/"
        }
      },
      "execution_count": 13,
      "outputs": [
        {
          "output_type": "execute_result",
          "data": {
            "text/plain": [
              "array(['O', 'B-geo', 'B-gpe', 'B-per', 'I-geo', 'B-org', 'I-org', 'B-tim',\n",
              "       'B-art', 'I-art', 'I-per', 'I-gpe', 'I-tim', 'B-nat', 'B-eve',\n",
              "       'I-eve', 'I-nat'], dtype=object)"
            ]
          },
          "metadata": {},
          "execution_count": 13
        }
      ]
    },
    {
      "cell_type": "code",
      "source": [
        "tag_2enc = {j:i+1 for i,j in enumerate(unique_tags)}\n",
        "enc_2tag = {i+1:j for i,j in enumerate(unique_tags)}"
      ],
      "metadata": {
        "id": "y-yKPpBhN56T"
      },
      "execution_count": 14,
      "outputs": []
    },
    {
      "cell_type": "code",
      "source": [
        "enc_2tag"
      ],
      "metadata": {
        "id": "3-hmAzlIwWvF",
        "outputId": "7c591fe3-0428-493a-a80e-9bdddbc073ab",
        "colab": {
          "base_uri": "https://localhost:8080/"
        }
      },
      "execution_count": 15,
      "outputs": [
        {
          "output_type": "execute_result",
          "data": {
            "text/plain": [
              "{1: 'O',\n",
              " 2: 'B-geo',\n",
              " 3: 'B-gpe',\n",
              " 4: 'B-per',\n",
              " 5: 'I-geo',\n",
              " 6: 'B-org',\n",
              " 7: 'I-org',\n",
              " 8: 'B-tim',\n",
              " 9: 'B-art',\n",
              " 10: 'I-art',\n",
              " 11: 'I-per',\n",
              " 12: 'I-gpe',\n",
              " 13: 'I-tim',\n",
              " 14: 'B-nat',\n",
              " 15: 'B-eve',\n",
              " 16: 'I-eve',\n",
              " 17: 'I-nat'}"
            ]
          },
          "metadata": {},
          "execution_count": 15
        }
      ]
    },
    {
      "cell_type": "code",
      "source": [
        "df['Tag_enc'] = df['Tag'].map(tag_2enc)\n",
        "TAGs_enc = df.groupby(['Sentence #'])['Tag_enc'].apply(list)"
      ],
      "metadata": {
        "id": "TtmcnOE8ODga"
      },
      "execution_count": 16,
      "outputs": []
    },
    {
      "cell_type": "code",
      "source": [
        "TAGs_enc = [list(i) for i in TAGs_enc]"
      ],
      "metadata": {
        "id": "RdchMWKtSDI2"
      },
      "execution_count": 17,
      "outputs": []
    },
    {
      "cell_type": "code",
      "source": [
        "print(seq_len)\n",
        "len(tag_2enc)\n",
        "TAGs_enc\n",
        "pad_seq = tf.keras.utils.pad_sequences(\n",
        "    TAGs_enc,\n",
        "    maxlen=seq_len,\n",
        "    dtype='int32',\n",
        "    padding='post',\n",
        "    # truncating='pre',\n",
        "    value=0.0\n",
        ")\n"
      ],
      "metadata": {
        "id": "vJgyy7dkOKF7",
        "outputId": "a6f4c01d-4c6c-4fb7-e336-24e0d0b4630a",
        "colab": {
          "base_uri": "https://localhost:8080/"
        }
      },
      "execution_count": 18,
      "outputs": [
        {
          "output_type": "stream",
          "name": "stdout",
          "text": [
            "104\n"
          ]
        }
      ]
    },
    {
      "cell_type": "code",
      "source": [
        "np.array(sequences)"
      ],
      "metadata": {
        "id": "p13PMKMxhDSK",
        "outputId": "0b1fb33c-313b-4b92-b7f0-a3a0a8e6de08",
        "colab": {
          "base_uri": "https://localhost:8080/"
        }
      },
      "execution_count": 19,
      "outputs": [
        {
          "output_type": "execute_result",
          "data": {
            "text/plain": [
              "array([[ 247,    4,  965, ...,    0,    0,    0],\n",
              "       [ 318,   33,   26, ...,    0,    0,    0],\n",
              "       [1146, 4506,   91, ...,    0,    0,    0],\n",
              "       ...,\n",
              "       [ 259,   76,    8, ...,    0,    0,    0],\n",
              "       [  70,  510,   88, ...,    0,    0,    0],\n",
              "       [   2,   49,  108, ...,    0,    0,    0]])"
            ]
          },
          "metadata": {},
          "execution_count": 19
        }
      ]
    },
    {
      "cell_type": "code",
      "source": [
        "train_sequences, test_sequences, train_pad_seq, test_pad_seq = train_test_split(np.array(sequences),pad_seq, train_size = 0.8, test_size = 0.1, random_state = 42)"
      ],
      "metadata": {
        "id": "lPTEvlNEgrm2"
      },
      "execution_count": 20,
      "outputs": []
    },
    {
      "cell_type": "code",
      "source": [
        "print(train_sequences.shape)\n",
        "print(test_sequences.shape)\n",
        "print(train_pad_seq.shape)"
      ],
      "metadata": {
        "id": "9nzcyTUWhQq7",
        "outputId": "3229b4ca-8171-46c9-c169-2d0db7b51531",
        "colab": {
          "base_uri": "https://localhost:8080/"
        }
      },
      "execution_count": 21,
      "outputs": [
        {
          "output_type": "stream",
          "name": "stdout",
          "text": [
            "(38367, 104)\n",
            "(4796, 104)\n",
            "(38367, 104)\n"
          ]
        }
      ]
    },
    {
      "cell_type": "code",
      "source": [],
      "metadata": {
        "id": "10GdaxMrhQld"
      },
      "execution_count": 21,
      "outputs": []
    },
    {
      "cell_type": "code",
      "source": [
        "embed_dim = 64\n",
        "input_layer = Input(shape=(seq_len,))\n",
        "emb_layer = Embedding(corpus_size, embed_dim, name = 'embedding_layer')(input_layer)\n",
        "# flat_layer = Flatten(name = 'Flatten_layer')(emb_layer)\n",
        "d1 = Dense(64, activation = 'relu')(emb_layer)\n",
        "d2 = Dense(32, activation = 'relu')(d1)\n",
        "final = Dense(len(tag_2enc)+1, activation = 'softmax')(d2)\n",
        "\n",
        "model1 = Model(inputs = [input_layer], outputs = [final])\n",
        "\n",
        "model1.compile(\n",
        "    loss = 'SparseCategoricalCrossentropy',\n",
        "    optimizer = 'Adam',\n",
        "    metrics = ['accuracy'])\n",
        "model1.fit(train_sequences,\n",
        "           train_pad_seq,\n",
        "           epochs = 3,\n",
        "           batch_size =50)"
      ],
      "metadata": {
        "id": "C2fTr3CbOhoU",
        "outputId": "d703040c-1d72-4809-f8c6-ec4b412f0b4c",
        "colab": {
          "base_uri": "https://localhost:8080/"
        }
      },
      "execution_count": 22,
      "outputs": [
        {
          "output_type": "stream",
          "name": "stdout",
          "text": [
            "Epoch 1/3\n",
            "768/768 [==============================] - 34s 43ms/step - loss: 0.3480 - accuracy: 0.9508\n",
            "Epoch 2/3\n",
            "768/768 [==============================] - 35s 46ms/step - loss: 0.1752 - accuracy: 0.9600\n",
            "Epoch 3/3\n",
            "768/768 [==============================] - 34s 44ms/step - loss: 0.1711 - accuracy: 0.9609\n"
          ]
        },
        {
          "output_type": "execute_result",
          "data": {
            "text/plain": [
              "<keras.callbacks.History at 0x7f485846ec70>"
            ]
          },
          "metadata": {},
          "execution_count": 22
        }
      ]
    },
    {
      "cell_type": "code",
      "source": [
        "# tags_enc_np = [np.array(i) for i in TAGs_enc]"
      ],
      "metadata": {
        "id": "WmdWBCMmQ-ND"
      },
      "execution_count": 23,
      "outputs": []
    },
    {
      "cell_type": "code",
      "source": [
        "predictions = model1.predict([test_sequences])"
      ],
      "metadata": {
        "id": "IzWxduISUPuH",
        "outputId": "29e60426-dc25-4a86-f6a0-f7098b752be1",
        "colab": {
          "base_uri": "https://localhost:8080/"
        }
      },
      "execution_count": 24,
      "outputs": [
        {
          "output_type": "stream",
          "name": "stdout",
          "text": [
            "150/150 [==============================] - 2s 9ms/step\n"
          ]
        }
      ]
    },
    {
      "cell_type": "code",
      "source": [
        "test_pad_seq.shape"
      ],
      "metadata": {
        "id": "cZnn8Z6TiXb-",
        "outputId": "5e21362f-6e3f-4064-cf67-2af2de39c77c",
        "colab": {
          "base_uri": "https://localhost:8080/"
        }
      },
      "execution_count": 35,
      "outputs": [
        {
          "output_type": "execute_result",
          "data": {
            "text/plain": [
              "(4796, 104)"
            ]
          },
          "metadata": {},
          "execution_count": 35
        }
      ]
    },
    {
      "cell_type": "code",
      "source": [
        "predictions.shape"
      ],
      "metadata": {
        "id": "YW-zT8SrvTnq",
        "outputId": "8b03f2e6-fb98-45fa-b1cc-ec52c14edb77",
        "colab": {
          "base_uri": "https://localhost:8080/"
        }
      },
      "execution_count": 26,
      "outputs": [
        {
          "output_type": "execute_result",
          "data": {
            "text/plain": [
              "(4796, 104, 18)"
            ]
          },
          "metadata": {},
          "execution_count": 26
        }
      ]
    },
    {
      "cell_type": "code",
      "source": [
        "len(predictions)"
      ],
      "metadata": {
        "id": "MEEF4BrVxZUW",
        "outputId": "415f636d-5c49-4c44-cb57-3e509536538c",
        "colab": {
          "base_uri": "https://localhost:8080/"
        }
      },
      "execution_count": 27,
      "outputs": [
        {
          "output_type": "execute_result",
          "data": {
            "text/plain": [
              "4796"
            ]
          },
          "metadata": {},
          "execution_count": 27
        }
      ]
    },
    {
      "cell_type": "code",
      "source": [
        "var2 = []\n",
        "for i in range(predictions.shape[0]):\n",
        "    var1 = []\n",
        "    for j in range(predictions.shape[1]):\n",
        "        var1.append(np.argmax(predictions[i][j]))\n",
        "    var2.append(var1)"
      ],
      "metadata": {
        "id": "vN3V5-lVxvSi"
      },
      "execution_count": 30,
      "outputs": []
    },
    {
      "cell_type": "code",
      "source": [
        "np.array(var2).shape"
      ],
      "metadata": {
        "id": "3JsGzs7RyHOx",
        "outputId": "0f6a88ed-cd04-4fa2-cb49-06c00debeb9c",
        "colab": {
          "base_uri": "https://localhost:8080/"
        }
      },
      "execution_count": 34,
      "outputs": [
        {
          "output_type": "execute_result",
          "data": {
            "text/plain": [
              "(4796, 104)"
            ]
          },
          "metadata": {},
          "execution_count": 34
        }
      ]
    },
    {
      "cell_type": "code",
      "source": [
        "import matplotlib.pyplot as plt \n",
        "import seaborn as sns\n",
        "from sklearn.metrics import confusion_matrix"
      ],
      "metadata": {
        "id": "BShowHrjzsDC"
      },
      "execution_count": 40,
      "outputs": []
    },
    {
      "cell_type": "code",
      "source": [
        "conf_mat = confusion_matrix(np.concatenate(test_pad_seq), np.concatenate(np.array(var2)))"
      ],
      "metadata": {
        "id": "7clqI5HhzIyD"
      },
      "execution_count": 39,
      "outputs": []
    },
    {
      "cell_type": "code",
      "source": [
        "\n",
        "\n",
        "\n",
        "fig, ax = plt.subplots(figsize=(13,7)) \n",
        "# labels=['B-LOC', 'B-MISC', 'B-ORG', 'B-PER', 'I-LOC', 'I-MISC', 'I-ORG', 'I-PER', 'O']\n",
        "sns.heatmap(conf_mat, annot=True,fmt='.5g',vmin=0, vmax=1500,\n",
        "                            # xticklabels=labels, yticklabels=labels\n",
        "            );\n",
        "     \n"
      ],
      "metadata": {
        "id": "dMGAkzU6zOj-",
        "outputId": "f59ccf6b-5cd9-4839-951e-2eafd7f8a213",
        "colab": {
          "base_uri": "https://localhost:8080/",
          "height": 428
        }
      },
      "execution_count": 41,
      "outputs": [
        {
          "output_type": "display_data",
          "data": {
            "text/plain": [
              "<Figure size 936x504 with 2 Axes>"
            ],
            "image/png": "[encoded data removed]"
          },
          "metadata": {
            "needs_background": "light"
          }
        }
      ]
    },
    {
      "cell_type": "code",
      "source": [],
      "metadata": {
        "id": "q47EB4S2z0Mi"
      },
      "execution_count": null,
      "outputs": []
    }
  ]
}